{
 "cells": [
  {
   "cell_type": "markdown",
   "metadata": {},
   "source": [
    "# Engine"
   ]
  },
  {
   "cell_type": "code",
   "execution_count": 4,
   "metadata": {},
   "outputs": [],
   "source": [
    "# imports\n",
    "import os\n",
    "import numpy as np\n",
    "import pandas as pd\n",
    "from sklearn.neighbors import KNeighborsClassifier, KNeighborsRegressor, NearestNeighbors\n"
   ]
  },
  {
   "cell_type": "code",

   "execution_count": 16,
   "execution_count": 21,
   "execution_count": 21,
   "metadata": {},
   "outputs": [
    {
     "data": {
      "text/html": [
       "<div>\n",
       "<style scoped>\n",
       "    .dataframe tbody tr th:only-of-type {\n",
       "        vertical-align: middle;\n",
       "    }\n",
       "\n",
       "    .dataframe tbody tr th {\n",
       "        vertical-align: top;\n",
       "    }\n",
       "\n",
       "    .dataframe thead th {\n",
       "        text-align: right;\n",
       "    }\n",
       "</style>\n",
       "<table border=\"1\" class=\"dataframe\">\n",
       "  <thead>\n",
       "    <tr style=\"text-align: right;\">\n",
       "      <th></th>\n",
       "      <th>country</th>\n",
       "      <th>description</th>\n",
       "      <th>designation</th>\n",
       "      <th>points</th>\n",
       "      <th>price</th>\n",
       "      <th>province</th>\n",
       "      <th>region_1</th>\n",
       "      <th>region_2</th>\n",
       "      <th>variety</th>\n",
       "      <th>winery</th>\n",
       "      <th>name</th>\n",
       "    </tr>\n",
       "  </thead>\n",
       "  <tbody>\n",
       "    <tr>\n",
       "      <th>0</th>\n",
       "      <td>US</td>\n",
       "      <td>This tremendous 100% varietal wine hails from ...</td>\n",
       "      <td>Martha's Vineyard</td>\n",
       "      <td>96</td>\n",
       "      <td>235.0</td>\n",
       "      <td>California</td>\n",
       "      <td>Napa Valley</td>\n",
       "      <td>Napa</td>\n",
       "      <td>Cabernet Sauvignon</td>\n",
       "      <td>Heitz</td>\n",
       "      <td>Heitz Cabernet Sauvignon</td>\n",
       "    </tr>\n",
       "    <tr>\n",
       "      <th>1</th>\n",
       "      <td>Spain</td>\n",
       "      <td>Ripe aromas of fig, blackberry and cassis are ...</td>\n",
       "      <td>Carodorum Selección Especial Reserva</td>\n",
       "      <td>96</td>\n",
       "      <td>110.0</td>\n",
       "      <td>Northern Spain</td>\n",
       "      <td>Toro</td>\n",
       "      <td>NaN</td>\n",
       "      <td>Tinta de Toro</td>\n",
       "      <td>Bodega Carmen Rodríguez</td>\n",
       "      <td>Bodega Carmen Rodríguez Tinta de Toro</td>\n",
       "    </tr>\n",
       "    <tr>\n",
       "      <th>2</th>\n",
       "      <td>US</td>\n",
       "      <td>Mac Watson honors the memory of a wine once ma...</td>\n",
       "      <td>Special Selected Late Harvest</td>\n",
       "      <td>96</td>\n",
       "      <td>90.0</td>\n",
       "      <td>California</td>\n",
       "      <td>Knights Valley</td>\n",
       "      <td>Sonoma</td>\n",
       "      <td>Sauvignon Blanc</td>\n",
       "      <td>Macauley</td>\n",
       "      <td>Macauley Sauvignon Blanc</td>\n",
       "    </tr>\n",
       "    <tr>\n",
       "      <th>3</th>\n",
       "      <td>US</td>\n",
       "      <td>This spent 20 months in 30% new French oak, an...</td>\n",
       "      <td>Reserve</td>\n",
       "      <td>96</td>\n",
       "      <td>65.0</td>\n",
       "      <td>Oregon</td>\n",
       "      <td>Willamette Valley</td>\n",
       "      <td>Willamette Valley</td>\n",
       "      <td>Pinot Noir</td>\n",
       "      <td>Ponzi</td>\n",
       "      <td>Ponzi Pinot Noir</td>\n",
       "    </tr>\n",
       "    <tr>\n",
       "      <th>4</th>\n",
       "      <td>France</td>\n",
       "      <td>This is the top wine from La Bégude, named aft...</td>\n",
       "      <td>La Brûlade</td>\n",
       "      <td>95</td>\n",
       "      <td>66.0</td>\n",
       "      <td>Provence</td>\n",
       "      <td>Bandol</td>\n",
       "      <td>NaN</td>\n",
       "      <td>Provence red blend</td>\n",
       "      <td>Domaine de la Bégude</td>\n",
       "      <td>Domaine de la Bégude Provence red blend</td>\n",
       "    </tr>\n",
       "  </tbody>\n",
       "</table>\n",
       "</div>"
      ],
      "text/plain": [
       "  country                                        description  \\\n",
       "0      US  This tremendous 100% varietal wine hails from ...   \n",
       "1   Spain  Ripe aromas of fig, blackberry and cassis are ...   \n",
       "2      US  Mac Watson honors the memory of a wine once ma...   \n",
       "3      US  This spent 20 months in 30% new French oak, an...   \n",
       "4  France  This is the top wine from La Bégude, named aft...   \n",
       "\n",
       "                            designation  points  price        province  \\\n",
       "0                     Martha's Vineyard      96  235.0      California   \n",
       "1  Carodorum Selección Especial Reserva      96  110.0  Northern Spain   \n",
       "2         Special Selected Late Harvest      96   90.0      California   \n",
       "3                               Reserve      96   65.0          Oregon   \n",
       "4                            La Brûlade      95   66.0        Provence   \n",
       "\n",
       "            region_1           region_2             variety  \\\n",
       "0        Napa Valley               Napa  Cabernet Sauvignon   \n",
       "1               Toro                NaN       Tinta de Toro   \n",
       "2     Knights Valley             Sonoma     Sauvignon Blanc   \n",
       "3  Willamette Valley  Willamette Valley          Pinot Noir   \n",
       "4             Bandol                NaN  Provence red blend   \n",
       "\n",
       "                    winery                                     name  \n",
       "0                    Heitz                 Heitz Cabernet Sauvignon  \n",
       "1  Bodega Carmen Rodríguez    Bodega Carmen Rodríguez Tinta de Toro  \n",
       "2                 Macauley                 Macauley Sauvignon Blanc  \n",
       "3                    Ponzi                         Ponzi Pinot Noir  \n",
       "4     Domaine de la Bégude  Domaine de la Bégude Provence red blend  "
      ]
     },
     "execution_count": 16,
=======
     "execution_count": 21,

=======
     "execution_count": 21,

     "metadata": {},
     "output_type": "execute_result"
    }
   ],
   "source": [
    "# load in data\n",
    "full_wine_df = pd.read_pickle(os.path.join(\"Data\", \"full_wine_df.pkl\"))\n",

    "full_wine_df_test = pd.read_pickle(os.path.join(\"Data\", \"full_wine_df_test.pkl\"))\n",
    "df_reds = pd.read_pickle(os.path.join(\"Data\", \"df_reds.pkl\"))\n",
    "full_wine_df.head()\n",
    "df_reds.head()"
=======
=======

    "full_wine_df.head()"

   ]
  },
  {
   "cell_type": "code",

   "execution_count": 17,
=======
   "execution_count": 22,

=======
   "execution_count": 22,

   "metadata": {},
   "outputs": [
    {
     "data": {
      "text/plain": [
       "97681"
      ]
     },

     "execution_count": 17,
=======
     "execution_count": 22,

=======
     "execution_count": 22,

     "metadata": {},
     "output_type": "execute_result"
    }
   ],
   "source": [
    "#use only well described wines\n",
    "full_wine_df = full_wine_df.loc[full_wine_df['descriptor_count'] > 5]\n",
    "full_wine_df.shape[0]"
   ]
  },
  {
   "cell_type": "code",

   "execution_count": 18,
   "metadata": {},
   "outputs": [
    {
     "data": {
      "text/plain": [
       "<pandas.core.indexing._iLocIndexer at 0x7f9d2a63a6d0>"
      ]
     },
     "execution_count": 18,
     "metadata": {},
     "output_type": "execute_result"
    }
   ],
   "source": [
    "full_wine_df.iloc()"
   ]
  },
  {
   "cell_type": "code",
   "execution_count": 19,
=======
   "execution_count": 23,

   "execution_count": 23,

   "metadata": {},
   "outputs": [],
   "source": [
    "X_in = pd.DataFrame(full_wine_df['review_vector'].values.tolist())\n",
    "X_in.dropna(inplace=True)\n",
    "\n",
    "knn = NearestNeighbors(n_neighbors=10, algorithm= 'brute', metric='cosine')\n",
    "model_knn = knn.fit(X_in)"
   ]
  },
  {
   "cell_type": "code",


   "execution_count": 9,
=======
   "execution_count": 24,

   "execution_count": 24,

   "metadata": {},
   "outputs": [
    {
     "name": "stdout",
     "output_type": "stream",
     "text": [

      "Colores del Sol Malbec\n"
     ]
    }
   ],
   "source": [
    "test_sample = full_wine_df_test.sample().name.iloc[0]\n",
    "print(test_sample)"
   ]
  },
  {
   "cell_type": "code",
   "execution_count": 54,
   "metadata": {},
   "outputs": [
    {
     "name": "stdout",
     "output_type": "stream",
     "text": [
      "Similar to: Kynsi Pinot Noir\n",
      "The input wine is: ['depth', 'succulent', 'red_currant', 'dr_pepper', 'clove', 'smoke', 'vanilla', 'pepper']\n",
      "_________\n",
      "Suggestion 1 : Ager Falernus Red Blend\n",
      "Price ($): 50.0\n",
      "Country: Italy\n",
      "Points: 87\n",
      "\n",
      "Suggestion 2 : Bodegas Borbore Cabernet Sauvignon\n",
      "Price ($): 10.0\n",
      "Country: Argentina\n",
      "Points: 80\n",
      "\n",
      "Suggestion 3 : TWODOG Cabernet Sauvignon\n",
      "Price ($): 12.0\n",
      "Country: US\n",
      "Points: 82\n",

      "Similar to: Ponzi Pinot Noir\n",
      "The input wine is: ['dark', 'lengthy', 'complex', 'blackberry', 'cherry', 'fruit', 'soy', 'asian_spice']\n",
      "_________\n",
      "Suggestion 1 : Carlotta Marsanne distance of 0.120\n",
      "and descriptors: ['dark', 'clean', 'zesty', 'french_oak', 'oak', 'vanilla', 'edgy', 'apricot', 'papaya', 'orange', 'honeysuckle']\n",
      "\n",
      "Suggestion 2 : G. Moulinier Rhône-style Red Blend distance of 0.121\n",
      "and descriptors: ['barnyard', 'rich', 'dark', 'fruit', 'berry', 'bramble', 'smooth', 'silky', 'soft']\n",
      "\n",
      "Suggestion 3 : De Loach Pinot Noir distance of 0.121\n",
      "and descriptors: ['edgy', 'round', 'cherry', 'cola', 'sweet', 'persimmon', 'fruit', 'tart', 'rich']\n",

      "\n"
     ]
    }
   ],
   "source": [

    "#name_test = \"Marrenon Chardonnay\"\n",
    "name_test = full_wine_df_test.sample().name.iloc[0]\n",
    "\n",
    "try:\n",
    "    #print(\"train\")\n",
    "    wine_test_vector = full_wine_df.loc[full_wine_df['name'] == name_test]['review_vector'].values.tolist()     \n",
    "    distance, indice = model_knn.kneighbors(wine_test_vector, n_neighbors=4)\n",
    "    distance_list = distance[0].tolist()[1:]\n",
    "    indice_list = indice[0].tolist()[1:]\n",
=======
    "name_test = \"Ponzi Pinot Noir\"\n",
    "\n",
    "wine_test_vector = full_wine_df.loc[full_wine_df['name'] == name_test]['review_vector'].values.tolist()\n",
    "distance, indice = model_knn.kneighbors(wine_test_vector, n_neighbors=4)\n",
    "distance_list = distance[0].tolist()[1:]\n",
    "indice_list = indice[0].tolist()[1:]\n",

    "\n",
    "main_wine = full_wine_df.loc[full_wine_df['name'] == name_test]\n",
    "\n",

    "    print('Similar to:', name_test)\n",
    "    print('The input wine is:', list(main_wine['descriptors'])[0])\n",
    "    print('_________')\n",
    "    n = 1\n",
    "    for d, i in zip(distance_list, indice_list):\n",
    "        wine_name = full_wine_df['name'][i]\n",
    "        wine_descriptors = full_wine_df['descriptors'][i]\n",
    "        wine_price = df_reds.loc[df_reds['name'] == wine_name]['price'].values.tolist()[0]\n",
    "        wine_country = df_reds.loc[df_reds['name'] == wine_name]['country'].values.tolist()[0]\n",
    "        wine_points = df_reds.loc[df_reds['name'] == wine_name]['points'].values.tolist()[0]\n",
    "        #print('Suggestion', str(n), ':', wine_name, 'distance of', \"{:.3f}\".format(d))\n",
    "        print('Suggestion', str(n), ':', wine_name)\n",
    "        #print('and descriptors:', wine_descriptors)\n",
    "        #print('')\n",
    "        print('Price ($):', wine_price)\n",
    "        print('Country:', wine_country)\n",
    "        print('Points:', wine_points)\n",
    "        print('')\n",
    "        n+=1\n",
    "\n",
    "\n",
    "except:\n",
    "    #print(\"test\")\n",
    "    wine_test_vector = full_wine_df_test.loc[full_wine_df_test['name'] == name_test]['review_vector'].values.tolist()     \n",
    "    distance, indice = model_knn.kneighbors(wine_test_vector, n_neighbors=4)\n",
    "    distance_list = distance[0].tolist()[1:]\n",
    "    indice_list = indice[0].tolist()[1:]\n",
    "\n",
    "    main_wine = full_wine_df_test.loc[full_wine_df_test['name'] == name_test]\n",
    "\n",
    "    print('Similar to:', name_test)\n",
    "    print('The input wine is:', list(main_wine['descriptors'])[0])\n",
    "    print('_________')\n",
    "    n = 1\n",
    "    for d, i in zip(distance_list, indice_list):\n",
    "        wine_name = full_wine_df_test['name'][i]\n",
    "        wine_descriptors = full_wine_df_test['descriptors'][i]\n",
    "        wine_price = df_reds.loc[df_reds['name'] == wine_name]['price'].values.tolist()[0]\n",
    "        wine_country = df_reds.loc[df_reds['name'] == wine_name]['country'].values.tolist()[0]\n",
    "        wine_points = df_reds.loc[df_reds['name'] == wine_name]['points'].values.tolist()[0]\n",
    "        #print('Suggestion', str(n), ':', wine_name, 'distance of', \"{:.3f}\".format(d))\n",
    "        print('Suggestion', str(n), ':', wine_name)\n",
    "        #print('and descriptors:', wine_descriptors)\n",
    "        #print('')\n",
    "        print('Price ($):', wine_price)\n",
    "        print('Country:', wine_country)\n",
    "        print('Points:', wine_points)\n",
    "        print('')\n",
    "        n+=1\n",
    "\n",
    "    \n"
   ]
  },
  {
   "cell_type": "markdown",
   "metadata": {},
   "source": [
    "## nice looking\n",
    "Stonier Pinot Noir\n",
    "Marrenon Chardonnay\n",
    "Carter Cabernet Sauvignon\n",
    "Kynsi Pinot Noir"
   ]
  },
  {
   "cell_type": "code",
   "execution_count": 11,
   "metadata": {},
   "outputs": [],
   "source": [
    "wine_name = full_wine_df['name'][i]"
   ]
  },
  {
   "cell_type": "code",
   "execution_count": 12,
   "metadata": {},
   "outputs": [
    {
     "data": {
      "text/plain": [
       "name                                               Tommasi Vermentino\n",
       "description         Easy, fresh and simple, this opens with aromas...\n",
       "descriptors         [fresh, dry, hay, stone, fruit, honey, thick, ...\n",
       "review_vector       [0.32815774520242263, 0.1911917461762132, 0.43...\n",
       "descriptor_count                                                   10\n",
       "Name: 100698, dtype: object"
      ]
     },
     "execution_count": 12,
     "metadata": {},
     "output_type": "execute_result"
    }
   ],
   "source": [
    "full_wine_df.iloc[81436]"
   ]
  },
  {
   "cell_type": "code",
   "execution_count": 39,
   "metadata": {},
   "outputs": [
    {
     "data": {
      "text/plain": [
       "'V. Sattui Riesling'"
      ]
     },
     "execution_count": 39,
     "metadata": {},
     "output_type": "execute_result"
    }
   ],
   "source": [
    "wine_name"
   ]
  },
  {
   "cell_type": "code",
   "execution_count": 40,
   "metadata": {},
   "outputs": [
    {
     "data": {
      "text/plain": [
       "25.0"
      ]
     },
     "execution_count": 40,
     "metadata": {},
     "output_type": "execute_result"
    }
   ],
   "source": [
    "df_reds.loc[df_reds['name'] == wine_name]['price'].values.tolist()[0]"
=======
    "print('Similar to:', name_test)\n",
    "print('The input wine is:', list(main_wine['descriptors'])[0])\n",
    "print('_________')\n",
    "\n",
=======
    "name_test = \"Ponzi Pinot Noir\"\n",
    "\n",
    "wine_test_vector = full_wine_df.loc[full_wine_df['name'] == name_test]['review_vector'].values.tolist()\n",
    "distance, indice = model_knn.kneighbors(wine_test_vector, n_neighbors=4)\n",
    "distance_list = distance[0].tolist()[1:]\n",
    "indice_list = indice[0].tolist()[1:]\n",
    "\n",
    "main_wine = full_wine_df.loc[full_wine_df['name'] == name_test]\n",
    "\n",
    "print('Similar to:', name_test)\n",
    "print('The input wine is:', list(main_wine['descriptors'])[0])\n",
    "print('_________')\n",
    "\n",

    "n = 1\n",
    "for d, i in zip(distance_list, indice_list):\n",
    "    wine_name = full_wine_df['name'][i]\n",
    "    wine_descriptors = full_wine_df['descriptors'][i]\n",
    "    print('Suggestion', str(n), ':', wine_name, 'distance of', \"{:.3f}\".format(d))\n",
    "    print('and descriptors:', wine_descriptors)\n",
    "    print('')\n",
    "    n+=1"

   ]
  },
  {
   "cell_type": "code",
   "execution_count": null,
   "metadata": {},
   "outputs": [],
   "source": []
  }
 ],
 "metadata": {
  "kernelspec": {
   "display_name": "Python 3",
   "language": "python",
   "name": "python3"
  },
  "language_info": {
   "codemirror_mode": {
    "name": "ipython",
    "version": 3
   },
   "file_extension": ".py",
   "mimetype": "text/x-python",
   "name": "python",
   "nbconvert_exporter": "python",
   "pygments_lexer": "ipython3",
   "version": "3.8.5"
  }
 },
 "nbformat": 4,
 "nbformat_minor": 4
}
