{
 "cells": [
  {
   "cell_type": "markdown",
   "metadata": {},
   "source": [
    "# **Wine Recommendations**\n",
    "\n",
    "**Evan Slack, Dylan Wagman, Ryan Maiman**\n",
    "\n",
    "Final Report\n",
    "\n",
    "ME 193, Spring 2021"
   ]
  },
  {
   "cell_type": "markdown",
   "metadata": {},
   "source": [
    "### 1. Abstract"
   ]
  },
  {
   "cell_type": "markdown",
   "metadata": {},
   "source": [
    "With hundreds of thousands of unique wines in existence, it can be daunting to identify which wine a user will enjoy. Wine connoisseurs want to know what type of wine they will like based on their current preferences. Our solution parses over 130,000 wine reviews scraped from WineEnthusiast.com to offer a wine recommendation based on user input. The data is used to determine the most important characteristics and build a model that groups wine by similarities. To accurately create this recommendation system, we utilized SageMaker, Amazon's cloud computing and machine learning service. SageMaker was used to establish a model and implement a word embeddings algorithm to the testing data."
   ]
  },
  {
   "cell_type": "markdown",
   "metadata": {},
   "source": [
    "### 2. Introduction"
   ]
  },
  {
   "cell_type": "markdown",
   "metadata": {},
   "source": [
    "**How It Works**"
   ]
  },
  {
   "cell_type": "markdown",
   "metadata": {},
   "source": [
    "Recomendation systems have become increasingly prevalent in digital services. Therefore, our team felt it would be beneficial to learn the ins and outs of creating these types of systems. A wine reccomendation system fit perfectly with both our professional and personal interests. Thus, this notebook was born.\n",
    "\n",
    "Our algorithm takes in a user input wine. The user can select a type of wine in the dataset from a drop down menu. From here, the wine descriptors are taken into account by using a word2vec algorithm, explained in more detail under the Model Description section. These descriptors are then compared to the other wine in the dataset and the three most similar wines are output."
   ]
  },
  {
   "cell_type": "markdown",
   "metadata": {},
   "source": [
    "**Related Works**"
   ]
  },
  {
   "cell_type": "markdown",
   "metadata": {},
   "source": [
    "Wine recommendation systems are fairly common, however, through our research, we found that many of these systems use an collaborative filtering algorithm. Collaborative filtering works by...."
   ]
  },
  {
   "cell_type": "markdown",
   "metadata": {},
   "source": [
    "### 3. Data"
   ]
  },
  {
   "cell_type": "markdown",
   "metadata": {},
   "source": [
    "**Overview**"
   ]
  },
  {
   "cell_type": "markdown",
   "metadata": {},
   "source": [
    "The dataset consists of 130,000+ reviews from WineEnthusiast.com. It was scraped and able to be downloaded from kaggle. Once downloaded, the data was consolidated, and cleaned. The wine characteristics include descriptions written in prose, prices, wineries, and varieties. An additional wine feature, 'name', was created by combining the winery and wine variety. An example of the dataset and the full list of characteristics can be seen below."
   ]
  },
  {
   "cell_type": "markdown",
   "metadata": {},
   "source": [
    "Data URL: https://www.kaggle.com/zynicide/wine-reviews"
   ]
  },
  {
   "cell_type": "markdown",
   "metadata": {},
   "source": [
    "![WineList](Images/WineList.png)"
   ]
  },
  {
   "cell_type": "markdown",
   "metadata": {},
   "source": [
    "**Preprocessing**"
   ]
  },
  {
   "cell_type": "markdown",
   "metadata": {},
   "source": [
    "To create our recommendation system, the reviews written in prose had to be standardized. To do this, the following steps were completed:\n",
    "1. A large text corpus with all of the reviews was created\n",
    "2. The corpus was tokenized to remove stop words\n",
    "3. Similar words were grouped together\n",
    "4. Uninformative descriptors were removed"
   ]
  },
  {
   "cell_type": "markdown",
   "metadata": {},
   "source": [
    "### 4. Model Description"
   ]
  },
  {
   "cell_type": "markdown",
   "metadata": {},
   "source": [
    "A **Word Embeddings Algorithm** was used to create this recommendation system. \n",
    "\n",
    "Word embeddings is a natural language processing technique in which words from a body of text are mapped to a vector space where words with similar meanings are closer together. The problem is that most machine learning techniques are unable to process strings of letters. These algorithms want to recieve numerical inputs instead. Therefore, in order to perform numerical experiments on bodies of text, the words must be converted into a vector spacce representation. \n",
    "\n",
    "There are several methods for mapping words to this numerical space; We chose to work with a neural network implementation called Word2Vec. "
   ]
  },
  {
   "cell_type": "markdown",
   "metadata": {},
   "source": [
    "### 5. Implementation"
   ]
  },
  {
   "cell_type": "markdown",
   "metadata": {},
   "source": [
    "WE NEED TO SHOW CODE HERE!"
   ]
  },
  {
   "cell_type": "markdown",
   "metadata": {},
   "source": [
    "**Training**"
   ]
  },
  {
   "cell_type": "markdown",
   "metadata": {},
   "source": [
    "An 80/20 split was used to train/test the wine dataset"
   ]
  },
  {
   "cell_type": "markdown",
   "metadata": {},
   "source": [
    "**Testing**"
   ]
  },
  {
   "cell_type": "markdown",
   "metadata": {},
   "source": [
    "### 6. Experimental Results"
   ]
  },
  {
   "cell_type": "markdown",
   "metadata": {},
   "source": [
    "**Recommendation Strength**"
   ]
  },
  {
   "cell_type": "markdown",
   "metadata": {},
   "source": [
    "A cosine distance metric was used to determine the strength of the recommendation. A wine with a distance metric closer to zero is a better suggestion than a wine with a larger distance metric. The output below shows a potential recommendation result. In this case, the Domaine Saint Andrieu Rhone-style Red Blend is  the best suggestion."
   ]
  },
  {
   "cell_type": "markdown",
   "metadata": {},
   "source": [
    "![StonierPinot](Images/StonierPinot.jpeg)"
   ]
  },
  {
   "cell_type": "markdown",
   "metadata": {},
   "source": [
    "**User Interface**"
   ]
  },
  {
   "cell_type": "markdown",
   "metadata": {},
   "source": [
    "The user is able to enter a type of wine they have enjoyed from a drop down menu with all of the wines in the dataset. This drop down menu is quite large, however, it shrinks once the user begins to type. The interface was greated with Jupyter's interactive ipywidgets. "
   ]
  },
  {
   "cell_type": "markdown",
   "metadata": {},
   "source": [
    "![GUI](Images/GUI.png)"
   ]
  },
  {
   "cell_type": "markdown",
   "metadata": {},
   "source": [
    "The user output is simpilar than the output shown above in the Stonier Pinot Noir experiment. We thought that the most valuable information for the users' wine recommendations would be the wine names, prices, countries, and wine points. Thus, the user output interface looks like the following:"
   ]
  },
  {
   "cell_type": "markdown",
   "metadata": {},
   "source": [
    "<img src=\"Images/UserOutput.jpeg\" alt=\"UserOutput\" width=\"500\"/>"
   ]
  },
  {
   "cell_type": "markdown",
   "metadata": {},
   "source": [
    "### 7. Conclusion"
   ]
  },
  {
   "cell_type": "markdown",
   "metadata": {},
   "source": []
  },
  {
   "cell_type": "markdown",
   "metadata": {},
   "source": [
    "### 8. Contributions"
   ]
  },
  {
   "cell_type": "markdown",
   "metadata": {},
   "source": [
    "**Evan**: Created bar and scatterplots, clustered data using kmeans, implemented word2vec, final project delivery, final report\n",
    "\n",
    "**Dylan**: Created a random forest tree, preprocessed dataset, implemented word2vec and word embeddings algorithms, final project delivery\n",
    "\n",
    "**Ryan**: Project proposal and delivery, project progress report, user interface, final report"
   ]
  },
  {
   "cell_type": "markdown",
   "metadata": {},
   "source": [
    "### 9. References"
   ]
  },
  {
   "cell_type": "markdown",
   "metadata": {},
   "source": [
    "**Related Work**"
   ]
  },
  {
   "cell_type": "markdown",
   "metadata": {},
   "source": [
    "R. Schuring, “RoboSomm Chapter 3: Wine Embeddings and a Wine Recommender,” Medium, 28-Dec-2019. [Online]. Available: https://towardsdatascience.com/robosomm-chapter-3-wine-embeddings-and-a-wine-recommender-9fc678f1041e. [Accessed: 11-May-2021]."
   ]
  },
  {
   "cell_type": "markdown",
   "metadata": {},
   "source": [
    "**Algorithm Information**"
   ]
  },
  {
   "cell_type": "markdown",
   "metadata": {},
   "source": [
    "“Gensim: topic modelling for humans,” models.word2vec – Word2vec embeddings - gensim, 29-Apr-2021. [Online]. Available: https://radimrehurek.com/gensim/models/word2vec.html. [Accessed: 11-May-2021].\n",
    "\n",
    "N. S. S. I. am a perpetual, “Understanding Word Embeddings: From Word2Vec to Count Vectors,” Analytics Vidhya, 19-Oct-2020. [Online]. Available: https://www.analyticsvidhya.com/blog/2017/06/word-embeddings-count-word2veec/. [Accessed: 11-May-2021]."
   ]
  },
  {
   "cell_type": "markdown",
   "metadata": {},
   "source": [
    "**Code and Libraries**"
   ]
  },
  {
   "cell_type": "code",
   "execution_count": null,
   "metadata": {},
   "outputs": [],
   "source": []
  }
 ],
 "metadata": {
  "kernelspec": {
   "display_name": "Python 3",
   "language": "python",
   "name": "python3"
  },
  "language_info": {
   "codemirror_mode": {
    "name": "ipython",
    "version": 3
   },
   "file_extension": ".py",
   "mimetype": "text/x-python",
   "name": "python",
   "nbconvert_exporter": "python",
   "pygments_lexer": "ipython3",
   "version": "3.8.5"
  }
 },
 "nbformat": 4,
 "nbformat_minor": 4
}
