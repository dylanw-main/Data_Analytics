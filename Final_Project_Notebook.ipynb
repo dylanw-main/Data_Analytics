{
 "cells": [
  {
   "cell_type": "markdown",
   "metadata": {},
   "source": [
    "# **ME 193, Spring 2021**\n",
    "## Final Project Notebook \n",
    "\n",
    "\n",
    "**Notes**:\n",
    "\n",
    "1. "
   ]
  },
  {
   "cell_type": "code",
   "execution_count": 10,
   "metadata": {},
   "outputs": [],
   "source": [
    "import os\n",
    "import numpy as np\n",
    "import pandas as pd\n",
    "import requests\n",
    "from IPython.display import JSON\n",
    "\n",
    "import sklearn.tree as tree\n",
    "import sklearn.metrics as mt\n",
    "import sklearn.ensemble as ens\n",
    "import matplotlib.pyplot as plt\n",
    "import sklearn.model_selection"
   ]
  },
  {
   "cell_type": "markdown",
   "metadata": {},
   "source": [
    "## Import data\n",
    "Scrape vivino website by analyzing Network tab on the all search and pulling API request info. id = 1 is red wines and id = 2 is whites. Parems for search included\n",
    "Red network url: https://www.vivino.com/api/explore/explore?country_code=US&currency_code=USD&grape_filter=varietal&min_rating=1&order_by=ratings_average&order=desc&page=1&price_range_max=500&price_range_min=0&wine_type_ids[]=1"
   ]
  },
  {
   "cell_type": "code",
   "execution_count": 29,
   "metadata": {},
   "outputs": [
    {
     "data": {
      "text/html": [
       "<div>\n",
       "<style scoped>\n",
       "    .dataframe tbody tr th:only-of-type {\n",
       "        vertical-align: middle;\n",
       "    }\n",
       "\n",
       "    .dataframe tbody tr th {\n",
       "        vertical-align: top;\n",
       "    }\n",
       "\n",
       "    .dataframe thead th {\n",
       "        text-align: right;\n",
       "    }\n",
       "</style>\n",
       "<table border=\"1\" class=\"dataframe\">\n",
       "  <thead>\n",
       "    <tr style=\"text-align: right;\">\n",
       "      <th></th>\n",
       "      <th>Winery</th>\n",
       "      <th>Wine</th>\n",
       "      <th>Price</th>\n",
       "      <th>Year</th>\n",
       "      <th>Grape</th>\n",
       "      <th>Region</th>\n",
       "      <th>Country</th>\n",
       "      <th>Rating</th>\n",
       "      <th>Acidity</th>\n",
       "      <th>Sweetness</th>\n",
       "      <th>Tannin</th>\n",
       "      <th>Flavor</th>\n",
       "    </tr>\n",
       "  </thead>\n",
       "  <tbody>\n",
       "    <tr>\n",
       "      <th>0</th>\n",
       "      <td>Guarachi</td>\n",
       "      <td>Beckstoffer Las Piedras Heritage Single Vineya...</td>\n",
       "      <td>265.190000</td>\n",
       "      <td>2012</td>\n",
       "      <td>Cabernet Sauvignon</td>\n",
       "      <td>Napa Valley</td>\n",
       "      <td>United States</td>\n",
       "      <td>4.8</td>\n",
       "      <td>3.419355</td>\n",
       "      <td>1.598387</td>\n",
       "      <td>3.226645</td>\n",
       "      <td>[black_fruit, red_fruit, oak, spices, floral, ...</td>\n",
       "    </tr>\n",
       "    <tr>\n",
       "      <th>1</th>\n",
       "      <td>Viña Cobos</td>\n",
       "      <td>Cobos Chañares Estate Malbec</td>\n",
       "      <td>349.990000</td>\n",
       "      <td>2016</td>\n",
       "      <td>Malbec</td>\n",
       "      <td>Tunuyán</td>\n",
       "      <td>Argentina</td>\n",
       "      <td>4.8</td>\n",
       "      <td>2.790480</td>\n",
       "      <td>2.106546</td>\n",
       "      <td>2.789040</td>\n",
       "      <td>[oak, black_fruit, spices, non_oak, floral, ea...</td>\n",
       "    </tr>\n",
       "    <tr>\n",
       "      <th>2</th>\n",
       "      <td>Antinori</td>\n",
       "      <td>Tenuta Tignanello 'Solaia'</td>\n",
       "      <td>349.990000</td>\n",
       "      <td>2017</td>\n",
       "      <td>Red</td>\n",
       "      <td>Toscana</td>\n",
       "      <td>Italy</td>\n",
       "      <td>4.8</td>\n",
       "      <td>3.075401</td>\n",
       "      <td>1.897393</td>\n",
       "      <td>2.965283</td>\n",
       "      <td>[oak, earth, black_fruit, non_oak, spices, red...</td>\n",
       "    </tr>\n",
       "    <tr>\n",
       "      <th>3</th>\n",
       "      <td>Frank Family</td>\n",
       "      <td>Patriarch</td>\n",
       "      <td>229.490000</td>\n",
       "      <td>2015</td>\n",
       "      <td>Cabernet Sauvignon</td>\n",
       "      <td>Rutherford</td>\n",
       "      <td>United States</td>\n",
       "      <td>4.8</td>\n",
       "      <td>3.328190</td>\n",
       "      <td>1.359804</td>\n",
       "      <td>3.235961</td>\n",
       "      <td>[oak, earth, non_oak, black_fruit, spices, red...</td>\n",
       "    </tr>\n",
       "    <tr>\n",
       "      <th>4</th>\n",
       "      <td>Realm</td>\n",
       "      <td>Farella Vineyard</td>\n",
       "      <td>271.990000</td>\n",
       "      <td>2016</td>\n",
       "      <td>Cabernet Sauvignon</td>\n",
       "      <td>Coombsville</td>\n",
       "      <td>United States</td>\n",
       "      <td>4.8</td>\n",
       "      <td>3.246772</td>\n",
       "      <td>1.585666</td>\n",
       "      <td>3.428617</td>\n",
       "      <td>[oak, earth, non_oak, black_fruit, spices, red...</td>\n",
       "    </tr>\n",
       "    <tr>\n",
       "      <th>5</th>\n",
       "      <td>Paul Hobbs</td>\n",
       "      <td>Beckstoffer Las Piedras Vineyard Cabernet Sauv...</td>\n",
       "      <td>349.990000</td>\n",
       "      <td>2015</td>\n",
       "      <td>Cabernet Sauvignon</td>\n",
       "      <td>St. Helena</td>\n",
       "      <td>United States</td>\n",
       "      <td>4.8</td>\n",
       "      <td>3.368708</td>\n",
       "      <td>1.836418</td>\n",
       "      <td>3.324093</td>\n",
       "      <td>[oak, black_fruit, earth, spices, non_oak, red...</td>\n",
       "    </tr>\n",
       "    <tr>\n",
       "      <th>6</th>\n",
       "      <td>Frank Family</td>\n",
       "      <td>Winston Hill</td>\n",
       "      <td>164.990000</td>\n",
       "      <td>2015</td>\n",
       "      <td>Cabernet Sauvignon</td>\n",
       "      <td>Napa Valley</td>\n",
       "      <td>United States</td>\n",
       "      <td>4.8</td>\n",
       "      <td>3.328933</td>\n",
       "      <td>1.623300</td>\n",
       "      <td>3.310685</td>\n",
       "      <td>[oak, black_fruit, earth, non_oak, red_fruit, ...</td>\n",
       "    </tr>\n",
       "    <tr>\n",
       "      <th>7</th>\n",
       "      <td>Domaine Jean-Louis Chave</td>\n",
       "      <td>L'Hermitage</td>\n",
       "      <td>298.950000</td>\n",
       "      <td>2017</td>\n",
       "      <td>Hermitage</td>\n",
       "      <td>Hermitage</td>\n",
       "      <td>France</td>\n",
       "      <td>4.8</td>\n",
       "      <td>3.525235</td>\n",
       "      <td>1.636905</td>\n",
       "      <td>4.091095</td>\n",
       "      <td>[earth, oak, black_fruit, spices, non_oak, red...</td>\n",
       "    </tr>\n",
       "    <tr>\n",
       "      <th>8</th>\n",
       "      <td>ZD Wines</td>\n",
       "      <td>Reserve Cabernet Sauvignon</td>\n",
       "      <td>269.990000</td>\n",
       "      <td>2014</td>\n",
       "      <td>Cabernet Sauvignon</td>\n",
       "      <td>Napa Valley</td>\n",
       "      <td>United States</td>\n",
       "      <td>4.8</td>\n",
       "      <td>3.334727</td>\n",
       "      <td>1.507770</td>\n",
       "      <td>2.993661</td>\n",
       "      <td>[oak, black_fruit, earth, non_oak, red_fruit, ...</td>\n",
       "    </tr>\n",
       "    <tr>\n",
       "      <th>9</th>\n",
       "      <td>Tua Rita</td>\n",
       "      <td>Redigaffi Toscana</td>\n",
       "      <td>299.990000</td>\n",
       "      <td>2018</td>\n",
       "      <td>Red</td>\n",
       "      <td>Toscana</td>\n",
       "      <td>Italy</td>\n",
       "      <td>4.8</td>\n",
       "      <td>3.014520</td>\n",
       "      <td>1.986128</td>\n",
       "      <td>2.971346</td>\n",
       "      <td>[oak, black_fruit, earth, non_oak, spices, red...</td>\n",
       "    </tr>\n",
       "    <tr>\n",
       "      <th>10</th>\n",
       "      <td>Saxum</td>\n",
       "      <td>Broken Stones</td>\n",
       "      <td>299.990000</td>\n",
       "      <td>2018</td>\n",
       "      <td>Rhône Blend</td>\n",
       "      <td>Paso Robles</td>\n",
       "      <td>United States</td>\n",
       "      <td>4.8</td>\n",
       "      <td>3.498673</td>\n",
       "      <td>1.789949</td>\n",
       "      <td>3.542344</td>\n",
       "      <td>[black_fruit, oak, earth, spices, non_oak, red...</td>\n",
       "    </tr>\n",
       "    <tr>\n",
       "      <th>11</th>\n",
       "      <td>Pahlmeyer</td>\n",
       "      <td>Proprietary Red</td>\n",
       "      <td>194.950000</td>\n",
       "      <td>2017</td>\n",
       "      <td>Bordeaux Blend</td>\n",
       "      <td>Napa Valley</td>\n",
       "      <td>United States</td>\n",
       "      <td>4.8</td>\n",
       "      <td>3.824524</td>\n",
       "      <td>1.701309</td>\n",
       "      <td>3.373506</td>\n",
       "      <td>[oak, black_fruit, non_oak, earth, spices, red...</td>\n",
       "    </tr>\n",
       "    <tr>\n",
       "      <th>12</th>\n",
       "      <td>Viña Cobos</td>\n",
       "      <td>Cobos Volturno</td>\n",
       "      <td>296.656667</td>\n",
       "      <td>2016</td>\n",
       "      <td>Cabernet - Malbec</td>\n",
       "      <td>Perdriel</td>\n",
       "      <td>Argentina</td>\n",
       "      <td>4.8</td>\n",
       "      <td>2.838615</td>\n",
       "      <td>2.236825</td>\n",
       "      <td>3.100276</td>\n",
       "      <td>[oak, black_fruit, non_oak, earth, spices, red...</td>\n",
       "    </tr>\n",
       "    <tr>\n",
       "      <th>13</th>\n",
       "      <td>El Enemigo</td>\n",
       "      <td>Gran Enemigo Single Vineyard Gualtallary Caber...</td>\n",
       "      <td>109.190000</td>\n",
       "      <td>2015</td>\n",
       "      <td>Bordeaux Blend</td>\n",
       "      <td>Gualtallary</td>\n",
       "      <td>Argentina</td>\n",
       "      <td>4.7</td>\n",
       "      <td>3.491860</td>\n",
       "      <td>2.006663</td>\n",
       "      <td>3.486697</td>\n",
       "      <td>[oak, black_fruit, spices, non_oak, earth, red...</td>\n",
       "    </tr>\n",
       "    <tr>\n",
       "      <th>14</th>\n",
       "      <td>Opus One</td>\n",
       "      <td>Opus One</td>\n",
       "      <td>418.190000</td>\n",
       "      <td>2015</td>\n",
       "      <td>Bordeaux Blend</td>\n",
       "      <td>Napa Valley</td>\n",
       "      <td>United States</td>\n",
       "      <td>4.7</td>\n",
       "      <td>3.847041</td>\n",
       "      <td>1.676451</td>\n",
       "      <td>3.372411</td>\n",
       "      <td>[oak, black_fruit, earth, non_oak, spices, red...</td>\n",
       "    </tr>\n",
       "    <tr>\n",
       "      <th>15</th>\n",
       "      <td>Vega Sicilia</td>\n",
       "      <td>Valbuena 5º</td>\n",
       "      <td>179.990000</td>\n",
       "      <td>2014</td>\n",
       "      <td>Ribera Del Duero Red</td>\n",
       "      <td>Ribera del Duero</td>\n",
       "      <td>Spain</td>\n",
       "      <td>4.7</td>\n",
       "      <td>3.710766</td>\n",
       "      <td>1.826552</td>\n",
       "      <td>3.477031</td>\n",
       "      <td>[oak, non_oak, earth, black_fruit, spices, red...</td>\n",
       "    </tr>\n",
       "    <tr>\n",
       "      <th>16</th>\n",
       "      <td>Vega Sicilia</td>\n",
       "      <td>Unico</td>\n",
       "      <td>394.950000</td>\n",
       "      <td>2004</td>\n",
       "      <td>Ribera Del Duero Red</td>\n",
       "      <td>Ribera del Duero</td>\n",
       "      <td>Spain</td>\n",
       "      <td>4.7</td>\n",
       "      <td>3.722180</td>\n",
       "      <td>1.758892</td>\n",
       "      <td>3.432424</td>\n",
       "      <td>[oak, earth, non_oak, black_fruit, spices, red...</td>\n",
       "    </tr>\n",
       "    <tr>\n",
       "      <th>17</th>\n",
       "      <td>Château Pontet-Canet</td>\n",
       "      <td>Pauillac (Grand Cru Classé)</td>\n",
       "      <td>399.990000</td>\n",
       "      <td>2009</td>\n",
       "      <td>Pauillac</td>\n",
       "      <td>Pauillac</td>\n",
       "      <td>France</td>\n",
       "      <td>4.7</td>\n",
       "      <td>4.215482</td>\n",
       "      <td>1.679276</td>\n",
       "      <td>4.250553</td>\n",
       "      <td>[oak, black_fruit, earth, non_oak, spices, red...</td>\n",
       "    </tr>\n",
       "    <tr>\n",
       "      <th>18</th>\n",
       "      <td>Casa Ferreirinha</td>\n",
       "      <td>Reserva Especial Douro</td>\n",
       "      <td>299.990000</td>\n",
       "      <td>2007</td>\n",
       "      <td>Douro Red</td>\n",
       "      <td>Douro</td>\n",
       "      <td>Portugal</td>\n",
       "      <td>4.7</td>\n",
       "      <td>2.950692</td>\n",
       "      <td>1.771778</td>\n",
       "      <td>3.416969</td>\n",
       "      <td>[oak, earth, non_oak, black_fruit, spices, red...</td>\n",
       "    </tr>\n",
       "    <tr>\n",
       "      <th>19</th>\n",
       "      <td>El Enemigo</td>\n",
       "      <td>Gran Enemigo Single Vineyard Gualtallary Caber...</td>\n",
       "      <td>89.990000</td>\n",
       "      <td>2016</td>\n",
       "      <td>Bordeaux Blend</td>\n",
       "      <td>Gualtallary</td>\n",
       "      <td>Argentina</td>\n",
       "      <td>4.7</td>\n",
       "      <td>3.491860</td>\n",
       "      <td>2.006663</td>\n",
       "      <td>3.486697</td>\n",
       "      <td>[oak, black_fruit, spices, non_oak, earth, red...</td>\n",
       "    </tr>\n",
       "    <tr>\n",
       "      <th>20</th>\n",
       "      <td>Opus One</td>\n",
       "      <td>Opus One</td>\n",
       "      <td>399.990000</td>\n",
       "      <td>2016</td>\n",
       "      <td>Bordeaux Blend</td>\n",
       "      <td>Napa Valley</td>\n",
       "      <td>United States</td>\n",
       "      <td>4.7</td>\n",
       "      <td>3.847041</td>\n",
       "      <td>1.676451</td>\n",
       "      <td>3.372411</td>\n",
       "      <td>[oak, black_fruit, earth, non_oak, spices, red...</td>\n",
       "    </tr>\n",
       "    <tr>\n",
       "      <th>21</th>\n",
       "      <td>Nosotros</td>\n",
       "      <td>Red</td>\n",
       "      <td>124.990000</td>\n",
       "      <td>2014</td>\n",
       "      <td>Malbec</td>\n",
       "      <td>Agrelo</td>\n",
       "      <td>Argentina</td>\n",
       "      <td>4.7</td>\n",
       "      <td>2.615224</td>\n",
       "      <td>2.120839</td>\n",
       "      <td>2.746013</td>\n",
       "      <td>[oak, black_fruit, non_oak, spices, earth, red...</td>\n",
       "    </tr>\n",
       "    <tr>\n",
       "      <th>22</th>\n",
       "      <td>Joseph Phelps</td>\n",
       "      <td>Insignia</td>\n",
       "      <td>329.990000</td>\n",
       "      <td>2015</td>\n",
       "      <td>Bordeaux Blend</td>\n",
       "      <td>Napa Valley</td>\n",
       "      <td>United States</td>\n",
       "      <td>4.7</td>\n",
       "      <td>3.837821</td>\n",
       "      <td>1.737216</td>\n",
       "      <td>3.490371</td>\n",
       "      <td>[oak, black_fruit, earth, non_oak, spices, red...</td>\n",
       "    </tr>\n",
       "    <tr>\n",
       "      <th>23</th>\n",
       "      <td>Vega Sicilia</td>\n",
       "      <td>Valbuena 5º</td>\n",
       "      <td>174.990000</td>\n",
       "      <td>2015</td>\n",
       "      <td>Ribera Del Duero Red</td>\n",
       "      <td>Ribera del Duero</td>\n",
       "      <td>Spain</td>\n",
       "      <td>4.7</td>\n",
       "      <td>3.710766</td>\n",
       "      <td>1.826552</td>\n",
       "      <td>3.477031</td>\n",
       "      <td>[oak, non_oak, earth, black_fruit, spices, red...</td>\n",
       "    </tr>\n",
       "    <tr>\n",
       "      <th>24</th>\n",
       "      <td>Caymus</td>\n",
       "      <td>Special Selection Cabernet Sauvignon</td>\n",
       "      <td>169.990000</td>\n",
       "      <td>2016</td>\n",
       "      <td>Cabernet Sauvignon</td>\n",
       "      <td>Napa Valley</td>\n",
       "      <td>United States</td>\n",
       "      <td>4.7</td>\n",
       "      <td>3.344428</td>\n",
       "      <td>1.909029</td>\n",
       "      <td>3.251390</td>\n",
       "      <td>[oak, black_fruit, non_oak, spices, earth, red...</td>\n",
       "    </tr>\n",
       "  </tbody>\n",
       "</table>\n",
       "</div>"
      ],
      "text/plain": [
       "                      Winery  \\\n",
       "0                   Guarachi   \n",
       "1                 Viña Cobos   \n",
       "2                   Antinori   \n",
       "3               Frank Family   \n",
       "4                      Realm   \n",
       "5                 Paul Hobbs   \n",
       "6               Frank Family   \n",
       "7   Domaine Jean-Louis Chave   \n",
       "8                   ZD Wines   \n",
       "9                   Tua Rita   \n",
       "10                     Saxum   \n",
       "11                 Pahlmeyer   \n",
       "12                Viña Cobos   \n",
       "13                El Enemigo   \n",
       "14                  Opus One   \n",
       "15              Vega Sicilia   \n",
       "16              Vega Sicilia   \n",
       "17      Château Pontet-Canet   \n",
       "18          Casa Ferreirinha   \n",
       "19                El Enemigo   \n",
       "20                  Opus One   \n",
       "21                  Nosotros   \n",
       "22             Joseph Phelps   \n",
       "23              Vega Sicilia   \n",
       "24                    Caymus   \n",
       "\n",
       "                                                 Wine       Price  Year  \\\n",
       "0   Beckstoffer Las Piedras Heritage Single Vineya...  265.190000  2012   \n",
       "1                        Cobos Chañares Estate Malbec  349.990000  2016   \n",
       "2                          Tenuta Tignanello 'Solaia'  349.990000  2017   \n",
       "3                                           Patriarch  229.490000  2015   \n",
       "4                                    Farella Vineyard  271.990000  2016   \n",
       "5   Beckstoffer Las Piedras Vineyard Cabernet Sauv...  349.990000  2015   \n",
       "6                                        Winston Hill  164.990000  2015   \n",
       "7                                         L'Hermitage  298.950000  2017   \n",
       "8                          Reserve Cabernet Sauvignon  269.990000  2014   \n",
       "9                                   Redigaffi Toscana  299.990000  2018   \n",
       "10                                      Broken Stones  299.990000  2018   \n",
       "11                                    Proprietary Red  194.950000  2017   \n",
       "12                                     Cobos Volturno  296.656667  2016   \n",
       "13  Gran Enemigo Single Vineyard Gualtallary Caber...  109.190000  2015   \n",
       "14                                           Opus One  418.190000  2015   \n",
       "15                                        Valbuena 5º  179.990000  2014   \n",
       "16                                              Unico  394.950000  2004   \n",
       "17                        Pauillac (Grand Cru Classé)  399.990000  2009   \n",
       "18                             Reserva Especial Douro  299.990000  2007   \n",
       "19  Gran Enemigo Single Vineyard Gualtallary Caber...   89.990000  2016   \n",
       "20                                           Opus One  399.990000  2016   \n",
       "21                                                Red  124.990000  2014   \n",
       "22                                           Insignia  329.990000  2015   \n",
       "23                                        Valbuena 5º  174.990000  2015   \n",
       "24               Special Selection Cabernet Sauvignon  169.990000  2016   \n",
       "\n",
       "                   Grape            Region        Country  Rating   Acidity  \\\n",
       "0     Cabernet Sauvignon       Napa Valley  United States     4.8  3.419355   \n",
       "1                 Malbec           Tunuyán      Argentina     4.8  2.790480   \n",
       "2                    Red           Toscana          Italy     4.8  3.075401   \n",
       "3     Cabernet Sauvignon        Rutherford  United States     4.8  3.328190   \n",
       "4     Cabernet Sauvignon       Coombsville  United States     4.8  3.246772   \n",
       "5     Cabernet Sauvignon        St. Helena  United States     4.8  3.368708   \n",
       "6     Cabernet Sauvignon       Napa Valley  United States     4.8  3.328933   \n",
       "7              Hermitage         Hermitage         France     4.8  3.525235   \n",
       "8     Cabernet Sauvignon       Napa Valley  United States     4.8  3.334727   \n",
       "9                    Red           Toscana          Italy     4.8  3.014520   \n",
       "10           Rhône Blend       Paso Robles  United States     4.8  3.498673   \n",
       "11        Bordeaux Blend       Napa Valley  United States     4.8  3.824524   \n",
       "12     Cabernet - Malbec          Perdriel      Argentina     4.8  2.838615   \n",
       "13        Bordeaux Blend       Gualtallary      Argentina     4.7  3.491860   \n",
       "14        Bordeaux Blend       Napa Valley  United States     4.7  3.847041   \n",
       "15  Ribera Del Duero Red  Ribera del Duero          Spain     4.7  3.710766   \n",
       "16  Ribera Del Duero Red  Ribera del Duero          Spain     4.7  3.722180   \n",
       "17              Pauillac          Pauillac         France     4.7  4.215482   \n",
       "18             Douro Red             Douro       Portugal     4.7  2.950692   \n",
       "19        Bordeaux Blend       Gualtallary      Argentina     4.7  3.491860   \n",
       "20        Bordeaux Blend       Napa Valley  United States     4.7  3.847041   \n",
       "21                Malbec            Agrelo      Argentina     4.7  2.615224   \n",
       "22        Bordeaux Blend       Napa Valley  United States     4.7  3.837821   \n",
       "23  Ribera Del Duero Red  Ribera del Duero          Spain     4.7  3.710766   \n",
       "24    Cabernet Sauvignon       Napa Valley  United States     4.7  3.344428   \n",
       "\n",
       "    Sweetness    Tannin                                             Flavor  \n",
       "0    1.598387  3.226645  [black_fruit, red_fruit, oak, spices, floral, ...  \n",
       "1    2.106546  2.789040  [oak, black_fruit, spices, non_oak, floral, ea...  \n",
       "2    1.897393  2.965283  [oak, earth, black_fruit, non_oak, spices, red...  \n",
       "3    1.359804  3.235961  [oak, earth, non_oak, black_fruit, spices, red...  \n",
       "4    1.585666  3.428617  [oak, earth, non_oak, black_fruit, spices, red...  \n",
       "5    1.836418  3.324093  [oak, black_fruit, earth, spices, non_oak, red...  \n",
       "6    1.623300  3.310685  [oak, black_fruit, earth, non_oak, red_fruit, ...  \n",
       "7    1.636905  4.091095  [earth, oak, black_fruit, spices, non_oak, red...  \n",
       "8    1.507770  2.993661  [oak, black_fruit, earth, non_oak, red_fruit, ...  \n",
       "9    1.986128  2.971346  [oak, black_fruit, earth, non_oak, spices, red...  \n",
       "10   1.789949  3.542344  [black_fruit, oak, earth, spices, non_oak, red...  \n",
       "11   1.701309  3.373506  [oak, black_fruit, non_oak, earth, spices, red...  \n",
       "12   2.236825  3.100276  [oak, black_fruit, non_oak, earth, spices, red...  \n",
       "13   2.006663  3.486697  [oak, black_fruit, spices, non_oak, earth, red...  \n",
       "14   1.676451  3.372411  [oak, black_fruit, earth, non_oak, spices, red...  \n",
       "15   1.826552  3.477031  [oak, non_oak, earth, black_fruit, spices, red...  \n",
       "16   1.758892  3.432424  [oak, earth, non_oak, black_fruit, spices, red...  \n",
       "17   1.679276  4.250553  [oak, black_fruit, earth, non_oak, spices, red...  \n",
       "18   1.771778  3.416969  [oak, earth, non_oak, black_fruit, spices, red...  \n",
       "19   2.006663  3.486697  [oak, black_fruit, spices, non_oak, earth, red...  \n",
       "20   1.676451  3.372411  [oak, black_fruit, earth, non_oak, spices, red...  \n",
       "21   2.120839  2.746013  [oak, black_fruit, non_oak, spices, earth, red...  \n",
       "22   1.737216  3.490371  [oak, black_fruit, earth, non_oak, spices, red...  \n",
       "23   1.826552  3.477031  [oak, non_oak, earth, black_fruit, spices, red...  \n",
       "24   1.909029  3.251390  [oak, black_fruit, non_oak, spices, earth, red...  "
      ]
     },
     "execution_count": 29,
     "metadata": {},
     "output_type": "execute_result"
    }
   ],
   "source": [
    "url = \"https://www.vivino.com/api/explore/explore\"\n",
    "headers= {\"User-Agent\": \"Mozilla/5.0 (X11; Linux x86_64) AppleWebKit/537.36 (KHTML, like Gecko) Chrome/51.0.2704.103 Safari/537.36\"}\n",
    "reds = requests.get(\n",
    "    url,\n",
    "    params = {\n",
    "        \"country_code\": \"US\",\n",
    "        #\"country_codes[]\":\"pt\",\n",
    "        \"currency_code\":\"USD\",\n",
    "        \"grape_filter\":\"varietal\",\n",
    "        \"min_rating\":\"1\",\n",
    "        \"order_by\":\"ratings_average\",\n",
    "        \"order\":\"desc\",\n",
    "        #\"page\": 1,\n",
    "        \"price_range_max\":\"450\",\n",
    "        \"price_range_min\":\"0\",\n",
    "        \"wine_type_ids[]\":\"1\"\n",
    "    },\n",
    "    headers=headers\n",
    ")\n",
    "whites = requests.get(\n",
    "    url,\n",
    "    params = {\n",
    "        \"country_code\": \"US\",\n",
    "        #\"country_codes[]\":\"pt\",\n",
    "        \"currency_code\":\"USD\",\n",
    "        \"grape_filter\":\"varietal\",\n",
    "        \"min_rating\":\"1\",\n",
    "        \"order_by\":\"ratings_average\",\n",
    "        \"order\":\"desc\",\n",
    "        #\"page\": 1,\n",
    "        \"price_range_max\":\"450\",\n",
    "        \"price_range_min\":\"0\",\n",
    "        \"wine_type_ids[]\":\"2\"\n",
    "    },\n",
    "    headers=headers\n",
    ")\n",
    "\n",
    "results = [\n",
    "    (\n",
    "        t[\"vintage\"][\"wine\"][\"winery\"][\"name\"], \n",
    "        #f'{t[\"vintage\"][\"wine\"][\"name\"]} {t[\"vintage\"][\"year\"]}',\n",
    "        t[\"vintage\"][\"wine\"][\"name\"],\n",
    "        t[\"price\"][\"amount\"],\n",
    "        t[\"vintage\"][\"year\"],\n",
    "        t[\"vintage\"][\"wine\"][\"style\"][\"varietal_name\"],\n",
    "        t[\"vintage\"][\"wine\"][\"region\"][\"name\"],\n",
    "        t[\"vintage\"][\"wine\"][\"region\"][\"country\"][\"name\"],\n",
    "        t[\"vintage\"][\"statistics\"][\"ratings_average\"],\n",
    "        t[\"vintage\"][\"wine\"][\"taste\"][\"structure\"][\"acidity\"],\n",
    "        t[\"vintage\"][\"wine\"][\"taste\"][\"structure\"][\"sweetness\"],\n",
    "        t[\"vintage\"][\"wine\"][\"taste\"][\"structure\"][\"tannin\"],\n",
    "        # flavors\n",
    "        [j[\"group\"] for j in t[\"vintage\"][\"wine\"][\"taste\"][\"flavor\"]]\n",
    "    )\n",
    "    for t in reds.json()[\"explore_vintage\"][\"matches\"]\n",
    "]\n",
    "df_reds = pd.DataFrame(results,columns=['Winery','Wine','Price','Year','Grape','Region','Country','Rating','Acidity','Sweetness','Tannin','Flavor'])\n",
    "\n",
    "df_reds"
   ]
  },
  {
   "cell_type": "code",
   "execution_count": 17,
   "metadata": {},
   "outputs": [
    {
     "data": {
      "application/json": {
       "e": "eJzLLbI1VMvNzLM1UMtNrLA1MTVQS660DQ1WSwYSLmrpabZliUWZqSWJOWr5SbZFiSWZeenF8YllqUWJ6alq-bYpqcXJauUl0bFAY4ptcxMBKyEbOg==",
       "explore_vintage": {
        "bottle_type_errors": [],
        "market": {
         "country": "us",
         "currency": {
          "code": "USD",
          "name": "US Dollars",
          "prefix": "$",
          "suffix": null
         },
         "state": "Massachusetts"
        },
        "matches": [
         {
          "price": {
           "amount": 265.19,
           "bottle_type": {
            "id": 1,
            "name": "Bottle (0.75l)",
            "short_name": "bottle",
            "short_name_plural": "bottles",
            "volume_ml": 750
           },
           "bottle_type_id": 1,
           "currency": {
            "code": "USD",
            "name": "US Dollars",
            "prefix": "$",
            "suffix": null
           },
           "discount_percent": null,
           "discounted_from": null,
           "id": 23610291,
           "sku": "",
           "type": "vc",
           "url": "https://www.yianniswine.com/wines/Guarachi-Beckstoffer-Las-Piedras-Heritage-Single-Vineyard-Cabernet-Sauvignon-2012-w0201372xb?utm_source=Vivino&utm_medium=Feed",
           "visibility": 1
          },
          "prices": [
           {
            "amount": 265.19,
            "bottle_type": {
             "id": 1,
             "name": "Bottle (0.75l)",
             "short_name": "bottle",
             "short_name_plural": "bottles",
             "volume_ml": 750
            },
            "bottle_type_id": 1,
            "currency": {
             "code": "USD",
             "name": "US Dollars",
             "prefix": "$",
             "suffix": null
            },
            "discount_percent": null,
            "discounted_from": null,
            "id": 23610291,
            "sku": "",
            "type": "vc",
            "url": "https://www.yianniswine.com/wines/Guarachi-Beckstoffer-Las-Piedras-Heritage-Single-Vineyard-Cabernet-Sauvignon-2012-w0201372xb?utm_source=Vivino&utm_medium=Feed",
            "visibility": 1
           }
          ],
          "vintage": {
           "grapes": null,
           "has_valid_ratings": true,
           "id": 142917015,
           "image": {
            "location": "//images.vivino.com/thumbs/hLGDOhcxTGuMSH4qXP730Q_pl_480x640.png",
            "variations": {
             "bottle_large": "//images.vivino.com/thumbs/hLGDOhcxTGuMSH4qXP730Q_pb_x960.png",
             "bottle_medium": "//images.vivino.com/thumbs/hLGDOhcxTGuMSH4qXP730Q_pb_x600.png",
             "bottle_medium_square": "//images.vivino.com/thumbs/hLGDOhcxTGuMSH4qXP730Q_pb_600x600.png",
             "bottle_small": "//images.vivino.com/thumbs/hLGDOhcxTGuMSH4qXP730Q_pb_x300.png",
             "bottle_small_square": "//images.vivino.com/thumbs/hLGDOhcxTGuMSH4qXP730Q_pb_300x300.png",
             "label": "//images.vivino.com/thumbs/hLGDOhcxTGuMSH4qXP730Q_pl_480x640.png",
             "label_large": "//images.vivino.com/thumbs/hLGDOhcxTGuMSH4qXP730Q_pl_375x500.png",
             "label_medium": "//images.vivino.com/thumbs/hLGDOhcxTGuMSH4qXP730Q_pl_150x200.png",
             "label_medium_square": "//images.vivino.com/thumbs/hLGDOhcxTGuMSH4qXP730Q_pl_150x150.png",
             "label_small_square": "//images.vivino.com/thumbs/hLGDOhcxTGuMSH4qXP730Q_pl_80x80.png",
             "large": "//images.vivino.com/thumbs/hLGDOhcxTGuMSH4qXP730Q_pl_375x500.png",
             "medium": "//images.vivino.com/thumbs/hLGDOhcxTGuMSH4qXP730Q_pl_150x200.png",
             "medium_square": "//images.vivino.com/thumbs/hLGDOhcxTGuMSH4qXP730Q_pl_150x150.png",
             "small_square": "//images.vivino.com/thumbs/hLGDOhcxTGuMSH4qXP730Q_pl_80x80.png"
            }
           },
           "name": "Guarachi Beckstoffer Las Piedras Heritage Single Vineyard Cabernet Sauvignon 2012",
           "seo_name": "guarachi-beckstoffer-las-piedras-heritage-single-vineyard-cabernet-sauvignon-2012",
           "statistics": {
            "labels_count": 272,
            "ratings_average": 4.8,
            "ratings_count": 25,
            "status": "Normal"
           },
           "wine": {
            "has_valid_ratings": true,
            "id": 4448231,
            "is_natural": false,
            "name": "Beckstoffer Las Piedras Heritage Single Vineyard Cabernet Sauvignon",
            "region": {
             "background_image": {
              "location": "//images.vivino.com/regions/backgrounds/cP8NlYVPSUStyROqZeBzgA.jpg",
              "variations": {
               "large": "//thumbs.vivino.com/region_backgrounds/cP8NlYVPSUStyROqZeBzgA_1280x760.jpg",
               "medium": "//thumbs.vivino.com/region_backgrounds/cP8NlYVPSUStyROqZeBzgA_600x356.jpg"
              }
             },
             "class": {
              "typecast_map": {
               "background_image": {},
               "class": {}
              }
             },
             "country": {
              "code": "us",
              "currency": {
               "code": "USD",
               "name": "US Dollars",
               "prefix": "$",
               "suffix": null
              },
              "most_used_grapes": [
               {
                "has_detailed_info": true,
                "id": 2,
                "name": "Cabernet Sauvignon",
                "seo_name": "cabernet-sauvignon",
                "wines_count": 725925
               },
               {
                "has_detailed_info": true,
                "id": 14,
                "name": "Pinot Noir",
                "seo_name": "pinot-noir",
                "wines_count": 513244
               },
               {
                "has_detailed_info": true,
                "id": 5,
                "name": "Chardonnay",
                "seo_name": "chardonnay",
                "wines_count": 541509
               }
              ],
              "name": "United States",
              "native_name": "United States",
              "regions_count": 357,
              "seo_name": "united-states",
              "users_count": 10104977,
              "wineries_count": 26264,
              "wines_count": 230446
             },
             "id": 25,
             "name": "Napa Valley",
             "name_en": "",
             "seo_name": "napa-valley"
            },
            "seo_name": "beckstoffer-las-piedras-heritage-single-vineyard-cabernet-sauvignon",
            "statistics": {
             "labels_count": 690,
             "ratings_average": 4.5,
             "ratings_count": 71,
             "status": "Normal",
             "vintages_count": 12
            },
            "style": {
             "acidity": 2,
             "acidity_description": "Medium",
             "background_image": {
              "location": "//images.vivino.com/backgrounds/styles/Rs1kBMYfQ0693K_iRThxOw.jpg",
              "variations": {
               "small": "//images.vivino.com/backgrounds/styles/thumbs/Rs1kBMYfQ0693K_iRThxOw_932x810.jpg"
              }
             },
             "blurb": null,
             "body": 5,
             "body_description": "Very full-bodied",
             "country": {
              "code": "us",
              "currency": {
               "code": "USD",
               "name": "US Dollars",
               "prefix": "$",
               "suffix": null
              },
              "most_used_grapes": [
               {
                "has_detailed_info": true,
                "id": 2,
                "name": "Cabernet Sauvignon",
                "seo_name": "cabernet-sauvignon",
                "wines_count": 725925
               },
               {
                "has_detailed_info": true,
                "id": 14,
                "name": "Pinot Noir",
                "seo_name": "pinot-noir",
                "wines_count": 513244
               },
               {
                "has_detailed_info": true,
                "id": 5,
                "name": "Chardonnay",
                "seo_name": "chardonnay",
                "wines_count": 541509
               }
              ],
              "name": "United States",
              "native_name": "United States",
              "regions_count": 357,
              "seo_name": "united-states",
              "users_count": 10104977,
              "wineries_count": 26264,
              "wines_count": 230446
             },
             "description": null,
             "food": [
              {
               "background_image": {
                "location": "//images.vivino.com/backgrounds/foods/4_beef.png",
                "variations": {
                 "small": "//images.vivino.com/backgrounds/foods/thumbs/4_beef_932x810.png"
                }
               },
               "id": 4,
               "name": "Beef",
               "seo_name": "beef"
              },
              {
               "background_image": {
                "location": "//images.vivino.com/backgrounds/foods/8_lamb.png",
                "variations": {
                 "small": "//images.vivino.com/backgrounds/foods/thumbs/8_lamb_932x810.png"
                }
               },
               "id": 8,
               "name": "Lamb",
               "seo_name": "lamb"
              },
              {
               "background_image": {
                "location": "//images.vivino.com/backgrounds/foods/11_venison.png",
                "variations": {
                 "small": "//images.vivino.com/backgrounds/foods/thumbs/11_venison_932x810.png"
                }
               },
               "id": 11,
               "name": "Game (deer, venison)",
               "seo_name": "game"
              },
              {
               "background_image": {
                "location": "//images.vivino.com/backgrounds/foods/17_hardcheese.png",
                "variations": {
                 "small": "//images.vivino.com/backgrounds/foods/thumbs/17_hardcheese_932x810.png"
                }
               },
               "id": 17,
               "name": "Mature and hard cheese",
               "seo_name": null
              },
              {
               "background_image": {
                "location": "//images.vivino.com/backgrounds/foods/20_chicken.png",
                "variations": {
                 "small": "//images.vivino.com/backgrounds/foods/thumbs/20_chicken_932x810.png"
                }
               },
               "id": 20,
               "name": "Poultry",
               "seo_name": "poultry"
              }
             ],
             "grapes": [
              {
               "has_detailed_info": true,
               "id": 2,
               "name": "Cabernet Sauvignon",
               "seo_name": "cabernet-sauvignon",
               "wines_count": 725925
              }
             ],
             "id": 289,
             "image": null,
             "interesting_facts": null,
             "name": "Napa Valley Cabernet Sauvignon",
             "region": {
              "background_image": {
               "location": "//images.vivino.com/regions/backgrounds/cP8NlYVPSUStyROqZeBzgA.jpg",
               "variations": {
                "large": "//thumbs.vivino.com/region_backgrounds/cP8NlYVPSUStyROqZeBzgA_1280x760.jpg",
                "medium": "//thumbs.vivino.com/region_backgrounds/cP8NlYVPSUStyROqZeBzgA_600x356.jpg"
               }
              },
              "class": {
               "typecast_map": {
                "background_image": {},
                "class": {}
               }
              },
              "country": {
               "code": "us",
               "currency": {
                "code": "USD",
                "name": "US Dollars",
                "prefix": "$",
                "suffix": null
               },
               "most_used_grapes": [
                {
                 "has_detailed_info": true,
                 "id": 2,
                 "name": "Cabernet Sauvignon",
                 "seo_name": "cabernet-sauvignon",
                 "wines_count": 725925
                },
                {
                 "has_detailed_info": true,
                 "id": 14,
                 "name": "Pinot Noir",
                 "seo_name": "pinot-noir",
                 "wines_count": 513244
                },
                {
                 "has_detailed_info": true,
                 "id": 5,
                 "name": "Chardonnay",
                 "seo_name": "chardonnay",
                 "wines_count": 541509
                }
               ],
               "name": "United States",
               "native_name": "United States",
               "regions_count": 357,
               "seo_name": "united-states",
               "users_count": 10104977,
               "wineries_count": 26264,
               "wines_count": 230446
              },
              "id": 25,
              "name": "Napa Valley",
              "name_en": "",
              "seo_name": "napa-valley"
             },
             "regional_name": "Napa Valley",
             "seo_name": "napa-valley-cabernet-sauvignon",
             "varietal_name": "Cabernet Sauvignon",
             "wine_type_id": 1
            },
            "taste": {
             "flavor": [
              {
               "group": "black_fruit",
               "stats": {
                "count": 4,
                "score": 561
               }
              },
              {
               "group": "red_fruit",
               "stats": {
                "count": 4,
                "score": 139
               }
              },
              {
               "group": "oak",
               "stats": {
                "count": 3,
                "score": 400
               }
              },
              {
               "group": "spices",
               "stats": {
                "count": 1,
                "score": 225
               }
              },
              {
               "group": "floral",
               "stats": {
                "count": 1,
                "score": 25
               }
              },
              {
               "group": "vegetal",
               "stats": {
                "count": 1,
                "score": 25
               }
              },
              {
               "group": "earth",
               "stats": {
                "count": 1,
                "score": 25
               }
              }
             ],
             "structure": {
              "acidity": 3.419355,
              "calculated_structure_count": 5,
              "fizziness": null,
              "intensity": 4.348258,
              "sweetness": 1.5983871,
              "tannin": 3.2266452,
              "user_structure_count": 7
             }
            },
            "type_id": 1,
            "vintage_type": 0,
            "winery": {
             "id": 59500,
             "name": "Guarachi",
             "seo_name": "guarachi",
             "status": 0
            }
           },
           "year": 2012
          }
         },
         {
          "price": {
           "amount": 349.99,
           "bottle_type": {
            "id": 1,
            "name": "Bottle (0.75l)",
            "short_name": "bottle",
            "short_name_plural": "bottles",
            "volume_ml": 750
           },
           "bottle_type_id": 1,
           "currency": {
            "code": "USD",
            "name": "US Dollars",
            "prefix": "$",
            "suffix": null
           },
           "discount_percent": null,
           "discounted_from": null,
           "id": 21420336,
           "sku": "WINEBOW11302",
           "type": "vc",
           "url": "http://vivino.cpdwineliquor.com/Product?PID=2300",
           "visibility": 1
          },
          "prices": [
           {
            "amount": 349.99,
            "bottle_type": {
             "id": 1,
             "name": "Bottle (0.75l)",
             "short_name": "bottle",
             "short_name_plural": "bottles",
             "volume_ml": 750
            },
            "bottle_type_id": 1,
            "currency": {
             "code": "USD",
             "name": "US Dollars",
             "prefix": "$",
             "suffix": null
            },
            "discount_percent": null,
            "discounted_from": null,
            "id": 21420336,
            "sku": "WINEBOW11302",
            "type": "vc",
            "url": "http://vivino.cpdwineliquor.com/Product?PID=2300",
            "visibility": 1
           }
          ],
          "vintage": {
           "grapes": null,
           "has_valid_ratings": true,
           "id": 153406060,
           "image": {
            "location": "//images.vivino.com/thumbs/IQSL2hitTXi4fypdhZzi4g_pl_480x640.png",
            "variations": {
             "bottle_large": "//images.vivino.com/thumbs/IQSL2hitTXi4fypdhZzi4g_pb_x960.png",
             "bottle_medium": "//images.vivino.com/thumbs/IQSL2hitTXi4fypdhZzi4g_pb_x600.png",
             "bottle_medium_square": "//images.vivino.com/thumbs/IQSL2hitTXi4fypdhZzi4g_pb_600x600.png",
             "bottle_small": "//images.vivino.com/thumbs/IQSL2hitTXi4fypdhZzi4g_pb_x300.png",
             "bottle_small_square": "//images.vivino.com/thumbs/IQSL2hitTXi4fypdhZzi4g_pb_300x300.png",
             "label": "//images.vivino.com/thumbs/IQSL2hitTXi4fypdhZzi4g_pl_480x640.png",
             "label_large": "//images.vivino.com/thumbs/IQSL2hitTXi4fypdhZzi4g_pl_375x500.png",
             "label_medium": "//images.vivino.com/thumbs/IQSL2hitTXi4fypdhZzi4g_pl_150x200.png",
             "label_medium_square": "//images.vivino.com/thumbs/IQSL2hitTXi4fypdhZzi4g_pl_150x150.png",
             "label_small_square": "//images.vivino.com/thumbs/IQSL2hitTXi4fypdhZzi4g_pl_80x80.png",
             "large": "//images.vivino.com/thumbs/IQSL2hitTXi4fypdhZzi4g_pl_375x500.png",
             "medium": "//images.vivino.com/thumbs/IQSL2hitTXi4fypdhZzi4g_pl_150x200.png",
             "medium_square": "//images.vivino.com/thumbs/IQSL2hitTXi4fypdhZzi4g_pl_150x150.png",
             "small_square": "//images.vivino.com/thumbs/IQSL2hitTXi4fypdhZzi4g_pl_80x80.png"
            }
           },
           "name": "Viña Cobos Cobos Chañares Estate Malbec 2016",
           "seo_name": "vina-cobos-cobos-chanares-estate-malbec-2016",
           "statistics": {
            "labels_count": 529,
            "ratings_average": 4.8,
            "ratings_count": 119,
            "status": "Normal"
           },
           "top_list_rankings": [
            {
             "description": null,
             "previous_rank": 3,
             "rank": 3,
             "top_list": {
              "id": 202098,
              "location": "_0",
              "name": "Vivino's 2020 Wine Style Awards: Argentinian Malbec",
              "seo_name": "wine_style_awards_2020_argentinian_malbec",
              "type": 6,
              "year": "2020"
             }
            }
           ],
           "wine": {
            "has_valid_ratings": true,
            "id": 5354893,
            "is_natural": false,
            "name": "Cobos Chañares Estate Malbec",
            "region": {
             "background_image": null,
             "country": {
              "code": "ar",
              "currency": {
               "code": "ARS",
               "name": "Argentinean Peso",
               "prefix": "$",
               "suffix": null
              },
              "most_used_grapes": [
               {
                "has_detailed_info": true,
                "id": 9,
                "name": "Malbec",
                "seo_name": "malbec",
                "wines_count": 197235
               },
               {
                "has_detailed_info": true,
                "id": 2,
                "name": "Cabernet Sauvignon",
                "seo_name": "cabernet-sauvignon",
                "wines_count": 725925
               },
               {
                "has_detailed_info": true,
                "id": 5,
                "name": "Chardonnay",
                "seo_name": "chardonnay",
                "wines_count": 541509
               }
              ],
              "name": "Argentina",
              "native_name": "Argentina",
              "regions_count": 39,
              "seo_name": "argentina",
              "users_count": 505817,
              "wineries_count": 4811,
              "wines_count": 42809
             },
             "id": 1609,
             "name": "Tunuyán",
             "name_en": "",
             "seo_name": "tunuyan"
            },
            "seo_name": "cobos-chanares-estate-malbec",
            "statistics": {
             "labels_count": 3709,
             "ratings_average": 4.7,
             "ratings_count": 870,
             "status": "Normal",
             "vintages_count": 20
            },
            "style": {
             "acidity": 3,
             "acidity_description": "High",
             "background_image": {
              "location": "//images.vivino.com/backgrounds/styles/KE9UkhVvSrOuL02j-JjNng.jpg",
              "variations": {
               "small": "//images.vivino.com/backgrounds/styles/thumbs/KE9UkhVvSrOuL02j-JjNng_932x810.jpg"
              }
             },
             "blurb": null,
             "body": 5,
             "body_description": "Very full-bodied",
             "country": {
              "code": "ar",
              "currency": {
               "code": "ARS",
               "name": "Argentinean Peso",
               "prefix": "$",
               "suffix": null
              },
              "most_used_grapes": [
               {
                "has_detailed_info": true,
                "id": 9,
                "name": "Malbec",
                "seo_name": "malbec",
                "wines_count": 197235
               },
               {
                "has_detailed_info": true,
                "id": 2,
                "name": "Cabernet Sauvignon",
                "seo_name": "cabernet-sauvignon",
                "wines_count": 725925
               },
               {
                "has_detailed_info": true,
                "id": 5,
                "name": "Chardonnay",
                "seo_name": "chardonnay",
                "wines_count": 541509
               }
              ],
              "name": "Argentina",
              "native_name": "Argentina",
              "regions_count": 39,
              "seo_name": "argentina",
              "users_count": 505817,
              "wineries_count": 4811,
              "wines_count": 42809
             },
             "description": "Extremely popular, Argentinian Malbec is an inky, medium-bodied, dry red wine with strong impressions of dark fruits on the nose and palate. This wine tends to have mellower tannins than its French counterpart.\n\nHeavily dependent on where they are grown for variations in flavor, Argentinian Malbec has quickly become a world favorite due to the characteristics that the high altitude climate and soils impart to the fruit.\n\nOriginally from France, it is one of the original 5 “Bordeaux” grapes. It is scarcely planted in France anymore.\n\nIt has found an amazingly hospitable home in the mountains of Argentina from which some of the world's best selling Malbecs are grown.\n\nStarkly different from French versions in structure and flavor, this wine is a good investment for collectors, as the wine can age for several years before drinking.This wine also pairs very well with any savory red meat dish-- particularly dishes that include spice.",
             "food": [
              {
               "background_image": {
                "location": "//images.vivino.com/backgrounds/foods/4_beef.png",
                "variations": {
                 "small": "//images.vivino.com/backgrounds/foods/thumbs/4_beef_932x810.png"
                }
               },
               "id": 4,
               "name": "Beef",
               "seo_name": "beef"
              },
              {
               "background_image": {
                "location": "//images.vivino.com/backgrounds/foods/8_lamb.png",
                "variations": {
                 "small": "//images.vivino.com/backgrounds/foods/thumbs/8_lamb_932x810.png"
                }
               },
               "id": 8,
               "name": "Lamb",
               "seo_name": "lamb"
              },
              {
               "background_image": {
                "location": "//images.vivino.com/backgrounds/foods/20_chicken.png",
                "variations": {
                 "small": "//images.vivino.com/backgrounds/foods/thumbs/20_chicken_932x810.png"
                }
               },
               "id": 20,
               "name": "Poultry",
               "seo_name": "poultry"
              }
             ],
             "grapes": [
              {
               "has_detailed_info": true,
               "id": 9,
               "name": "Malbec",
               "seo_name": "malbec",
               "wines_count": 197235
              }
             ],
             "id": 98,
             "image": null,
             "interesting_facts": [
              "World Malbec day is celebrated on April 17.",
              "Growers invest fortunes in specialized netting to protect Malbec crops from frequent high altitude hail storms.",
              "Significant portions of Argentinian Malbec grows at altitudes approaching 5000 feet (1500 meters).",
              "Nearly all Malbec grown in France is now used for blending."
             ],
             "name": "Argentinian Malbec",
             "region": null,
             "regional_name": "Argentinian",
             "seo_name": "argentinian-malbec",
             "varietal_name": "Malbec",
             "wine_type_id": 1
            },
            "taste": {
             "flavor": [
              {
               "group": "oak",
               "stats": {
                "count": 12,
                "score": 1864
               }
              },
              {
               "group": "black_fruit",
               "stats": {
                "count": 10,
                "score": 1761
               }
              },
              {
               "group": "spices",
               "stats": {
                "count": 8,
                "score": 748
               }
              },
              {
               "group": "non_oak",
               "stats": {
                "count": 7,
                "score": 262
               }
              },
              {
               "group": "floral",
               "stats": {
                "count": 4,
                "score": 600
               }
              },
              {
               "group": "earth",
               "stats": {
                "count": 4,
                "score": 493
               }
              },
              {
               "group": "red_fruit",
               "stats": {
                "count": 4,
                "score": 239
               }
              },
              {
               "group": "microbio",
               "stats": {
                "count": 1,
                "score": 33
               }
              },
              {
               "group": "citrus_fruit",
               "stats": {
                "count": 1,
                "score": 100
               }
              }
             ],
             "structure": {
              "acidity": 2.7904801,
              "calculated_structure_count": 14,
              "fizziness": null,
              "intensity": 4.114405,
              "sweetness": 2.1065462,
              "tannin": 2.7890396,
              "user_structure_count": 142
             }
            },
            "type_id": 1,
            "vintage_type": 0,
            "winery": {
             "id": 8824,
             "name": "Viña Cobos",
             "seo_name": "vina-cobos",
             "status": 0
            }
           },
           "year": 2016
          }
         },
         {
          "price": {
           "amount": 349.99,
           "bottle_type": {
            "id": 1,
            "name": "Bottle (0.75l)",
            "short_name": "bottle",
            "short_name_plural": "bottles",
            "volume_ml": 750
           },
           "bottle_type_id": 1,
           "currency": {
            "code": "USD",
            "name": "US Dollars",
            "prefix": "$",
            "suffix": null
           },
           "discount_percent": null,
           "discounted_from": null,
           "id": 23564064,
           "sku": "4484024795218",
           "type": "vc",
           "url": "https://www.brix26.com/products/antinori-2016-solaia-toscana-proprietary-red-italy?variant=31826339987538",
           "visibility": 1
          },
          "prices": [
           {
            "amount": 349.99,
            "bottle_type": {
             "id": 1,
             "name": "Bottle (0.75l)",
             "short_name": "bottle",
             "short_name_plural": "bottles",
             "volume_ml": 750
            },
            "bottle_type_id": 1,
            "currency": {
             "code": "USD",
             "name": "US Dollars",
             "prefix": "$",
             "suffix": null
            },
            "discount_percent": null,
            "discounted_from": null,
            "id": 23564064,
            "sku": "4484024795218",
            "type": "vc",
            "url": "https://www.brix26.com/products/antinori-2016-solaia-toscana-proprietary-red-italy?variant=31826339987538",
            "visibility": 1
           }
          ],
          "vintage": {
           "grapes": null,
           "has_valid_ratings": true,
           "id": 150338390,
           "image": {
            "location": "//images.vivino.com/thumbs/fJfjGhCtQ_KAuvvN3aVDJA_pl_480x640.png",
            "variations": {
             "bottle_large": "//images.vivino.com/thumbs/fJfjGhCtQ_KAuvvN3aVDJA_pb_x960.png",
             "bottle_medium": "//images.vivino.com/thumbs/fJfjGhCtQ_KAuvvN3aVDJA_pb_x600.png",
             "bottle_medium_square": "//images.vivino.com/thumbs/fJfjGhCtQ_KAuvvN3aVDJA_pb_600x600.png",
             "bottle_small": "//images.vivino.com/thumbs/fJfjGhCtQ_KAuvvN3aVDJA_pb_x300.png",
             "bottle_small_square": "//images.vivino.com/thumbs/fJfjGhCtQ_KAuvvN3aVDJA_pb_300x300.png",
             "label": "//images.vivino.com/thumbs/fJfjGhCtQ_KAuvvN3aVDJA_pl_480x640.png",
             "label_large": "//images.vivino.com/thumbs/fJfjGhCtQ_KAuvvN3aVDJA_pl_375x500.png",
             "label_medium": "//images.vivino.com/thumbs/fJfjGhCtQ_KAuvvN3aVDJA_pl_150x200.png",
             "label_medium_square": "//images.vivino.com/thumbs/fJfjGhCtQ_KAuvvN3aVDJA_pl_150x150.png",
             "label_small_square": "//images.vivino.com/thumbs/fJfjGhCtQ_KAuvvN3aVDJA_pl_80x80.png",
             "large": "//images.vivino.com/thumbs/fJfjGhCtQ_KAuvvN3aVDJA_pl_375x500.png",
             "medium": "//images.vivino.com/thumbs/fJfjGhCtQ_KAuvvN3aVDJA_pl_150x200.png",
             "medium_square": "//images.vivino.com/thumbs/fJfjGhCtQ_KAuvvN3aVDJA_pl_150x150.png",
             "small_square": "//images.vivino.com/thumbs/fJfjGhCtQ_KAuvvN3aVDJA_pl_80x80.png"
            }
           },
           "name": "Antinori Tenuta Tignanello 'Solaia' 2017",
           "seo_name": "antinori-tuscany-tenuta-tignanello-solaia-2017",
           "statistics": {
            "labels_count": 356,
            "ratings_average": 4.8,
            "ratings_count": 67,
            "status": "Normal"
           },
           "wine": {
            "has_valid_ratings": true,
            "id": 1651,
            "is_natural": false,
            "name": "Tenuta Tignanello 'Solaia'",
            "region": {
             "background_image": {
              "location": "//images.vivino.com/regions/backgrounds/QV6V0jC2TDaRmClhy9wNfw.jpg",
              "variations": {
               "large": "//thumbs.vivino.com/region_backgrounds/QV6V0jC2TDaRmClhy9wNfw_1280x760.jpg",
               "medium": "//thumbs.vivino.com/region_backgrounds/QV6V0jC2TDaRmClhy9wNfw_600x356.jpg"
              }
             },
             "class": {
              "typecast_map": {
               "background_image": {},
               "class": {}
              }
             },
             "country": {
              "code": "it",
              "currency": {
               "code": "EUR",
               "name": "Euros",
               "prefix": "€",
               "suffix": null
              },
              "most_used_grapes": [
               {
                "has_detailed_info": true,
                "id": 16,
                "name": "Sangiovese",
                "seo_name": "sangiovese",
                "wines_count": 113644
               },
               {
                "has_detailed_info": true,
                "id": 10,
                "name": "Merlot",
                "seo_name": "merlot",
                "wines_count": 510808
               },
               {
                "has_detailed_info": true,
                "id": 5,
                "name": "Chardonnay",
                "seo_name": "chardonnay",
                "wines_count": 541509
               }
              ],
              "name": "Italy",
              "native_name": "Italia",
              "regions_count": 554,
              "seo_name": "italy",
              "users_count": 3569064,
              "wineries_count": 39907,
              "wines_count": 333926
             },
             "id": 394,
             "name": "Toscana",
             "name_en": "Tuscany",
             "seo_name": "tuscany"
            },
            "seo_name": "tenuta-tignanello-solaia",
            "statistics": {
             "labels_count": 149689,
             "ratings_average": 4.6,
             "ratings_count": 26064,
             "status": "Normal",
             "vintages_count": 136
            },
            "style": {
             "acidity": 2,
             "acidity_description": "Medium",
             "background_image": {
              "location": "//images.vivino.com/backgrounds/styles/BXXr-O0mSW6FPSTzja6nuQ.jpg",
              "variations": {
               "small": "//images.vivino.com/backgrounds/styles/thumbs/BXXr-O0mSW6FPSTzja6nuQ_932x810.jpg"
              }
             },
             "blurb": null,
             "body": 3,
             "body_description": "Medium-bodied",
             "country": {
              "code": "it",
              "currency": {
               "code": "EUR",
               "name": "Euros",
               "prefix": "€",
               "suffix": null
              },
              "most_used_grapes": [
               {
                "has_detailed_info": true,
                "id": 16,
                "name": "Sangiovese",
                "seo_name": "sangiovese",
                "wines_count": 113644
               },
               {
                "has_detailed_info": true,
                "id": 10,
                "name": "Merlot",
                "seo_name": "merlot",
                "wines_count": 510808
               },
               {
                "has_detailed_info": true,
                "id": 5,
                "name": "Chardonnay",
                "seo_name": "chardonnay",
                "wines_count": 541509
               }
              ],
              "name": "Italy",
              "native_name": "Italia",
              "regions_count": 554,
              "seo_name": "italy",
              "users_count": 3569064,
              "wineries_count": 39907,
              "wines_count": 333926
             },
             "description": null,
             "food": [
              {
               "background_image": {
                "location": "//images.vivino.com/backgrounds/foods/4_beef.png",
                "variations": {
                 "small": "//images.vivino.com/backgrounds/foods/thumbs/4_beef_932x810.png"
                }
               },
               "id": 4,
               "name": "Beef",
               "seo_name": "beef"
              },
              {
               "background_image": {
                "location": "//images.vivino.com/backgrounds/foods/8_lamb.png",
                "variations": {
                 "small": "//images.vivino.com/backgrounds/foods/thumbs/8_lamb_932x810.png"
                }
               },
               "id": 8,
               "name": "Lamb",
               "seo_name": "lamb"
              },
              {
               "background_image": {
                "location": "//images.vivino.com/backgrounds/foods/9_veal.png",
                "variations": {
                 "small": "//images.vivino.com/backgrounds/foods/thumbs/9_veal_932x810.png"
                }
               },
               "id": 9,
               "name": "Veal",
               "seo_name": "veal"
              },
              {
               "background_image": {
                "location": "//images.vivino.com/backgrounds/foods/20_chicken.png",
                "variations": {
                 "small": "//images.vivino.com/backgrounds/foods/thumbs/20_chicken_932x810.png"
                }
               },
               "id": 20,
               "name": "Poultry",
               "seo_name": "poultry"
              },
              {
               "background_image": {
                "location": "//images.vivino.com/backgrounds/foods/41_curedmeat.png",
                "variations": {
                 "small": "//images.vivino.com/backgrounds/foods/thumbs/41_curedmeat_932x810.png"
                }
               },
               "id": 41,
               "name": "Cured Meat",
               "seo_name": null
              }
             ],
             "grapes": [
              {
               "has_detailed_info": true,
               "id": 2,
               "name": "Cabernet Sauvignon",
               "seo_name": "cabernet-sauvignon",
               "wines_count": 725925
              },
              {
               "has_detailed_info": true,
               "id": 10,
               "name": "Merlot",
               "seo_name": "merlot",
               "wines_count": 510808
              },
              {
               "has_detailed_info": true,
               "id": 16,
               "name": "Sangiovese",
               "seo_name": "sangiovese",
               "wines_count": 113644
              },
              {
               "has_detailed_info": false,
               "id": 64,
               "name": "Canaiolo Nero",
               "seo_name": "canaiolo-nero",
               "wines_count": 4538
              }
             ],
             "id": 292,
             "image": null,
             "interesting_facts": null,
             "name": "Tuscan Red",
             "region": {
              "background_image": {
               "location": "//images.vivino.com/regions/backgrounds/QV6V0jC2TDaRmClhy9wNfw.jpg",
               "variations": {
                "large": "//thumbs.vivino.com/region_backgrounds/QV6V0jC2TDaRmClhy9wNfw_1280x760.jpg",
                "medium": "//thumbs.vivino.com/region_backgrounds/QV6V0jC2TDaRmClhy9wNfw_600x356.jpg"
               }
              },
              "class": {
               "typecast_map": {
                "background_image": {},
                "class": {}
               }
              },
              "country": {
               "code": "it",
               "currency": {
                "code": "EUR",
                "name": "Euros",
                "prefix": "€",
                "suffix": null
               },
               "most_used_grapes": [
                {
                 "has_detailed_info": true,
                 "id": 16,
                 "name": "Sangiovese",
                 "seo_name": "sangiovese",
                 "wines_count": 113644
                },
                {
                 "has_detailed_info": true,
                 "id": 10,
                 "name": "Merlot",
                 "seo_name": "merlot",
                 "wines_count": 510808
                },
                {
                 "has_detailed_info": true,
                 "id": 5,
                 "name": "Chardonnay",
                 "seo_name": "chardonnay",
                 "wines_count": 541509
                }
               ],
               "name": "Italy",
               "native_name": "Italia",
               "regions_count": 554,
               "seo_name": "italy",
               "users_count": 3569064,
               "wineries_count": 39907,
               "wines_count": 333926
              },
              "id": 394,
              "name": "Toscana",
              "name_en": "Tuscany",
              "seo_name": "tuscany"
             },
             "regional_name": "Tuscan",
             "seo_name": "tuscan-red",
             "varietal_name": "Red",
             "wine_type_id": 1
            },
            "taste": {
             "flavor": [
              {
               "group": "oak",
               "stats": {
                "count": 814,
                "score": 99539
               }
              },
              {
               "group": "earth",
               "stats": {
                "count": 670,
                "score": 73028
               }
              },
              {
               "group": "black_fruit",
               "stats": {
                "count": 637,
                "score": 95045
               }
              },
              {
               "group": "non_oak",
               "stats": {
                "count": 509,
                "score": 11645
               }
              },
              {
               "group": "spices",
               "stats": {
                "count": 342,
                "score": 33500
               }
              },
              {
               "group": "red_fruit",
               "stats": {
                "count": 319,
                "score": 29600
               }
              },
              {
               "group": "microbio",
               "stats": {
                "count": 126,
                "score": 7352
               }
              },
              {
               "group": "dried_fruit",
               "stats": {
                "count": 84,
                "score": 8293
               }
              },
              {
               "group": "floral",
               "stats": {
                "count": 61,
                "score": 6125
               }
              },
              {
               "group": "vegetal",
               "stats": {
                "count": 47,
                "score": 3241
               }
              },
              {
               "group": "citrus_fruit",
               "stats": {
                "count": 11,
                "score": 1100
               }
              },
              {
               "group": "tree_fruit",
               "stats": {
                "count": 6,
                "score": 600
               }
              },
              {
               "group": "tropical_fruit",
               "stats": {
                "count": 5,
                "score": 232
               }
              }
             ],
             "structure": {
              "acidity": 3.0754008,
              "calculated_structure_count": 1194,
              "fizziness": null,
              "intensity": 3.4177988,
              "sweetness": 1.8973932,
              "tannin": 2.965283,
              "user_structure_count": 1222
             }
            },
            "type_id": 1,
            "vintage_type": 0,
            "winery": {
             "id": 1252,
             "name": "Antinori",
             "seo_name": "antinori-tuscany",
             "status": 0
            }
           },
           "year": 2017
          }
         },
         {
          "price": {
           "amount": 229.49,
           "bottle_type": {
            "id": 1,
            "name": "Bottle (0.75l)",
            "short_name": "bottle",
            "short_name_plural": "bottles",
            "volume_ml": 750
           },
           "bottle_type_id": 1,
           "currency": {
            "code": "USD",
            "name": "US Dollars",
            "prefix": "$",
            "suffix": null
           },
           "discount_percent": null,
           "discounted_from": null,
           "id": 24277051,
           "sku": "",
           "type": "vc",
           "url": "https://www.yianniswine.com/wines/Frank-Family-Patriarch-2015-w9623211qh?utm_source=Vivino&utm_medium=Feed",
           "visibility": 1
          },
          "prices": [
           {
            "amount": 229.49,
            "bottle_type": {
             "id": 1,
             "name": "Bottle (0.75l)",
             "short_name": "bottle",
             "short_name_plural": "bottles",
             "volume_ml": 750
            },
            "bottle_type_id": 1,
            "currency": {
             "code": "USD",
             "name": "US Dollars",
             "prefix": "$",
             "suffix": null
            },
            "discount_percent": null,
            "discounted_from": null,
            "id": 24277051,
            "sku": "",
            "type": "vc",
            "url": "https://www.yianniswine.com/wines/Frank-Family-Patriarch-2015-w9623211qh?utm_source=Vivino&utm_medium=Feed",
            "visibility": 1
           }
          ],
          "vintage": {
           "grapes": null,
           "has_valid_ratings": true,
           "id": 143046219,
           "image": {
            "location": "//images.vivino.com/thumbs/BFAcH67rRxyiZskkxTnnJQ_pl_480x640.png",
            "variations": {
             "bottle_large": "//images.vivino.com/thumbs/BFAcH67rRxyiZskkxTnnJQ_pb_x960.png",
             "bottle_medium": "//images.vivino.com/thumbs/BFAcH67rRxyiZskkxTnnJQ_pb_x600.png",
             "bottle_medium_square": "//images.vivino.com/thumbs/BFAcH67rRxyiZskkxTnnJQ_pb_600x600.png",
             "bottle_small": "//images.vivino.com/thumbs/BFAcH67rRxyiZskkxTnnJQ_pb_x300.png",
             "bottle_small_square": "//images.vivino.com/thumbs/BFAcH67rRxyiZskkxTnnJQ_pb_300x300.png",
             "label": "//images.vivino.com/thumbs/BFAcH67rRxyiZskkxTnnJQ_pl_480x640.png",
             "label_large": "//images.vivino.com/thumbs/BFAcH67rRxyiZskkxTnnJQ_pl_375x500.png",
             "label_medium": "//images.vivino.com/thumbs/BFAcH67rRxyiZskkxTnnJQ_pl_150x200.png",
             "label_medium_square": "//images.vivino.com/thumbs/BFAcH67rRxyiZskkxTnnJQ_pl_150x150.png",
             "label_small_square": "//images.vivino.com/thumbs/BFAcH67rRxyiZskkxTnnJQ_pl_80x80.png",
             "large": "//images.vivino.com/thumbs/BFAcH67rRxyiZskkxTnnJQ_pl_375x500.png",
             "medium": "//images.vivino.com/thumbs/BFAcH67rRxyiZskkxTnnJQ_pl_150x200.png",
             "medium_square": "//images.vivino.com/thumbs/BFAcH67rRxyiZskkxTnnJQ_pl_150x150.png",
             "small_square": "//images.vivino.com/thumbs/BFAcH67rRxyiZskkxTnnJQ_pl_80x80.png"
            }
           },
           "name": "Frank Family Patriarch 2015",
           "seo_name": "frank-family-patriarch-rutherford-red-wine-2015",
           "statistics": {
            "labels_count": 265,
            "ratings_average": 4.8,
            "ratings_count": 65,
            "status": "Normal"
           },
           "wine": {
            "has_valid_ratings": true,
            "id": 4382344,
            "is_natural": false,
            "name": "Patriarch",
            "region": {
             "background_image": {
              "location": "//images.vivino.com/regions/backgrounds/YIECzf9JShax_qdsscwI2Q.jpg",
              "variations": {
               "large": "//thumbs.vivino.com/region_backgrounds/YIECzf9JShax_qdsscwI2Q_1280x760.jpg",
               "medium": "//thumbs.vivino.com/region_backgrounds/YIECzf9JShax_qdsscwI2Q_600x356.jpg"
              }
             },
             "class": {
              "typecast_map": {
               "background_image": {},
               "class": {}
              }
             },
             "country": {
              "code": "us",
              "currency": {
               "code": "USD",
               "name": "US Dollars",
               "prefix": "$",
               "suffix": null
              },
              "most_used_grapes": [
               {
                "has_detailed_info": true,
                "id": 2,
                "name": "Cabernet Sauvignon",
                "seo_name": "cabernet-sauvignon",
                "wines_count": 725925
               },
               {
                "has_detailed_info": true,
                "id": 14,
                "name": "Pinot Noir",
                "seo_name": "pinot-noir",
                "wines_count": 513244
               },
               {
                "has_detailed_info": true,
                "id": 5,
                "name": "Chardonnay",
                "seo_name": "chardonnay",
                "wines_count": 541509
               }
              ],
              "name": "United States",
              "native_name": "United States",
              "regions_count": 357,
              "seo_name": "united-states",
              "users_count": 10104977,
              "wineries_count": 26264,
              "wines_count": 230446
             },
             "id": 105,
             "name": "Rutherford",
             "name_en": "",
             "seo_name": "rutherford"
            },
            "seo_name": "patriarch-rutherford-red-wine",
            "statistics": {
             "labels_count": 3189,
             "ratings_average": 4.8,
             "ratings_count": 623,
             "status": "Normal",
             "vintages_count": 28
            },
            "style": {
             "acidity": 2,
             "acidity_description": "Medium",
             "background_image": {
              "location": "//images.vivino.com/backgrounds/styles/Rs1kBMYfQ0693K_iRThxOw.jpg",
              "variations": {
               "small": "//images.vivino.com/backgrounds/styles/thumbs/Rs1kBMYfQ0693K_iRThxOw_932x810.jpg"
              }
             },
             "blurb": null,
             "body": 5,
             "body_description": "Very full-bodied",
             "country": {
              "code": "us",
              "currency": {
               "code": "USD",
               "name": "US Dollars",
               "prefix": "$",
               "suffix": null
              },
              "most_used_grapes": [
               {
                "has_detailed_info": true,
                "id": 2,
                "name": "Cabernet Sauvignon",
                "seo_name": "cabernet-sauvignon",
                "wines_count": 725925
               },
               {
                "has_detailed_info": true,
                "id": 14,
                "name": "Pinot Noir",
                "seo_name": "pinot-noir",
                "wines_count": 513244
               },
               {
                "has_detailed_info": true,
                "id": 5,
                "name": "Chardonnay",
                "seo_name": "chardonnay",
                "wines_count": 541509
               }
              ],
              "name": "United States",
              "native_name": "United States",
              "regions_count": 357,
              "seo_name": "united-states",
              "users_count": 10104977,
              "wineries_count": 26264,
              "wines_count": 230446
             },
             "description": null,
             "food": [
              {
               "background_image": {
                "location": "//images.vivino.com/backgrounds/foods/4_beef.png",
                "variations": {
                 "small": "//images.vivino.com/backgrounds/foods/thumbs/4_beef_932x810.png"
                }
               },
               "id": 4,
               "name": "Beef",
               "seo_name": "beef"
              },
              {
               "background_image": {
                "location": "//images.vivino.com/backgrounds/foods/8_lamb.png",
                "variations": {
                 "small": "//images.vivino.com/backgrounds/foods/thumbs/8_lamb_932x810.png"
                }
               },
               "id": 8,
               "name": "Lamb",
               "seo_name": "lamb"
              },
              {
               "background_image": {
                "location": "//images.vivino.com/backgrounds/foods/11_venison.png",
                "variations": {
                 "small": "//images.vivino.com/backgrounds/foods/thumbs/11_venison_932x810.png"
                }
               },
               "id": 11,
               "name": "Game (deer, venison)",
               "seo_name": "game"
              },
              {
               "background_image": {
                "location": "//images.vivino.com/backgrounds/foods/17_hardcheese.png",
                "variations": {
                 "small": "//images.vivino.com/backgrounds/foods/thumbs/17_hardcheese_932x810.png"
                }
               },
               "id": 17,
               "name": "Mature and hard cheese",
               "seo_name": null
              },
              {
               "background_image": {
                "location": "//images.vivino.com/backgrounds/foods/20_chicken.png",
                "variations": {
                 "small": "//images.vivino.com/backgrounds/foods/thumbs/20_chicken_932x810.png"
                }
               },
               "id": 20,
               "name": "Poultry",
               "seo_name": "poultry"
              }
             ],
             "grapes": [
              {
               "has_detailed_info": true,
               "id": 2,
               "name": "Cabernet Sauvignon",
               "seo_name": "cabernet-sauvignon",
               "wines_count": 725925
              }
             ],
             "id": 289,
             "image": null,
             "interesting_facts": null,
             "name": "Napa Valley Cabernet Sauvignon",
             "region": {
              "background_image": {
               "location": "//images.vivino.com/regions/backgrounds/cP8NlYVPSUStyROqZeBzgA.jpg",
               "variations": {
                "large": "//thumbs.vivino.com/region_backgrounds/cP8NlYVPSUStyROqZeBzgA_1280x760.jpg",
                "medium": "//thumbs.vivino.com/region_backgrounds/cP8NlYVPSUStyROqZeBzgA_600x356.jpg"
               }
              },
              "class": {
               "typecast_map": {
                "background_image": {},
                "class": {}
               }
              },
              "country": {
               "code": "us",
               "currency": {
                "code": "USD",
                "name": "US Dollars",
                "prefix": "$",
                "suffix": null
               },
               "most_used_grapes": [
                {
                 "has_detailed_info": true,
                 "id": 2,
                 "name": "Cabernet Sauvignon",
                 "seo_name": "cabernet-sauvignon",
                 "wines_count": 725925
                },
                {
                 "has_detailed_info": true,
                 "id": 14,
                 "name": "Pinot Noir",
                 "seo_name": "pinot-noir",
                 "wines_count": 513244
                },
                {
                 "has_detailed_info": true,
                 "id": 5,
                 "name": "Chardonnay",
                 "seo_name": "chardonnay",
                 "wines_count": 541509
                }
               ],
               "name": "United States",
               "native_name": "United States",
               "regions_count": 357,
               "seo_name": "united-states",
               "users_count": 10104977,
               "wineries_count": 26264,
               "wines_count": 230446
              },
              "id": 25,
              "name": "Napa Valley",
              "name_en": "",
              "seo_name": "napa-valley"
             },
             "regional_name": "Napa Valley",
             "seo_name": "napa-valley-cabernet-sauvignon",
             "varietal_name": "Cabernet Sauvignon",
             "wine_type_id": 1
            },
            "taste": {
             "flavor": [
              {
               "group": "oak",
               "stats": {
                "count": 31,
                "score": 3741
               }
              },
              {
               "group": "earth",
               "stats": {
                "count": 21,
                "score": 1647
               }
              },
              {
               "group": "non_oak",
               "stats": {
                "count": 20,
                "score": 373
               }
              },
              {
               "group": "black_fruit",
               "stats": {
                "count": 16,
                "score": 2487
               }
              },
              {
               "group": "spices",
               "stats": {
                "count": 15,
                "score": 724
               }
              },
              {
               "group": "red_fruit",
               "stats": {
                "count": 7,
                "score": 813
               }
              },
              {
               "group": "microbio",
               "stats": {
                "count": 4,
                "score": 265
               }
              },
              {
               "group": "citrus_fruit",
               "stats": {
                "count": 2,
                "score": 200
               }
              },
              {
               "group": "floral",
               "stats": {
                "count": 1,
                "score": 25
               }
              },
              {
               "group": "vegetal",
               "stats": {
                "count": 1,
                "score": 25
               }
              }
             ],
             "structure": {
              "acidity": 3.3281903,
              "calculated_structure_count": 49,
              "fizziness": null,
              "intensity": 4.8732653,
              "sweetness": 1.359804,
              "tannin": 3.2359607,
              "user_structure_count": 56
             }
            },
            "type_id": 1,
            "vintage_type": 0,
            "winery": {
             "id": 1482,
             "name": "Frank Family",
             "seo_name": "frank-family",
             "status": 0
            }
           },
           "year": 2015
          }
         },
         {
          "price": {
           "amount": 271.99,
           "bottle_type": {
            "id": 1,
            "name": "Bottle (0.75l)",
            "short_name": "bottle",
            "short_name_plural": "bottles",
            "volume_ml": 750
           },
           "bottle_type_id": 1,
           "currency": {
            "code": "USD",
            "name": "US Dollars",
            "prefix": "$",
            "suffix": null
           },
           "discount_percent": null,
           "discounted_from": null,
           "id": 19482781,
           "sku": "2342605",
           "type": "vc",
           "url": "http://www.grandwinecellar.com/vsku2342605_REALM-CABERNET-SAUVIGNON-FARELLA-VINEYARD-750ML-2016?utm_source=vivino&utm_medium=feed&utm_campaign=REALM%20CABERNET%20SAUVIGNON%20FARELLA%20VINEYARD%202016",
           "visibility": 1
          },
          "prices": [
           {
            "amount": 271.99,
            "bottle_type": {
             "id": 1,
             "name": "Bottle (0.75l)",
             "short_name": "bottle",
             "short_name_plural": "bottles",
             "volume_ml": 750
            },
            "bottle_type_id": 1,
            "currency": {
             "code": "USD",
             "name": "US Dollars",
             "prefix": "$",
             "suffix": null
            },
            "discount_percent": null,
            "discounted_from": null,
            "id": 19482781,
            "sku": "2342605",
            "type": "vc",
            "url": "http://www.grandwinecellar.com/vsku2342605_REALM-CABERNET-SAUVIGNON-FARELLA-VINEYARD-750ML-2016?utm_source=vivino&utm_medium=feed&utm_campaign=REALM%20CABERNET%20SAUVIGNON%20FARELLA%20VINEYARD%202016",
            "visibility": 1
           }
          ],
          "vintage": {
           "grapes": null,
           "has_valid_ratings": true,
           "id": 147109412,
           "image": {
            "location": "//images.vivino.com/thumbs/KUOoBjWzQXamRlh4sDLK7w_pl_480x640.png",
            "variations": {
             "bottle_large": "//images.vivino.com/thumbs/KUOoBjWzQXamRlh4sDLK7w_pb_x960.png",
             "bottle_medium": "//images.vivino.com/thumbs/KUOoBjWzQXamRlh4sDLK7w_pb_x600.png",
             "bottle_medium_square": "//images.vivino.com/thumbs/KUOoBjWzQXamRlh4sDLK7w_pb_600x600.png",
             "bottle_small": "//images.vivino.com/thumbs/KUOoBjWzQXamRlh4sDLK7w_pb_x300.png",
             "bottle_small_square": "//images.vivino.com/thumbs/KUOoBjWzQXamRlh4sDLK7w_pb_300x300.png",
             "label": "//images.vivino.com/thumbs/KUOoBjWzQXamRlh4sDLK7w_pl_480x640.png",
             "label_large": "//images.vivino.com/thumbs/KUOoBjWzQXamRlh4sDLK7w_pl_375x500.png",
             "label_medium": "//images.vivino.com/thumbs/KUOoBjWzQXamRlh4sDLK7w_pl_150x200.png",
             "label_medium_square": "//images.vivino.com/thumbs/KUOoBjWzQXamRlh4sDLK7w_pl_150x150.png",
             "label_small_square": "//images.vivino.com/thumbs/KUOoBjWzQXamRlh4sDLK7w_pl_80x80.png",
             "large": "//images.vivino.com/thumbs/KUOoBjWzQXamRlh4sDLK7w_pl_375x500.png",
             "medium": "//images.vivino.com/thumbs/KUOoBjWzQXamRlh4sDLK7w_pl_150x200.png",
             "medium_square": "//images.vivino.com/thumbs/KUOoBjWzQXamRlh4sDLK7w_pl_150x150.png",
             "small_square": "//images.vivino.com/thumbs/KUOoBjWzQXamRlh4sDLK7w_pl_80x80.png"
            }
           },
           "name": "Realm Farella Vineyard 2016",
           "seo_name": "realm-cellars-farella-vineyard-2016",
           "statistics": {
            "labels_count": 347,
            "ratings_average": 4.8,
            "ratings_count": 49,
            "status": "Normal"
           },
           "wine": {
            "has_valid_ratings": true,
            "id": 1770010,
            "is_natural": false,
            "name": "Farella Vineyard",
            "region": {
             "background_image": {
              "location": "//images.vivino.com/regions/backgrounds/BfQYmxGuSRC_TM_IlwK9_Q.jpg",
              "variations": {
               "large": "//thumbs.vivino.com/region_backgrounds/BfQYmxGuSRC_TM_IlwK9_Q_1280x760.jpg",
               "medium": "//thumbs.vivino.com/region_backgrounds/BfQYmxGuSRC_TM_IlwK9_Q_600x356.jpg"
              }
             },
             "class": {
              "typecast_map": {
               "background_image": {},
               "class": {}
              }
             },
             "country": {
              "code": "us",
              "currency": {
               "code": "USD",
               "name": "US Dollars",
               "prefix": "$",
               "suffix": null
              },
              "most_used_grapes": [
               {
                "has_detailed_info": true,
                "id": 2,
                "name": "Cabernet Sauvignon",
                "seo_name": "cabernet-sauvignon",
                "wines_count": 725925
               },
               {
                "has_detailed_info": true,
                "id": 14,
                "name": "Pinot Noir",
                "seo_name": "pinot-noir",
                "wines_count": 513244
               },
               {
                "has_detailed_info": true,
                "id": 5,
                "name": "Chardonnay",
                "seo_name": "chardonnay",
                "wines_count": 541509
               }
              ],
              "name": "United States",
              "native_name": "United States",
              "regions_count": 357,
              "seo_name": "united-states",
              "users_count": 10104977,
              "wineries_count": 26264,
              "wines_count": 230446
             },
             "id": 1925,
             "name": "Coombsville",
             "name_en": "",
             "seo_name": "coombsville"
            },
            "seo_name": "farella-vineyard",
            "statistics": {
             "labels_count": 2949,
             "ratings_average": 4.5,
             "ratings_count": 481,
             "status": "Normal",
             "vintages_count": 25
            },
            "style": {
             "acidity": 2,
             "acidity_description": "Medium",
             "background_image": {
              "location": "//images.vivino.com/backgrounds/styles/Rs1kBMYfQ0693K_iRThxOw.jpg",
              "variations": {
               "small": "//images.vivino.com/backgrounds/styles/thumbs/Rs1kBMYfQ0693K_iRThxOw_932x810.jpg"
              }
             },
             "blurb": null,
             "body": 5,
             "body_description": "Very full-bodied",
             "country": {
              "code": "us",
              "currency": {
               "code": "USD",
               "name": "US Dollars",
               "prefix": "$",
               "suffix": null
              },
              "most_used_grapes": [
               {
                "has_detailed_info": true,
                "id": 2,
                "name": "Cabernet Sauvignon",
                "seo_name": "cabernet-sauvignon",
                "wines_count": 725925
               },
               {
                "has_detailed_info": true,
                "id": 14,
                "name": "Pinot Noir",
                "seo_name": "pinot-noir",
                "wines_count": 513244
               },
               {
                "has_detailed_info": true,
                "id": 5,
                "name": "Chardonnay",
                "seo_name": "chardonnay",
                "wines_count": 541509
               }
              ],
              "name": "United States",
              "native_name": "United States",
              "regions_count": 357,
              "seo_name": "united-states",
              "users_count": 10104977,
              "wineries_count": 26264,
              "wines_count": 230446
             },
             "description": null,
             "food": [
              {
               "background_image": {
                "location": "//images.vivino.com/backgrounds/foods/4_beef.png",
                "variations": {
                 "small": "//images.vivino.com/backgrounds/foods/thumbs/4_beef_932x810.png"
                }
               },
               "id": 4,
               "name": "Beef",
               "seo_name": "beef"
              },
              {
               "background_image": {
                "location": "//images.vivino.com/backgrounds/foods/8_lamb.png",
                "variations": {
                 "small": "//images.vivino.com/backgrounds/foods/thumbs/8_lamb_932x810.png"
                }
               },
               "id": 8,
               "name": "Lamb",
               "seo_name": "lamb"
              },
              {
               "background_image": {
                "location": "//images.vivino.com/backgrounds/foods/11_venison.png",
                "variations": {
                 "small": "//images.vivino.com/backgrounds/foods/thumbs/11_venison_932x810.png"
                }
               },
               "id": 11,
               "name": "Game (deer, venison)",
               "seo_name": "game"
              },
              {
               "background_image": {
                "location": "//images.vivino.com/backgrounds/foods/17_hardcheese.png",
                "variations": {
                 "small": "//images.vivino.com/backgrounds/foods/thumbs/17_hardcheese_932x810.png"
                }
               },
               "id": 17,
               "name": "Mature and hard cheese",
               "seo_name": null
              },
              {
               "background_image": {
                "location": "//images.vivino.com/backgrounds/foods/20_chicken.png",
                "variations": {
                 "small": "//images.vivino.com/backgrounds/foods/thumbs/20_chicken_932x810.png"
                }
               },
               "id": 20,
               "name": "Poultry",
               "seo_name": "poultry"
              }
             ],
             "grapes": [
              {
               "has_detailed_info": true,
               "id": 2,
               "name": "Cabernet Sauvignon",
               "seo_name": "cabernet-sauvignon",
               "wines_count": 725925
              }
             ],
             "id": 289,
             "image": null,
             "interesting_facts": null,
             "name": "Napa Valley Cabernet Sauvignon",
             "region": {
              "background_image": {
               "location": "//images.vivino.com/regions/backgrounds/cP8NlYVPSUStyROqZeBzgA.jpg",
               "variations": {
                "large": "//thumbs.vivino.com/region_backgrounds/cP8NlYVPSUStyROqZeBzgA_1280x760.jpg",
                "medium": "//thumbs.vivino.com/region_backgrounds/cP8NlYVPSUStyROqZeBzgA_600x356.jpg"
               }
              },
              "class": {
               "typecast_map": {
                "background_image": {},
                "class": {}
               }
              },
              "country": {
               "code": "us",
               "currency": {
                "code": "USD",
                "name": "US Dollars",
                "prefix": "$",
                "suffix": null
               },
               "most_used_grapes": [
                {
                 "has_detailed_info": true,
                 "id": 2,
                 "name": "Cabernet Sauvignon",
                 "seo_name": "cabernet-sauvignon",
                 "wines_count": 725925
                },
                {
                 "has_detailed_info": true,
                 "id": 14,
                 "name": "Pinot Noir",
                 "seo_name": "pinot-noir",
                 "wines_count": 513244
                },
                {
                 "has_detailed_info": true,
                 "id": 5,
                 "name": "Chardonnay",
                 "seo_name": "chardonnay",
                 "wines_count": 541509
                }
               ],
               "name": "United States",
               "native_name": "United States",
               "regions_count": 357,
               "seo_name": "united-states",
               "users_count": 10104977,
               "wineries_count": 26264,
               "wines_count": 230446
              },
              "id": 25,
              "name": "Napa Valley",
              "name_en": "",
              "seo_name": "napa-valley"
             },
             "regional_name": "Napa Valley",
             "seo_name": "napa-valley-cabernet-sauvignon",
             "varietal_name": "Cabernet Sauvignon",
             "wine_type_id": 1
            },
            "taste": {
             "flavor": [
              {
               "group": "oak",
               "stats": {
                "count": 36,
                "score": 4257
               }
              },
              {
               "group": "earth",
               "stats": {
                "count": 29,
                "score": 2229
               }
              },
              {
               "group": "non_oak",
               "stats": {
                "count": 27,
                "score": 556
               }
              },
              {
               "group": "black_fruit",
               "stats": {
                "count": 23,
                "score": 3761
               }
              },
              {
               "group": "spices",
               "stats": {
                "count": 17,
                "score": 1359
               }
              },
              {
               "group": "red_fruit",
               "stats": {
                "count": 16,
                "score": 1439
               }
              },
              {
               "group": "microbio",
               "stats": {
                "count": 4,
                "score": 249
               }
              },
              {
               "group": "floral",
               "stats": {
                "count": 2,
                "score": 125
               }
              },
              {
               "group": "vegetal",
               "stats": {
                "count": 2,
                "score": 125
               }
              },
              {
               "group": "tree_fruit",
               "stats": {
                "count": 2,
                "score": 200
               }
              }
             ],
             "structure": {
              "acidity": 3.2467723,
              "calculated_structure_count": 54,
              "fizziness": null,
              "intensity": 4.8496003,
              "sweetness": 1.585666,
              "tannin": 3.428617,
              "user_structure_count": 35
             }
            },
            "type_id": 1,
            "vintage_type": 0,
            "winery": {
             "id": 1670,
             "name": "Realm",
             "seo_name": "realm-cellars",
             "status": 0
            }
           },
           "year": 2016
          }
         },
         {
          "price": {
           "amount": 349.99,
           "bottle_type": {
            "id": 1,
            "name": "Bottle (0.75l)",
            "short_name": "bottle",
            "short_name_plural": "bottles",
            "volume_ml": 750
           },
           "bottle_type_id": 1,
           "currency": {
            "code": "USD",
            "name": "US Dollars",
            "prefix": "$",
            "suffix": null
           },
           "discount_percent": null,
           "discounted_from": null,
           "id": 21420342,
           "sku": "WINEBOW11298",
           "type": "vc",
           "url": "http://vivino.cpdwineliquor.com/Product?PID=2296",
           "visibility": 1
          },
          "prices": [
           {
            "amount": 349.99,
            "bottle_type": {
             "id": 1,
             "name": "Bottle (0.75l)",
             "short_name": "bottle",
             "short_name_plural": "bottles",
             "volume_ml": 750
            },
            "bottle_type_id": 1,
            "currency": {
             "code": "USD",
             "name": "US Dollars",
             "prefix": "$",
             "suffix": null
            },
            "discount_percent": null,
            "discounted_from": null,
            "id": 21420342,
            "sku": "WINEBOW11298",
            "type": "vc",
            "url": "http://vivino.cpdwineliquor.com/Product?PID=2296",
            "visibility": 1
           }
          ],
          "vintage": {
           "grapes": null,
           "has_valid_ratings": true,
           "id": 152471896,
           "image": {
            "location": "//images.vivino.com/thumbs/_xFB5e6uRjKVTWO9RweV_Q_pl_480x640.png",
            "variations": {
             "bottle_large": "//images.vivino.com/thumbs/_xFB5e6uRjKVTWO9RweV_Q_pb_x960.png",
             "bottle_medium": "//images.vivino.com/thumbs/_xFB5e6uRjKVTWO9RweV_Q_pb_x600.png",
             "bottle_medium_square": "//images.vivino.com/thumbs/_xFB5e6uRjKVTWO9RweV_Q_pb_600x600.png",
             "bottle_small": "//images.vivino.com/thumbs/_xFB5e6uRjKVTWO9RweV_Q_pb_x300.png",
             "bottle_small_square": "//images.vivino.com/thumbs/_xFB5e6uRjKVTWO9RweV_Q_pb_300x300.png",
             "label": "//images.vivino.com/thumbs/_xFB5e6uRjKVTWO9RweV_Q_pl_480x640.png",
             "label_large": "//images.vivino.com/thumbs/_xFB5e6uRjKVTWO9RweV_Q_pl_375x500.png",
             "label_medium": "//images.vivino.com/thumbs/_xFB5e6uRjKVTWO9RweV_Q_pl_150x200.png",
             "label_medium_square": "//images.vivino.com/thumbs/_xFB5e6uRjKVTWO9RweV_Q_pl_150x150.png",
             "label_small_square": "//images.vivino.com/thumbs/_xFB5e6uRjKVTWO9RweV_Q_pl_80x80.png",
             "large": "//images.vivino.com/thumbs/_xFB5e6uRjKVTWO9RweV_Q_pl_375x500.png",
             "medium": "//images.vivino.com/thumbs/_xFB5e6uRjKVTWO9RweV_Q_pl_150x200.png",
             "medium_square": "//images.vivino.com/thumbs/_xFB5e6uRjKVTWO9RweV_Q_pl_150x150.png",
             "small_square": "//images.vivino.com/thumbs/_xFB5e6uRjKVTWO9RweV_Q_pl_80x80.png"
            }
           },
           "name": "Paul Hobbs Beckstoffer Las Piedras Vineyard Cabernet Sauvignon 2015",
           "seo_name": "paul-hobbs-beckstoffer-las-piedras-vineyard-cabernet-sauvignon-2015",
           "statistics": {
            "labels_count": 370,
            "ratings_average": 4.8,
            "ratings_count": 48,
            "status": "Normal"
           },
           "wine": {
            "has_valid_ratings": true,
            "id": 1868630,
            "is_natural": false,
            "name": "Beckstoffer Las Piedras Vineyard Cabernet Sauvignon",
            "region": {
             "background_image": {
              "location": "//images.vivino.com/regions/backgrounds/so7A1ElhSEOhFr2jFB2XAg.jpg",
              "variations": {
               "large": "//thumbs.vivino.com/region_backgrounds/so7A1ElhSEOhFr2jFB2XAg_1280x760.jpg",
               "medium": "//thumbs.vivino.com/region_backgrounds/so7A1ElhSEOhFr2jFB2XAg_600x356.jpg"
              }
             },
             "class": {
              "typecast_map": {
               "background_image": {},
               "class": {}
              }
             },
             "country": {
              "code": "us",
              "currency": {
               "code": "USD",
               "name": "US Dollars",
               "prefix": "$",
               "suffix": null
              },
              "most_used_grapes": [
               {
                "has_detailed_info": true,
                "id": 2,
                "name": "Cabernet Sauvignon",
                "seo_name": "cabernet-sauvignon",
                "wines_count": 725925
               },
               {
                "has_detailed_info": true,
                "id": 14,
                "name": "Pinot Noir",
                "seo_name": "pinot-noir",
                "wines_count": 513244
               },
               {
                "has_detailed_info": true,
                "id": 5,
                "name": "Chardonnay",
                "seo_name": "chardonnay",
                "wines_count": 541509
               }
              ],
              "name": "United States",
              "native_name": "United States",
              "regions_count": 357,
              "seo_name": "united-states",
              "users_count": 10104977,
              "wineries_count": 26264,
              "wines_count": 230446
             },
             "id": 97,
             "name": "St. Helena",
             "name_en": "",
             "seo_name": "st-helena"
            },
            "seo_name": "beckstoffer-las-piedras-vineyard-cabernet-sauvignon",
            "statistics": {
             "labels_count": 4321,
             "ratings_average": 4.6,
             "ratings_count": 557,
             "status": "Normal",
             "vintages_count": 30
            },
            "style": {
             "acidity": 2,
             "acidity_description": "Medium",
             "background_image": {
              "location": "//images.vivino.com/backgrounds/styles/Rs1kBMYfQ0693K_iRThxOw.jpg",
              "variations": {
               "small": "//images.vivino.com/backgrounds/styles/thumbs/Rs1kBMYfQ0693K_iRThxOw_932x810.jpg"
              }
             },
             "blurb": null,
             "body": 5,
             "body_description": "Very full-bodied",
             "country": {
              "code": "us",
              "currency": {
               "code": "USD",
               "name": "US Dollars",
               "prefix": "$",
               "suffix": null
              },
              "most_used_grapes": [
               {
                "has_detailed_info": true,
                "id": 2,
                "name": "Cabernet Sauvignon",
                "seo_name": "cabernet-sauvignon",
                "wines_count": 725925
               },
               {
                "has_detailed_info": true,
                "id": 14,
                "name": "Pinot Noir",
                "seo_name": "pinot-noir",
                "wines_count": 513244
               },
               {
                "has_detailed_info": true,
                "id": 5,
                "name": "Chardonnay",
                "seo_name": "chardonnay",
                "wines_count": 541509
               }
              ],
              "name": "United States",
              "native_name": "United States",
              "regions_count": 357,
              "seo_name": "united-states",
              "users_count": 10104977,
              "wineries_count": 26264,
              "wines_count": 230446
             },
             "description": null,
             "food": [
              {
               "background_image": {
                "location": "//images.vivino.com/backgrounds/foods/4_beef.png",
                "variations": {
                 "small": "//images.vivino.com/backgrounds/foods/thumbs/4_beef_932x810.png"
                }
               },
               "id": 4,
               "name": "Beef",
               "seo_name": "beef"
              },
              {
               "background_image": {
                "location": "//images.vivino.com/backgrounds/foods/8_lamb.png",
                "variations": {
                 "small": "//images.vivino.com/backgrounds/foods/thumbs/8_lamb_932x810.png"
                }
               },
               "id": 8,
               "name": "Lamb",
               "seo_name": "lamb"
              },
              {
               "background_image": {
                "location": "//images.vivino.com/backgrounds/foods/11_venison.png",
                "variations": {
                 "small": "//images.vivino.com/backgrounds/foods/thumbs/11_venison_932x810.png"
                }
               },
               "id": 11,
               "name": "Game (deer, venison)",
               "seo_name": "game"
              },
              {
               "background_image": {
                "location": "//images.vivino.com/backgrounds/foods/17_hardcheese.png",
                "variations": {
                 "small": "//images.vivino.com/backgrounds/foods/thumbs/17_hardcheese_932x810.png"
                }
               },
               "id": 17,
               "name": "Mature and hard cheese",
               "seo_name": null
              },
              {
               "background_image": {
                "location": "//images.vivino.com/backgrounds/foods/20_chicken.png",
                "variations": {
                 "small": "//images.vivino.com/backgrounds/foods/thumbs/20_chicken_932x810.png"
                }
               },
               "id": 20,
               "name": "Poultry",
               "seo_name": "poultry"
              }
             ],
             "grapes": [
              {
               "has_detailed_info": true,
               "id": 2,
               "name": "Cabernet Sauvignon",
               "seo_name": "cabernet-sauvignon",
               "wines_count": 725925
              }
             ],
             "id": 289,
             "image": null,
             "interesting_facts": null,
             "name": "Napa Valley Cabernet Sauvignon",
             "region": {
              "background_image": {
               "location": "//images.vivino.com/regions/backgrounds/cP8NlYVPSUStyROqZeBzgA.jpg",
               "variations": {
                "large": "//thumbs.vivino.com/region_backgrounds/cP8NlYVPSUStyROqZeBzgA_1280x760.jpg",
                "medium": "//thumbs.vivino.com/region_backgrounds/cP8NlYVPSUStyROqZeBzgA_600x356.jpg"
               }
              },
              "class": {
               "typecast_map": {
                "background_image": {},
                "class": {}
               }
              },
              "country": {
               "code": "us",
               "currency": {
                "code": "USD",
                "name": "US Dollars",
                "prefix": "$",
                "suffix": null
               },
               "most_used_grapes": [
                {
                 "has_detailed_info": true,
                 "id": 2,
                 "name": "Cabernet Sauvignon",
                 "seo_name": "cabernet-sauvignon",
                 "wines_count": 725925
                },
                {
                 "has_detailed_info": true,
                 "id": 14,
                 "name": "Pinot Noir",
                 "seo_name": "pinot-noir",
                 "wines_count": 513244
                },
                {
                 "has_detailed_info": true,
                 "id": 5,
                 "name": "Chardonnay",
                 "seo_name": "chardonnay",
                 "wines_count": 541509
                }
               ],
               "name": "United States",
               "native_name": "United States",
               "regions_count": 357,
               "seo_name": "united-states",
               "users_count": 10104977,
               "wineries_count": 26264,
               "wines_count": 230446
              },
              "id": 25,
              "name": "Napa Valley",
              "name_en": "",
              "seo_name": "napa-valley"
             },
             "regional_name": "Napa Valley",
             "seo_name": "napa-valley-cabernet-sauvignon",
             "varietal_name": "Cabernet Sauvignon",
             "wine_type_id": 1
            },
            "taste": {
             "flavor": [
              {
               "group": "oak",
               "stats": {
                "count": 31,
                "score": 4202
               }
              },
              {
               "group": "black_fruit",
               "stats": {
                "count": 25,
                "score": 3753
               }
              },
              {
               "group": "earth",
               "stats": {
                "count": 25,
                "score": 2261
               }
              },
              {
               "group": "spices",
               "stats": {
                "count": 22,
                "score": 1471
               }
              },
              {
               "group": "non_oak",
               "stats": {
                "count": 21,
                "score": 492
               }
              },
              {
               "group": "red_fruit",
               "stats": {
                "count": 14,
                "score": 1242
               }
              },
              {
               "group": "microbio",
               "stats": {
                "count": 4,
                "score": 283
               }
              },
              {
               "group": "vegetal",
               "stats": {
                "count": 3,
                "score": 300
               }
              },
              {
               "group": "floral",
               "stats": {
                "count": 2,
                "score": 200
               }
              },
              {
               "group": "dried_fruit",
               "stats": {
                "count": 2,
                "score": 196
               }
              },
              {
               "group": "tree_fruit",
               "stats": {
                "count": 2,
                "score": 200
               }
              },
              {
               "group": "tropical_fruit",
               "stats": {
                "count": 1,
                "score": 100
               }
              }
             ],
             "structure": {
              "acidity": 3.3687077,
              "calculated_structure_count": 47,
              "fizziness": null,
              "intensity": 4.5952425,
              "sweetness": 1.8364184,
              "tannin": 3.3240933,
              "user_structure_count": 39
             }
            },
            "type_id": 1,
            "vintage_type": 0,
            "winery": {
             "id": 11693,
             "name": "Paul Hobbs",
             "seo_name": "paul-hobbs",
             "status": 0
            }
           },
           "year": 2015
          }
         },
         {
          "price": {
           "amount": 164.99,
           "bottle_type": {
            "id": 1,
            "name": "Bottle (0.75l)",
            "short_name": "bottle",
            "short_name_plural": "bottles",
            "volume_ml": 750
           },
           "bottle_type_id": 1,
           "currency": {
            "code": "USD",
            "name": "US Dollars",
            "prefix": "$",
            "suffix": null
           },
           "discount_percent": null,
           "discounted_from": null,
           "id": 23891383,
           "sku": "",
           "type": "vc",
           "url": "https://www.blackbearwines.com/Frank-Family-Vineyards-Winston-Hill-2015-750-ml-p211699173",
           "visibility": 1
          },
          "prices": [
           {
            "amount": 164.99,
            "bottle_type": {
             "id": 1,
             "name": "Bottle (0.75l)",
             "short_name": "bottle",
             "short_name_plural": "bottles",
             "volume_ml": 750
            },
            "bottle_type_id": 1,
            "currency": {
             "code": "USD",
             "name": "US Dollars",
             "prefix": "$",
             "suffix": null
            },
            "discount_percent": null,
            "discounted_from": null,
            "id": 23891383,
            "sku": "",
            "type": "vc",
            "url": "https://www.blackbearwines.com/Frank-Family-Vineyards-Winston-Hill-2015-750-ml-p211699173",
            "visibility": 1
           }
          ],
          "vintage": {
           "grapes": null,
           "has_valid_ratings": true,
           "id": 28399452,
           "image": {
            "location": "//images.vivino.com/thumbs/0CtubwMqQy-ZING9vlUPSw_pl_480x640.png",
            "variations": {
             "bottle_large": "//images.vivino.com/thumbs/0CtubwMqQy-ZING9vlUPSw_pb_x960.png",
             "bottle_medium": "//images.vivino.com/thumbs/0CtubwMqQy-ZING9vlUPSw_pb_x600.png",
             "bottle_medium_square": "//images.vivino.com/thumbs/0CtubwMqQy-ZING9vlUPSw_pb_600x600.png",
             "bottle_small": "//images.vivino.com/thumbs/0CtubwMqQy-ZING9vlUPSw_pb_x300.png",
             "bottle_small_square": "//images.vivino.com/thumbs/0CtubwMqQy-ZING9vlUPSw_pb_300x300.png",
             "label": "//images.vivino.com/thumbs/0CtubwMqQy-ZING9vlUPSw_pl_480x640.png",
             "label_large": "//images.vivino.com/thumbs/0CtubwMqQy-ZING9vlUPSw_pl_375x500.png",
             "label_medium": "//images.vivino.com/thumbs/0CtubwMqQy-ZING9vlUPSw_pl_150x200.png",
             "label_medium_square": "//images.vivino.com/thumbs/0CtubwMqQy-ZING9vlUPSw_pl_150x150.png",
             "label_small_square": "//images.vivino.com/thumbs/0CtubwMqQy-ZING9vlUPSw_pl_80x80.png",
             "large": "//images.vivino.com/thumbs/0CtubwMqQy-ZING9vlUPSw_pl_375x500.png",
             "medium": "//images.vivino.com/thumbs/0CtubwMqQy-ZING9vlUPSw_pl_150x200.png",
             "medium_square": "//images.vivino.com/thumbs/0CtubwMqQy-ZING9vlUPSw_pl_150x150.png",
             "small_square": "//images.vivino.com/thumbs/0CtubwMqQy-ZING9vlUPSw_pl_80x80.png"
            }
           },
           "name": "Frank Family Winston Hill 2015",
           "seo_name": "frank-family-winston-hill-2015",
           "statistics": {
            "labels_count": 367,
            "ratings_average": 4.8,
            "ratings_count": 43,
            "status": "Normal"
           },
           "wine": {
            "has_valid_ratings": true,
            "id": 6603,
            "is_natural": false,
            "name": "Winston Hill",
            "region": {
             "background_image": {
              "location": "//images.vivino.com/regions/backgrounds/cP8NlYVPSUStyROqZeBzgA.jpg",
              "variations": {
               "large": "//thumbs.vivino.com/region_backgrounds/cP8NlYVPSUStyROqZeBzgA_1280x760.jpg",
               "medium": "//thumbs.vivino.com/region_backgrounds/cP8NlYVPSUStyROqZeBzgA_600x356.jpg"
              }
             },
             "class": {
              "typecast_map": {
               "background_image": {},
               "class": {}
              }
             },
             "country": {
              "code": "us",
              "currency": {
               "code": "USD",
               "name": "US Dollars",
               "prefix": "$",
               "suffix": null
              },
              "most_used_grapes": [
               {
                "has_detailed_info": true,
                "id": 2,
                "name": "Cabernet Sauvignon",
                "seo_name": "cabernet-sauvignon",
                "wines_count": 725925
               },
               {
                "has_detailed_info": true,
                "id": 14,
                "name": "Pinot Noir",
                "seo_name": "pinot-noir",
                "wines_count": 513244
               },
               {
                "has_detailed_info": true,
                "id": 5,
                "name": "Chardonnay",
                "seo_name": "chardonnay",
                "wines_count": 541509
               }
              ],
              "name": "United States",
              "native_name": "United States",
              "regions_count": 357,
              "seo_name": "united-states",
              "users_count": 10104977,
              "wineries_count": 26264,
              "wines_count": 230446
             },
             "id": 25,
             "name": "Napa Valley",
             "name_en": "",
             "seo_name": "napa-valley"
            },
            "seo_name": "winston-hill",
            "statistics": {
             "labels_count": 10307,
             "ratings_average": 4.7,
             "ratings_count": 1557,
             "status": "Normal",
             "vintages_count": 27
            },
            "style": {
             "acidity": 2,
             "acidity_description": "Medium",
             "background_image": {
              "location": "//images.vivino.com/backgrounds/styles/Rs1kBMYfQ0693K_iRThxOw.jpg",
              "variations": {
               "small": "//images.vivino.com/backgrounds/styles/thumbs/Rs1kBMYfQ0693K_iRThxOw_932x810.jpg"
              }
             },
             "blurb": null,
             "body": 5,
             "body_description": "Very full-bodied",
             "country": {
              "code": "us",
              "currency": {
               "code": "USD",
               "name": "US Dollars",
               "prefix": "$",
               "suffix": null
              },
              "most_used_grapes": [
               {
                "has_detailed_info": true,
                "id": 2,
                "name": "Cabernet Sauvignon",
                "seo_name": "cabernet-sauvignon",
                "wines_count": 725925
               },
               {
                "has_detailed_info": true,
                "id": 14,
                "name": "Pinot Noir",
                "seo_name": "pinot-noir",
                "wines_count": 513244
               },
               {
                "has_detailed_info": true,
                "id": 5,
                "name": "Chardonnay",
                "seo_name": "chardonnay",
                "wines_count": 541509
               }
              ],
              "name": "United States",
              "native_name": "United States",
              "regions_count": 357,
              "seo_name": "united-states",
              "users_count": 10104977,
              "wineries_count": 26264,
              "wines_count": 230446
             },
             "description": null,
             "food": [
              {
               "background_image": {
                "location": "//images.vivino.com/backgrounds/foods/4_beef.png",
                "variations": {
                 "small": "//images.vivino.com/backgrounds/foods/thumbs/4_beef_932x810.png"
                }
               },
               "id": 4,
               "name": "Beef",
               "seo_name": "beef"
              },
              {
               "background_image": {
                "location": "//images.vivino.com/backgrounds/foods/8_lamb.png",
                "variations": {
                 "small": "//images.vivino.com/backgrounds/foods/thumbs/8_lamb_932x810.png"
                }
               },
               "id": 8,
               "name": "Lamb",
               "seo_name": "lamb"
              },
              {
               "background_image": {
                "location": "//images.vivino.com/backgrounds/foods/11_venison.png",
                "variations": {
                 "small": "//images.vivino.com/backgrounds/foods/thumbs/11_venison_932x810.png"
                }
               },
               "id": 11,
               "name": "Game (deer, venison)",
               "seo_name": "game"
              },
              {
               "background_image": {
                "location": "//images.vivino.com/backgrounds/foods/17_hardcheese.png",
                "variations": {
                 "small": "//images.vivino.com/backgrounds/foods/thumbs/17_hardcheese_932x810.png"
                }
               },
               "id": 17,
               "name": "Mature and hard cheese",
               "seo_name": null
              },
              {
               "background_image": {
                "location": "//images.vivino.com/backgrounds/foods/20_chicken.png",
                "variations": {
                 "small": "//images.vivino.com/backgrounds/foods/thumbs/20_chicken_932x810.png"
                }
               },
               "id": 20,
               "name": "Poultry",
               "seo_name": "poultry"
              }
             ],
             "grapes": [
              {
               "has_detailed_info": true,
               "id": 2,
               "name": "Cabernet Sauvignon",
               "seo_name": "cabernet-sauvignon",
               "wines_count": 725925
              }
             ],
             "id": 289,
             "image": null,
             "interesting_facts": null,
             "name": "Napa Valley Cabernet Sauvignon",
             "region": {
              "background_image": {
               "location": "//images.vivino.com/regions/backgrounds/cP8NlYVPSUStyROqZeBzgA.jpg",
               "variations": {
                "large": "//thumbs.vivino.com/region_backgrounds/cP8NlYVPSUStyROqZeBzgA_1280x760.jpg",
                "medium": "//thumbs.vivino.com/region_backgrounds/cP8NlYVPSUStyROqZeBzgA_600x356.jpg"
               }
              },
              "class": {
               "typecast_map": {
                "background_image": {},
                "class": {}
               }
              },
              "country": {
               "code": "us",
               "currency": {
                "code": "USD",
                "name": "US Dollars",
                "prefix": "$",
                "suffix": null
               },
               "most_used_grapes": [
                {
                 "has_detailed_info": true,
                 "id": 2,
                 "name": "Cabernet Sauvignon",
                 "seo_name": "cabernet-sauvignon",
                 "wines_count": 725925
                },
                {
                 "has_detailed_info": true,
                 "id": 14,
                 "name": "Pinot Noir",
                 "seo_name": "pinot-noir",
                 "wines_count": 513244
                },
                {
                 "has_detailed_info": true,
                 "id": 5,
                 "name": "Chardonnay",
                 "seo_name": "chardonnay",
                 "wines_count": 541509
                }
               ],
               "name": "United States",
               "native_name": "United States",
               "regions_count": 357,
               "seo_name": "united-states",
               "users_count": 10104977,
               "wineries_count": 26264,
               "wines_count": 230446
              },
              "id": 25,
              "name": "Napa Valley",
              "name_en": "",
              "seo_name": "napa-valley"
             },
             "regional_name": "Napa Valley",
             "seo_name": "napa-valley-cabernet-sauvignon",
             "varietal_name": "Cabernet Sauvignon",
             "wine_type_id": 1
            },
            "taste": {
             "flavor": [
              {
               "group": "oak",
               "stats": {
                "count": 88,
                "score": 10633
               }
              },
              {
               "group": "black_fruit",
               "stats": {
                "count": 72,
                "score": 9006
               }
              },
              {
               "group": "earth",
               "stats": {
                "count": 56,
                "score": 5740
               }
              },
              {
               "group": "non_oak",
               "stats": {
                "count": 36,
                "score": 785
               }
              },
              {
               "group": "red_fruit",
               "stats": {
                "count": 31,
                "score": 2562
               }
              },
              {
               "group": "spices",
               "stats": {
                "count": 29,
                "score": 2060
               }
              },
              {
               "group": "microbio",
               "stats": {
                "count": 12,
                "score": 782
               }
              },
              {
               "group": "floral",
               "stats": {
                "count": 5,
                "score": 500
               }
              },
              {
               "group": "dried_fruit",
               "stats": {
                "count": 5,
                "score": 332
               }
              },
              {
               "group": "vegetal",
               "stats": {
                "count": 1,
                "score": 100
               }
              },
              {
               "group": "citrus_fruit",
               "stats": {
                "count": 1,
                "score": 100
               }
              }
             ],
             "structure": {
              "acidity": 3.328933,
              "calculated_structure_count": 144,
              "fizziness": null,
              "intensity": 4.6915345,
              "sweetness": 1.6233003,
              "tannin": 3.3106847,
              "user_structure_count": 70
             }
            },
            "type_id": 1,
            "vintage_type": 0,
            "winery": {
             "id": 1482,
             "name": "Frank Family",
             "seo_name": "frank-family",
             "status": 0
            }
           },
           "year": 2015
          }
         },
         {
          "price": {
           "amount": 298.95,
           "bottle_type": {
            "id": 1,
            "name": "Bottle (0.75l)",
            "short_name": "bottle",
            "short_name_plural": "bottles",
            "volume_ml": 750
           },
           "bottle_type_id": 1,
           "currency": {
            "code": "USD",
            "name": "US Dollars",
            "prefix": "$",
            "suffix": null
           },
           "discount_percent": null,
           "discounted_from": null,
           "id": 23898351,
           "sku": "",
           "type": "vc",
           "url": "https://sommcellarswine.com/products/2017-jean-louis-chave-hermitage",
           "visibility": 1
          },
          "prices": [
           {
            "amount": 298.95,
            "bottle_type": {
             "id": 1,
             "name": "Bottle (0.75l)",
             "short_name": "bottle",
             "short_name_plural": "bottles",
             "volume_ml": 750
            },
            "bottle_type_id": 1,
            "currency": {
             "code": "USD",
             "name": "US Dollars",
             "prefix": "$",
             "suffix": null
            },
            "discount_percent": null,
            "discounted_from": null,
            "id": 23898351,
            "sku": "",
            "type": "vc",
            "url": "https://sommcellarswine.com/products/2017-jean-louis-chave-hermitage",
            "visibility": 1
           }
          ],
          "vintage": {
           "grapes": null,
           "has_valid_ratings": true,
           "id": 150423956,
           "image": {
            "location": "//images.vivino.com/thumbs/aspf1zoiTceU5RI9OIY8ew_pl_480x640.png",
            "variations": {
             "bottle_large": "//images.vivino.com/thumbs/aspf1zoiTceU5RI9OIY8ew_pb_x960.png",
             "bottle_medium": "//images.vivino.com/thumbs/aspf1zoiTceU5RI9OIY8ew_pb_x600.png",
             "bottle_medium_square": "//images.vivino.com/thumbs/aspf1zoiTceU5RI9OIY8ew_pb_600x600.png",
             "bottle_small": "//images.vivino.com/thumbs/aspf1zoiTceU5RI9OIY8ew_pb_x300.png",
             "bottle_small_square": "//images.vivino.com/thumbs/aspf1zoiTceU5RI9OIY8ew_pb_300x300.png",
             "label": "//images.vivino.com/thumbs/aspf1zoiTceU5RI9OIY8ew_pl_480x640.png",
             "label_large": "//images.vivino.com/thumbs/aspf1zoiTceU5RI9OIY8ew_pl_375x500.png",
             "label_medium": "//images.vivino.com/thumbs/aspf1zoiTceU5RI9OIY8ew_pl_150x200.png",
             "label_medium_square": "//images.vivino.com/thumbs/aspf1zoiTceU5RI9OIY8ew_pl_150x150.png",
             "label_small_square": "//images.vivino.com/thumbs/aspf1zoiTceU5RI9OIY8ew_pl_80x80.png",
             "large": "//images.vivino.com/thumbs/aspf1zoiTceU5RI9OIY8ew_pl_375x500.png",
             "medium": "//images.vivino.com/thumbs/aspf1zoiTceU5RI9OIY8ew_pl_150x200.png",
             "medium_square": "//images.vivino.com/thumbs/aspf1zoiTceU5RI9OIY8ew_pl_150x150.png",
             "small_square": "//images.vivino.com/thumbs/aspf1zoiTceU5RI9OIY8ew_pl_80x80.png"
            }
           },
           "name": "Domaine Jean-Louis Chave L'Hermitage 2017",
           "seo_name": "domaine-jean-louis-chave-l-hermitage-2017",
           "statistics": {
            "labels_count": 331,
            "ratings_average": 4.8,
            "ratings_count": 42,
            "status": "Normal"
           },
           "wine": {
            "has_valid_ratings": true,
            "id": 1098851,
            "is_natural": false,
            "name": "L'Hermitage",
            "region": {
             "background_image": null,
             "class": {
              "typecast_map": {
               "background_image": {},
               "class": {}
              }
             },
             "country": {
              "code": "fr",
              "currency": {
               "code": "EUR",
               "name": "Euros",
               "prefix": "€",
               "suffix": null
              },
              "most_used_grapes": [
               {
                "has_detailed_info": true,
                "id": 14,
                "name": "Pinot Noir",
                "seo_name": "pinot-noir",
                "wines_count": 513244
               },
               {
                "has_detailed_info": true,
                "id": 10,
                "name": "Merlot",
                "seo_name": "merlot",
                "wines_count": 510808
               },
               {
                "has_detailed_info": true,
                "id": 5,
                "name": "Chardonnay",
                "seo_name": "chardonnay",
                "wines_count": 541509
               }
              ],
              "name": "France",
              "native_name": "France",
              "regions_count": 1286,
              "seo_name": "france",
              "users_count": 4353758,
              "wineries_count": 65782,
              "wines_count": 508606
             },
             "id": 535,
             "name": "Hermitage",
             "name_en": "Ermitage",
             "seo_name": "hermitage"
            },
            "seo_name": "l-hermitage",
            "statistics": {
             "labels_count": 30734,
             "ratings_average": 4.5,
             "ratings_count": 6575,
             "status": "Normal",
             "vintages_count": 111
            },
            "style": {
             "acidity": 3,
             "acidity_description": "High",
             "background_image": null,
             "blurb": null,
             "body": 5,
             "body_description": "Very full-bodied",
             "country": {
              "code": "fr",
              "currency": {
               "code": "EUR",
               "name": "Euros",
               "prefix": "€",
               "suffix": null
              },
              "most_used_grapes": [
               {
                "has_detailed_info": true,
                "id": 14,
                "name": "Pinot Noir",
                "seo_name": "pinot-noir",
                "wines_count": 513244
               },
               {
                "has_detailed_info": true,
                "id": 10,
                "name": "Merlot",
                "seo_name": "merlot",
                "wines_count": 510808
               },
               {
                "has_detailed_info": true,
                "id": 5,
                "name": "Chardonnay",
                "seo_name": "chardonnay",
                "wines_count": 541509
               }
              ],
              "name": "France",
              "native_name": "France",
              "regions_count": 1286,
              "seo_name": "france",
              "users_count": 4353758,
              "wineries_count": 65782,
              "wines_count": 508606
             },
             "description": null,
             "food": [
              {
               "background_image": {
                "location": "//images.vivino.com/backgrounds/foods/4_beef.png",
                "variations": {
                 "small": "//images.vivino.com/backgrounds/foods/thumbs/4_beef_932x810.png"
                }
               },
               "id": 4,
               "name": "Beef",
               "seo_name": "beef"
              },
              {
               "background_image": {
                "location": "//images.vivino.com/backgrounds/foods/8_lamb.png",
                "variations": {
                 "small": "//images.vivino.com/backgrounds/foods/thumbs/8_lamb_932x810.png"
                }
               },
               "id": 8,
               "name": "Lamb",
               "seo_name": "lamb"
              },
              {
               "background_image": {
                "location": "//images.vivino.com/backgrounds/foods/11_venison.png",
                "variations": {
                 "small": "//images.vivino.com/backgrounds/foods/thumbs/11_venison_932x810.png"
                }
               },
               "id": 11,
               "name": "Game (deer, venison)",
               "seo_name": "game"
              },
              {
               "background_image": {
                "location": "//images.vivino.com/backgrounds/foods/20_chicken.png",
                "variations": {
                 "small": "//images.vivino.com/backgrounds/foods/thumbs/20_chicken_932x810.png"
                }
               },
               "id": 20,
               "name": "Poultry",
               "seo_name": "poultry"
              }
             ],
             "grapes": [
              {
               "has_detailed_info": true,
               "id": 1,
               "name": "Shiraz/Syrah",
               "seo_name": "shiraz-syrah",
               "wines_count": 494130
              }
             ],
             "id": 298,
             "image": null,
             "interesting_facts": null,
             "name": "Northern Rhône Hermitage",
             "region": {
              "background_image": null,
              "class": {
               "typecast_map": {
                "background_image": {},
                "class": {}
               }
              },
              "country": {
               "code": "fr",
               "currency": {
                "code": "EUR",
                "name": "Euros",
                "prefix": "€",
                "suffix": null
               },
               "most_used_grapes": [
                {
                 "has_detailed_info": true,
                 "id": 14,
                 "name": "Pinot Noir",
                 "seo_name": "pinot-noir",
                 "wines_count": 513244
                },
                {
                 "has_detailed_info": true,
                 "id": 10,
                 "name": "Merlot",
                 "seo_name": "merlot",
                 "wines_count": 510808
                },
                {
                 "has_detailed_info": true,
                 "id": 5,
                 "name": "Chardonnay",
                 "seo_name": "chardonnay",
                 "wines_count": 541509
                }
               ],
               "name": "France",
               "native_name": "France",
               "regions_count": 1286,
               "seo_name": "france",
               "users_count": 4353758,
               "wineries_count": 65782,
               "wines_count": 508606
              },
              "id": 535,
              "name": "Hermitage",
              "name_en": "Ermitage",
              "seo_name": "hermitage"
             },
             "regional_name": "Northern Rhône",
             "seo_name": "northern-rhone-hermitage",
             "varietal_name": "Hermitage",
             "wine_type_id": 1
            },
            "taste": {
             "flavor": [
              {
               "group": "earth",
               "stats": {
                "count": 409,
                "score": 51570
               }
              },
              {
               "group": "oak",
               "stats": {
                "count": 350,
                "score": 25115
               }
              },
              {
               "group": "black_fruit",
               "stats": {
                "count": 270,
                "score": 36190
               }
              },
              {
               "group": "spices",
               "stats": {
                "count": 224,
                "score": 23464
               }
              },
              {
               "group": "non_oak",
               "stats": {
                "count": 197,
                "score": 3413
               }
              },
              {
               "group": "red_fruit",
               "stats": {
                "count": 145,
                "score": 13838
               }
              },
              {
               "group": "microbio",
               "stats": {
                "count": 80,
                "score": 5392
               }
              },
              {
               "group": "floral",
               "stats": {
                "count": 57,
                "score": 5400
               }
              },
              {
               "group": "dried_fruit",
               "stats": {
                "count": 34,
                "score": 3045
               }
              },
              {
               "group": "vegetal",
               "stats": {
                "count": 23,
                "score": 1073
               }
              },
              {
               "group": "tree_fruit",
               "stats": {
                "count": 19,
                "score": 2100
               }
              },
              {
               "group": "citrus_fruit",
               "stats": {
                "count": 13,
                "score": 1300
               }
              },
              {
               "group": "tropical_fruit",
               "stats": {
                "count": 6,
                "score": 600
               }
              }
             ],
             "structure": {
              "acidity": 3.525235,
              "calculated_structure_count": 572,
              "fizziness": null,
              "intensity": 4.513905,
              "sweetness": 1.6369054,
              "tannin": 4.0910954,
              "user_structure_count": 53
             }
            },
            "type_id": 1,
            "vintage_type": 0,
            "winery": {
             "id": 1382,
             "name": "Domaine Jean-Louis Chave",
             "seo_name": "domaine-jean-louis-chave",
             "status": 0
            }
           },
           "year": 2017
          }
         },
         {
          "price": {
           "amount": 269.99,
           "bottle_type": {
            "id": 1,
            "name": "Bottle (0.75l)",
            "short_name": "bottle",
            "short_name_plural": "bottles",
            "volume_ml": 750
           },
           "bottle_type_id": 1,
           "currency": {
            "code": "USD",
            "name": "US Dollars",
            "prefix": "$",
            "suffix": null
           },
           "discount_percent": null,
           "discounted_from": null,
           "id": 21563209,
           "sku": "RNDC23062CS",
           "type": "vc",
           "url": "http://vivino.cpdwineliquor.com/Product?PID=5018",
           "visibility": 1
          },
          "prices": [
           {
            "amount": 269.99,
            "bottle_type": {
             "id": 1,
             "name": "Bottle (0.75l)",
             "short_name": "bottle",
             "short_name_plural": "bottles",
             "volume_ml": 750
            },
            "bottle_type_id": 1,
            "currency": {
             "code": "USD",
             "name": "US Dollars",
             "prefix": "$",
             "suffix": null
            },
            "discount_percent": null,
            "discounted_from": null,
            "id": 21563209,
            "sku": "RNDC23062CS",
            "type": "vc",
            "url": "http://vivino.cpdwineliquor.com/Product?PID=5018",
            "visibility": 1
           }
          ],
          "vintage": {
           "grapes": null,
           "has_valid_ratings": true,
           "id": 4299904,
           "image": {
            "location": "//images.vivino.com/thumbs/82C3h2rSRD2Q2PmLDc_4Gg_pl_480x640.png",
            "variations": {
             "bottle_large": "//images.vivino.com/thumbs/82C3h2rSRD2Q2PmLDc_4Gg_pb_x960.png",
             "bottle_medium": "//images.vivino.com/thumbs/82C3h2rSRD2Q2PmLDc_4Gg_pb_x600.png",
             "bottle_medium_square": "//images.vivino.com/thumbs/82C3h2rSRD2Q2PmLDc_4Gg_pb_600x600.png",
             "bottle_small": "//images.vivino.com/thumbs/82C3h2rSRD2Q2PmLDc_4Gg_pb_x300.png",
             "bottle_small_square": "//images.vivino.com/thumbs/82C3h2rSRD2Q2PmLDc_4Gg_pb_300x300.png",
             "label": "//images.vivino.com/thumbs/82C3h2rSRD2Q2PmLDc_4Gg_pl_480x640.png",
             "label_large": "//images.vivino.com/thumbs/82C3h2rSRD2Q2PmLDc_4Gg_pl_375x500.png",
             "label_medium": "//images.vivino.com/thumbs/82C3h2rSRD2Q2PmLDc_4Gg_pl_150x200.png",
             "label_medium_square": "//images.vivino.com/thumbs/82C3h2rSRD2Q2PmLDc_4Gg_pl_150x150.png",
             "label_small_square": "//images.vivino.com/thumbs/82C3h2rSRD2Q2PmLDc_4Gg_pl_80x80.png",
             "large": "//images.vivino.com/thumbs/82C3h2rSRD2Q2PmLDc_4Gg_pl_375x500.png",
             "medium": "//images.vivino.com/thumbs/82C3h2rSRD2Q2PmLDc_4Gg_pl_150x200.png",
             "medium_square": "//images.vivino.com/thumbs/82C3h2rSRD2Q2PmLDc_4Gg_pl_150x150.png",
             "small_square": "//images.vivino.com/thumbs/82C3h2rSRD2Q2PmLDc_4Gg_pl_80x80.png"
            }
           },
           "name": "ZD Wines Reserve Cabernet Sauvignon 2014",
           "seo_name": "zd-wines-reserve-cabernet-sauvignon-2014",
           "statistics": {
            "labels_count": 150,
            "ratings_average": 4.8,
            "ratings_count": 31,
            "status": "Normal"
           },
           "wine": {
            "has_valid_ratings": true,
            "id": 1328244,
            "is_natural": false,
            "name": "Reserve Cabernet Sauvignon",
            "region": {
             "background_image": {
              "location": "//images.vivino.com/regions/backgrounds/cP8NlYVPSUStyROqZeBzgA.jpg",
              "variations": {
               "large": "//thumbs.vivino.com/region_backgrounds/cP8NlYVPSUStyROqZeBzgA_1280x760.jpg",
               "medium": "//thumbs.vivino.com/region_backgrounds/cP8NlYVPSUStyROqZeBzgA_600x356.jpg"
              }
             },
             "class": {
              "typecast_map": {
               "background_image": {},
               "class": {}
              }
             },
             "country": {
              "code": "us",
              "currency": {
               "code": "USD",
               "name": "US Dollars",
               "prefix": "$",
               "suffix": null
              },
              "most_used_grapes": [
               {
                "has_detailed_info": true,
                "id": 2,
                "name": "Cabernet Sauvignon",
                "seo_name": "cabernet-sauvignon",
                "wines_count": 725925
               },
               {
                "has_detailed_info": true,
                "id": 14,
                "name": "Pinot Noir",
                "seo_name": "pinot-noir",
                "wines_count": 513244
               },
               {
                "has_detailed_info": true,
                "id": 5,
                "name": "Chardonnay",
                "seo_name": "chardonnay",
                "wines_count": 541509
               }
              ],
              "name": "United States",
              "native_name": "United States",
              "regions_count": 357,
              "seo_name": "united-states",
              "users_count": 10104977,
              "wineries_count": 26264,
              "wines_count": 230446
             },
             "id": 25,
             "name": "Napa Valley",
             "name_en": "",
             "seo_name": "napa-valley"
            },
            "seo_name": "reserve-cabernet-sauvignon",
            "statistics": {
             "labels_count": 2774,
             "ratings_average": 4.4,
             "ratings_count": 539,
             "status": "Normal",
             "vintages_count": 38
            },
            "style": {
             "acidity": 2,
             "acidity_description": "Medium",
             "background_image": {
              "location": "//images.vivino.com/backgrounds/styles/Rs1kBMYfQ0693K_iRThxOw.jpg",
              "variations": {
               "small": "//images.vivino.com/backgrounds/styles/thumbs/Rs1kBMYfQ0693K_iRThxOw_932x810.jpg"
              }
             },
             "blurb": null,
             "body": 5,
             "body_description": "Very full-bodied",
             "country": {
              "code": "us",
              "currency": {
               "code": "USD",
               "name": "US Dollars",
               "prefix": "$",
               "suffix": null
              },
              "most_used_grapes": [
               {
                "has_detailed_info": true,
                "id": 2,
                "name": "Cabernet Sauvignon",
                "seo_name": "cabernet-sauvignon",
                "wines_count": 725925
               },
               {
                "has_detailed_info": true,
                "id": 14,
                "name": "Pinot Noir",
                "seo_name": "pinot-noir",
                "wines_count": 513244
               },
               {
                "has_detailed_info": true,
                "id": 5,
                "name": "Chardonnay",
                "seo_name": "chardonnay",
                "wines_count": 541509
               }
              ],
              "name": "United States",
              "native_name": "United States",
              "regions_count": 357,
              "seo_name": "united-states",
              "users_count": 10104977,
              "wineries_count": 26264,
              "wines_count": 230446
             },
             "description": null,
             "food": [
              {
               "background_image": {
                "location": "//images.vivino.com/backgrounds/foods/4_beef.png",
                "variations": {
                 "small": "//images.vivino.com/backgrounds/foods/thumbs/4_beef_932x810.png"
                }
               },
               "id": 4,
               "name": "Beef",
               "seo_name": "beef"
              },
              {
               "background_image": {
                "location": "//images.vivino.com/backgrounds/foods/8_lamb.png",
                "variations": {
                 "small": "//images.vivino.com/backgrounds/foods/thumbs/8_lamb_932x810.png"
                }
               },
               "id": 8,
               "name": "Lamb",
               "seo_name": "lamb"
              },
              {
               "background_image": {
                "location": "//images.vivino.com/backgrounds/foods/11_venison.png",
                "variations": {
                 "small": "//images.vivino.com/backgrounds/foods/thumbs/11_venison_932x810.png"
                }
               },
               "id": 11,
               "name": "Game (deer, venison)",
               "seo_name": "game"
              },
              {
               "background_image": {
                "location": "//images.vivino.com/backgrounds/foods/17_hardcheese.png",
                "variations": {
                 "small": "//images.vivino.com/backgrounds/foods/thumbs/17_hardcheese_932x810.png"
                }
               },
               "id": 17,
               "name": "Mature and hard cheese",
               "seo_name": null
              },
              {
               "background_image": {
                "location": "//images.vivino.com/backgrounds/foods/20_chicken.png",
                "variations": {
                 "small": "//images.vivino.com/backgrounds/foods/thumbs/20_chicken_932x810.png"
                }
               },
               "id": 20,
               "name": "Poultry",
               "seo_name": "poultry"
              }
             ],
             "grapes": [
              {
               "has_detailed_info": true,
               "id": 2,
               "name": "Cabernet Sauvignon",
               "seo_name": "cabernet-sauvignon",
               "wines_count": 725925
              }
             ],
             "id": 289,
             "image": null,
             "interesting_facts": null,
             "name": "Napa Valley Cabernet Sauvignon",
             "region": {
              "background_image": {
               "location": "//images.vivino.com/regions/backgrounds/cP8NlYVPSUStyROqZeBzgA.jpg",
               "variations": {
                "large": "//thumbs.vivino.com/region_backgrounds/cP8NlYVPSUStyROqZeBzgA_1280x760.jpg",
                "medium": "//thumbs.vivino.com/region_backgrounds/cP8NlYVPSUStyROqZeBzgA_600x356.jpg"
               }
              },
              "class": {
               "typecast_map": {
                "background_image": {},
                "class": {}
               }
              },
              "country": {
               "code": "us",
               "currency": {
                "code": "USD",
                "name": "US Dollars",
                "prefix": "$",
                "suffix": null
               },
               "most_used_grapes": [
                {
                 "has_detailed_info": true,
                 "id": 2,
                 "name": "Cabernet Sauvignon",
                 "seo_name": "cabernet-sauvignon",
                 "wines_count": 725925
                },
                {
                 "has_detailed_info": true,
                 "id": 14,
                 "name": "Pinot Noir",
                 "seo_name": "pinot-noir",
                 "wines_count": 513244
                },
                {
                 "has_detailed_info": true,
                 "id": 5,
                 "name": "Chardonnay",
                 "seo_name": "chardonnay",
                 "wines_count": 541509
                }
               ],
               "name": "United States",
               "native_name": "United States",
               "regions_count": 357,
               "seo_name": "united-states",
               "users_count": 10104977,
               "wineries_count": 26264,
               "wines_count": 230446
              },
              "id": 25,
              "name": "Napa Valley",
              "name_en": "",
              "seo_name": "napa-valley"
             },
             "regional_name": "Napa Valley",
             "seo_name": "napa-valley-cabernet-sauvignon",
             "varietal_name": "Cabernet Sauvignon",
             "wine_type_id": 1
            },
            "taste": {
             "flavor": [
              {
               "group": "oak",
               "stats": {
                "count": 29,
                "score": 3968
               }
              },
              {
               "group": "black_fruit",
               "stats": {
                "count": 22,
                "score": 2948
               }
              },
              {
               "group": "earth",
               "stats": {
                "count": 17,
                "score": 1197
               }
              },
              {
               "group": "non_oak",
               "stats": {
                "count": 17,
                "score": 278
               }
              },
              {
               "group": "red_fruit",
               "stats": {
                "count": 13,
                "score": 1152
               }
              },
              {
               "group": "spices",
               "stats": {
                "count": 11,
                "score": 466
               }
              },
              {
               "group": "vegetal",
               "stats": {
                "count": 3,
                "score": 300
               }
              },
              {
               "group": "dried_fruit",
               "stats": {
                "count": 2,
                "score": 191
               }
              },
              {
               "group": "tree_fruit",
               "stats": {
                "count": 1,
                "score": 100
               }
              },
              {
               "group": "tropical_fruit",
               "stats": {
                "count": 1,
                "score": 100
               }
              }
             ],
             "structure": {
              "acidity": 3.334727,
              "calculated_structure_count": 50,
              "fizziness": null,
              "intensity": 4.7760487,
              "sweetness": 1.5077696,
              "tannin": 2.9936607,
              "user_structure_count": 21
             }
            },
            "type_id": 1,
            "vintage_type": 0,
            "winery": {
             "id": 1589,
             "name": "ZD Wines",
             "seo_name": "zd-wines",
             "status": 0
            }
           },
           "year": 2014
          }
         },
         {
          "price": {
           "amount": 299.99,
           "bottle_type": {
            "id": 1,
            "name": "Bottle (0.75l)",
            "short_name": "bottle",
            "short_name_plural": "bottles",
            "volume_ml": 750
           },
           "bottle_type_id": 1,
           "currency": {
            "code": "USD",
            "name": "US Dollars",
            "prefix": "$",
            "suffix": null
           },
           "discount_percent": null,
           "discounted_from": null,
           "id": 24078067,
           "sku": "2431659",
           "type": "vc",
           "url": "http://www.grandwinecellar.com/vsku2431659_TUA-RITA-REDIGAFFI-750ML-2018?utm_source=vivino&utm_medium=feed&utm_campaign=TUA%20RITA%20REDIGAFFI%202018",
           "visibility": 1
          },
          "prices": [
           {
            "amount": 299.99,
            "bottle_type": {
             "id": 1,
             "name": "Bottle (0.75l)",
             "short_name": "bottle",
             "short_name_plural": "bottles",
             "volume_ml": 750
            },
            "bottle_type_id": 1,
            "currency": {
             "code": "USD",
             "name": "US Dollars",
             "prefix": "$",
             "suffix": null
            },
            "discount_percent": null,
            "discounted_from": null,
            "id": 24078067,
            "sku": "2431659",
            "type": "vc",
            "url": "http://www.grandwinecellar.com/vsku2431659_TUA-RITA-REDIGAFFI-750ML-2018?utm_source=vivino&utm_medium=feed&utm_campaign=TUA%20RITA%20REDIGAFFI%202018",
            "visibility": 1
           }
          ],
          "vintage": {
           "grapes": null,
           "has_valid_ratings": true,
           "id": 156150813,
           "image": {
            "location": "//images.vivino.com/thumbs/FFZUPNsuR7Og6_Ou2Bb1MQ_pl_480x640.png",
            "variations": {
             "bottle_large": "//images.vivino.com/thumbs/FFZUPNsuR7Og6_Ou2Bb1MQ_pb_x960.png",
             "bottle_medium": "//images.vivino.com/thumbs/FFZUPNsuR7Og6_Ou2Bb1MQ_pb_x600.png",
             "bottle_medium_square": "//images.vivino.com/thumbs/FFZUPNsuR7Og6_Ou2Bb1MQ_pb_600x600.png",
             "bottle_small": "//images.vivino.com/thumbs/FFZUPNsuR7Og6_Ou2Bb1MQ_pb_x300.png",
             "bottle_small_square": "//images.vivino.com/thumbs/FFZUPNsuR7Og6_Ou2Bb1MQ_pb_300x300.png",
             "label": "//images.vivino.com/thumbs/FFZUPNsuR7Og6_Ou2Bb1MQ_pl_480x640.png",
             "label_large": "//images.vivino.com/thumbs/FFZUPNsuR7Og6_Ou2Bb1MQ_pl_375x500.png",
             "label_medium": "//images.vivino.com/thumbs/FFZUPNsuR7Og6_Ou2Bb1MQ_pl_150x200.png",
             "label_medium_square": "//images.vivino.com/thumbs/FFZUPNsuR7Og6_Ou2Bb1MQ_pl_150x150.png",
             "label_small_square": "//images.vivino.com/thumbs/FFZUPNsuR7Og6_Ou2Bb1MQ_pl_80x80.png",
             "large": "//images.vivino.com/thumbs/FFZUPNsuR7Og6_Ou2Bb1MQ_pl_375x500.png",
             "medium": "//images.vivino.com/thumbs/FFZUPNsuR7Og6_Ou2Bb1MQ_pl_150x200.png",
             "medium_square": "//images.vivino.com/thumbs/FFZUPNsuR7Og6_Ou2Bb1MQ_pl_150x150.png",
             "small_square": "//images.vivino.com/thumbs/FFZUPNsuR7Og6_Ou2Bb1MQ_pl_80x80.png"
            }
           },
           "name": "Tua Rita Redigaffi Toscana 2018",
           "seo_name": "tua-rita-redigaffi-toscana-2018",
           "statistics": {
            "labels_count": 306,
            "ratings_average": 4.8,
            "ratings_count": 30,
            "status": "Normal"
           },
           "wine": {
            "has_valid_ratings": true,
            "id": 75816,
            "is_natural": false,
            "name": "Redigaffi Toscana",
            "region": {
             "background_image": {
              "location": "//images.vivino.com/regions/backgrounds/QV6V0jC2TDaRmClhy9wNfw.jpg",
              "variations": {
               "large": "//thumbs.vivino.com/region_backgrounds/QV6V0jC2TDaRmClhy9wNfw_1280x760.jpg",
               "medium": "//thumbs.vivino.com/region_backgrounds/QV6V0jC2TDaRmClhy9wNfw_600x356.jpg"
              }
             },
             "class": {
              "typecast_map": {
               "background_image": {},
               "class": {}
              }
             },
             "country": {
              "code": "it",
              "currency": {
               "code": "EUR",
               "name": "Euros",
               "prefix": "€",
               "suffix": null
              },
              "most_used_grapes": [
               {
                "has_detailed_info": true,
                "id": 16,
                "name": "Sangiovese",
                "seo_name": "sangiovese",
                "wines_count": 113644
               },
               {
                "has_detailed_info": true,
                "id": 10,
                "name": "Merlot",
                "seo_name": "merlot",
                "wines_count": 510808
               },
               {
                "has_detailed_info": true,
                "id": 5,
                "name": "Chardonnay",
                "seo_name": "chardonnay",
                "wines_count": 541509
               }
              ],
              "name": "Italy",
              "native_name": "Italia",
              "regions_count": 554,
              "seo_name": "italy",
              "users_count": 3569064,
              "wineries_count": 39907,
              "wines_count": 333926
             },
             "id": 394,
             "name": "Toscana",
             "name_en": "Tuscany",
             "seo_name": "tuscany"
            },
            "seo_name": "redigaffi-toscana",
            "statistics": {
             "labels_count": 20813,
             "ratings_average": 4.5,
             "ratings_count": 3692,
             "status": "Normal",
             "vintages_count": 52
            },
            "style": {
             "acidity": 2,
             "acidity_description": "Medium",
             "background_image": {
              "location": "//images.vivino.com/backgrounds/styles/BXXr-O0mSW6FPSTzja6nuQ.jpg",
              "variations": {
               "small": "//images.vivino.com/backgrounds/styles/thumbs/BXXr-O0mSW6FPSTzja6nuQ_932x810.jpg"
              }
             },
             "blurb": null,
             "body": 3,
             "body_description": "Medium-bodied",
             "country": {
              "code": "it",
              "currency": {
               "code": "EUR",
               "name": "Euros",
               "prefix": "€",
               "suffix": null
              },
              "most_used_grapes": [
               {
                "has_detailed_info": true,
                "id": 16,
                "name": "Sangiovese",
                "seo_name": "sangiovese",
                "wines_count": 113644
               },
               {
                "has_detailed_info": true,
                "id": 10,
                "name": "Merlot",
                "seo_name": "merlot",
                "wines_count": 510808
               },
               {
                "has_detailed_info": true,
                "id": 5,
                "name": "Chardonnay",
                "seo_name": "chardonnay",
                "wines_count": 541509
               }
              ],
              "name": "Italy",
              "native_name": "Italia",
              "regions_count": 554,
              "seo_name": "italy",
              "users_count": 3569064,
              "wineries_count": 39907,
              "wines_count": 333926
             },
             "description": null,
             "food": [
              {
               "background_image": {
                "location": "//images.vivino.com/backgrounds/foods/4_beef.png",
                "variations": {
                 "small": "//images.vivino.com/backgrounds/foods/thumbs/4_beef_932x810.png"
                }
               },
               "id": 4,
               "name": "Beef",
               "seo_name": "beef"
              },
              {
               "background_image": {
                "location": "//images.vivino.com/backgrounds/foods/8_lamb.png",
                "variations": {
                 "small": "//images.vivino.com/backgrounds/foods/thumbs/8_lamb_932x810.png"
                }
               },
               "id": 8,
               "name": "Lamb",
               "seo_name": "lamb"
              },
              {
               "background_image": {
                "location": "//images.vivino.com/backgrounds/foods/9_veal.png",
                "variations": {
                 "small": "//images.vivino.com/backgrounds/foods/thumbs/9_veal_932x810.png"
                }
               },
               "id": 9,
               "name": "Veal",
               "seo_name": "veal"
              },
              {
               "background_image": {
                "location": "//images.vivino.com/backgrounds/foods/20_chicken.png",
                "variations": {
                 "small": "//images.vivino.com/backgrounds/foods/thumbs/20_chicken_932x810.png"
                }
               },
               "id": 20,
               "name": "Poultry",
               "seo_name": "poultry"
              },
              {
               "background_image": {
                "location": "//images.vivino.com/backgrounds/foods/41_curedmeat.png",
                "variations": {
                 "small": "//images.vivino.com/backgrounds/foods/thumbs/41_curedmeat_932x810.png"
                }
               },
               "id": 41,
               "name": "Cured Meat",
               "seo_name": null
              }
             ],
             "grapes": [
              {
               "has_detailed_info": true,
               "id": 2,
               "name": "Cabernet Sauvignon",
               "seo_name": "cabernet-sauvignon",
               "wines_count": 725925
              },
              {
               "has_detailed_info": true,
               "id": 10,
               "name": "Merlot",
               "seo_name": "merlot",
               "wines_count": 510808
              },
              {
               "has_detailed_info": true,
               "id": 16,
               "name": "Sangiovese",
               "seo_name": "sangiovese",
               "wines_count": 113644
              },
              {
               "has_detailed_info": false,
               "id": 64,
               "name": "Canaiolo Nero",
               "seo_name": "canaiolo-nero",
               "wines_count": 4538
              }
             ],
             "id": 292,
             "image": null,
             "interesting_facts": null,
             "name": "Tuscan Red",
             "region": {
              "background_image": {
               "location": "//images.vivino.com/regions/backgrounds/QV6V0jC2TDaRmClhy9wNfw.jpg",
               "variations": {
                "large": "//thumbs.vivino.com/region_backgrounds/QV6V0jC2TDaRmClhy9wNfw_1280x760.jpg",
                "medium": "//thumbs.vivino.com/region_backgrounds/QV6V0jC2TDaRmClhy9wNfw_600x356.jpg"
               }
              },
              "class": {
               "typecast_map": {
                "background_image": {},
                "class": {}
               }
              },
              "country": {
               "code": "it",
               "currency": {
                "code": "EUR",
                "name": "Euros",
                "prefix": "€",
                "suffix": null
               },
               "most_used_grapes": [
                {
                 "has_detailed_info": true,
                 "id": 16,
                 "name": "Sangiovese",
                 "seo_name": "sangiovese",
                 "wines_count": 113644
                },
                {
                 "has_detailed_info": true,
                 "id": 10,
                 "name": "Merlot",
                 "seo_name": "merlot",
                 "wines_count": 510808
                },
                {
                 "has_detailed_info": true,
                 "id": 5,
                 "name": "Chardonnay",
                 "seo_name": "chardonnay",
                 "wines_count": 541509
                }
               ],
               "name": "Italy",
               "native_name": "Italia",
               "regions_count": 554,
               "seo_name": "italy",
               "users_count": 3569064,
               "wineries_count": 39907,
               "wines_count": 333926
              },
              "id": 394,
              "name": "Toscana",
              "name_en": "Tuscany",
              "seo_name": "tuscany"
             },
             "regional_name": "Tuscan",
             "seo_name": "tuscan-red",
             "varietal_name": "Red",
             "wine_type_id": 1
            },
            "taste": {
             "flavor": [
              {
               "group": "oak",
               "stats": {
                "count": 182,
                "score": 26093
               }
              },
              {
               "group": "black_fruit",
               "stats": {
                "count": 137,
                "score": 20672
               }
              },
              {
               "group": "earth",
               "stats": {
                "count": 125,
                "score": 11743
               }
              },
              {
               "group": "non_oak",
               "stats": {
                "count": 118,
                "score": 3178
               }
              },
              {
               "group": "spices",
               "stats": {
                "count": 93,
                "score": 8619
               }
              },
              {
               "group": "red_fruit",
               "stats": {
                "count": 71,
                "score": 5845
               }
              },
              {
               "group": "microbio",
               "stats": {
                "count": 25,
                "score": 1560
               }
              },
              {
               "group": "floral",
               "stats": {
                "count": 24,
                "score": 2250
               }
              },
              {
               "group": "dried_fruit",
               "stats": {
                "count": 24,
                "score": 1947
               }
              },
              {
               "group": "vegetal",
               "stats": {
                "count": 7,
                "score": 393
               }
              },
              {
               "group": "citrus_fruit",
               "stats": {
                "count": 7,
                "score": 700
               }
              },
              {
               "group": "tropical_fruit",
               "stats": {
                "count": 1,
                "score": 100
               }
              },
              {
               "group": "tree_fruit",
               "stats": {
                "count": 1,
                "score": 100
               }
              }
             ],
             "structure": {
              "acidity": 3.0145197,
              "calculated_structure_count": 230,
              "fizziness": null,
              "intensity": 3.4580848,
              "sweetness": 1.9861277,
              "tannin": 2.971346,
              "user_structure_count": 239
             }
            },
            "type_id": 1,
            "vintage_type": 0,
            "winery": {
             "id": 11007,
             "name": "Tua Rita",
             "seo_name": "tua-rita",
             "status": 0
            }
           },
           "year": 2018
          }
         },
         {
          "price": {
           "amount": 299.99,
           "bottle_type": {
            "id": 4,
            "name": "Magnum Bottle (1.5 l)",
            "short_name": "magnum",
            "short_name_plural": "magnums",
            "volume_ml": 1500
           },
           "bottle_type_id": 4,
           "currency": {
            "code": "USD",
            "name": "US Dollars",
            "prefix": "$",
            "suffix": null
           },
           "discount_percent": null,
           "discounted_from": null,
           "id": 23154560,
           "sku": "4875079581778",
           "type": "vc",
           "url": "https://www.brix26.com/products/saxum-2018-broken-stones-paso-robles-magnum-1-5l?variant=33107262079058",
           "visibility": 1
          },
          "prices": [
           {
            "amount": 299.99,
            "bottle_type": {
             "id": 4,
             "name": "Magnum Bottle (1.5 l)",
             "short_name": "magnum",
             "short_name_plural": "magnums",
             "volume_ml": 1500
            },
            "bottle_type_id": 4,
            "currency": {
             "code": "USD",
             "name": "US Dollars",
             "prefix": "$",
             "suffix": null
            },
            "discount_percent": null,
            "discounted_from": null,
            "id": 23154560,
            "sku": "4875079581778",
            "type": "vc",
            "url": "https://www.brix26.com/products/saxum-2018-broken-stones-paso-robles-magnum-1-5l?variant=33107262079058",
            "visibility": 1
           }
          ],
          "vintage": {
           "grapes": null,
           "has_valid_ratings": true,
           "id": 156808121,
           "image": {
            "location": "//images.vivino.com/thumbs/wNq6CTO5TG-pTZdn-CRapw_pl_480x640.png",
            "variations": {
             "bottle_large": "//images.vivino.com/thumbs/wNq6CTO5TG-pTZdn-CRapw_pb_x960.png",
             "bottle_medium": "//images.vivino.com/thumbs/wNq6CTO5TG-pTZdn-CRapw_pb_x600.png",
             "bottle_medium_square": "//images.vivino.com/thumbs/wNq6CTO5TG-pTZdn-CRapw_pb_600x600.png",
             "bottle_small": "//images.vivino.com/thumbs/wNq6CTO5TG-pTZdn-CRapw_pb_x300.png",
             "bottle_small_square": "//images.vivino.com/thumbs/wNq6CTO5TG-pTZdn-CRapw_pb_300x300.png",
             "label": "//images.vivino.com/thumbs/wNq6CTO5TG-pTZdn-CRapw_pl_480x640.png",
             "label_large": "//images.vivino.com/thumbs/wNq6CTO5TG-pTZdn-CRapw_pl_375x500.png",
             "label_medium": "//images.vivino.com/thumbs/wNq6CTO5TG-pTZdn-CRapw_pl_150x200.png",
             "label_medium_square": "//images.vivino.com/thumbs/wNq6CTO5TG-pTZdn-CRapw_pl_150x150.png",
             "label_small_square": "//images.vivino.com/thumbs/wNq6CTO5TG-pTZdn-CRapw_pl_80x80.png",
             "large": "//images.vivino.com/thumbs/wNq6CTO5TG-pTZdn-CRapw_pl_375x500.png",
             "medium": "//images.vivino.com/thumbs/wNq6CTO5TG-pTZdn-CRapw_pl_150x200.png",
             "medium_square": "//images.vivino.com/thumbs/wNq6CTO5TG-pTZdn-CRapw_pl_150x150.png",
             "small_square": "//images.vivino.com/thumbs/wNq6CTO5TG-pTZdn-CRapw_pl_80x80.png"
            }
           },
           "name": "Saxum Broken Stones 2018",
           "seo_name": "us-saxum-broken-stones-2018",
           "statistics": {
            "labels_count": 203,
            "ratings_average": 4.8,
            "ratings_count": 28,
            "status": "Normal"
           },
           "wine": {
            "has_valid_ratings": true,
            "id": 1124678,
            "is_natural": false,
            "name": "Broken Stones",
            "region": {
             "background_image": {
              "location": "//images.vivino.com/regions/backgrounds/00faJ9plTa-fFEMDAsvmDQ.jpg",
              "variations": {
               "large": "//thumbs.vivino.com/region_backgrounds/00faJ9plTa-fFEMDAsvmDQ_1280x760.jpg",
               "medium": "//thumbs.vivino.com/region_backgrounds/00faJ9plTa-fFEMDAsvmDQ_600x356.jpg"
              }
             },
             "class": {
              "typecast_map": {
               "background_image": {},
               "class": {}
              }
             },
             "country": {
              "code": "us",
              "currency": {
               "code": "USD",
               "name": "US Dollars",
               "prefix": "$",
               "suffix": null
              },
              "most_used_grapes": [
               {
                "has_detailed_info": true,
                "id": 2,
                "name": "Cabernet Sauvignon",
                "seo_name": "cabernet-sauvignon",
                "wines_count": 725925
               },
               {
                "has_detailed_info": true,
                "id": 14,
                "name": "Pinot Noir",
                "seo_name": "pinot-noir",
                "wines_count": 513244
               },
               {
                "has_detailed_info": true,
                "id": 5,
                "name": "Chardonnay",
                "seo_name": "chardonnay",
                "wines_count": 541509
               }
              ],
              "name": "United States",
              "native_name": "United States",
              "regions_count": 357,
              "seo_name": "united-states",
              "users_count": 10104977,
              "wineries_count": 26264,
              "wines_count": 230446
             },
             "id": 684,
             "name": "Paso Robles",
             "name_en": "",
             "seo_name": "paso-robles"
            },
            "seo_name": "broken-stones",
            "statistics": {
             "labels_count": 6509,
             "ratings_average": 4.6,
             "ratings_count": 1206,
             "status": "Normal",
             "vintages_count": 33
            },
            "style": {
             "acidity": 3,
             "acidity_description": "High",
             "background_image": null,
             "blurb": null,
             "body": 4,
             "body_description": "Full-bodied",
             "country": {
              "code": "us",
              "currency": {
               "code": "USD",
               "name": "US Dollars",
               "prefix": "$",
               "suffix": null
              },
              "most_used_grapes": [
               {
                "has_detailed_info": true,
                "id": 2,
                "name": "Cabernet Sauvignon",
                "seo_name": "cabernet-sauvignon",
                "wines_count": 725925
               },
               {
                "has_detailed_info": true,
                "id": 14,
                "name": "Pinot Noir",
                "seo_name": "pinot-noir",
                "wines_count": 513244
               },
               {
                "has_detailed_info": true,
                "id": 5,
                "name": "Chardonnay",
                "seo_name": "chardonnay",
                "wines_count": 541509
               }
              ],
              "name": "United States",
              "native_name": "United States",
              "regions_count": 357,
              "seo_name": "united-states",
              "users_count": 10104977,
              "wineries_count": 26264,
              "wines_count": 230446
             },
             "description": null,
             "food": [
              {
               "background_image": {
                "location": "//images.vivino.com/backgrounds/foods/4_beef.png",
                "variations": {
                 "small": "//images.vivino.com/backgrounds/foods/thumbs/4_beef_932x810.png"
                }
               },
               "id": 4,
               "name": "Beef",
               "seo_name": "beef"
              },
              {
               "background_image": {
                "location": "//images.vivino.com/backgrounds/foods/5_pasta.png",
                "variations": {
                 "small": "//images.vivino.com/backgrounds/foods/thumbs/5_pasta_932x810.png"
                }
               },
               "id": 5,
               "name": "Pasta",
               "seo_name": null
              },
              {
               "background_image": {
                "location": "//images.vivino.com/backgrounds/foods/8_lamb.png",
                "variations": {
                 "small": "//images.vivino.com/backgrounds/foods/thumbs/8_lamb_932x810.png"
                }
               },
               "id": 8,
               "name": "Lamb",
               "seo_name": "lamb"
              },
              {
               "background_image": {
                "location": "//images.vivino.com/backgrounds/foods/11_venison.png",
                "variations": {
                 "small": "//images.vivino.com/backgrounds/foods/thumbs/11_venison_932x810.png"
                }
               },
               "id": 11,
               "name": "Game (deer, venison)",
               "seo_name": "game"
              }
             ],
             "grapes": [
              {
               "has_detailed_info": true,
               "id": 1,
               "name": "Shiraz/Syrah",
               "seo_name": "shiraz-syrah",
               "wines_count": 494130
              },
              {
               "has_detailed_info": true,
               "id": 8,
               "name": "Grenache",
               "seo_name": "grenache-noir",
               "wines_count": 211352
              },
              {
               "has_detailed_info": true,
               "id": 22,
               "name": "Mourvedre",
               "seo_name": "mourvedre",
               "wines_count": 89986
              }
             ],
             "id": 178,
             "image": null,
             "interesting_facts": null,
             "name": "Californian Rhône Blend Red",
             "region": {
              "background_image": {
               "location": "//images.vivino.com/regions/backgrounds/HNZzLu5DSQ2VV5Ls5S02OQ.jpg",
               "variations": {
                "large": "//thumbs.vivino.com/region_backgrounds/HNZzLu5DSQ2VV5Ls5S02OQ_1280x760.jpg",
                "medium": "//thumbs.vivino.com/region_backgrounds/HNZzLu5DSQ2VV5Ls5S02OQ_600x356.jpg"
               }
              },
              "class": {
               "typecast_map": {
                "background_image": {},
                "class": {}
               }
              },
              "country": {
               "code": "us",
               "currency": {
                "code": "USD",
                "name": "US Dollars",
                "prefix": "$",
                "suffix": null
               },
               "most_used_grapes": [
                {
                 "has_detailed_info": true,
                 "id": 2,
                 "name": "Cabernet Sauvignon",
                 "seo_name": "cabernet-sauvignon",
                 "wines_count": 725925
                },
                {
                 "has_detailed_info": true,
                 "id": 14,
                 "name": "Pinot Noir",
                 "seo_name": "pinot-noir",
                 "wines_count": 513244
                },
                {
                 "has_detailed_info": true,
                 "id": 5,
                 "name": "Chardonnay",
                 "seo_name": "chardonnay",
                 "wines_count": 541509
                }
               ],
               "name": "United States",
               "native_name": "United States",
               "regions_count": 357,
               "seo_name": "united-states",
               "users_count": 10104977,
               "wineries_count": 26264,
               "wines_count": 230446
              },
              "id": 24,
              "name": "California",
              "name_en": "",
              "seo_name": "california"
             },
             "regional_name": "Californian",
             "seo_name": "californian-rhone-blend",
             "varietal_name": "Rhône Blend",
             "wine_type_id": 1
            },
            "taste": {
             "flavor": [
              {
               "group": "black_fruit",
               "stats": {
                "count": 110,
                "score": 17023
               }
              },
              {
               "group": "oak",
               "stats": {
                "count": 88,
                "score": 10343
               }
              },
              {
               "group": "earth",
               "stats": {
                "count": 72,
                "score": 8955
               }
              },
              {
               "group": "spices",
               "stats": {
                "count": 60,
                "score": 6099
               }
              },
              {
               "group": "non_oak",
               "stats": {
                "count": 56,
                "score": 1219
               }
              },
              {
               "group": "red_fruit",
               "stats": {
                "count": 55,
                "score": 5972
               }
              },
              {
               "group": "microbio",
               "stats": {
                "count": 11,
                "score": 693
               }
              },
              {
               "group": "floral",
               "stats": {
                "count": 8,
                "score": 650
               }
              },
              {
               "group": "dried_fruit",
               "stats": {
                "count": 7,
                "score": 596
               }
              },
              {
               "group": "vegetal",
               "stats": {
                "count": 4,
                "score": 250
               }
              },
              {
               "group": "tree_fruit",
               "stats": {
                "count": 3,
                "score": 300
               }
              },
              {
               "group": "citrus_fruit",
               "stats": {
                "count": 3,
                "score": 300
               }
              }
             ],
             "structure": {
              "acidity": 3.4986732,
              "calculated_structure_count": 190,
              "fizziness": null,
              "intensity": 4.7500043,
              "sweetness": 1.7899489,
              "tannin": 3.5423436,
              "user_structure_count": 28
             }
            },
            "type_id": 1,
            "vintage_type": 0,
            "winery": {
             "id": 1391,
             "name": "Saxum",
             "seo_name": "us-saxum",
             "status": 0
            }
           },
           "year": 2018
          }
         },
         {
          "price": {
           "amount": 194.95,
           "bottle_type": {
            "id": 1,
            "name": "Bottle (0.75l)",
            "short_name": "bottle",
            "short_name_plural": "bottles",
            "volume_ml": 750
           },
           "bottle_type_id": 1,
           "currency": {
            "code": "USD",
            "name": "US Dollars",
            "prefix": "$",
            "suffix": null
           },
           "discount_percent": null,
           "discounted_from": null,
           "id": 23815603,
           "sku": "4955202289746",
           "type": "vc",
           "url": "https://www.brix26.com/products/pahlmeyer-2017-proprietary-red-napa-valley?variant=33279862046802",
           "visibility": 1
          },
          "prices": [
           {
            "amount": 194.95,
            "bottle_type": {
             "id": 1,
             "name": "Bottle (0.75l)",
             "short_name": "bottle",
             "short_name_plural": "bottles",
             "volume_ml": 750
            },
            "bottle_type_id": 1,
            "currency": {
             "code": "USD",
             "name": "US Dollars",
             "prefix": "$",
             "suffix": null
            },
            "discount_percent": null,
            "discounted_from": null,
            "id": 23815603,
            "sku": "4955202289746",
            "type": "vc",
            "url": "https://www.brix26.com/products/pahlmeyer-2017-proprietary-red-napa-valley?variant=33279862046802",
            "visibility": 1
           }
          ],
          "vintage": {
           "grapes": null,
           "has_valid_ratings": true,
           "id": 150457837,
           "image": {
            "location": "//images.vivino.com/thumbs/1OLeYE2nTzCqm-NCePd52g_pl_480x640.png",
            "variations": {
             "bottle_large": "//images.vivino.com/thumbs/1OLeYE2nTzCqm-NCePd52g_pb_x960.png",
             "bottle_medium": "//images.vivino.com/thumbs/1OLeYE2nTzCqm-NCePd52g_pb_x600.png",
             "bottle_medium_square": "//images.vivino.com/thumbs/1OLeYE2nTzCqm-NCePd52g_pb_600x600.png",
             "bottle_small": "//images.vivino.com/thumbs/1OLeYE2nTzCqm-NCePd52g_pb_x300.png",
             "bottle_small_square": "//images.vivino.com/thumbs/1OLeYE2nTzCqm-NCePd52g_pb_300x300.png",
             "label": "//images.vivino.com/thumbs/1OLeYE2nTzCqm-NCePd52g_pl_480x640.png",
             "label_large": "//images.vivino.com/thumbs/1OLeYE2nTzCqm-NCePd52g_pl_375x500.png",
             "label_medium": "//images.vivino.com/thumbs/1OLeYE2nTzCqm-NCePd52g_pl_150x200.png",
             "label_medium_square": "//images.vivino.com/thumbs/1OLeYE2nTzCqm-NCePd52g_pl_150x150.png",
             "label_small_square": "//images.vivino.com/thumbs/1OLeYE2nTzCqm-NCePd52g_pl_80x80.png",
             "large": "//images.vivino.com/thumbs/1OLeYE2nTzCqm-NCePd52g_pl_375x500.png",
             "medium": "//images.vivino.com/thumbs/1OLeYE2nTzCqm-NCePd52g_pl_150x200.png",
             "medium_square": "//images.vivino.com/thumbs/1OLeYE2nTzCqm-NCePd52g_pl_150x150.png",
             "small_square": "//images.vivino.com/thumbs/1OLeYE2nTzCqm-NCePd52g_pl_80x80.png"
            }
           },
           "name": "Pahlmeyer Proprietary Red 2017",
           "seo_name": "pahlmeyer-proprietary-red-2017",
           "statistics": {
            "labels_count": 404,
            "ratings_average": 4.8,
            "ratings_count": 27,
            "status": "Normal"
           },
           "wine": {
            "has_valid_ratings": true,
            "id": 5072,
            "is_natural": false,
            "name": "Proprietary Red",
            "region": {
             "background_image": {
              "location": "//images.vivino.com/regions/backgrounds/cP8NlYVPSUStyROqZeBzgA.jpg",
              "variations": {
               "large": "//thumbs.vivino.com/region_backgrounds/cP8NlYVPSUStyROqZeBzgA_1280x760.jpg",
               "medium": "//thumbs.vivino.com/region_backgrounds/cP8NlYVPSUStyROqZeBzgA_600x356.jpg"
              }
             },
             "class": {
              "typecast_map": {
               "background_image": {},
               "class": {}
              }
             },
             "country": {
              "code": "us",
              "currency": {
               "code": "USD",
               "name": "US Dollars",
               "prefix": "$",
               "suffix": null
              },
              "most_used_grapes": [
               {
                "has_detailed_info": true,
                "id": 2,
                "name": "Cabernet Sauvignon",
                "seo_name": "cabernet-sauvignon",
                "wines_count": 725925
               },
               {
                "has_detailed_info": true,
                "id": 14,
                "name": "Pinot Noir",
                "seo_name": "pinot-noir",
                "wines_count": 513244
               },
               {
                "has_detailed_info": true,
                "id": 5,
                "name": "Chardonnay",
                "seo_name": "chardonnay",
                "wines_count": 541509
               }
              ],
              "name": "United States",
              "native_name": "United States",
              "regions_count": 357,
              "seo_name": "united-states",
              "users_count": 10104977,
              "wineries_count": 26264,
              "wines_count": 230446
             },
             "id": 25,
             "name": "Napa Valley",
             "name_en": "",
             "seo_name": "napa-valley"
            },
            "seo_name": "proprietary-red",
            "statistics": {
             "labels_count": 49159,
             "ratings_average": 4.6,
             "ratings_count": 6844,
             "status": "Normal",
             "vintages_count": 45
            },
            "style": {
             "acidity": 2,
             "acidity_description": "Medium",
             "background_image": {
              "location": "//images.vivino.com/backgrounds/styles/lkl1g1AyRWiGuiC_PycS4w.jpg",
              "variations": {
               "small": "//images.vivino.com/backgrounds/styles/thumbs/lkl1g1AyRWiGuiC_PycS4w_932x810.jpg"
              }
             },
             "blurb": null,
             "body": 4,
             "body_description": "Full-bodied",
             "country": {
              "code": "us",
              "currency": {
               "code": "USD",
               "name": "US Dollars",
               "prefix": "$",
               "suffix": null
              },
              "most_used_grapes": [
               {
                "has_detailed_info": true,
                "id": 2,
                "name": "Cabernet Sauvignon",
                "seo_name": "cabernet-sauvignon",
                "wines_count": 725925
               },
               {
                "has_detailed_info": true,
                "id": 14,
                "name": "Pinot Noir",
                "seo_name": "pinot-noir",
                "wines_count": 513244
               },
               {
                "has_detailed_info": true,
                "id": 5,
                "name": "Chardonnay",
                "seo_name": "chardonnay",
                "wines_count": 541509
               }
              ],
              "name": "United States",
              "native_name": "United States",
              "regions_count": 357,
              "seo_name": "united-states",
              "users_count": 10104977,
              "wineries_count": 26264,
              "wines_count": 230446
             },
             "description": null,
             "food": [
              {
               "background_image": {
                "location": "//images.vivino.com/backgrounds/foods/4_beef.png",
                "variations": {
                 "small": "//images.vivino.com/backgrounds/foods/thumbs/4_beef_932x810.png"
                }
               },
               "id": 4,
               "name": "Beef",
               "seo_name": "beef"
              },
              {
               "background_image": {
                "location": "//images.vivino.com/backgrounds/foods/8_lamb.png",
                "variations": {
                 "small": "//images.vivino.com/backgrounds/foods/thumbs/8_lamb_932x810.png"
                }
               },
               "id": 8,
               "name": "Lamb",
               "seo_name": "lamb"
              },
              {
               "background_image": {
                "location": "//images.vivino.com/backgrounds/foods/11_venison.png",
                "variations": {
                 "small": "//images.vivino.com/backgrounds/foods/thumbs/11_venison_932x810.png"
                }
               },
               "id": 11,
               "name": "Game (deer, venison)",
               "seo_name": "game"
              },
              {
               "background_image": {
                "location": "//images.vivino.com/backgrounds/foods/20_chicken.png",
                "variations": {
                 "small": "//images.vivino.com/backgrounds/foods/thumbs/20_chicken_932x810.png"
                }
               },
               "id": 20,
               "name": "Poultry",
               "seo_name": "poultry"
              }
             ],
             "grapes": [
              {
               "has_detailed_info": true,
               "id": 2,
               "name": "Cabernet Sauvignon",
               "seo_name": "cabernet-sauvignon",
               "wines_count": 725925
              },
              {
               "has_detailed_info": true,
               "id": 3,
               "name": "Cabernet Franc",
               "seo_name": "cabernet-franc",
               "wines_count": 243121
              },
              {
               "has_detailed_info": true,
               "id": 9,
               "name": "Malbec",
               "seo_name": "malbec",
               "wines_count": 197235
              },
              {
               "has_detailed_info": true,
               "id": 10,
               "name": "Merlot",
               "seo_name": "merlot",
               "wines_count": 510808
              },
              {
               "has_detailed_info": true,
               "id": 42,
               "name": "Petit Verdot",
               "seo_name": "petit-verdot",
               "wines_count": 74892
              }
             ],
             "id": 290,
             "image": null,
             "interesting_facts": null,
             "name": "Napa Valley Bordeaux Blend",
             "region": {
              "background_image": {
               "location": "//images.vivino.com/regions/backgrounds/cP8NlYVPSUStyROqZeBzgA.jpg",
               "variations": {
                "large": "//thumbs.vivino.com/region_backgrounds/cP8NlYVPSUStyROqZeBzgA_1280x760.jpg",
                "medium": "//thumbs.vivino.com/region_backgrounds/cP8NlYVPSUStyROqZeBzgA_600x356.jpg"
               }
              },
              "class": {
               "typecast_map": {
                "background_image": {},
                "class": {}
               }
              },
              "country": {
               "code": "us",
               "currency": {
                "code": "USD",
                "name": "US Dollars",
                "prefix": "$",
                "suffix": null
               },
               "most_used_grapes": [
                {
                 "has_detailed_info": true,
                 "id": 2,
                 "name": "Cabernet Sauvignon",
                 "seo_name": "cabernet-sauvignon",
                 "wines_count": 725925
                },
                {
                 "has_detailed_info": true,
                 "id": 14,
                 "name": "Pinot Noir",
                 "seo_name": "pinot-noir",
                 "wines_count": 513244
                },
                {
                 "has_detailed_info": true,
                 "id": 5,
                 "name": "Chardonnay",
                 "seo_name": "chardonnay",
                 "wines_count": 541509
                }
               ],
               "name": "United States",
               "native_name": "United States",
               "regions_count": 357,
               "seo_name": "united-states",
               "users_count": 10104977,
               "wineries_count": 26264,
               "wines_count": 230446
              },
              "id": 25,
              "name": "Napa Valley",
              "name_en": "",
              "seo_name": "napa-valley"
             },
             "regional_name": "Napa Valley",
             "seo_name": "napa-valley-bordeaux-blend",
             "varietal_name": "Bordeaux Blend",
             "wine_type_id": 1
            },
            "taste": {
             "flavor": [
              {
               "group": "oak",
               "stats": {
                "count": 342,
                "score": 46956
               }
              },
              {
               "group": "black_fruit",
               "stats": {
                "count": 280,
                "score": 41550
               }
              },
              {
               "group": "non_oak",
               "stats": {
                "count": 220,
                "score": 4447
               }
              },
              {
               "group": "earth",
               "stats": {
                "count": 203,
                "score": 16947
               }
              },
              {
               "group": "spices",
               "stats": {
                "count": 162,
                "score": 9277
               }
              },
              {
               "group": "red_fruit",
               "stats": {
                "count": 140,
                "score": 11191
               }
              },
              {
               "group": "microbio",
               "stats": {
                "count": 45,
                "score": 3142
               }
              },
              {
               "group": "dried_fruit",
               "stats": {
                "count": 22,
                "score": 1587
               }
              },
              {
               "group": "floral",
               "stats": {
                "count": 15,
                "score": 1275
               }
              },
              {
               "group": "vegetal",
               "stats": {
                "count": 10,
                "score": 795
               }
              },
              {
               "group": "citrus_fruit",
               "stats": {
                "count": 6,
                "score": 600
               }
              },
              {
               "group": "tree_fruit",
               "stats": {
                "count": 3,
                "score": 300
               }
              },
              {
               "group": "tropical_fruit",
               "stats": {
                "count": 1,
                "score": 33
               }
              }
             ],
             "structure": {
              "acidity": 3.824524,
              "calculated_structure_count": 718,
              "fizziness": null,
              "intensity": 4.7715206,
              "sweetness": 1.7013088,
              "tannin": 3.3735065,
              "user_structure_count": 128
             }
            },
            "type_id": 1,
            "vintage_type": 0,
            "winery": {
             "id": 1362,
             "name": "Pahlmeyer",
             "seo_name": "pahlmeyer",
             "status": 0
            }
           },
           "year": 2017
          }
         },
         {
          "price": {
           "amount": 296.6566666666667,
           "bottle_type": {
            "id": 1,
            "name": "Bottle (0.75l)",
            "short_name": "bottle",
            "short_name_plural": "bottles",
            "volume_ml": 750
           },
           "bottle_type_id": 1,
           "currency": {
            "code": "USD",
            "name": "US Dollars",
            "prefix": "$",
            "suffix": null
           },
           "discount_percent": null,
           "discounted_from": null,
           "id": 23376964,
           "sku": "nl13185",
           "type": "vc",
           "url": "http://vivino.cpdwineliquor.com/Product?PID=4187",
           "visibility": 1
          },
          "prices": [
           {
            "amount": 296.6566666666667,
            "bottle_type": {
             "id": 1,
             "name": "Bottle (0.75l)",
             "short_name": "bottle",
             "short_name_plural": "bottles",
             "volume_ml": 750
            },
            "bottle_type_id": 1,
            "currency": {
             "code": "USD",
             "name": "US Dollars",
             "prefix": "$",
             "suffix": null
            },
            "discount_percent": null,
            "discounted_from": null,
            "id": 23376964,
            "sku": "nl13185",
            "type": "vc",
            "url": "http://vivino.cpdwineliquor.com/Product?PID=4187",
            "visibility": 1
           }
          ],
          "vintage": {
           "grapes": null,
           "has_valid_ratings": true,
           "id": 121932638,
           "image": {
            "location": "//images.vivino.com/thumbs/D1Mf1fYnRnageFjtfLXdFg_pl_480x640.png",
            "variations": {
             "bottle_large": "//images.vivino.com/thumbs/D1Mf1fYnRnageFjtfLXdFg_pb_x960.png",
             "bottle_medium": "//images.vivino.com/thumbs/D1Mf1fYnRnageFjtfLXdFg_pb_x600.png",
             "bottle_medium_square": "//images.vivino.com/thumbs/D1Mf1fYnRnageFjtfLXdFg_pb_600x600.png",
             "bottle_small": "//images.vivino.com/thumbs/D1Mf1fYnRnageFjtfLXdFg_pb_x300.png",
             "bottle_small_square": "//images.vivino.com/thumbs/D1Mf1fYnRnageFjtfLXdFg_pb_300x300.png",
             "label": "//images.vivino.com/thumbs/D1Mf1fYnRnageFjtfLXdFg_pl_480x640.png",
             "label_large": "//images.vivino.com/thumbs/D1Mf1fYnRnageFjtfLXdFg_pl_375x500.png",
             "label_medium": "//images.vivino.com/thumbs/D1Mf1fYnRnageFjtfLXdFg_pl_150x200.png",
             "label_medium_square": "//images.vivino.com/thumbs/D1Mf1fYnRnageFjtfLXdFg_pl_150x150.png",
             "label_small_square": "//images.vivino.com/thumbs/D1Mf1fYnRnageFjtfLXdFg_pl_80x80.png",
             "large": "//images.vivino.com/thumbs/D1Mf1fYnRnageFjtfLXdFg_pl_375x500.png",
             "medium": "//images.vivino.com/thumbs/D1Mf1fYnRnageFjtfLXdFg_pl_150x200.png",
             "medium_square": "//images.vivino.com/thumbs/D1Mf1fYnRnageFjtfLXdFg_pl_150x150.png",
             "small_square": "//images.vivino.com/thumbs/D1Mf1fYnRnageFjtfLXdFg_pl_80x80.png"
            }
           },
           "name": "Viña Cobos Cobos Volturno 2016",
           "seo_name": "vina-cobos-cobos-volturno-2016",
           "statistics": {
            "labels_count": 1551,
            "ratings_average": 4.8,
            "ratings_count": 350,
            "status": "Normal"
           },
           "top_list_rankings": [
            {
             "description": null,
             "previous_rank": 1,
             "rank": 1,
             "top_list": {
              "id": 202028,
              "location": "_0",
              "name": "Vivino's 2020 Wine Style Awards: Argentinian Cabernet Sauvignon - Malbec",
              "seo_name": "wine_style_awards_2020_argentinian_cabernet_malbec",
              "type": 6,
              "year": "2020"
             }
            }
           ],
           "wine": {
            "has_valid_ratings": true,
            "id": 1505859,
            "is_natural": false,
            "name": "Cobos Volturno",
            "region": {
             "background_image": null,
             "country": {
              "code": "ar",
              "currency": {
               "code": "ARS",
               "name": "Argentinean Peso",
               "prefix": "$",
               "suffix": null
              },
              "most_used_grapes": [
               {
                "has_detailed_info": true,
                "id": 9,
                "name": "Malbec",
                "seo_name": "malbec",
                "wines_count": 197235
               },
               {
                "has_detailed_info": true,
                "id": 2,
                "name": "Cabernet Sauvignon",
                "seo_name": "cabernet-sauvignon",
                "wines_count": 725925
               },
               {
                "has_detailed_info": true,
                "id": 5,
                "name": "Chardonnay",
                "seo_name": "chardonnay",
                "wines_count": 541509
               }
              ],
              "name": "Argentina",
              "native_name": "Argentina",
              "regions_count": 39,
              "seo_name": "argentina",
              "users_count": 505817,
              "wineries_count": 4811,
              "wines_count": 42809
             },
             "id": 1600,
             "name": "Perdriel",
             "name_en": "",
             "seo_name": "perdriel"
            },
            "seo_name": "cobos-volturno",
            "statistics": {
             "labels_count": 11381,
             "ratings_average": 4.7,
             "ratings_count": 3160,
             "status": "Normal",
             "vintages_count": 40
            },
            "style": {
             "acidity": 3,
             "acidity_description": "High",
             "background_image": null,
             "blurb": null,
             "body": 4,
             "body_description": "Full-bodied",
             "country": {
              "code": "ar",
              "currency": {
               "code": "ARS",
               "name": "Argentinean Peso",
               "prefix": "$",
               "suffix": null
              },
              "most_used_grapes": [
               {
                "has_detailed_info": true,
                "id": 9,
                "name": "Malbec",
                "seo_name": "malbec",
                "wines_count": 197235
               },
               {
                "has_detailed_info": true,
                "id": 2,
                "name": "Cabernet Sauvignon",
                "seo_name": "cabernet-sauvignon",
                "wines_count": 725925
               },
               {
                "has_detailed_info": true,
                "id": 5,
                "name": "Chardonnay",
                "seo_name": "chardonnay",
                "wines_count": 541509
               }
              ],
              "name": "Argentina",
              "native_name": "Argentina",
              "regions_count": 39,
              "seo_name": "argentina",
              "users_count": 505817,
              "wineries_count": 4811,
              "wines_count": 42809
             },
             "description": null,
             "food": [
              {
               "background_image": {
                "location": "//images.vivino.com/backgrounds/foods/4_beef.png",
                "variations": {
                 "small": "//images.vivino.com/backgrounds/foods/thumbs/4_beef_932x810.png"
                }
               },
               "id": 4,
               "name": "Beef",
               "seo_name": "beef"
              },
              {
               "background_image": {
                "location": "//images.vivino.com/backgrounds/foods/8_lamb.png",
                "variations": {
                 "small": "//images.vivino.com/backgrounds/foods/thumbs/8_lamb_932x810.png"
                }
               },
               "id": 8,
               "name": "Lamb",
               "seo_name": "lamb"
              },
              {
               "background_image": {
                "location": "//images.vivino.com/backgrounds/foods/11_venison.png",
                "variations": {
                 "small": "//images.vivino.com/backgrounds/foods/thumbs/11_venison_932x810.png"
                }
               },
               "id": 11,
               "name": "Game (deer, venison)",
               "seo_name": "game"
              },
              {
               "background_image": {
                "location": "//images.vivino.com/backgrounds/foods/20_chicken.png",
                "variations": {
                 "small": "//images.vivino.com/backgrounds/foods/thumbs/20_chicken_932x810.png"
                }
               },
               "id": 20,
               "name": "Poultry",
               "seo_name": "poultry"
              }
             ],
             "grapes": [
              {
               "has_detailed_info": true,
               "id": 2,
               "name": "Cabernet Sauvignon",
               "seo_name": "cabernet-sauvignon",
               "wines_count": 725925
              },
              {
               "has_detailed_info": true,
               "id": 9,
               "name": "Malbec",
               "seo_name": "malbec",
               "wines_count": 197235
              }
             ],
             "id": 28,
             "image": null,
             "interesting_facts": null,
             "name": "Argentinian Cabernet Sauvignon - Malbec",
             "region": null,
             "regional_name": "Argentinian",
             "seo_name": "argentinian-cabernet-malbec",
             "varietal_name": "Cabernet - Malbec",
             "wine_type_id": 1
            },
            "taste": {
             "flavor": [
              {
               "group": "oak",
               "stats": {
                "count": 34,
                "score": 5843
               }
              },
              {
               "group": "black_fruit",
               "stats": {
                "count": 25,
                "score": 3672
               }
              },
              {
               "group": "non_oak",
               "stats": {
                "count": 20,
                "score": 680
               }
              },
              {
               "group": "earth",
               "stats": {
                "count": 18,
                "score": 1306
               }
              },
              {
               "group": "spices",
               "stats": {
                "count": 16,
                "score": 1308
               }
              },
              {
               "group": "red_fruit",
               "stats": {
                "count": 14,
                "score": 1339
               }
              },
              {
               "group": "microbio",
               "stats": {
                "count": 5,
                "score": 252
               }
              },
              {
               "group": "vegetal",
               "stats": {
                "count": 2,
                "score": 20
               }
              },
              {
               "group": "dried_fruit",
               "stats": {
                "count": 2,
                "score": 180
               }
              },
              {
               "group": "citrus_fruit",
               "stats": {
                "count": 2,
                "score": 200
               }
              },
              {
               "group": "floral",
               "stats": {
                "count": 1,
                "score": 100
               }
              }
             ],
             "structure": {
              "acidity": 2.8386154,
              "calculated_structure_count": 50,
              "fizziness": null,
              "intensity": 4.1186543,
              "sweetness": 2.2368248,
              "tannin": 3.100276,
              "user_structure_count": 98
             }
            },
            "type_id": 1,
            "vintage_type": 0,
            "winery": {
             "id": 8824,
             "name": "Viña Cobos",
             "seo_name": "vina-cobos",
             "status": 0
            }
           },
           "year": 2016
          }
         },
         {
          "price": {
           "amount": 109.19,
           "bottle_type": {
            "id": 1,
            "name": "Bottle (0.75l)",
            "short_name": "bottle",
            "short_name_plural": "bottles",
            "volume_ml": 750
           },
           "bottle_type_id": 1,
           "currency": {
            "code": "USD",
            "name": "US Dollars",
            "prefix": "$",
            "suffix": null
           },
           "discount_percent": null,
           "discounted_from": null,
           "id": 24044335,
           "sku": "39263185043594",
           "type": "vc",
           "url": "https://www.wineonsale.com/products/el-enemigo-gran-enemigo-gualtallary-single-vineyard-cabernet-franc-2015-750-ml?variant=39263185043594",
           "visibility": 1
          },
          "prices": [
           {
            "amount": 109.19,
            "bottle_type": {
             "id": 1,
             "name": "Bottle (0.75l)",
             "short_name": "bottle",
             "short_name_plural": "bottles",
             "volume_ml": 750
            },
            "bottle_type_id": 1,
            "currency": {
             "code": "USD",
             "name": "US Dollars",
             "prefix": "$",
             "suffix": null
            },
            "discount_percent": null,
            "discounted_from": null,
            "id": 24044335,
            "sku": "39263185043594",
            "type": "vc",
            "url": "https://www.wineonsale.com/products/el-enemigo-gran-enemigo-gualtallary-single-vineyard-cabernet-franc-2015-750-ml?variant=39263185043594",
            "visibility": 1
           }
          ],
          "vintage": {
           "grapes": null,
           "has_valid_ratings": true,
           "id": 19502876,
           "image": {
            "location": "//images.vivino.com/thumbs/WPXpzJXHTaSqAeqLqi8CXg_pl_480x640.png",
            "variations": {
             "bottle_large": "//images.vivino.com/thumbs/WPXpzJXHTaSqAeqLqi8CXg_pb_x960.png",
             "bottle_medium": "//images.vivino.com/thumbs/WPXpzJXHTaSqAeqLqi8CXg_pb_x600.png",
             "bottle_medium_square": "//images.vivino.com/thumbs/WPXpzJXHTaSqAeqLqi8CXg_pb_600x600.png",
             "bottle_small": "//images.vivino.com/thumbs/WPXpzJXHTaSqAeqLqi8CXg_pb_x300.png",
             "bottle_small_square": "//images.vivino.com/thumbs/WPXpzJXHTaSqAeqLqi8CXg_pb_300x300.png",
             "label": "//images.vivino.com/thumbs/WPXpzJXHTaSqAeqLqi8CXg_pl_480x640.png",
             "label_large": "//images.vivino.com/thumbs/WPXpzJXHTaSqAeqLqi8CXg_pl_375x500.png",
             "label_medium": "//images.vivino.com/thumbs/WPXpzJXHTaSqAeqLqi8CXg_pl_150x200.png",
             "label_medium_square": "//images.vivino.com/thumbs/WPXpzJXHTaSqAeqLqi8CXg_pl_150x150.png",
             "label_small_square": "//images.vivino.com/thumbs/WPXpzJXHTaSqAeqLqi8CXg_pl_80x80.png",
             "large": "//images.vivino.com/thumbs/WPXpzJXHTaSqAeqLqi8CXg_pl_375x500.png",
             "medium": "//images.vivino.com/thumbs/WPXpzJXHTaSqAeqLqi8CXg_pl_150x200.png",
             "medium_square": "//images.vivino.com/thumbs/WPXpzJXHTaSqAeqLqi8CXg_pl_150x150.png",
             "small_square": "//images.vivino.com/thumbs/WPXpzJXHTaSqAeqLqi8CXg_pl_80x80.png"
            }
           },
           "name": "El Enemigo Gran Enemigo Single Vineyard Gualtallary Cabernet Franc 2015",
           "seo_name": "el-enemigo-gran-enemigo-single-vineyard-gualtallary-cabernet-franc-2015",
           "statistics": {
            "labels_count": 30959,
            "ratings_average": 4.7,
            "ratings_count": 5295,
            "status": "Normal"
           },
           "wine": {
            "has_valid_ratings": true,
            "id": 3125433,
            "is_natural": false,
            "name": "Gran Enemigo Single Vineyard Gualtallary Cabernet Franc",
            "region": {
             "background_image": null,
             "country": {
              "code": "ar",
              "currency": {
               "code": "ARS",
               "name": "Argentinean Peso",
               "prefix": "$",
               "suffix": null
              },
              "most_used_grapes": [
               {
                "has_detailed_info": true,
                "id": 9,
                "name": "Malbec",
                "seo_name": "malbec",
                "wines_count": 197235
               },
               {
                "has_detailed_info": true,
                "id": 2,
                "name": "Cabernet Sauvignon",
                "seo_name": "cabernet-sauvignon",
                "wines_count": 725925
               },
               {
                "has_detailed_info": true,
                "id": 5,
                "name": "Chardonnay",
                "seo_name": "chardonnay",
                "wines_count": 541509
               }
              ],
              "name": "Argentina",
              "native_name": "Argentina",
              "regions_count": 39,
              "seo_name": "argentina",
              "users_count": 505817,
              "wineries_count": 4811,
              "wines_count": 42809
             },
             "id": 4263,
             "name": "Gualtallary",
             "name_en": "",
             "seo_name": "gualtallary"
            },
            "seo_name": "gran-enemigo-single-vineyard-gualtallary-cabernet-franc",
            "statistics": {
             "labels_count": 119050,
             "ratings_average": 4.6,
             "ratings_count": 25137,
             "status": "Normal",
             "vintages_count": 44
            },
            "style": {
             "acidity": 3,
             "acidity_description": "High",
             "background_image": null,
             "blurb": "Cabernet and Merlot based",
             "body": 4,
             "body_description": "Full-bodied",
             "country": {
              "code": "ar",
              "currency": {
               "code": "ARS",
               "name": "Argentinean Peso",
               "prefix": "$",
               "suffix": null
              },
              "most_used_grapes": [
               {
                "has_detailed_info": true,
                "id": 9,
                "name": "Malbec",
                "seo_name": "malbec",
                "wines_count": 197235
               },
               {
                "has_detailed_info": true,
                "id": 2,
                "name": "Cabernet Sauvignon",
                "seo_name": "cabernet-sauvignon",
                "wines_count": 725925
               },
               {
                "has_detailed_info": true,
                "id": 5,
                "name": "Chardonnay",
                "seo_name": "chardonnay",
                "wines_count": 541509
               }
              ],
              "name": "Argentina",
              "native_name": "Argentina",
              "regions_count": 39,
              "seo_name": "argentina",
              "users_count": 505817,
              "wineries_count": 4811,
              "wines_count": 42809
             },
             "description": null,
             "food": [
              {
               "background_image": {
                "location": "//images.vivino.com/backgrounds/foods/4_beef.png",
                "variations": {
                 "small": "//images.vivino.com/backgrounds/foods/thumbs/4_beef_932x810.png"
                }
               },
               "id": 4,
               "name": "Beef",
               "seo_name": "beef"
              },
              {
               "background_image": {
                "location": "//images.vivino.com/backgrounds/foods/5_pasta.png",
                "variations": {
                 "small": "//images.vivino.com/backgrounds/foods/thumbs/5_pasta_932x810.png"
                }
               },
               "id": 5,
               "name": "Pasta",
               "seo_name": null
              },
              {
               "background_image": {
                "location": "//images.vivino.com/backgrounds/foods/8_lamb.png",
                "variations": {
                 "small": "//images.vivino.com/backgrounds/foods/thumbs/8_lamb_932x810.png"
                }
               },
               "id": 8,
               "name": "Lamb",
               "seo_name": "lamb"
              },
              {
               "background_image": {
                "location": "//images.vivino.com/backgrounds/foods/20_chicken.png",
                "variations": {
                 "small": "//images.vivino.com/backgrounds/foods/thumbs/20_chicken_932x810.png"
                }
               },
               "id": 20,
               "name": "Poultry",
               "seo_name": "poultry"
              }
             ],
             "grapes": [
              {
               "has_detailed_info": true,
               "id": 2,
               "name": "Cabernet Sauvignon",
               "seo_name": "cabernet-sauvignon",
               "wines_count": 725925
              },
              {
               "has_detailed_info": true,
               "id": 3,
               "name": "Cabernet Franc",
               "seo_name": "cabernet-franc",
               "wines_count": 243121
              },
              {
               "has_detailed_info": true,
               "id": 9,
               "name": "Malbec",
               "seo_name": "malbec",
               "wines_count": 197235
              },
              {
               "has_detailed_info": true,
               "id": 10,
               "name": "Merlot",
               "seo_name": "merlot",
               "wines_count": 510808
              },
              {
               "has_detailed_info": true,
               "id": 42,
               "name": "Petit Verdot",
               "seo_name": "petit-verdot",
               "wines_count": 74892
              },
              {
               "has_detailed_info": true,
               "id": 51,
               "name": "Carménère",
               "seo_name": "carmenere",
               "wines_count": 45374
              }
             ],
             "id": 11,
             "image": null,
             "interesting_facts": null,
             "name": "Argentinian Bordeaux Blend",
             "region": null,
             "regional_name": "Argentinian",
             "seo_name": "argentinian-bordeaux-blend",
             "varietal_name": "Bordeaux Blend",
             "wine_type_id": 1
            },
            "taste": {
             "flavor": [
              {
               "group": "oak",
               "stats": {
                "count": 300,
                "score": 44261
               }
              },
              {
               "group": "black_fruit",
               "stats": {
                "count": 233,
                "score": 36138
               }
              },
              {
               "group": "spices",
               "stats": {
                "count": 205,
                "score": 20109
               }
              },
              {
               "group": "non_oak",
               "stats": {
                "count": 182,
                "score": 3551
               }
              },
              {
               "group": "earth",
               "stats": {
                "count": 166,
                "score": 18240
               }
              },
              {
               "group": "red_fruit",
               "stats": {
                "count": 127,
                "score": 10622
               }
              },
              {
               "group": "microbio",
               "stats": {
                "count": 28,
                "score": 1533
               }
              },
              {
               "group": "floral",
               "stats": {
                "count": 26,
                "score": 2400
               }
              },
              {
               "group": "vegetal",
               "stats": {
                "count": 23,
                "score": 1973
               }
              },
              {
               "group": "dried_fruit",
               "stats": {
                "count": 17,
                "score": 1140
               }
              },
              {
               "group": "citrus_fruit",
               "stats": {
                "count": 6,
                "score": 600
               }
              },
              {
               "group": "tropical_fruit",
               "stats": {
                "count": 2,
                "score": 133
               }
              },
              {
               "group": "tree_fruit",
               "stats": {
                "count": 2,
                "score": 200
               }
              }
             ],
             "structure": {
              "acidity": 3.49186,
              "calculated_structure_count": 336,
              "fizziness": null,
              "intensity": 4.3826656,
              "sweetness": 2.0066633,
              "tannin": 3.4866967,
              "user_structure_count": 1646
             }
            },
            "type_id": 1,
            "vintage_type": 0,
            "winery": {
             "id": 20435,
             "name": "El Enemigo",
             "seo_name": "el-enemigo",
             "status": 0
            }
           },
           "year": 2015
          }
         },
         {
          "price": {
           "amount": 418.19,
           "bottle_type": {
            "id": 1,
            "name": "Bottle (0.75l)",
            "short_name": "bottle",
            "short_name_plural": "bottles",
            "volume_ml": 750
           },
           "bottle_type_id": 1,
           "currency": {
            "code": "USD",
            "name": "US Dollars",
            "prefix": "$",
            "suffix": null
           },
           "discount_percent": null,
           "discounted_from": null,
           "id": 17058701,
           "sku": "",
           "type": "vc",
           "url": "https://www.yianniswine.com/wines/Opus-One-Red-Wine-Napa-Valley-2015-w06611604f?utm_source=Vivino&utm_medium=Feed",
           "visibility": 1
          },
          "prices": [
           {
            "amount": 418.19,
            "bottle_type": {
             "id": 1,
             "name": "Bottle (0.75l)",
             "short_name": "bottle",
             "short_name_plural": "bottles",
             "volume_ml": 750
            },
            "bottle_type_id": 1,
            "currency": {
             "code": "USD",
             "name": "US Dollars",
             "prefix": "$",
             "suffix": null
            },
            "discount_percent": null,
            "discounted_from": null,
            "id": 17058701,
            "sku": "",
            "type": "vc",
            "url": "https://www.yianniswine.com/wines/Opus-One-Red-Wine-Napa-Valley-2015-w06611604f?utm_source=Vivino&utm_medium=Feed",
            "visibility": 1
           }
          ],
          "vintage": {
           "grapes": null,
           "has_valid_ratings": true,
           "id": 14117436,
           "image": {
            "location": "//images.vivino.com/thumbs/C45ybDUxTnWShRkbSTusNg_pl_480x640.png",
            "variations": {
             "bottle_large": "//images.vivino.com/thumbs/C45ybDUxTnWShRkbSTusNg_pb_x960.png",
             "bottle_medium": "//images.vivino.com/thumbs/C45ybDUxTnWShRkbSTusNg_pb_x600.png",
             "bottle_medium_square": "//images.vivino.com/thumbs/C45ybDUxTnWShRkbSTusNg_pb_600x600.png",
             "bottle_small": "//images.vivino.com/thumbs/C45ybDUxTnWShRkbSTusNg_pb_x300.png",
             "bottle_small_square": "//images.vivino.com/thumbs/C45ybDUxTnWShRkbSTusNg_pb_300x300.png",
             "label": "//images.vivino.com/thumbs/C45ybDUxTnWShRkbSTusNg_pl_480x640.png",
             "label_large": "//images.vivino.com/thumbs/C45ybDUxTnWShRkbSTusNg_pl_375x500.png",
             "label_medium": "//images.vivino.com/thumbs/C45ybDUxTnWShRkbSTusNg_pl_150x200.png",
             "label_medium_square": "//images.vivino.com/thumbs/C45ybDUxTnWShRkbSTusNg_pl_150x150.png",
             "label_small_square": "//images.vivino.com/thumbs/C45ybDUxTnWShRkbSTusNg_pl_80x80.png",
             "large": "//images.vivino.com/thumbs/C45ybDUxTnWShRkbSTusNg_pl_375x500.png",
             "medium": "//images.vivino.com/thumbs/C45ybDUxTnWShRkbSTusNg_pl_150x200.png",
             "medium_square": "//images.vivino.com/thumbs/C45ybDUxTnWShRkbSTusNg_pl_150x150.png",
             "small_square": "//images.vivino.com/thumbs/C45ybDUxTnWShRkbSTusNg_pl_80x80.png"
            }
           },
           "name": "Opus One Opus One 2015",
           "seo_name": "opus-one-opus-one-2015",
           "statistics": {
            "labels_count": 27054,
            "ratings_average": 4.7,
            "ratings_count": 3402,
            "status": "Normal"
           },
           "wine": {
            "has_valid_ratings": true,
            "id": 1911534,
            "is_natural": false,
            "name": "Opus One",
            "region": {
             "background_image": {
              "location": "//images.vivino.com/regions/backgrounds/cP8NlYVPSUStyROqZeBzgA.jpg",
              "variations": {
               "large": "//thumbs.vivino.com/region_backgrounds/cP8NlYVPSUStyROqZeBzgA_1280x760.jpg",
               "medium": "//thumbs.vivino.com/region_backgrounds/cP8NlYVPSUStyROqZeBzgA_600x356.jpg"
              }
             },
             "class": {
              "typecast_map": {
               "background_image": {},
               "class": {}
              }
             },
             "country": {
              "code": "us",
              "currency": {
               "code": "USD",
               "name": "US Dollars",
               "prefix": "$",
               "suffix": null
              },
              "most_used_grapes": [
               {
                "has_detailed_info": true,
                "id": 2,
                "name": "Cabernet Sauvignon",
                "seo_name": "cabernet-sauvignon",
                "wines_count": 725925
               },
               {
                "has_detailed_info": true,
                "id": 14,
                "name": "Pinot Noir",
                "seo_name": "pinot-noir",
                "wines_count": 513244
               },
               {
                "has_detailed_info": true,
                "id": 5,
                "name": "Chardonnay",
                "seo_name": "chardonnay",
                "wines_count": 541509
               }
              ],
              "name": "United States",
              "native_name": "United States",
              "regions_count": 357,
              "seo_name": "united-states",
              "users_count": 10104977,
              "wineries_count": 26264,
              "wines_count": 230446
             },
             "id": 25,
             "name": "Napa Valley",
             "name_en": "",
             "seo_name": "napa-valley"
            },
            "seo_name": "opus-one",
            "statistics": {
             "labels_count": 377985,
             "ratings_average": 4.6,
             "ratings_count": 58742,
             "status": "Normal",
             "vintages_count": 188
            },
            "style": {
             "acidity": 2,
             "acidity_description": "Medium",
             "background_image": {
              "location": "//images.vivino.com/backgrounds/styles/lkl1g1AyRWiGuiC_PycS4w.jpg",
              "variations": {
               "small": "//images.vivino.com/backgrounds/styles/thumbs/lkl1g1AyRWiGuiC_PycS4w_932x810.jpg"
              }
             },
             "blurb": null,
             "body": 4,
             "body_description": "Full-bodied",
             "country": {
              "code": "us",
              "currency": {
               "code": "USD",
               "name": "US Dollars",
               "prefix": "$",
               "suffix": null
              },
              "most_used_grapes": [
               {
                "has_detailed_info": true,
                "id": 2,
                "name": "Cabernet Sauvignon",
                "seo_name": "cabernet-sauvignon",
                "wines_count": 725925
               },
               {
                "has_detailed_info": true,
                "id": 14,
                "name": "Pinot Noir",
                "seo_name": "pinot-noir",
                "wines_count": 513244
               },
               {
                "has_detailed_info": true,
                "id": 5,
                "name": "Chardonnay",
                "seo_name": "chardonnay",
                "wines_count": 541509
               }
              ],
              "name": "United States",
              "native_name": "United States",
              "regions_count": 357,
              "seo_name": "united-states",
              "users_count": 10104977,
              "wineries_count": 26264,
              "wines_count": 230446
             },
             "description": null,
             "food": [
              {
               "background_image": {
                "location": "//images.vivino.com/backgrounds/foods/4_beef.png",
                "variations": {
                 "small": "//images.vivino.com/backgrounds/foods/thumbs/4_beef_932x810.png"
                }
               },
               "id": 4,
               "name": "Beef",
               "seo_name": "beef"
              },
              {
               "background_image": {
                "location": "//images.vivino.com/backgrounds/foods/8_lamb.png",
                "variations": {
                 "small": "//images.vivino.com/backgrounds/foods/thumbs/8_lamb_932x810.png"
                }
               },
               "id": 8,
               "name": "Lamb",
               "seo_name": "lamb"
              },
              {
               "background_image": {
                "location": "//images.vivino.com/backgrounds/foods/11_venison.png",
                "variations": {
                 "small": "//images.vivino.com/backgrounds/foods/thumbs/11_venison_932x810.png"
                }
               },
               "id": 11,
               "name": "Game (deer, venison)",
               "seo_name": "game"
              },
              {
               "background_image": {
                "location": "//images.vivino.com/backgrounds/foods/20_chicken.png",
                "variations": {
                 "small": "//images.vivino.com/backgrounds/foods/thumbs/20_chicken_932x810.png"
                }
               },
               "id": 20,
               "name": "Poultry",
               "seo_name": "poultry"
              }
             ],
             "grapes": [
              {
               "has_detailed_info": true,
               "id": 2,
               "name": "Cabernet Sauvignon",
               "seo_name": "cabernet-sauvignon",
               "wines_count": 725925
              },
              {
               "has_detailed_info": true,
               "id": 3,
               "name": "Cabernet Franc",
               "seo_name": "cabernet-franc",
               "wines_count": 243121
              },
              {
               "has_detailed_info": true,
               "id": 9,
               "name": "Malbec",
               "seo_name": "malbec",
               "wines_count": 197235
              },
              {
               "has_detailed_info": true,
               "id": 10,
               "name": "Merlot",
               "seo_name": "merlot",
               "wines_count": 510808
              },
              {
               "has_detailed_info": true,
               "id": 42,
               "name": "Petit Verdot",
               "seo_name": "petit-verdot",
               "wines_count": 74892
              }
             ],
             "id": 290,
             "image": null,
             "interesting_facts": null,
             "name": "Napa Valley Bordeaux Blend",
             "region": {
              "background_image": {
               "location": "//images.vivino.com/regions/backgrounds/cP8NlYVPSUStyROqZeBzgA.jpg",
               "variations": {
                "large": "//thumbs.vivino.com/region_backgrounds/cP8NlYVPSUStyROqZeBzgA_1280x760.jpg",
                "medium": "//thumbs.vivino.com/region_backgrounds/cP8NlYVPSUStyROqZeBzgA_600x356.jpg"
               }
              },
              "class": {
               "typecast_map": {
                "background_image": {},
                "class": {}
               }
              },
              "country": {
               "code": "us",
               "currency": {
                "code": "USD",
                "name": "US Dollars",
                "prefix": "$",
                "suffix": null
               },
               "most_used_grapes": [
                {
                 "has_detailed_info": true,
                 "id": 2,
                 "name": "Cabernet Sauvignon",
                 "seo_name": "cabernet-sauvignon",
                 "wines_count": 725925
                },
                {
                 "has_detailed_info": true,
                 "id": 14,
                 "name": "Pinot Noir",
                 "seo_name": "pinot-noir",
                 "wines_count": 513244
                },
                {
                 "has_detailed_info": true,
                 "id": 5,
                 "name": "Chardonnay",
                 "seo_name": "chardonnay",
                 "wines_count": 541509
                }
               ],
               "name": "United States",
               "native_name": "United States",
               "regions_count": 357,
               "seo_name": "united-states",
               "users_count": 10104977,
               "wineries_count": 26264,
               "wines_count": 230446
              },
              "id": 25,
              "name": "Napa Valley",
              "name_en": "",
              "seo_name": "napa-valley"
             },
             "regional_name": "Napa Valley",
             "seo_name": "napa-valley-bordeaux-blend",
             "varietal_name": "Bordeaux Blend",
             "wine_type_id": 1
            },
            "taste": {
             "flavor": [
              {
               "group": "oak",
               "stats": {
                "count": 1970,
                "score": 259294
               }
              },
              {
               "group": "black_fruit",
               "stats": {
                "count": 1504,
                "score": 221334
               }
              },
              {
               "group": "earth",
               "stats": {
                "count": 1338,
                "score": 130615
               }
              },
              {
               "group": "non_oak",
               "stats": {
                "count": 1150,
                "score": 26486
               }
              },
              {
               "group": "spices",
               "stats": {
                "count": 809,
                "score": 63443
               }
              },
              {
               "group": "red_fruit",
               "stats": {
                "count": 694,
                "score": 61311
               }
              },
              {
               "group": "microbio",
               "stats": {
                "count": 273,
                "score": 18242
               }
              },
              {
               "group": "dried_fruit",
               "stats": {
                "count": 138,
                "score": 9885
               }
              },
              {
               "group": "floral",
               "stats": {
                "count": 123,
                "score": 11625
               }
              },
              {
               "group": "vegetal",
               "stats": {
                "count": 88,
                "score": 6234
               }
              },
              {
               "group": "citrus_fruit",
               "stats": {
                "count": 28,
                "score": 3000
               }
              },
              {
               "group": "tree_fruit",
               "stats": {
                "count": 22,
                "score": 2200
               }
              },
              {
               "group": "tropical_fruit",
               "stats": {
                "count": 13,
                "score": 1031
               }
              }
             ],
             "structure": {
              "acidity": 3.8470414,
              "calculated_structure_count": 3424,
              "fizziness": null,
              "intensity": 4.6459174,
              "sweetness": 1.6764512,
              "tannin": 3.3724108,
              "user_structure_count": 587
             }
            },
            "type_id": 1,
            "vintage_type": 0,
            "winery": {
             "id": 1368,
             "name": "Opus One",
             "seo_name": "opus-one",
             "status": 0
            }
           },
           "year": 2015
          }
         },
         {
          "price": {
           "amount": 179.99,
           "bottle_type": {
            "id": 1,
            "name": "Bottle (0.75l)",
            "short_name": "bottle",
            "short_name_plural": "bottles",
            "volume_ml": 750
           },
           "bottle_type_id": 1,
           "currency": {
            "code": "USD",
            "name": "US Dollars",
            "prefix": "$",
            "suffix": null
           },
           "discount_percent": null,
           "discounted_from": null,
           "id": 20628656,
           "sku": "",
           "type": "vc",
           "url": "https://www.blackbearwines.com/Vega-Sicilia-Tinto-Valbuena-5-Ribera-del-Duero-2014-750-ml-p171315978",
           "visibility": 1
          },
          "prices": [
           {
            "amount": 179.99,
            "bottle_type": {
             "id": 1,
             "name": "Bottle (0.75l)",
             "short_name": "bottle",
             "short_name_plural": "bottles",
             "volume_ml": 750
            },
            "bottle_type_id": 1,
            "currency": {
             "code": "USD",
             "name": "US Dollars",
             "prefix": "$",
             "suffix": null
            },
            "discount_percent": null,
            "discounted_from": null,
            "id": 20628656,
            "sku": "",
            "type": "vc",
            "url": "https://www.blackbearwines.com/Vega-Sicilia-Tinto-Valbuena-5-Ribera-del-Duero-2014-750-ml-p171315978",
            "visibility": 1
           }
          ],
          "vintage": {
           "grapes": null,
           "has_valid_ratings": true,
           "id": 4456025,
           "image": {
            "location": "//images.vivino.com/thumbs/PCImbI11T4i-rZASrHk3gA_pl_480x640.png",
            "variations": {
             "bottle_large": "//images.vivino.com/thumbs/PCImbI11T4i-rZASrHk3gA_pb_x960.png",
             "bottle_medium": "//images.vivino.com/thumbs/PCImbI11T4i-rZASrHk3gA_pb_x600.png",
             "bottle_medium_square": "//images.vivino.com/thumbs/PCImbI11T4i-rZASrHk3gA_pb_600x600.png",
             "bottle_small": "//images.vivino.com/thumbs/PCImbI11T4i-rZASrHk3gA_pb_x300.png",
             "bottle_small_square": "//images.vivino.com/thumbs/PCImbI11T4i-rZASrHk3gA_pb_300x300.png",
             "label": "//images.vivino.com/thumbs/PCImbI11T4i-rZASrHk3gA_pl_480x640.png",
             "label_large": "//images.vivino.com/thumbs/PCImbI11T4i-rZASrHk3gA_pl_375x500.png",
             "label_medium": "//images.vivino.com/thumbs/PCImbI11T4i-rZASrHk3gA_pl_150x200.png",
             "label_medium_square": "//images.vivino.com/thumbs/PCImbI11T4i-rZASrHk3gA_pl_150x150.png",
             "label_small_square": "//images.vivino.com/thumbs/PCImbI11T4i-rZASrHk3gA_pl_80x80.png",
             "large": "//images.vivino.com/thumbs/PCImbI11T4i-rZASrHk3gA_pl_375x500.png",
             "medium": "//images.vivino.com/thumbs/PCImbI11T4i-rZASrHk3gA_pl_150x200.png",
             "medium_square": "//images.vivino.com/thumbs/PCImbI11T4i-rZASrHk3gA_pl_150x150.png",
             "small_square": "//images.vivino.com/thumbs/PCImbI11T4i-rZASrHk3gA_pl_80x80.png"
            }
           },
           "name": "Vega Sicilia Valbuena 5º 2014",
           "seo_name": "vega-sicilia-valbuena-5o-2014",
           "statistics": {
            "labels_count": 21931,
            "ratings_average": 4.7,
            "ratings_count": 3197,
            "status": "Normal"
           },
           "wine": {
            "has_valid_ratings": true,
            "id": 1175427,
            "is_natural": false,
            "name": "Valbuena 5º",
            "region": {
             "background_image": {
              "location": "//images.vivino.com/regions/backgrounds/_nMNiDRrQG-Y6aphFjOyYQ.jpeg",
              "variations": {
               "large": "//thumbs.vivino.com/region_backgrounds/_nMNiDRrQG-Y6aphFjOyYQ_1280x760.jpeg",
               "medium": "//thumbs.vivino.com/region_backgrounds/_nMNiDRrQG-Y6aphFjOyYQ_600x356.jpeg"
              }
             },
             "country": {
              "code": "es",
              "currency": {
               "code": "EUR",
               "name": "Euros",
               "prefix": "€",
               "suffix": null
              },
              "most_used_grapes": [
               {
                "has_detailed_info": true,
                "id": 19,
                "name": "Tempranillo",
                "seo_name": "tempranillo",
                "wines_count": 156528
               },
               {
                "has_detailed_info": true,
                "id": 142,
                "name": "Garnacha",
                "seo_name": "garnacha",
                "wines_count": 52388
               },
               {
                "has_detailed_info": true,
                "id": 2,
                "name": "Cabernet Sauvignon",
                "seo_name": "cabernet-sauvignon",
                "wines_count": 725925
               }
              ],
              "name": "Spain",
              "native_name": "España",
              "regions_count": 150,
              "seo_name": "spain",
              "users_count": 1888821,
              "wineries_count": 16968,
              "wines_count": 121552
             },
             "id": 405,
             "name": "Ribera del Duero",
             "name_en": "",
             "seo_name": "ribera-del-duero"
            },
            "seo_name": "valbuena-5o",
            "statistics": {
             "labels_count": 307744,
             "ratings_average": 4.6,
             "ratings_count": 56381,
             "status": "Normal",
             "vintages_count": 160
            },
            "style": {
             "acidity": 3,
             "acidity_description": "High",
             "background_image": {
              "location": "//images.vivino.com/backgrounds/styles/jvbiWuqtTdSCco23mOd8eA.jpg",
              "variations": {
               "small": "//images.vivino.com/backgrounds/styles/thumbs/jvbiWuqtTdSCco23mOd8eA_932x810.jpg"
              }
             },
             "blurb": "Often Tempranillo-based",
             "body": 5,
             "body_description": "Very full-bodied",
             "country": {
              "code": "es",
              "currency": {
               "code": "EUR",
               "name": "Euros",
               "prefix": "€",
               "suffix": null
              },
              "most_used_grapes": [
               {
                "has_detailed_info": true,
                "id": 19,
                "name": "Tempranillo",
                "seo_name": "tempranillo",
                "wines_count": 156528
               },
               {
                "has_detailed_info": true,
                "id": 142,
                "name": "Garnacha",
                "seo_name": "garnacha",
                "wines_count": 52388
               },
               {
                "has_detailed_info": true,
                "id": 2,
                "name": "Cabernet Sauvignon",
                "seo_name": "cabernet-sauvignon",
                "wines_count": 725925
               }
              ],
              "name": "Spain",
              "native_name": "España",
              "regions_count": 150,
              "seo_name": "spain",
              "users_count": 1888821,
              "wineries_count": 16968,
              "wines_count": 121552
             },
             "description": "Rioja may be the most famous region in Spain, but Ribera del Duero is no slouch. These classic wines are made mostly from the grape Tempranillo.\n\nRibera del Duero wines are known for being strong, dark-colored wines filled with dark fruit, tobacco and vanilla flavors.\n\nThe sensual wines of Ribera del Duero are dark, brooding, and exciting. They are famous for taking the traditional Spanish grape Tempranillo and blending it with Bordeaux grapes Cabernet Sauvignon and Merlot. This practice makes wines that are strong, dark and beautiful.\n\nThis specific grape blend makes these wines very delicious, but their popularity slipped drastically in the 1970s. Extremely long barrel aging and old winemaking practices made the wines extremely inconsistent. Even bottles in the same vintage could be very different.\n\nNow, with modern winemaking practices and attention to detail these wines are becoming as consistently incredible as they should be!",
             "food": [
              {
               "background_image": {
                "location": "//images.vivino.com/backgrounds/foods/4_beef.png",
                "variations": {
                 "small": "//images.vivino.com/backgrounds/foods/thumbs/4_beef_932x810.png"
                }
               },
               "id": 4,
               "name": "Beef",
               "seo_name": "beef"
              },
              {
               "background_image": {
                "location": "//images.vivino.com/backgrounds/foods/8_lamb.png",
                "variations": {
                 "small": "//images.vivino.com/backgrounds/foods/thumbs/8_lamb_932x810.png"
                }
               },
               "id": 8,
               "name": "Lamb",
               "seo_name": "lamb"
              },
              {
               "background_image": {
                "location": "//images.vivino.com/backgrounds/foods/11_venison.png",
                "variations": {
                 "small": "//images.vivino.com/backgrounds/foods/thumbs/11_venison_932x810.png"
                }
               },
               "id": 11,
               "name": "Game (deer, venison)",
               "seo_name": "game"
              }
             ],
             "grapes": [
              {
               "has_detailed_info": true,
               "id": 19,
               "name": "Tempranillo",
               "seo_name": "tempranillo",
               "wines_count": 156528
              }
             ],
             "id": 180,
             "image": null,
             "interesting_facts": [
              "In Ribera del Duero, the grape Tempranillo is called Tinto Fino.",
              "Vega Sicilia in Ribera del Duero has historically been Spain's most expensive wine.",
              "The DO classification for Ribera del Duero was created in 1982.",
              "Ribera del Duero translates to “alongside the Duero River”, which is apt because the Duero River runs through it."
             ],
             "name": "Spanish Ribera Del Duero Red",
             "region": {
              "background_image": {
               "location": "//images.vivino.com/regions/backgrounds/_nMNiDRrQG-Y6aphFjOyYQ.jpeg",
               "variations": {
                "large": "//thumbs.vivino.com/region_backgrounds/_nMNiDRrQG-Y6aphFjOyYQ_1280x760.jpeg",
                "medium": "//thumbs.vivino.com/region_backgrounds/_nMNiDRrQG-Y6aphFjOyYQ_600x356.jpeg"
               }
              },
              "country": {
               "code": "es",
               "currency": {
                "code": "EUR",
                "name": "Euros",
                "prefix": "€",
                "suffix": null
               },
               "most_used_grapes": [
                {
                 "has_detailed_info": true,
                 "id": 19,
                 "name": "Tempranillo",
                 "seo_name": "tempranillo",
                 "wines_count": 156528
                },
                {
                 "has_detailed_info": true,
                 "id": 142,
                 "name": "Garnacha",
                 "seo_name": "garnacha",
                 "wines_count": 52388
                },
                {
                 "has_detailed_info": true,
                 "id": 2,
                 "name": "Cabernet Sauvignon",
                 "seo_name": "cabernet-sauvignon",
                 "wines_count": 725925
                }
               ],
               "name": "Spain",
               "native_name": "España",
               "regions_count": 150,
               "seo_name": "spain",
               "users_count": 1888821,
               "wineries_count": 16968,
               "wines_count": 121552
              },
              "id": 405,
              "name": "Ribera del Duero",
              "name_en": "",
              "seo_name": "ribera-del-duero"
             },
             "regional_name": "Spanish",
             "seo_name": "spanish-ribera-del-duero-red",
             "varietal_name": "Ribera Del Duero Red",
             "wine_type_id": 1
            },
            "taste": {
             "flavor": [
              {
               "group": "oak",
               "stats": {
                "count": 1303,
                "score": 186255
               }
              },
              {
               "group": "non_oak",
               "stats": {
                "count": 907,
                "score": 22210
               }
              },
              {
               "group": "earth",
               "stats": {
                "count": 892,
                "score": 82863
               }
              },
              {
               "group": "black_fruit",
               "stats": {
                "count": 772,
                "score": 106295
               }
              },
              {
               "group": "spices",
               "stats": {
                "count": 690,
                "score": 42611
               }
              },
              {
               "group": "red_fruit",
               "stats": {
                "count": 530,
                "score": 53603
               }
              },
              {
               "group": "microbio",
               "stats": {
                "count": 191,
                "score": 12034
               }
              },
              {
               "group": "dried_fruit",
               "stats": {
                "count": 129,
                "score": 11444
               }
              },
              {
               "group": "floral",
               "stats": {
                "count": 70,
                "score": 6450
               }
              },
              {
               "group": "vegetal",
               "stats": {
                "count": 66,
                "score": 4169
               }
              },
              {
               "group": "citrus_fruit",
               "stats": {
                "count": 43,
                "score": 4600
               }
              },
              {
               "group": "tree_fruit",
               "stats": {
                "count": 9,
                "score": 900
               }
              },
              {
               "group": "tropical_fruit",
               "stats": {
                "count": 7,
                "score": 566
               }
              }
             ],
             "structure": {
              "acidity": 3.7107656,
              "calculated_structure_count": 1659,
              "fizziness": null,
              "intensity": 3.8767478,
              "sweetness": 1.8265522,
              "tannin": 3.4770312,
              "user_structure_count": 2662
             }
            },
            "type_id": 1,
            "vintage_type": 0,
            "winery": {
             "id": 11050,
             "name": "Vega Sicilia",
             "seo_name": "vega-sicilia",
             "status": 0
            }
           },
           "year": 2014
          }
         },
         {
          "price": {
           "amount": 394.95,
           "bottle_type": {
            "id": 1,
            "name": "Bottle (0.75l)",
            "short_name": "bottle",
            "short_name_plural": "bottles",
            "volume_ml": 750
           },
           "bottle_type_id": 1,
           "currency": {
            "code": "USD",
            "name": "US Dollars",
            "prefix": "$",
            "suffix": null
           },
           "discount_percent": null,
           "discounted_from": null,
           "id": 23897810,
           "sku": "",
           "type": "vc",
           "url": "https://sommcellarswine.com/products/2004-vega-sicilia-unico-gran-reserva",
           "visibility": 1
          },
          "prices": [
           {
            "amount": 394.95,
            "bottle_type": {
             "id": 1,
             "name": "Bottle (0.75l)",
             "short_name": "bottle",
             "short_name_plural": "bottles",
             "volume_ml": 750
            },
            "bottle_type_id": 1,
            "currency": {
             "code": "USD",
             "name": "US Dollars",
             "prefix": "$",
             "suffix": null
            },
            "discount_percent": null,
            "discounted_from": null,
            "id": 23897810,
            "sku": "",
            "type": "vc",
            "url": "https://sommcellarswine.com/products/2004-vega-sicilia-unico-gran-reserva",
            "visibility": 1
           }
          ],
          "vintage": {
           "grapes": null,
           "has_valid_ratings": true,
           "id": 87403,
           "image": {
            "location": "//images.vivino.com/thumbs/SCnpJk_ySUe6XS3U-lFOwQ_pl_480x640.png",
            "variations": {
             "bottle_large": "//images.vivino.com/thumbs/SCnpJk_ySUe6XS3U-lFOwQ_pb_x960.png",
             "bottle_medium": "//images.vivino.com/thumbs/SCnpJk_ySUe6XS3U-lFOwQ_pb_x600.png",
             "bottle_medium_square": "//images.vivino.com/thumbs/SCnpJk_ySUe6XS3U-lFOwQ_pb_600x600.png",
             "bottle_small": "//images.vivino.com/thumbs/SCnpJk_ySUe6XS3U-lFOwQ_pb_x300.png",
             "bottle_small_square": "//images.vivino.com/thumbs/SCnpJk_ySUe6XS3U-lFOwQ_pb_300x300.png",
             "label": "//images.vivino.com/thumbs/SCnpJk_ySUe6XS3U-lFOwQ_pl_480x640.png",
             "label_large": "//images.vivino.com/thumbs/SCnpJk_ySUe6XS3U-lFOwQ_pl_375x500.png",
             "label_medium": "//images.vivino.com/thumbs/SCnpJk_ySUe6XS3U-lFOwQ_pl_150x200.png",
             "label_medium_square": "//images.vivino.com/thumbs/SCnpJk_ySUe6XS3U-lFOwQ_pl_150x150.png",
             "label_small_square": "//images.vivino.com/thumbs/SCnpJk_ySUe6XS3U-lFOwQ_pl_80x80.png",
             "large": "//images.vivino.com/thumbs/SCnpJk_ySUe6XS3U-lFOwQ_pl_375x500.png",
             "medium": "//images.vivino.com/thumbs/SCnpJk_ySUe6XS3U-lFOwQ_pl_150x200.png",
             "medium_square": "//images.vivino.com/thumbs/SCnpJk_ySUe6XS3U-lFOwQ_pl_150x150.png",
             "small_square": "//images.vivino.com/thumbs/SCnpJk_ySUe6XS3U-lFOwQ_pl_80x80.png"
            }
           },
           "name": "Vega Sicilia Unico 2004",
           "seo_name": "vega-sicilia-unico-2004",
           "statistics": {
            "labels_count": 14140,
            "ratings_average": 4.7,
            "ratings_count": 2961,
            "status": "Normal"
           },
           "wine": {
            "has_valid_ratings": true,
            "id": 77137,
            "is_natural": false,
            "name": "Unico",
            "region": {
             "background_image": {
              "location": "//images.vivino.com/regions/backgrounds/_nMNiDRrQG-Y6aphFjOyYQ.jpeg",
              "variations": {
               "large": "//thumbs.vivino.com/region_backgrounds/_nMNiDRrQG-Y6aphFjOyYQ_1280x760.jpeg",
               "medium": "//thumbs.vivino.com/region_backgrounds/_nMNiDRrQG-Y6aphFjOyYQ_600x356.jpeg"
              }
             },
             "country": {
              "code": "es",
              "currency": {
               "code": "EUR",
               "name": "Euros",
               "prefix": "€",
               "suffix": null
              },
              "most_used_grapes": [
               {
                "has_detailed_info": true,
                "id": 19,
                "name": "Tempranillo",
                "seo_name": "tempranillo",
                "wines_count": 156528
               },
               {
                "has_detailed_info": true,
                "id": 142,
                "name": "Garnacha",
                "seo_name": "garnacha",
                "wines_count": 52388
               },
               {
                "has_detailed_info": true,
                "id": 2,
                "name": "Cabernet Sauvignon",
                "seo_name": "cabernet-sauvignon",
                "wines_count": 725925
               }
              ],
              "name": "Spain",
              "native_name": "España",
              "regions_count": 150,
              "seo_name": "spain",
              "users_count": 1888821,
              "wineries_count": 16968,
              "wines_count": 121552
             },
             "id": 405,
             "name": "Ribera del Duero",
             "name_en": "",
             "seo_name": "ribera-del-duero"
            },
            "seo_name": "unico",
            "statistics": {
             "labels_count": 194332,
             "ratings_average": 4.7,
             "ratings_count": 35634,
             "status": "Normal",
             "vintages_count": 203
            },
            "style": {
             "acidity": 3,
             "acidity_description": "High",
             "background_image": {
              "location": "//images.vivino.com/backgrounds/styles/jvbiWuqtTdSCco23mOd8eA.jpg",
              "variations": {
               "small": "//images.vivino.com/backgrounds/styles/thumbs/jvbiWuqtTdSCco23mOd8eA_932x810.jpg"
              }
             },
             "blurb": "Often Tempranillo-based",
             "body": 5,
             "body_description": "Very full-bodied",
             "country": {
              "code": "es",
              "currency": {
               "code": "EUR",
               "name": "Euros",
               "prefix": "€",
               "suffix": null
              },
              "most_used_grapes": [
               {
                "has_detailed_info": true,
                "id": 19,
                "name": "Tempranillo",
                "seo_name": "tempranillo",
                "wines_count": 156528
               },
               {
                "has_detailed_info": true,
                "id": 142,
                "name": "Garnacha",
                "seo_name": "garnacha",
                "wines_count": 52388
               },
               {
                "has_detailed_info": true,
                "id": 2,
                "name": "Cabernet Sauvignon",
                "seo_name": "cabernet-sauvignon",
                "wines_count": 725925
               }
              ],
              "name": "Spain",
              "native_name": "España",
              "regions_count": 150,
              "seo_name": "spain",
              "users_count": 1888821,
              "wineries_count": 16968,
              "wines_count": 121552
             },
             "description": "Rioja may be the most famous region in Spain, but Ribera del Duero is no slouch. These classic wines are made mostly from the grape Tempranillo.\n\nRibera del Duero wines are known for being strong, dark-colored wines filled with dark fruit, tobacco and vanilla flavors.\n\nThe sensual wines of Ribera del Duero are dark, brooding, and exciting. They are famous for taking the traditional Spanish grape Tempranillo and blending it with Bordeaux grapes Cabernet Sauvignon and Merlot. This practice makes wines that are strong, dark and beautiful.\n\nThis specific grape blend makes these wines very delicious, but their popularity slipped drastically in the 1970s. Extremely long barrel aging and old winemaking practices made the wines extremely inconsistent. Even bottles in the same vintage could be very different.\n\nNow, with modern winemaking practices and attention to detail these wines are becoming as consistently incredible as they should be!",
             "food": [
              {
               "background_image": {
                "location": "//images.vivino.com/backgrounds/foods/4_beef.png",
                "variations": {
                 "small": "//images.vivino.com/backgrounds/foods/thumbs/4_beef_932x810.png"
                }
               },
               "id": 4,
               "name": "Beef",
               "seo_name": "beef"
              },
              {
               "background_image": {
                "location": "//images.vivino.com/backgrounds/foods/8_lamb.png",
                "variations": {
                 "small": "//images.vivino.com/backgrounds/foods/thumbs/8_lamb_932x810.png"
                }
               },
               "id": 8,
               "name": "Lamb",
               "seo_name": "lamb"
              },
              {
               "background_image": {
                "location": "//images.vivino.com/backgrounds/foods/11_venison.png",
                "variations": {
                 "small": "//images.vivino.com/backgrounds/foods/thumbs/11_venison_932x810.png"
                }
               },
               "id": 11,
               "name": "Game (deer, venison)",
               "seo_name": "game"
              }
             ],
             "grapes": [
              {
               "has_detailed_info": true,
               "id": 19,
               "name": "Tempranillo",
               "seo_name": "tempranillo",
               "wines_count": 156528
              }
             ],
             "id": 180,
             "image": null,
             "interesting_facts": [
              "In Ribera del Duero, the grape Tempranillo is called Tinto Fino.",
              "Vega Sicilia in Ribera del Duero has historically been Spain's most expensive wine.",
              "The DO classification for Ribera del Duero was created in 1982.",
              "Ribera del Duero translates to “alongside the Duero River”, which is apt because the Duero River runs through it."
             ],
             "name": "Spanish Ribera Del Duero Red",
             "region": {
              "background_image": {
               "location": "//images.vivino.com/regions/backgrounds/_nMNiDRrQG-Y6aphFjOyYQ.jpeg",
               "variations": {
                "large": "//thumbs.vivino.com/region_backgrounds/_nMNiDRrQG-Y6aphFjOyYQ_1280x760.jpeg",
                "medium": "//thumbs.vivino.com/region_backgrounds/_nMNiDRrQG-Y6aphFjOyYQ_600x356.jpeg"
               }
              },
              "country": {
               "code": "es",
               "currency": {
                "code": "EUR",
                "name": "Euros",
                "prefix": "€",
                "suffix": null
               },
               "most_used_grapes": [
                {
                 "has_detailed_info": true,
                 "id": 19,
                 "name": "Tempranillo",
                 "seo_name": "tempranillo",
                 "wines_count": 156528
                },
                {
                 "has_detailed_info": true,
                 "id": 142,
                 "name": "Garnacha",
                 "seo_name": "garnacha",
                 "wines_count": 52388
                },
                {
                 "has_detailed_info": true,
                 "id": 2,
                 "name": "Cabernet Sauvignon",
                 "seo_name": "cabernet-sauvignon",
                 "wines_count": 725925
                }
               ],
               "name": "Spain",
               "native_name": "España",
               "regions_count": 150,
               "seo_name": "spain",
               "users_count": 1888821,
               "wineries_count": 16968,
               "wines_count": 121552
              },
              "id": 405,
              "name": "Ribera del Duero",
              "name_en": "",
              "seo_name": "ribera-del-duero"
             },
             "regional_name": "Spanish",
             "seo_name": "spanish-ribera-del-duero-red",
             "varietal_name": "Ribera Del Duero Red",
             "wine_type_id": 1
            },
            "taste": {
             "flavor": [
              {
               "group": "oak",
               "stats": {
                "count": 943,
                "score": 132399
               }
              },
              {
               "group": "earth",
               "stats": {
                "count": 719,
                "score": 74154
               }
              },
              {
               "group": "non_oak",
               "stats": {
                "count": 664,
                "score": 18436
               }
              },
              {
               "group": "black_fruit",
               "stats": {
                "count": 542,
                "score": 71013
               }
              },
              {
               "group": "spices",
               "stats": {
                "count": 473,
                "score": 31637
               }
              },
              {
               "group": "red_fruit",
               "stats": {
                "count": 395,
                "score": 40401
               }
              },
              {
               "group": "microbio",
               "stats": {
                "count": 160,
                "score": 8932
               }
              },
              {
               "group": "dried_fruit",
               "stats": {
                "count": 116,
                "score": 12119
               }
              },
              {
               "group": "floral",
               "stats": {
                "count": 76,
                "score": 7650
               }
              },
              {
               "group": "vegetal",
               "stats": {
                "count": 58,
                "score": 2993
               }
              },
              {
               "group": "citrus_fruit",
               "stats": {
                "count": 36,
                "score": 3800
               }
              },
              {
               "group": "tree_fruit",
               "stats": {
                "count": 10,
                "score": 1000
               }
              },
              {
               "group": "tropical_fruit",
               "stats": {
                "count": 3,
                "score": 166
               }
              }
             ],
             "structure": {
              "acidity": 3.7221804,
              "calculated_structure_count": 1240,
              "fizziness": null,
              "intensity": 3.8337524,
              "sweetness": 1.7588925,
              "tannin": 3.4324236,
              "user_structure_count": 1427
             }
            },
            "type_id": 1,
            "vintage_type": 0,
            "winery": {
             "id": 11050,
             "name": "Vega Sicilia",
             "seo_name": "vega-sicilia",
             "status": 0
            }
           },
           "year": 2004
          }
         },
         {
          "price": {
           "amount": 399.99,
           "bottle_type": {
            "id": 1,
            "name": "Bottle (0.75l)",
            "short_name": "bottle",
            "short_name_plural": "bottles",
            "volume_ml": 750
           },
           "bottle_type_id": 1,
           "currency": {
            "code": "USD",
            "name": "US Dollars",
            "prefix": "$",
            "suffix": null
           },
           "discount_percent": null,
           "discounted_from": null,
           "id": 19635698,
           "sku": "",
           "type": "vc",
           "url": "https://littlewestwine.com/products/chateau-pontet-canet-pauillac-5eme-grand-cru-classe-2009",
           "visibility": 1
          },
          "prices": [
           {
            "amount": 399.99,
            "bottle_type": {
             "id": 1,
             "name": "Bottle (0.75l)",
             "short_name": "bottle",
             "short_name_plural": "bottles",
             "volume_ml": 750
            },
            "bottle_type_id": 1,
            "currency": {
             "code": "USD",
             "name": "US Dollars",
             "prefix": "$",
             "suffix": null
            },
            "discount_percent": null,
            "discounted_from": null,
            "id": 19635698,
            "sku": "",
            "type": "vc",
            "url": "https://littlewestwine.com/products/chateau-pontet-canet-pauillac-5eme-grand-cru-classe-2009",
            "visibility": 1
           }
          ],
          "vintage": {
           "grapes": null,
           "has_valid_ratings": true,
           "id": 1347152,
           "image": {
            "location": "//images.vivino.com/thumbs/zoXYIDxFQzmf8fFpkNNUJQ_pl_480x640.png",
            "variations": {
             "bottle_large": "//images.vivino.com/thumbs/zoXYIDxFQzmf8fFpkNNUJQ_pb_x960.png",
             "bottle_medium": "//images.vivino.com/thumbs/zoXYIDxFQzmf8fFpkNNUJQ_pb_x600.png",
             "bottle_medium_square": "//images.vivino.com/thumbs/zoXYIDxFQzmf8fFpkNNUJQ_pb_600x600.png",
             "bottle_small": "//images.vivino.com/thumbs/zoXYIDxFQzmf8fFpkNNUJQ_pb_x300.png",
             "bottle_small_square": "//images.vivino.com/thumbs/zoXYIDxFQzmf8fFpkNNUJQ_pb_300x300.png",
             "label": "//images.vivino.com/thumbs/zoXYIDxFQzmf8fFpkNNUJQ_pl_480x640.png",
             "label_large": "//images.vivino.com/thumbs/zoXYIDxFQzmf8fFpkNNUJQ_pl_375x500.png",
             "label_medium": "//images.vivino.com/thumbs/zoXYIDxFQzmf8fFpkNNUJQ_pl_150x200.png",
             "label_medium_square": "//images.vivino.com/thumbs/zoXYIDxFQzmf8fFpkNNUJQ_pl_150x150.png",
             "label_small_square": "//images.vivino.com/thumbs/zoXYIDxFQzmf8fFpkNNUJQ_pl_80x80.png",
             "large": "//images.vivino.com/thumbs/zoXYIDxFQzmf8fFpkNNUJQ_pl_375x500.png",
             "medium": "//images.vivino.com/thumbs/zoXYIDxFQzmf8fFpkNNUJQ_pl_150x200.png",
             "medium_square": "//images.vivino.com/thumbs/zoXYIDxFQzmf8fFpkNNUJQ_pl_150x150.png",
             "small_square": "//images.vivino.com/thumbs/zoXYIDxFQzmf8fFpkNNUJQ_pl_80x80.png"
            }
           },
           "name": "Château Pontet-Canet Pauillac (Grand Cru Classé) 2009",
           "seo_name": "chateau-pontet-canet-pauillac-grand-cru-classe-2009",
           "statistics": {
            "labels_count": 18323,
            "ratings_average": 4.7,
            "ratings_count": 2316,
            "status": "Normal"
           },
           "top_list_rankings": [
            {
             "description": null,
             "previous_rank": 5,
             "rank": 5,
             "top_list": {
              "id": 2018264,
              "location": "_0",
              "name": "Vivino's 2018 Wine Style Awards: Bordeaux Pauillac",
              "seo_name": "wine_style_awards_2018_bordeaux_left_bank_pauillac",
              "type": 6,
              "year": "2018"
             }
            },
            {
             "description": null,
             "previous_rank": 6,
             "rank": 6,
             "top_list": {
              "id": 2019264,
              "location": "_0",
              "name": "Vivino's 2019 Wine Style Awards: Bordeaux Pauillac",
              "seo_name": "wine_style_awards_2019_bordeaux_left_bank_pauillac",
              "type": 6,
              "year": "2019"
             }
            }
           ],
           "wine": {
            "has_valid_ratings": true,
            "id": 14362,
            "is_natural": false,
            "name": "Pauillac (Grand Cru Classé)",
            "region": {
             "background_image": {
              "location": "//images.vivino.com/regions/backgrounds/-wJ76BSdS0G-h8eEF-Ra7g.jpg",
              "variations": {
               "large": "//thumbs.vivino.com/region_backgrounds/-wJ76BSdS0G-h8eEF-Ra7g_1280x760.jpg",
               "medium": "//thumbs.vivino.com/region_backgrounds/-wJ76BSdS0G-h8eEF-Ra7g_600x356.jpg"
              }
             },
             "class": {
              "typecast_map": {
               "background_image": {},
               "class": {}
              }
             },
             "country": {
              "code": "fr",
              "currency": {
               "code": "EUR",
               "name": "Euros",
               "prefix": "€",
               "suffix": null
              },
              "most_used_grapes": [
               {
                "has_detailed_info": true,
                "id": 14,
                "name": "Pinot Noir",
                "seo_name": "pinot-noir",
                "wines_count": 513244
               },
               {
                "has_detailed_info": true,
                "id": 10,
                "name": "Merlot",
                "seo_name": "merlot",
                "wines_count": 510808
               },
               {
                "has_detailed_info": true,
                "id": 5,
                "name": "Chardonnay",
                "seo_name": "chardonnay",
                "wines_count": 541509
               }
              ],
              "name": "France",
              "native_name": "France",
              "regions_count": 1286,
              "seo_name": "france",
              "users_count": 4353758,
              "wineries_count": 65782,
              "wines_count": 508606
             },
             "id": 393,
             "name": "Pauillac",
             "name_en": "",
             "seo_name": "pauillac"
            },
            "seo_name": "pauillac-grand-cru-classe",
            "statistics": {
             "labels_count": 274408,
             "ratings_average": 4.3,
             "ratings_count": 34264,
             "status": "Normal",
             "vintages_count": 137
            },
            "style": {
             "acidity": 3,
             "acidity_description": "High",
             "background_image": null,
             "blurb": null,
             "body": 4,
             "body_description": "Full-bodied",
             "country": {
              "code": "fr",
              "currency": {
               "code": "EUR",
               "name": "Euros",
               "prefix": "€",
               "suffix": null
              },
              "most_used_grapes": [
               {
                "has_detailed_info": true,
                "id": 14,
                "name": "Pinot Noir",
                "seo_name": "pinot-noir",
                "wines_count": 513244
               },
               {
                "has_detailed_info": true,
                "id": 10,
                "name": "Merlot",
                "seo_name": "merlot",
                "wines_count": 510808
               },
               {
                "has_detailed_info": true,
                "id": 5,
                "name": "Chardonnay",
                "seo_name": "chardonnay",
                "wines_count": 541509
               }
              ],
              "name": "France",
              "native_name": "France",
              "regions_count": 1286,
              "seo_name": "france",
              "users_count": 4353758,
              "wineries_count": 65782,
              "wines_count": 508606
             },
             "description": "Bordeaux Pauillac wines are rich and concentrated, full-bodied reds with grippy tannins, and characteristic notes of cassis, cedar and cigar box spice.\n\nThe best examples come from blends with a base of high-quality Cabernet Sauvignon and are often considered the quintessential example of a Bordeaux wine.\n\nPauillac, in Bordeaux's Left Bank Médoc region, boasts well-draining gravel soils, which in turn translates to higher quality wines; and those from Pauillac age extremely well.\n\nThree of the five first-growths from the 1855 classification of the Médoc are situated in Pauillac: Lafite, Latour, and Mouton-Rothschild.",
             "food": [
              {
               "background_image": {
                "location": "//images.vivino.com/backgrounds/foods/4_beef.png",
                "variations": {
                 "small": "//images.vivino.com/backgrounds/foods/thumbs/4_beef_932x810.png"
                }
               },
               "id": 4,
               "name": "Beef",
               "seo_name": "beef"
              },
              {
               "background_image": {
                "location": "//images.vivino.com/backgrounds/foods/8_lamb.png",
                "variations": {
                 "small": "//images.vivino.com/backgrounds/foods/thumbs/8_lamb_932x810.png"
                }
               },
               "id": 8,
               "name": "Lamb",
               "seo_name": "lamb"
              },
              {
               "background_image": {
                "location": "//images.vivino.com/backgrounds/foods/11_venison.png",
                "variations": {
                 "small": "//images.vivino.com/backgrounds/foods/thumbs/11_venison_932x810.png"
                }
               },
               "id": 11,
               "name": "Game (deer, venison)",
               "seo_name": "game"
              },
              {
               "background_image": {
                "location": "//images.vivino.com/backgrounds/foods/20_chicken.png",
                "variations": {
                 "small": "//images.vivino.com/backgrounds/foods/thumbs/20_chicken_932x810.png"
                }
               },
               "id": 20,
               "name": "Poultry",
               "seo_name": "poultry"
              }
             ],
             "grapes": [
              {
               "has_detailed_info": true,
               "id": 2,
               "name": "Cabernet Sauvignon",
               "seo_name": "cabernet-sauvignon",
               "wines_count": 725925
              },
              {
               "has_detailed_info": true,
               "id": 3,
               "name": "Cabernet Franc",
               "seo_name": "cabernet-franc",
               "wines_count": 243121
              },
              {
               "has_detailed_info": true,
               "id": 9,
               "name": "Malbec",
               "seo_name": "malbec",
               "wines_count": 197235
              },
              {
               "has_detailed_info": true,
               "id": 10,
               "name": "Merlot",
               "seo_name": "merlot",
               "wines_count": 510808
              },
              {
               "has_detailed_info": true,
               "id": 42,
               "name": "Petit Verdot",
               "seo_name": "petit-verdot",
               "wines_count": 74892
              },
              {
               "has_detailed_info": true,
               "id": 51,
               "name": "Carménère",
               "seo_name": "carmenere",
               "wines_count": 45374
              }
             ],
             "id": 264,
             "image": null,
             "interesting_facts": [
              "Though Pauillac boasts some of Bordeaux's most acclaimed estates, the town itself is very small.",
              "More than half of the 18 classified 'Fifth-Growths' are in Pauillac, including the famous Château Lynch-Bages.",
              "Château Mouton-Rothschild, which encompases 90 hectares (222 acres) in Pauillac was elevated from a 'Second-Growth' to a 'First-Growth in 1973—the only time in the history of the 1855 Classification that a winery's classified position was re-evaluated."
             ],
             "name": "Bordeaux Pauillac",
             "region": {
              "background_image": {
               "location": "//images.vivino.com/regions/backgrounds/sbzA7h1ITnaHABaVqWJ4CA.jpg",
               "variations": {
                "large": "//thumbs.vivino.com/region_backgrounds/sbzA7h1ITnaHABaVqWJ4CA_1280x760.jpg",
                "medium": "//thumbs.vivino.com/region_backgrounds/sbzA7h1ITnaHABaVqWJ4CA_600x356.jpg"
               }
              },
              "class": {
               "typecast_map": {
                "background_image": {},
                "class": {}
               }
              },
              "country": {
               "code": "fr",
               "currency": {
                "code": "EUR",
                "name": "Euros",
                "prefix": "€",
                "suffix": null
               },
               "most_used_grapes": [
                {
                 "has_detailed_info": true,
                 "id": 14,
                 "name": "Pinot Noir",
                 "seo_name": "pinot-noir",
                 "wines_count": 513244
                },
                {
                 "has_detailed_info": true,
                 "id": 10,
                 "name": "Merlot",
                 "seo_name": "merlot",
                 "wines_count": 510808
                },
                {
                 "has_detailed_info": true,
                 "id": 5,
                 "name": "Chardonnay",
                 "seo_name": "chardonnay",
                 "wines_count": 541509
                }
               ],
               "name": "France",
               "native_name": "France",
               "regions_count": 1286,
               "seo_name": "france",
               "users_count": 4353758,
               "wineries_count": 65782,
               "wines_count": 508606
              },
              "id": 383,
              "name": "Bordeaux",
              "name_en": "",
              "seo_name": "bordeaux"
             },
             "regional_name": "Bordeaux Left Bank",
             "seo_name": "bordeaux-left-bank-pauillac",
             "varietal_name": "Pauillac",
             "wine_type_id": 1
            },
            "taste": {
             "flavor": [
              {
               "group": "oak",
               "stats": {
                "count": 1867,
                "score": 220414
               }
              },
              {
               "group": "black_fruit",
               "stats": {
                "count": 1753,
                "score": 265820
               }
              },
              {
               "group": "earth",
               "stats": {
                "count": 1639,
                "score": 193751
               }
              },
              {
               "group": "non_oak",
               "stats": {
                "count": 1215,
                "score": 26712
               }
              },
              {
               "group": "spices",
               "stats": {
                "count": 740,
                "score": 56874
               }
              },
              {
               "group": "red_fruit",
               "stats": {
                "count": 623,
                "score": 58599
               }
              },
              {
               "group": "microbio",
               "stats": {
                "count": 253,
                "score": 14616
               }
              },
              {
               "group": "floral",
               "stats": {
                "count": 175,
                "score": 17300
               }
              },
              {
               "group": "dried_fruit",
               "stats": {
                "count": 112,
                "score": 10124
               }
              },
              {
               "group": "vegetal",
               "stats": {
                "count": 110,
                "score": 8259
               }
              },
              {
               "group": "citrus_fruit",
               "stats": {
                "count": 25,
                "score": 2500
               }
              },
              {
               "group": "tropical_fruit",
               "stats": {
                "count": 14,
                "score": 1131
               }
              },
              {
               "group": "tree_fruit",
               "stats": {
                "count": 14,
                "score": 1400
               }
              }
             ],
             "structure": {
              "acidity": 4.2154818,
              "calculated_structure_count": 2723,
              "fizziness": null,
              "intensity": 4.2314324,
              "sweetness": 1.6792759,
              "tannin": 4.250553,
              "user_structure_count": 1131
             }
            },
            "type_id": 1,
            "vintage_type": 0,
            "winery": {
             "id": 1309,
             "name": "Château Pontet-Canet",
             "seo_name": "chateau-pontet-canet",
             "status": 0
            }
           },
           "year": 2009
          }
         },
         {
          "price": {
           "amount": 299.99,
           "bottle_type": {
            "id": 1,
            "name": "Bottle (0.75l)",
            "short_name": "bottle",
            "short_name_plural": "bottles",
            "volume_ml": 750
           },
           "bottle_type_id": 1,
           "currency": {
            "code": "USD",
            "name": "US Dollars",
            "prefix": "$",
            "suffix": null
           },
           "discount_percent": null,
           "discounted_from": null,
           "id": 22781947,
           "sku": "SGPF11238",
           "type": "vc",
           "url": "http://vivino.cpdwineliquor.com/Product?PID=2236",
           "visibility": 1
          },
          "prices": [
           {
            "amount": 299.99,
            "bottle_type": {
             "id": 1,
             "name": "Bottle (0.75l)",
             "short_name": "bottle",
             "short_name_plural": "bottles",
             "volume_ml": 750
            },
            "bottle_type_id": 1,
            "currency": {
             "code": "USD",
             "name": "US Dollars",
             "prefix": "$",
             "suffix": null
            },
            "discount_percent": null,
            "discounted_from": null,
            "id": 22781947,
            "sku": "SGPF11238",
            "type": "vc",
            "url": "http://vivino.cpdwineliquor.com/Product?PID=2236",
            "visibility": 1
           }
          ],
          "vintage": {
           "grapes": null,
           "has_valid_ratings": true,
           "id": 1359570,
           "image": {
            "location": "//images.vivino.com/thumbs/wFQUeZcsSX6MYWmLEh8AKg_pl_480x640.png",
            "variations": {
             "bottle_large": "//images.vivino.com/thumbs/wFQUeZcsSX6MYWmLEh8AKg_pb_x960.png",
             "bottle_medium": "//images.vivino.com/thumbs/wFQUeZcsSX6MYWmLEh8AKg_pb_x600.png",
             "bottle_medium_square": "//images.vivino.com/thumbs/wFQUeZcsSX6MYWmLEh8AKg_pb_600x600.png",
             "bottle_small": "//images.vivino.com/thumbs/wFQUeZcsSX6MYWmLEh8AKg_pb_x300.png",
             "bottle_small_square": "//images.vivino.com/thumbs/wFQUeZcsSX6MYWmLEh8AKg_pb_300x300.png",
             "label": "//images.vivino.com/thumbs/wFQUeZcsSX6MYWmLEh8AKg_pl_480x640.png",
             "label_large": "//images.vivino.com/thumbs/wFQUeZcsSX6MYWmLEh8AKg_pl_375x500.png",
             "label_medium": "//images.vivino.com/thumbs/wFQUeZcsSX6MYWmLEh8AKg_pl_150x200.png",
             "label_medium_square": "//images.vivino.com/thumbs/wFQUeZcsSX6MYWmLEh8AKg_pl_150x150.png",
             "label_small_square": "//images.vivino.com/thumbs/wFQUeZcsSX6MYWmLEh8AKg_pl_80x80.png",
             "large": "//images.vivino.com/thumbs/wFQUeZcsSX6MYWmLEh8AKg_pl_375x500.png",
             "medium": "//images.vivino.com/thumbs/wFQUeZcsSX6MYWmLEh8AKg_pl_150x200.png",
             "medium_square": "//images.vivino.com/thumbs/wFQUeZcsSX6MYWmLEh8AKg_pl_150x150.png",
             "small_square": "//images.vivino.com/thumbs/wFQUeZcsSX6MYWmLEh8AKg_pl_80x80.png"
            }
           },
           "name": "Casa Ferreirinha Reserva Especial Douro 2007",
           "seo_name": "casa-ferreirinha-reserva-especial-douro-2007",
           "statistics": {
            "labels_count": 10515,
            "ratings_average": 4.7,
            "ratings_count": 2167,
            "status": "Normal"
           },
           "top_list_rankings": [
            {
             "description": null,
             "previous_rank": 4,
             "rank": 4,
             "top_list": {
              "id": 201781,
              "location": "_0",
              "name": "Vivino's 2017 Wine Style Awards: Portuguese Douro Red",
              "seo_name": "wine_style_awards_2017_portuguese-douro-red",
              "type": 6,
              "year": "2017"
             }
            },
            {
             "description": null,
             "previous_rank": 5,
             "rank": 5,
             "top_list": {
              "id": 201881,
              "location": "_0",
              "name": "Vivino's 2018 Wine Style Awards: Portuguese Douro Red",
              "seo_name": "wine_style_awards_2018_portuguese_douro_red",
              "type": 6,
              "year": "2018"
             }
            },
            {
             "description": null,
             "previous_rank": 2,
             "rank": 2,
             "top_list": {
              "id": 201981,
              "location": "_0",
              "name": "Vivino's 2019 Wine Style Awards: Portuguese Douro Red",
              "seo_name": "wine_style_awards_2019_portuguese_douro_red",
              "type": 6,
              "year": "2019"
             }
            },
            {
             "description": null,
             "previous_rank": 2,
             "rank": 2,
             "top_list": {
              "id": 202081,
              "location": "_0",
              "name": "Vivino's 2020 Wine Style Awards: Portuguese Douro Red",
              "seo_name": "wine_style_awards_2020_portuguese_douro_red",
              "type": 6,
              "year": "2020"
             }
            }
           ],
           "wine": {
            "has_valid_ratings": true,
            "id": 75979,
            "is_natural": false,
            "name": "Reserva Especial Douro",
            "region": {
             "background_image": {
              "location": "//images.vivino.com/regions/backgrounds/ePk3750qR3ioS9lEfzLBnA.jpg",
              "variations": {
               "large": "//thumbs.vivino.com/region_backgrounds/ePk3750qR3ioS9lEfzLBnA_1280x760.jpg",
               "medium": "//thumbs.vivino.com/region_backgrounds/ePk3750qR3ioS9lEfzLBnA_600x356.jpg"
              }
             },
             "class": {
              "typecast_map": {
               "background_image": {},
               "class": {}
              }
             },
             "country": {
              "code": "pt",
              "currency": {
               "code": "EUR",
               "name": "Euros",
               "prefix": "€",
               "suffix": null
              },
              "most_used_grapes": [
               {
                "has_detailed_info": true,
                "id": 67,
                "name": "Touriga Nacional",
                "seo_name": "touriga-nacional",
                "wines_count": 75882
               },
               {
                "has_detailed_info": false,
                "id": 68,
                "name": "Touriga Franca",
                "seo_name": "touriga-franca",
                "wines_count": 30116
               },
               {
                "has_detailed_info": false,
                "id": 69,
                "name": "Tinta Roriz",
                "seo_name": "tinta-roriz",
                "wines_count": 36604
               }
              ],
              "name": "Portugal",
              "native_name": "Portugal",
              "regions_count": 91,
              "seo_name": "portugal",
              "users_count": 880466,
              "wineries_count": 5503,
              "wines_count": 47334
             },
             "id": 433,
             "name": "Douro",
             "name_en": "",
             "seo_name": "douro"
            },
            "seo_name": "reserva-especial-douro",
            "statistics": {
             "labels_count": 28590,
             "ratings_average": 4.6,
             "ratings_count": 6380,
             "status": "Normal",
             "vintages_count": 70
            },
            "style": {
             "acidity": 3,
             "acidity_description": "High",
             "background_image": null,
             "blurb": "Red wine from Northern Portugal",
             "body": 5,
             "body_description": "Very full-bodied",
             "country": {
              "code": "pt",
              "currency": {
               "code": "EUR",
               "name": "Euros",
               "prefix": "€",
               "suffix": null
              },
              "most_used_grapes": [
               {
                "has_detailed_info": true,
                "id": 67,
                "name": "Touriga Nacional",
                "seo_name": "touriga-nacional",
                "wines_count": 75882
               },
               {
                "has_detailed_info": false,
                "id": 68,
                "name": "Touriga Franca",
                "seo_name": "touriga-franca",
                "wines_count": 30116
               },
               {
                "has_detailed_info": false,
                "id": 69,
                "name": "Tinta Roriz",
                "seo_name": "tinta-roriz",
                "wines_count": 36604
               }
              ],
              "name": "Portugal",
              "native_name": "Portugal",
              "regions_count": 91,
              "seo_name": "portugal",
              "users_count": 880466,
              "wineries_count": 5503,
              "wines_count": 47334
             },
             "description": "Douro Red wines range in style from light and fruity to lush and smooth to dark and dense with flavors of mature dark fruit, with herbal and schist.\n\nThe wines are often and inky purple due to the thickening of the skins from the intense summer heat of the region.\n\nMost of the best made reds from the region come from the larger port houses where the skill of the winemakers go back for generations. The wines tend to be an incredible value for the time being but costs are slowly increasing due to the amazing blends coming from the area.\n\nThe first time one sees the Douro region they will always ask themselves, how can wine be made in such rugged terrain. It is also an amazingly beautiful area, with hillsides covered in terraced vineyards. Most larger winemakers have also started converting their areas into tourist destinations and wine hotels.\n\nGrapes include the Touriga Francesa, Tinta Roriz, Touriga Nacional and Tinta Barroca. Older vineyards still contain many less used vine varieties which makes their annual efforts less predictable, but allowing for unexpected surprises yielding unique, complex wines.",
             "food": [
              {
               "background_image": {
                "location": "//images.vivino.com/backgrounds/foods/4_beef.png",
                "variations": {
                 "small": "//images.vivino.com/backgrounds/foods/thumbs/4_beef_932x810.png"
                }
               },
               "id": 4,
               "name": "Beef",
               "seo_name": "beef"
              },
              {
               "background_image": {
                "location": "//images.vivino.com/backgrounds/foods/5_pasta.png",
                "variations": {
                 "small": "//images.vivino.com/backgrounds/foods/thumbs/5_pasta_932x810.png"
                }
               },
               "id": 5,
               "name": "Pasta",
               "seo_name": null
              },
              {
               "background_image": {
                "location": "//images.vivino.com/backgrounds/foods/8_lamb.png",
                "variations": {
                 "small": "//images.vivino.com/backgrounds/foods/thumbs/8_lamb_932x810.png"
                }
               },
               "id": 8,
               "name": "Lamb",
               "seo_name": "lamb"
              },
              {
               "background_image": {
                "location": "//images.vivino.com/backgrounds/foods/11_venison.png",
                "variations": {
                 "small": "//images.vivino.com/backgrounds/foods/thumbs/11_venison_932x810.png"
                }
               },
               "id": 11,
               "name": "Game (deer, venison)",
               "seo_name": "game"
              }
             ],
             "grapes": [
              {
               "has_detailed_info": true,
               "id": 67,
               "name": "Touriga Nacional",
               "seo_name": "touriga-nacional",
               "wines_count": 75882
              },
              {
               "has_detailed_info": false,
               "id": 69,
               "name": "Tinta Roriz",
               "seo_name": "tinta-roriz",
               "wines_count": 36604
              },
              {
               "has_detailed_info": false,
               "id": 390,
               "name": "Touriga Francesa",
               "seo_name": "touriga-francesa",
               "wines_count": 2963
              }
             ],
             "id": 81,
             "image": null,
             "interesting_facts": [
              "The Douro Valley is the home of Port wine.",
              "There is evidence as early as the 3rd century AD of winegrowing in the region.",
              "Temperatures in the Douro Valley often reach above 100 degrees F in the summer months. This lends to the inky color of the red wines, whose skin is thicker than cool climate grapes."
             ],
             "name": "Portuguese Douro Red",
             "region": {
              "background_image": {
               "location": "//images.vivino.com/regions/backgrounds/ePk3750qR3ioS9lEfzLBnA.jpg",
               "variations": {
                "large": "//thumbs.vivino.com/region_backgrounds/ePk3750qR3ioS9lEfzLBnA_1280x760.jpg",
                "medium": "//thumbs.vivino.com/region_backgrounds/ePk3750qR3ioS9lEfzLBnA_600x356.jpg"
               }
              },
              "class": {
               "typecast_map": {
                "background_image": {},
                "class": {}
               }
              },
              "country": {
               "code": "pt",
               "currency": {
                "code": "EUR",
                "name": "Euros",
                "prefix": "€",
                "suffix": null
               },
               "most_used_grapes": [
                {
                 "has_detailed_info": true,
                 "id": 67,
                 "name": "Touriga Nacional",
                 "seo_name": "touriga-nacional",
                 "wines_count": 75882
                },
                {
                 "has_detailed_info": false,
                 "id": 68,
                 "name": "Touriga Franca",
                 "seo_name": "touriga-franca",
                 "wines_count": 30116
                },
                {
                 "has_detailed_info": false,
                 "id": 69,
                 "name": "Tinta Roriz",
                 "seo_name": "tinta-roriz",
                 "wines_count": 36604
                }
               ],
               "name": "Portugal",
               "native_name": "Portugal",
               "regions_count": 91,
               "seo_name": "portugal",
               "users_count": 880466,
               "wineries_count": 5503,
               "wines_count": 47334
              },
              "id": 433,
              "name": "Douro",
              "name_en": "",
              "seo_name": "douro"
             },
             "regional_name": "Portuguese",
             "seo_name": "portuguese-douro-red",
             "varietal_name": "Douro Red",
             "wine_type_id": 1
            },
            "taste": {
             "flavor": [
              {
               "group": "oak",
               "stats": {
                "count": 53,
                "score": 8558
               }
              },
              {
               "group": "earth",
               "stats": {
                "count": 43,
                "score": 5299
               }
              },
              {
               "group": "non_oak",
               "stats": {
                "count": 42,
                "score": 1317
               }
              },
              {
               "group": "black_fruit",
               "stats": {
                "count": 30,
                "score": 5298
               }
              },
              {
               "group": "spices",
               "stats": {
                "count": 25,
                "score": 1595
               }
              },
              {
               "group": "red_fruit",
               "stats": {
                "count": 22,
                "score": 2313
               }
              },
              {
               "group": "microbio",
               "stats": {
                "count": 16,
                "score": 898
               }
              },
              {
               "group": "floral",
               "stats": {
                "count": 5,
                "score": 500
               }
              },
              {
               "group": "dried_fruit",
               "stats": {
                "count": 3,
                "score": 289
               }
              },
              {
               "group": "tropical_fruit",
               "stats": {
                "count": 1,
                "score": 33
               }
              }
             ],
             "structure": {
              "acidity": 2.9506924,
              "calculated_structure_count": 76,
              "fizziness": null,
              "intensity": 4.379031,
              "sweetness": 1.7717782,
              "tannin": 3.4169695,
              "user_structure_count": 386
             }
            },
            "type_id": 1,
            "vintage_type": 0,
            "winery": {
             "id": 37575,
             "name": "Casa Ferreirinha",
             "seo_name": "casa-ferreirinha",
             "status": 0
            }
           },
           "year": 2007
          }
         },
         {
          "price": {
           "amount": 89.99,
           "bottle_type": {
            "id": 1,
            "name": "Bottle (0.75l)",
            "short_name": "bottle",
            "short_name_plural": "bottles",
            "volume_ml": 750
           },
           "bottle_type_id": 1,
           "currency": {
            "code": "USD",
            "name": "US Dollars",
            "prefix": "$",
            "suffix": null
           },
           "discount_percent": null,
           "discounted_from": null,
           "id": 23945950,
           "sku": "SBG-126933573",
           "type": "xdo",
           "url": "http://www.vivino.com/wines/126933573",
           "visibility": 1
          },
          "prices": [
           {
            "amount": 89.99,
            "bottle_type": {
             "id": 1,
             "name": "Bottle (0.75l)",
             "short_name": "bottle",
             "short_name_plural": "bottles",
             "volume_ml": 750
            },
            "bottle_type_id": 1,
            "currency": {
             "code": "USD",
             "name": "US Dollars",
             "prefix": "$",
             "suffix": null
            },
            "discount_percent": null,
            "discounted_from": null,
            "id": 23945950,
            "sku": "SBG-126933573",
            "type": "xdo",
            "url": "http://www.vivino.com/wines/126933573",
            "visibility": 1
           }
          ],
          "vintage": {
           "grapes": null,
           "has_valid_ratings": true,
           "id": 126933573,
           "image": {
            "location": "//images.vivino.com/thumbs/WPXpzJXHTaSqAeqLqi8CXg_pl_480x640.png",
            "variations": {
             "bottle_large": "//images.vivino.com/thumbs/WPXpzJXHTaSqAeqLqi8CXg_pb_x960.png",
             "bottle_medium": "//images.vivino.com/thumbs/WPXpzJXHTaSqAeqLqi8CXg_pb_x600.png",
             "bottle_medium_square": "//images.vivino.com/thumbs/WPXpzJXHTaSqAeqLqi8CXg_pb_600x600.png",
             "bottle_small": "//images.vivino.com/thumbs/WPXpzJXHTaSqAeqLqi8CXg_pb_x300.png",
             "bottle_small_square": "//images.vivino.com/thumbs/WPXpzJXHTaSqAeqLqi8CXg_pb_300x300.png",
             "label": "//images.vivino.com/thumbs/WPXpzJXHTaSqAeqLqi8CXg_pl_480x640.png",
             "label_large": "//images.vivino.com/thumbs/WPXpzJXHTaSqAeqLqi8CXg_pl_375x500.png",
             "label_medium": "//images.vivino.com/thumbs/WPXpzJXHTaSqAeqLqi8CXg_pl_150x200.png",
             "label_medium_square": "//images.vivino.com/thumbs/WPXpzJXHTaSqAeqLqi8CXg_pl_150x150.png",
             "label_small_square": "//images.vivino.com/thumbs/WPXpzJXHTaSqAeqLqi8CXg_pl_80x80.png",
             "large": "//images.vivino.com/thumbs/WPXpzJXHTaSqAeqLqi8CXg_pl_375x500.png",
             "medium": "//images.vivino.com/thumbs/WPXpzJXHTaSqAeqLqi8CXg_pl_150x200.png",
             "medium_square": "//images.vivino.com/thumbs/WPXpzJXHTaSqAeqLqi8CXg_pl_150x150.png",
             "small_square": "//images.vivino.com/thumbs/WPXpzJXHTaSqAeqLqi8CXg_pl_80x80.png"
            }
           },
           "name": "El Enemigo Gran Enemigo Single Vineyard Gualtallary Cabernet Franc 2016",
           "seo_name": "el-enemigo-gran-enemigo-single-vineyard-gualtallary-cabernet-franc-2016",
           "statistics": {
            "labels_count": 11670,
            "ratings_average": 4.7,
            "ratings_count": 2000,
            "status": "Normal"
           },
           "wine": {
            "has_valid_ratings": true,
            "id": 3125433,
            "is_natural": false,
            "name": "Gran Enemigo Single Vineyard Gualtallary Cabernet Franc",
            "region": {
             "background_image": null,
             "country": {
              "code": "ar",
              "currency": {
               "code": "ARS",
               "name": "Argentinean Peso",
               "prefix": "$",
               "suffix": null
              },
              "most_used_grapes": [
               {
                "has_detailed_info": true,
                "id": 9,
                "name": "Malbec",
                "seo_name": "malbec",
                "wines_count": 197235
               },
               {
                "has_detailed_info": true,
                "id": 2,
                "name": "Cabernet Sauvignon",
                "seo_name": "cabernet-sauvignon",
                "wines_count": 725925
               },
               {
                "has_detailed_info": true,
                "id": 5,
                "name": "Chardonnay",
                "seo_name": "chardonnay",
                "wines_count": 541509
               }
              ],
              "name": "Argentina",
              "native_name": "Argentina",
              "regions_count": 39,
              "seo_name": "argentina",
              "users_count": 505817,
              "wineries_count": 4811,
              "wines_count": 42809
             },
             "id": 4263,
             "name": "Gualtallary",
             "name_en": "",
             "seo_name": "gualtallary"
            },
            "seo_name": "gran-enemigo-single-vineyard-gualtallary-cabernet-franc",
            "statistics": {
             "labels_count": 119050,
             "ratings_average": 4.6,
             "ratings_count": 25137,
             "status": "Normal",
             "vintages_count": 44
            },
            "style": {
             "acidity": 3,
             "acidity_description": "High",
             "background_image": null,
             "blurb": "Cabernet and Merlot based",
             "body": 4,
             "body_description": "Full-bodied",
             "country": {
              "code": "ar",
              "currency": {
               "code": "ARS",
               "name": "Argentinean Peso",
               "prefix": "$",
               "suffix": null
              },
              "most_used_grapes": [
               {
                "has_detailed_info": true,
                "id": 9,
                "name": "Malbec",
                "seo_name": "malbec",
                "wines_count": 197235
               },
               {
                "has_detailed_info": true,
                "id": 2,
                "name": "Cabernet Sauvignon",
                "seo_name": "cabernet-sauvignon",
                "wines_count": 725925
               },
               {
                "has_detailed_info": true,
                "id": 5,
                "name": "Chardonnay",
                "seo_name": "chardonnay",
                "wines_count": 541509
               }
              ],
              "name": "Argentina",
              "native_name": "Argentina",
              "regions_count": 39,
              "seo_name": "argentina",
              "users_count": 505817,
              "wineries_count": 4811,
              "wines_count": 42809
             },
             "description": null,
             "food": [
              {
               "background_image": {
                "location": "//images.vivino.com/backgrounds/foods/4_beef.png",
                "variations": {
                 "small": "//images.vivino.com/backgrounds/foods/thumbs/4_beef_932x810.png"
                }
               },
               "id": 4,
               "name": "Beef",
               "seo_name": "beef"
              },
              {
               "background_image": {
                "location": "//images.vivino.com/backgrounds/foods/5_pasta.png",
                "variations": {
                 "small": "//images.vivino.com/backgrounds/foods/thumbs/5_pasta_932x810.png"
                }
               },
               "id": 5,
               "name": "Pasta",
               "seo_name": null
              },
              {
               "background_image": {
                "location": "//images.vivino.com/backgrounds/foods/8_lamb.png",
                "variations": {
                 "small": "//images.vivino.com/backgrounds/foods/thumbs/8_lamb_932x810.png"
                }
               },
               "id": 8,
               "name": "Lamb",
               "seo_name": "lamb"
              },
              {
               "background_image": {
                "location": "//images.vivino.com/backgrounds/foods/20_chicken.png",
                "variations": {
                 "small": "//images.vivino.com/backgrounds/foods/thumbs/20_chicken_932x810.png"
                }
               },
               "id": 20,
               "name": "Poultry",
               "seo_name": "poultry"
              }
             ],
             "grapes": [
              {
               "has_detailed_info": true,
               "id": 2,
               "name": "Cabernet Sauvignon",
               "seo_name": "cabernet-sauvignon",
               "wines_count": 725925
              },
              {
               "has_detailed_info": true,
               "id": 3,
               "name": "Cabernet Franc",
               "seo_name": "cabernet-franc",
               "wines_count": 243121
              },
              {
               "has_detailed_info": true,
               "id": 9,
               "name": "Malbec",
               "seo_name": "malbec",
               "wines_count": 197235
              },
              {
               "has_detailed_info": true,
               "id": 10,
               "name": "Merlot",
               "seo_name": "merlot",
               "wines_count": 510808
              },
              {
               "has_detailed_info": true,
               "id": 42,
               "name": "Petit Verdot",
               "seo_name": "petit-verdot",
               "wines_count": 74892
              },
              {
               "has_detailed_info": true,
               "id": 51,
               "name": "Carménère",
               "seo_name": "carmenere",
               "wines_count": 45374
              }
             ],
             "id": 11,
             "image": null,
             "interesting_facts": null,
             "name": "Argentinian Bordeaux Blend",
             "region": null,
             "regional_name": "Argentinian",
             "seo_name": "argentinian-bordeaux-blend",
             "varietal_name": "Bordeaux Blend",
             "wine_type_id": 1
            },
            "taste": {
             "flavor": [
              {
               "group": "oak",
               "stats": {
                "count": 300,
                "score": 44261
               }
              },
              {
               "group": "black_fruit",
               "stats": {
                "count": 233,
                "score": 36138
               }
              },
              {
               "group": "spices",
               "stats": {
                "count": 205,
                "score": 20109
               }
              },
              {
               "group": "non_oak",
               "stats": {
                "count": 182,
                "score": 3551
               }
              },
              {
               "group": "earth",
               "stats": {
                "count": 166,
                "score": 18240
               }
              },
              {
               "group": "red_fruit",
               "stats": {
                "count": 127,
                "score": 10622
               }
              },
              {
               "group": "microbio",
               "stats": {
                "count": 28,
                "score": 1533
               }
              },
              {
               "group": "floral",
               "stats": {
                "count": 26,
                "score": 2400
               }
              },
              {
               "group": "vegetal",
               "stats": {
                "count": 23,
                "score": 1973
               }
              },
              {
               "group": "dried_fruit",
               "stats": {
                "count": 17,
                "score": 1140
               }
              },
              {
               "group": "citrus_fruit",
               "stats": {
                "count": 6,
                "score": 600
               }
              },
              {
               "group": "tropical_fruit",
               "stats": {
                "count": 2,
                "score": 133
               }
              },
              {
               "group": "tree_fruit",
               "stats": {
                "count": 2,
                "score": 200
               }
              }
             ],
             "structure": {
              "acidity": 3.49186,
              "calculated_structure_count": 336,
              "fizziness": null,
              "intensity": 4.3826656,
              "sweetness": 2.0066633,
              "tannin": 3.4866967,
              "user_structure_count": 1646
             }
            },
            "type_id": 1,
            "vintage_type": 0,
            "winery": {
             "id": 20435,
             "name": "El Enemigo",
             "seo_name": "el-enemigo",
             "status": 0
            }
           },
           "year": 2016
          }
         },
         {
          "price": {
           "amount": 399.99,
           "bottle_type": {
            "id": 1,
            "name": "Bottle (0.75l)",
            "short_name": "bottle",
            "short_name_plural": "bottles",
            "volume_ml": 750
           },
           "bottle_type_id": 1,
           "currency": {
            "code": "USD",
            "name": "US Dollars",
            "prefix": "$",
            "suffix": null
           },
           "discount_percent": null,
           "discounted_from": null,
           "id": 19940579,
           "sku": "6281600000",
           "type": "vc",
           "url": "https://www.sherryswine.com/wines/Opus-One-Opus-One-2016-w0672967uo?utm_source=Vivino&utm_medium=Feed",
           "visibility": 1
          },
          "prices": [
           {
            "amount": 399.99,
            "bottle_type": {
             "id": 1,
             "name": "Bottle (0.75l)",
             "short_name": "bottle",
             "short_name_plural": "bottles",
             "volume_ml": 750
            },
            "bottle_type_id": 1,
            "currency": {
             "code": "USD",
             "name": "US Dollars",
             "prefix": "$",
             "suffix": null
            },
            "discount_percent": null,
            "discounted_from": null,
            "id": 19940579,
            "sku": "6281600000",
            "type": "vc",
            "url": "https://www.sherryswine.com/wines/Opus-One-Opus-One-2016-w0672967uo?utm_source=Vivino&utm_medium=Feed",
            "visibility": 1
           }
          ],
          "vintage": {
           "grapes": null,
           "has_valid_ratings": true,
           "id": 85531171,
           "image": {
            "location": "//images.vivino.com/thumbs/C45ybDUxTnWShRkbSTusNg_pl_480x640.png",
            "variations": {
             "bottle_large": "//images.vivino.com/thumbs/C45ybDUxTnWShRkbSTusNg_pb_x960.png",
             "bottle_medium": "//images.vivino.com/thumbs/C45ybDUxTnWShRkbSTusNg_pb_x600.png",
             "bottle_medium_square": "//images.vivino.com/thumbs/C45ybDUxTnWShRkbSTusNg_pb_600x600.png",
             "bottle_small": "//images.vivino.com/thumbs/C45ybDUxTnWShRkbSTusNg_pb_x300.png",
             "bottle_small_square": "//images.vivino.com/thumbs/C45ybDUxTnWShRkbSTusNg_pb_300x300.png",
             "label": "//images.vivino.com/thumbs/C45ybDUxTnWShRkbSTusNg_pl_480x640.png",
             "label_large": "//images.vivino.com/thumbs/C45ybDUxTnWShRkbSTusNg_pl_375x500.png",
             "label_medium": "//images.vivino.com/thumbs/C45ybDUxTnWShRkbSTusNg_pl_150x200.png",
             "label_medium_square": "//images.vivino.com/thumbs/C45ybDUxTnWShRkbSTusNg_pl_150x150.png",
             "label_small_square": "//images.vivino.com/thumbs/C45ybDUxTnWShRkbSTusNg_pl_80x80.png",
             "large": "//images.vivino.com/thumbs/C45ybDUxTnWShRkbSTusNg_pl_375x500.png",
             "medium": "//images.vivino.com/thumbs/C45ybDUxTnWShRkbSTusNg_pl_150x200.png",
             "medium_square": "//images.vivino.com/thumbs/C45ybDUxTnWShRkbSTusNg_pl_150x150.png",
             "small_square": "//images.vivino.com/thumbs/C45ybDUxTnWShRkbSTusNg_pl_80x80.png"
            }
           },
           "name": "Opus One Opus One 2016",
           "seo_name": "opus-one-opus-one-2016",
           "statistics": {
            "labels_count": 15249,
            "ratings_average": 4.7,
            "ratings_count": 1736,
            "status": "Normal"
           },
           "wine": {
            "has_valid_ratings": true,
            "id": 1911534,
            "is_natural": false,
            "name": "Opus One",
            "region": {
             "background_image": {
              "location": "//images.vivino.com/regions/backgrounds/cP8NlYVPSUStyROqZeBzgA.jpg",
              "variations": {
               "large": "//thumbs.vivino.com/region_backgrounds/cP8NlYVPSUStyROqZeBzgA_1280x760.jpg",
               "medium": "//thumbs.vivino.com/region_backgrounds/cP8NlYVPSUStyROqZeBzgA_600x356.jpg"
              }
             },
             "class": {
              "typecast_map": {
               "background_image": {},
               "class": {}
              }
             },
             "country": {
              "code": "us",
              "currency": {
               "code": "USD",
               "name": "US Dollars",
               "prefix": "$",
               "suffix": null
              },
              "most_used_grapes": [
               {
                "has_detailed_info": true,
                "id": 2,
                "name": "Cabernet Sauvignon",
                "seo_name": "cabernet-sauvignon",
                "wines_count": 725925
               },
               {
                "has_detailed_info": true,
                "id": 14,
                "name": "Pinot Noir",
                "seo_name": "pinot-noir",
                "wines_count": 513244
               },
               {
                "has_detailed_info": true,
                "id": 5,
                "name": "Chardonnay",
                "seo_name": "chardonnay",
                "wines_count": 541509
               }
              ],
              "name": "United States",
              "native_name": "United States",
              "regions_count": 357,
              "seo_name": "united-states",
              "users_count": 10104977,
              "wineries_count": 26264,
              "wines_count": 230446
             },
             "id": 25,
             "name": "Napa Valley",
             "name_en": "",
             "seo_name": "napa-valley"
            },
            "seo_name": "opus-one",
            "statistics": {
             "labels_count": 377985,
             "ratings_average": 4.6,
             "ratings_count": 58742,
             "status": "Normal",
             "vintages_count": 188
            },
            "style": {
             "acidity": 2,
             "acidity_description": "Medium",
             "background_image": {
              "location": "//images.vivino.com/backgrounds/styles/lkl1g1AyRWiGuiC_PycS4w.jpg",
              "variations": {
               "small": "//images.vivino.com/backgrounds/styles/thumbs/lkl1g1AyRWiGuiC_PycS4w_932x810.jpg"
              }
             },
             "blurb": null,
             "body": 4,
             "body_description": "Full-bodied",
             "country": {
              "code": "us",
              "currency": {
               "code": "USD",
               "name": "US Dollars",
               "prefix": "$",
               "suffix": null
              },
              "most_used_grapes": [
               {
                "has_detailed_info": true,
                "id": 2,
                "name": "Cabernet Sauvignon",
                "seo_name": "cabernet-sauvignon",
                "wines_count": 725925
               },
               {
                "has_detailed_info": true,
                "id": 14,
                "name": "Pinot Noir",
                "seo_name": "pinot-noir",
                "wines_count": 513244
               },
               {
                "has_detailed_info": true,
                "id": 5,
                "name": "Chardonnay",
                "seo_name": "chardonnay",
                "wines_count": 541509
               }
              ],
              "name": "United States",
              "native_name": "United States",
              "regions_count": 357,
              "seo_name": "united-states",
              "users_count": 10104977,
              "wineries_count": 26264,
              "wines_count": 230446
             },
             "description": null,
             "food": [
              {
               "background_image": {
                "location": "//images.vivino.com/backgrounds/foods/4_beef.png",
                "variations": {
                 "small": "//images.vivino.com/backgrounds/foods/thumbs/4_beef_932x810.png"
                }
               },
               "id": 4,
               "name": "Beef",
               "seo_name": "beef"
              },
              {
               "background_image": {
                "location": "//images.vivino.com/backgrounds/foods/8_lamb.png",
                "variations": {
                 "small": "//images.vivino.com/backgrounds/foods/thumbs/8_lamb_932x810.png"
                }
               },
               "id": 8,
               "name": "Lamb",
               "seo_name": "lamb"
              },
              {
               "background_image": {
                "location": "//images.vivino.com/backgrounds/foods/11_venison.png",
                "variations": {
                 "small": "//images.vivino.com/backgrounds/foods/thumbs/11_venison_932x810.png"
                }
               },
               "id": 11,
               "name": "Game (deer, venison)",
               "seo_name": "game"
              },
              {
               "background_image": {
                "location": "//images.vivino.com/backgrounds/foods/20_chicken.png",
                "variations": {
                 "small": "//images.vivino.com/backgrounds/foods/thumbs/20_chicken_932x810.png"
                }
               },
               "id": 20,
               "name": "Poultry",
               "seo_name": "poultry"
              }
             ],
             "grapes": [
              {
               "has_detailed_info": true,
               "id": 2,
               "name": "Cabernet Sauvignon",
               "seo_name": "cabernet-sauvignon",
               "wines_count": 725925
              },
              {
               "has_detailed_info": true,
               "id": 3,
               "name": "Cabernet Franc",
               "seo_name": "cabernet-franc",
               "wines_count": 243121
              },
              {
               "has_detailed_info": true,
               "id": 9,
               "name": "Malbec",
               "seo_name": "malbec",
               "wines_count": 197235
              },
              {
               "has_detailed_info": true,
               "id": 10,
               "name": "Merlot",
               "seo_name": "merlot",
               "wines_count": 510808
              },
              {
               "has_detailed_info": true,
               "id": 42,
               "name": "Petit Verdot",
               "seo_name": "petit-verdot",
               "wines_count": 74892
              }
             ],
             "id": 290,
             "image": null,
             "interesting_facts": null,
             "name": "Napa Valley Bordeaux Blend",
             "region": {
              "background_image": {
               "location": "//images.vivino.com/regions/backgrounds/cP8NlYVPSUStyROqZeBzgA.jpg",
               "variations": {
                "large": "//thumbs.vivino.com/region_backgrounds/cP8NlYVPSUStyROqZeBzgA_1280x760.jpg",
                "medium": "//thumbs.vivino.com/region_backgrounds/cP8NlYVPSUStyROqZeBzgA_600x356.jpg"
               }
              },
              "class": {
               "typecast_map": {
                "background_image": {},
                "class": {}
               }
              },
              "country": {
               "code": "us",
               "currency": {
                "code": "USD",
                "name": "US Dollars",
                "prefix": "$",
                "suffix": null
               },
               "most_used_grapes": [
                {
                 "has_detailed_info": true,
                 "id": 2,
                 "name": "Cabernet Sauvignon",
                 "seo_name": "cabernet-sauvignon",
                 "wines_count": 725925
                },
                {
                 "has_detailed_info": true,
                 "id": 14,
                 "name": "Pinot Noir",
                 "seo_name": "pinot-noir",
                 "wines_count": 513244
                },
                {
                 "has_detailed_info": true,
                 "id": 5,
                 "name": "Chardonnay",
                 "seo_name": "chardonnay",
                 "wines_count": 541509
                }
               ],
               "name": "United States",
               "native_name": "United States",
               "regions_count": 357,
               "seo_name": "united-states",
               "users_count": 10104977,
               "wineries_count": 26264,
               "wines_count": 230446
              },
              "id": 25,
              "name": "Napa Valley",
              "name_en": "",
              "seo_name": "napa-valley"
             },
             "regional_name": "Napa Valley",
             "seo_name": "napa-valley-bordeaux-blend",
             "varietal_name": "Bordeaux Blend",
             "wine_type_id": 1
            },
            "taste": {
             "flavor": [
              {
               "group": "oak",
               "stats": {
                "count": 1970,
                "score": 259294
               }
              },
              {
               "group": "black_fruit",
               "stats": {
                "count": 1504,
                "score": 221334
               }
              },
              {
               "group": "earth",
               "stats": {
                "count": 1338,
                "score": 130615
               }
              },
              {
               "group": "non_oak",
               "stats": {
                "count": 1150,
                "score": 26486
               }
              },
              {
               "group": "spices",
               "stats": {
                "count": 809,
                "score": 63443
               }
              },
              {
               "group": "red_fruit",
               "stats": {
                "count": 694,
                "score": 61311
               }
              },
              {
               "group": "microbio",
               "stats": {
                "count": 273,
                "score": 18242
               }
              },
              {
               "group": "dried_fruit",
               "stats": {
                "count": 138,
                "score": 9885
               }
              },
              {
               "group": "floral",
               "stats": {
                "count": 123,
                "score": 11625
               }
              },
              {
               "group": "vegetal",
               "stats": {
                "count": 88,
                "score": 6234
               }
              },
              {
               "group": "citrus_fruit",
               "stats": {
                "count": 28,
                "score": 3000
               }
              },
              {
               "group": "tree_fruit",
               "stats": {
                "count": 22,
                "score": 2200
               }
              },
              {
               "group": "tropical_fruit",
               "stats": {
                "count": 13,
                "score": 1031
               }
              }
             ],
             "structure": {
              "acidity": 3.8470414,
              "calculated_structure_count": 3424,
              "fizziness": null,
              "intensity": 4.6459174,
              "sweetness": 1.6764512,
              "tannin": 3.3724108,
              "user_structure_count": 587
             }
            },
            "type_id": 1,
            "vintage_type": 0,
            "winery": {
             "id": 1368,
             "name": "Opus One",
             "seo_name": "opus-one",
             "status": 0
            }
           },
           "year": 2016
          }
         },
         {
          "price": {
           "amount": 124.99,
           "bottle_type": {
            "id": 1,
            "name": "Bottle (0.75l)",
            "short_name": "bottle",
            "short_name_plural": "bottles",
            "volume_ml": 750
           },
           "bottle_type_id": 1,
           "currency": {
            "code": "USD",
            "name": "US Dollars",
            "prefix": "$",
            "suffix": null
           },
           "discount_percent": null,
           "discounted_from": null,
           "id": 24292937,
           "sku": "2857732QM",
           "type": "vc",
           "url": "https://www.hopcaskandbarrel.com/wines/Susana-Balbo-Malbec-Nosotros-2014-w2857732qm",
           "visibility": 1
          },
          "prices": [
           {
            "amount": 124.99,
            "bottle_type": {
             "id": 1,
             "name": "Bottle (0.75l)",
             "short_name": "bottle",
             "short_name_plural": "bottles",
             "volume_ml": 750
            },
            "bottle_type_id": 1,
            "currency": {
             "code": "USD",
             "name": "US Dollars",
             "prefix": "$",
             "suffix": null
            },
            "discount_percent": null,
            "discounted_from": null,
            "id": 24292937,
            "sku": "2857732QM",
            "type": "vc",
            "url": "https://www.hopcaskandbarrel.com/wines/Susana-Balbo-Malbec-Nosotros-2014-w2857732qm",
            "visibility": 1
           }
          ],
          "vintage": {
           "grapes": null,
           "has_valid_ratings": true,
           "id": 9185770,
           "image": {
            "location": "//images.vivino.com/thumbs/VxGqxhU0TqWmUqByG5gZiw_pl_480x640.png",
            "variations": {
             "bottle_large": "//images.vivino.com/thumbs/VxGqxhU0TqWmUqByG5gZiw_pb_x960.png",
             "bottle_medium": "//images.vivino.com/thumbs/VxGqxhU0TqWmUqByG5gZiw_pb_x600.png",
             "bottle_medium_square": "//images.vivino.com/thumbs/VxGqxhU0TqWmUqByG5gZiw_pb_600x600.png",
             "bottle_small": "//images.vivino.com/thumbs/VxGqxhU0TqWmUqByG5gZiw_pb_x300.png",
             "bottle_small_square": "//images.vivino.com/thumbs/VxGqxhU0TqWmUqByG5gZiw_pb_300x300.png",
             "label": "//images.vivino.com/thumbs/VxGqxhU0TqWmUqByG5gZiw_pl_480x640.png",
             "label_large": "//images.vivino.com/thumbs/VxGqxhU0TqWmUqByG5gZiw_pl_375x500.png",
             "label_medium": "//images.vivino.com/thumbs/VxGqxhU0TqWmUqByG5gZiw_pl_150x200.png",
             "label_medium_square": "//images.vivino.com/thumbs/VxGqxhU0TqWmUqByG5gZiw_pl_150x150.png",
             "label_small_square": "//images.vivino.com/thumbs/VxGqxhU0TqWmUqByG5gZiw_pl_80x80.png",
             "large": "//images.vivino.com/thumbs/VxGqxhU0TqWmUqByG5gZiw_pl_375x500.png",
             "medium": "//images.vivino.com/thumbs/VxGqxhU0TqWmUqByG5gZiw_pl_150x200.png",
             "medium_square": "//images.vivino.com/thumbs/VxGqxhU0TqWmUqByG5gZiw_pl_150x150.png",
             "small_square": "//images.vivino.com/thumbs/VxGqxhU0TqWmUqByG5gZiw_pl_80x80.png"
            }
           },
           "name": "Nosotros Red 2014",
           "seo_name": "nosotros-red-2014",
           "statistics": {
            "labels_count": 7443,
            "ratings_average": 4.7,
            "ratings_count": 1341,
            "status": "Normal"
           },
           "top_list_rankings": [
            {
             "description": null,
             "previous_rank": 5,
             "rank": 5,
             "top_list": {
              "id": 201998,
              "location": "_0",
              "name": "Vivino's 2019 Wine Style Awards: Argentinian Malbec",
              "seo_name": "wine_style_awards_2019_argentinian_malbec",
              "type": 6,
              "year": "2019"
             }
            }
           ],
           "wine": {
            "has_valid_ratings": true,
            "id": 1724358,
            "is_natural": false,
            "name": "Red",
            "region": {
             "background_image": {
              "location": "//images.vivino.com/regions/backgrounds/acVeOT2HSw-e-hNSdAa_XQ.jpg",
              "variations": {
               "large": "//thumbs.vivino.com/region_backgrounds/acVeOT2HSw-e-hNSdAa_XQ_1280x760.jpg",
               "medium": "//thumbs.vivino.com/region_backgrounds/acVeOT2HSw-e-hNSdAa_XQ_600x356.jpg"
              }
             },
             "country": {
              "code": "ar",
              "currency": {
               "code": "ARS",
               "name": "Argentinean Peso",
               "prefix": "$",
               "suffix": null
              },
              "most_used_grapes": [
               {
                "has_detailed_info": true,
                "id": 9,
                "name": "Malbec",
                "seo_name": "malbec",
                "wines_count": 197235
               },
               {
                "has_detailed_info": true,
                "id": 2,
                "name": "Cabernet Sauvignon",
                "seo_name": "cabernet-sauvignon",
                "wines_count": 725925
               },
               {
                "has_detailed_info": true,
                "id": 5,
                "name": "Chardonnay",
                "seo_name": "chardonnay",
                "wines_count": 541509
               }
              ],
              "name": "Argentina",
              "native_name": "Argentina",
              "regions_count": 39,
              "seo_name": "argentina",
              "users_count": 505817,
              "wineries_count": 4811,
              "wines_count": 42809
             },
             "id": 1596,
             "name": "Agrelo",
             "name_en": "",
             "seo_name": "agrelo"
            },
            "seo_name": "red",
            "statistics": {
             "labels_count": 31583,
             "ratings_average": 4.6,
             "ratings_count": 7351,
             "status": "Normal",
             "vintages_count": 40
            },
            "style": {
             "acidity": 3,
             "acidity_description": "High",
             "background_image": {
              "location": "//images.vivino.com/backgrounds/styles/KE9UkhVvSrOuL02j-JjNng.jpg",
              "variations": {
               "small": "//images.vivino.com/backgrounds/styles/thumbs/KE9UkhVvSrOuL02j-JjNng_932x810.jpg"
              }
             },
             "blurb": null,
             "body": 5,
             "body_description": "Very full-bodied",
             "country": {
              "code": "ar",
              "currency": {
               "code": "ARS",
               "name": "Argentinean Peso",
               "prefix": "$",
               "suffix": null
              },
              "most_used_grapes": [
               {
                "has_detailed_info": true,
                "id": 9,
                "name": "Malbec",
                "seo_name": "malbec",
                "wines_count": 197235
               },
               {
                "has_detailed_info": true,
                "id": 2,
                "name": "Cabernet Sauvignon",
                "seo_name": "cabernet-sauvignon",
                "wines_count": 725925
               },
               {
                "has_detailed_info": true,
                "id": 5,
                "name": "Chardonnay",
                "seo_name": "chardonnay",
                "wines_count": 541509
               }
              ],
              "name": "Argentina",
              "native_name": "Argentina",
              "regions_count": 39,
              "seo_name": "argentina",
              "users_count": 505817,
              "wineries_count": 4811,
              "wines_count": 42809
             },
             "description": "Extremely popular, Argentinian Malbec is an inky, medium-bodied, dry red wine with strong impressions of dark fruits on the nose and palate. This wine tends to have mellower tannins than its French counterpart.\n\nHeavily dependent on where they are grown for variations in flavor, Argentinian Malbec has quickly become a world favorite due to the characteristics that the high altitude climate and soils impart to the fruit.\n\nOriginally from France, it is one of the original 5 “Bordeaux” grapes. It is scarcely planted in France anymore.\n\nIt has found an amazingly hospitable home in the mountains of Argentina from which some of the world's best selling Malbecs are grown.\n\nStarkly different from French versions in structure and flavor, this wine is a good investment for collectors, as the wine can age for several years before drinking.This wine also pairs very well with any savory red meat dish-- particularly dishes that include spice.",
             "food": [
              {
               "background_image": {
                "location": "//images.vivino.com/backgrounds/foods/4_beef.png",
                "variations": {
                 "small": "//images.vivino.com/backgrounds/foods/thumbs/4_beef_932x810.png"
                }
               },
               "id": 4,
               "name": "Beef",
               "seo_name": "beef"
              },
              {
               "background_image": {
                "location": "//images.vivino.com/backgrounds/foods/8_lamb.png",
                "variations": {
                 "small": "//images.vivino.com/backgrounds/foods/thumbs/8_lamb_932x810.png"
                }
               },
               "id": 8,
               "name": "Lamb",
               "seo_name": "lamb"
              },
              {
               "background_image": {
                "location": "//images.vivino.com/backgrounds/foods/20_chicken.png",
                "variations": {
                 "small": "//images.vivino.com/backgrounds/foods/thumbs/20_chicken_932x810.png"
                }
               },
               "id": 20,
               "name": "Poultry",
               "seo_name": "poultry"
              }
             ],
             "grapes": [
              {
               "has_detailed_info": true,
               "id": 9,
               "name": "Malbec",
               "seo_name": "malbec",
               "wines_count": 197235
              }
             ],
             "id": 98,
             "image": null,
             "interesting_facts": [
              "World Malbec day is celebrated on April 17.",
              "Growers invest fortunes in specialized netting to protect Malbec crops from frequent high altitude hail storms.",
              "Significant portions of Argentinian Malbec grows at altitudes approaching 5000 feet (1500 meters).",
              "Nearly all Malbec grown in France is now used for blending."
             ],
             "name": "Argentinian Malbec",
             "region": null,
             "regional_name": "Argentinian",
             "seo_name": "argentinian-malbec",
             "varietal_name": "Malbec",
             "wine_type_id": 1
            },
            "taste": {
             "flavor": [
              {
               "group": "oak",
               "stats": {
                "count": 121,
                "score": 17441
               }
              },
              {
               "group": "black_fruit",
               "stats": {
                "count": 83,
                "score": 9743
               }
              },
              {
               "group": "non_oak",
               "stats": {
                "count": 59,
                "score": 1710
               }
              },
              {
               "group": "spices",
               "stats": {
                "count": 59,
                "score": 3979
               }
              },
              {
               "group": "earth",
               "stats": {
                "count": 50,
                "score": 4013
               }
              },
              {
               "group": "red_fruit",
               "stats": {
                "count": 36,
                "score": 3432
               }
              },
              {
               "group": "microbio",
               "stats": {
                "count": 20,
                "score": 1023
               }
              },
              {
               "group": "floral",
               "stats": {
                "count": 20,
                "score": 2000
               }
              },
              {
               "group": "dried_fruit",
               "stats": {
                "count": 13,
                "score": 1116
               }
              },
              {
               "group": "tree_fruit",
               "stats": {
                "count": 2,
                "score": 200
               }
              },
              {
               "group": "vegetal",
               "stats": {
                "count": 1,
                "score": 10
               }
              },
              {
               "group": "tropical_fruit",
               "stats": {
                "count": 1,
                "score": 33
               }
              },
              {
               "group": "citrus_fruit",
               "stats": {
                "count": 1,
                "score": 100
               }
              }
             ],
             "structure": {
              "acidity": 2.6152236,
              "calculated_structure_count": 151,
              "fizziness": null,
              "intensity": 4.167923,
              "sweetness": 2.1208389,
              "tannin": 2.7460134,
              "user_structure_count": 1060
             }
            },
            "type_id": 1,
            "vintage_type": 0,
            "winery": {
             "id": 201104,
             "name": "Nosotros",
             "seo_name": "nosotros",
             "status": 0
            }
           },
           "year": 2014
          }
         },
         {
          "price": {
           "amount": 329.99,
           "bottle_type": {
            "id": 1,
            "name": "Bottle (0.75l)",
            "short_name": "bottle",
            "short_name_plural": "bottles",
            "volume_ml": 750
           },
           "bottle_type_id": 1,
           "currency": {
            "code": "USD",
            "name": "US Dollars",
            "prefix": "$",
            "suffix": null
           },
           "discount_percent": null,
           "discounted_from": null,
           "id": 16994985,
           "sku": "",
           "type": "vc",
           "url": "http://www.johnandpetes.com/all-wine/cabernet-sauvignon/joseph-phelps-insignia-2015-detail",
           "visibility": 1
          },
          "prices": [
           {
            "amount": 329.99,
            "bottle_type": {
             "id": 1,
             "name": "Bottle (0.75l)",
             "short_name": "bottle",
             "short_name_plural": "bottles",
             "volume_ml": 750
            },
            "bottle_type_id": 1,
            "currency": {
             "code": "USD",
             "name": "US Dollars",
             "prefix": "$",
             "suffix": null
            },
            "discount_percent": null,
            "discounted_from": null,
            "id": 16994985,
            "sku": "",
            "type": "vc",
            "url": "http://www.johnandpetes.com/all-wine/cabernet-sauvignon/joseph-phelps-insignia-2015-detail",
            "visibility": 1
           }
          ],
          "vintage": {
           "grapes": null,
           "has_valid_ratings": true,
           "id": 14322462,
           "image": {
            "location": "//images.vivino.com/thumbs/NOkljUUMT3i35lDjSgR9MQ_pl_480x640.png",
            "variations": {
             "bottle_large": "//images.vivino.com/thumbs/NOkljUUMT3i35lDjSgR9MQ_pb_x960.png",
             "bottle_medium": "//images.vivino.com/thumbs/NOkljUUMT3i35lDjSgR9MQ_pb_x600.png",
             "bottle_medium_square": "//images.vivino.com/thumbs/NOkljUUMT3i35lDjSgR9MQ_pb_600x600.png",
             "bottle_small": "//images.vivino.com/thumbs/NOkljUUMT3i35lDjSgR9MQ_pb_x300.png",
             "bottle_small_square": "//images.vivino.com/thumbs/NOkljUUMT3i35lDjSgR9MQ_pb_300x300.png",
             "label": "//images.vivino.com/thumbs/NOkljUUMT3i35lDjSgR9MQ_pl_480x640.png",
             "label_large": "//images.vivino.com/thumbs/NOkljUUMT3i35lDjSgR9MQ_pl_375x500.png",
             "label_medium": "//images.vivino.com/thumbs/NOkljUUMT3i35lDjSgR9MQ_pl_150x200.png",
             "label_medium_square": "//images.vivino.com/thumbs/NOkljUUMT3i35lDjSgR9MQ_pl_150x150.png",
             "label_small_square": "//images.vivino.com/thumbs/NOkljUUMT3i35lDjSgR9MQ_pl_80x80.png",
             "large": "//images.vivino.com/thumbs/NOkljUUMT3i35lDjSgR9MQ_pl_375x500.png",
             "medium": "//images.vivino.com/thumbs/NOkljUUMT3i35lDjSgR9MQ_pl_150x200.png",
             "medium_square": "//images.vivino.com/thumbs/NOkljUUMT3i35lDjSgR9MQ_pl_150x150.png",
             "small_square": "//images.vivino.com/thumbs/NOkljUUMT3i35lDjSgR9MQ_pl_80x80.png"
            }
           },
           "name": "Joseph Phelps Insignia 2015",
           "seo_name": "joseph-phelps-insignia-2015",
           "statistics": {
            "labels_count": 16144,
            "ratings_average": 4.7,
            "ratings_count": 1335,
            "status": "Normal"
           },
           "wine": {
            "has_valid_ratings": true,
            "id": 16587,
            "is_natural": false,
            "name": "Insignia",
            "region": {
             "background_image": {
              "location": "//images.vivino.com/regions/backgrounds/cP8NlYVPSUStyROqZeBzgA.jpg",
              "variations": {
               "large": "//thumbs.vivino.com/region_backgrounds/cP8NlYVPSUStyROqZeBzgA_1280x760.jpg",
               "medium": "//thumbs.vivino.com/region_backgrounds/cP8NlYVPSUStyROqZeBzgA_600x356.jpg"
              }
             },
             "class": {
              "typecast_map": {
               "background_image": {},
               "class": {}
              }
             },
             "country": {
              "code": "us",
              "currency": {
               "code": "USD",
               "name": "US Dollars",
               "prefix": "$",
               "suffix": null
              },
              "most_used_grapes": [
               {
                "has_detailed_info": true,
                "id": 2,
                "name": "Cabernet Sauvignon",
                "seo_name": "cabernet-sauvignon",
                "wines_count": 725925
               },
               {
                "has_detailed_info": true,
                "id": 14,
                "name": "Pinot Noir",
                "seo_name": "pinot-noir",
                "wines_count": 513244
               },
               {
                "has_detailed_info": true,
                "id": 5,
                "name": "Chardonnay",
                "seo_name": "chardonnay",
                "wines_count": 541509
               }
              ],
              "name": "United States",
              "native_name": "United States",
              "regions_count": 357,
              "seo_name": "united-states",
              "users_count": 10104977,
              "wineries_count": 26264,
              "wines_count": 230446
             },
             "id": 25,
             "name": "Napa Valley",
             "name_en": "",
             "seo_name": "napa-valley"
            },
            "seo_name": "insignia",
            "statistics": {
             "labels_count": 183779,
             "ratings_average": 4.6,
             "ratings_count": 24538,
             "status": "Normal",
             "vintages_count": 108
            },
            "style": {
             "acidity": 2,
             "acidity_description": "Medium",
             "background_image": {
              "location": "//images.vivino.com/backgrounds/styles/lkl1g1AyRWiGuiC_PycS4w.jpg",
              "variations": {
               "small": "//images.vivino.com/backgrounds/styles/thumbs/lkl1g1AyRWiGuiC_PycS4w_932x810.jpg"
              }
             },
             "blurb": null,
             "body": 4,
             "body_description": "Full-bodied",
             "country": {
              "code": "us",
              "currency": {
               "code": "USD",
               "name": "US Dollars",
               "prefix": "$",
               "suffix": null
              },
              "most_used_grapes": [
               {
                "has_detailed_info": true,
                "id": 2,
                "name": "Cabernet Sauvignon",
                "seo_name": "cabernet-sauvignon",
                "wines_count": 725925
               },
               {
                "has_detailed_info": true,
                "id": 14,
                "name": "Pinot Noir",
                "seo_name": "pinot-noir",
                "wines_count": 513244
               },
               {
                "has_detailed_info": true,
                "id": 5,
                "name": "Chardonnay",
                "seo_name": "chardonnay",
                "wines_count": 541509
               }
              ],
              "name": "United States",
              "native_name": "United States",
              "regions_count": 357,
              "seo_name": "united-states",
              "users_count": 10104977,
              "wineries_count": 26264,
              "wines_count": 230446
             },
             "description": null,
             "food": [
              {
               "background_image": {
                "location": "//images.vivino.com/backgrounds/foods/4_beef.png",
                "variations": {
                 "small": "//images.vivino.com/backgrounds/foods/thumbs/4_beef_932x810.png"
                }
               },
               "id": 4,
               "name": "Beef",
               "seo_name": "beef"
              },
              {
               "background_image": {
                "location": "//images.vivino.com/backgrounds/foods/8_lamb.png",
                "variations": {
                 "small": "//images.vivino.com/backgrounds/foods/thumbs/8_lamb_932x810.png"
                }
               },
               "id": 8,
               "name": "Lamb",
               "seo_name": "lamb"
              },
              {
               "background_image": {
                "location": "//images.vivino.com/backgrounds/foods/11_venison.png",
                "variations": {
                 "small": "//images.vivino.com/backgrounds/foods/thumbs/11_venison_932x810.png"
                }
               },
               "id": 11,
               "name": "Game (deer, venison)",
               "seo_name": "game"
              },
              {
               "background_image": {
                "location": "//images.vivino.com/backgrounds/foods/20_chicken.png",
                "variations": {
                 "small": "//images.vivino.com/backgrounds/foods/thumbs/20_chicken_932x810.png"
                }
               },
               "id": 20,
               "name": "Poultry",
               "seo_name": "poultry"
              }
             ],
             "grapes": [
              {
               "has_detailed_info": true,
               "id": 2,
               "name": "Cabernet Sauvignon",
               "seo_name": "cabernet-sauvignon",
               "wines_count": 725925
              },
              {
               "has_detailed_info": true,
               "id": 3,
               "name": "Cabernet Franc",
               "seo_name": "cabernet-franc",
               "wines_count": 243121
              },
              {
               "has_detailed_info": true,
               "id": 9,
               "name": "Malbec",
               "seo_name": "malbec",
               "wines_count": 197235
              },
              {
               "has_detailed_info": true,
               "id": 10,
               "name": "Merlot",
               "seo_name": "merlot",
               "wines_count": 510808
              },
              {
               "has_detailed_info": true,
               "id": 42,
               "name": "Petit Verdot",
               "seo_name": "petit-verdot",
               "wines_count": 74892
              }
             ],
             "id": 290,
             "image": null,
             "interesting_facts": null,
             "name": "Napa Valley Bordeaux Blend",
             "region": {
              "background_image": {
               "location": "//images.vivino.com/regions/backgrounds/cP8NlYVPSUStyROqZeBzgA.jpg",
               "variations": {
                "large": "//thumbs.vivino.com/region_backgrounds/cP8NlYVPSUStyROqZeBzgA_1280x760.jpg",
                "medium": "//thumbs.vivino.com/region_backgrounds/cP8NlYVPSUStyROqZeBzgA_600x356.jpg"
               }
              },
              "class": {
               "typecast_map": {
                "background_image": {},
                "class": {}
               }
              },
              "country": {
               "code": "us",
               "currency": {
                "code": "USD",
                "name": "US Dollars",
                "prefix": "$",
                "suffix": null
               },
               "most_used_grapes": [
                {
                 "has_detailed_info": true,
                 "id": 2,
                 "name": "Cabernet Sauvignon",
                 "seo_name": "cabernet-sauvignon",
                 "wines_count": 725925
                },
                {
                 "has_detailed_info": true,
                 "id": 14,
                 "name": "Pinot Noir",
                 "seo_name": "pinot-noir",
                 "wines_count": 513244
                },
                {
                 "has_detailed_info": true,
                 "id": 5,
                 "name": "Chardonnay",
                 "seo_name": "chardonnay",
                 "wines_count": 541509
                }
               ],
               "name": "United States",
               "native_name": "United States",
               "regions_count": 357,
               "seo_name": "united-states",
               "users_count": 10104977,
               "wineries_count": 26264,
               "wines_count": 230446
              },
              "id": 25,
              "name": "Napa Valley",
              "name_en": "",
              "seo_name": "napa-valley"
             },
             "regional_name": "Napa Valley",
             "seo_name": "napa-valley-bordeaux-blend",
             "varietal_name": "Bordeaux Blend",
             "wine_type_id": 1
            },
            "taste": {
             "flavor": [
              {
               "group": "oak",
               "stats": {
                "count": 1231,
                "score": 175275
               }
              },
              {
               "group": "black_fruit",
               "stats": {
                "count": 982,
                "score": 146704
               }
              },
              {
               "group": "earth",
               "stats": {
                "count": 841,
                "score": 75516
               }
              },
              {
               "group": "non_oak",
               "stats": {
                "count": 782,
                "score": 17282
               }
              },
              {
               "group": "spices",
               "stats": {
                "count": 555,
                "score": 36938
               }
              },
              {
               "group": "red_fruit",
               "stats": {
                "count": 431,
                "score": 36190
               }
              },
              {
               "group": "microbio",
               "stats": {
                "count": 146,
                "score": 9056
               }
              },
              {
               "group": "dried_fruit",
               "stats": {
                "count": 79,
                "score": 6884
               }
              },
              {
               "group": "floral",
               "stats": {
                "count": 66,
                "score": 6200
               }
              },
              {
               "group": "vegetal",
               "stats": {
                "count": 41,
                "score": 1956
               }
              },
              {
               "group": "tree_fruit",
               "stats": {
                "count": 14,
                "score": 1500
               }
              },
              {
               "group": "citrus_fruit",
               "stats": {
                "count": 11,
                "score": 1200
               }
              },
              {
               "group": "tropical_fruit",
               "stats": {
                "count": 5,
                "score": 299
               }
              }
             ],
             "structure": {
              "acidity": 3.8378212,
              "calculated_structure_count": 2060,
              "fizziness": null,
              "intensity": 4.7797613,
              "sweetness": 1.7372158,
              "tannin": 3.4903712,
              "user_structure_count": 436
             }
            },
            "type_id": 1,
            "vintage_type": 0,
            "winery": {
             "id": 1296,
             "name": "Joseph Phelps",
             "seo_name": "joseph-phelps",
             "status": 0
            }
           },
           "year": 2015
          }
         },
         {
          "price": {
           "amount": 174.99,
           "bottle_type": {
            "id": 1,
            "name": "Bottle (0.75l)",
            "short_name": "bottle",
            "short_name_plural": "bottles",
            "volume_ml": 750
           },
           "bottle_type_id": 1,
           "currency": {
            "code": "USD",
            "name": "US Dollars",
            "prefix": "$",
            "suffix": null
           },
           "discount_percent": null,
           "discounted_from": null,
           "id": 21125094,
           "sku": "",
           "type": "vc",
           "url": "https://www.blackbearwines.com/Vega-Sicilia-Tinto-Valbuena-5-Ribera-del-Duero-2015-750-ml-p187860048",
           "visibility": 1
          },
          "prices": [
           {
            "amount": 174.99,
            "bottle_type": {
             "id": 1,
             "name": "Bottle (0.75l)",
             "short_name": "bottle",
             "short_name_plural": "bottles",
             "volume_ml": 750
            },
            "bottle_type_id": 1,
            "currency": {
             "code": "USD",
             "name": "US Dollars",
             "prefix": "$",
             "suffix": null
            },
            "discount_percent": null,
            "discounted_from": null,
            "id": 21125094,
            "sku": "",
            "type": "vc",
            "url": "https://www.blackbearwines.com/Vega-Sicilia-Tinto-Valbuena-5-Ribera-del-Duero-2015-750-ml-p187860048",
            "visibility": 1
           }
          ],
          "vintage": {
           "grapes": null,
           "has_valid_ratings": true,
           "id": 14394745,
           "image": {
            "location": "//images.vivino.com/thumbs/PCImbI11T4i-rZASrHk3gA_pl_480x640.png",
            "variations": {
             "bottle_large": "//images.vivino.com/thumbs/PCImbI11T4i-rZASrHk3gA_pb_x960.png",
             "bottle_medium": "//images.vivino.com/thumbs/PCImbI11T4i-rZASrHk3gA_pb_x600.png",
             "bottle_medium_square": "//images.vivino.com/thumbs/PCImbI11T4i-rZASrHk3gA_pb_600x600.png",
             "bottle_small": "//images.vivino.com/thumbs/PCImbI11T4i-rZASrHk3gA_pb_x300.png",
             "bottle_small_square": "//images.vivino.com/thumbs/PCImbI11T4i-rZASrHk3gA_pb_300x300.png",
             "label": "//images.vivino.com/thumbs/PCImbI11T4i-rZASrHk3gA_pl_480x640.png",
             "label_large": "//images.vivino.com/thumbs/PCImbI11T4i-rZASrHk3gA_pl_375x500.png",
             "label_medium": "//images.vivino.com/thumbs/PCImbI11T4i-rZASrHk3gA_pl_150x200.png",
             "label_medium_square": "//images.vivino.com/thumbs/PCImbI11T4i-rZASrHk3gA_pl_150x150.png",
             "label_small_square": "//images.vivino.com/thumbs/PCImbI11T4i-rZASrHk3gA_pl_80x80.png",
             "large": "//images.vivino.com/thumbs/PCImbI11T4i-rZASrHk3gA_pl_375x500.png",
             "medium": "//images.vivino.com/thumbs/PCImbI11T4i-rZASrHk3gA_pl_150x200.png",
             "medium_square": "//images.vivino.com/thumbs/PCImbI11T4i-rZASrHk3gA_pl_150x150.png",
             "small_square": "//images.vivino.com/thumbs/PCImbI11T4i-rZASrHk3gA_pl_80x80.png"
            }
           },
           "name": "Vega Sicilia Valbuena 5º 2015",
           "seo_name": "vega-sicilia-valbuena-5o-2015",
           "statistics": {
            "labels_count": 9061,
            "ratings_average": 4.7,
            "ratings_count": 1209,
            "status": "Normal"
           },
           "wine": {
            "has_valid_ratings": true,
            "id": 1175427,
            "is_natural": false,
            "name": "Valbuena 5º",
            "region": {
             "background_image": {
              "location": "//images.vivino.com/regions/backgrounds/_nMNiDRrQG-Y6aphFjOyYQ.jpeg",
              "variations": {
               "large": "//thumbs.vivino.com/region_backgrounds/_nMNiDRrQG-Y6aphFjOyYQ_1280x760.jpeg",
               "medium": "//thumbs.vivino.com/region_backgrounds/_nMNiDRrQG-Y6aphFjOyYQ_600x356.jpeg"
              }
             },
             "country": {
              "code": "es",
              "currency": {
               "code": "EUR",
               "name": "Euros",
               "prefix": "€",
               "suffix": null
              },
              "most_used_grapes": [
               {
                "has_detailed_info": true,
                "id": 19,
                "name": "Tempranillo",
                "seo_name": "tempranillo",
                "wines_count": 156528
               },
               {
                "has_detailed_info": true,
                "id": 142,
                "name": "Garnacha",
                "seo_name": "garnacha",
                "wines_count": 52388
               },
               {
                "has_detailed_info": true,
                "id": 2,
                "name": "Cabernet Sauvignon",
                "seo_name": "cabernet-sauvignon",
                "wines_count": 725925
               }
              ],
              "name": "Spain",
              "native_name": "España",
              "regions_count": 150,
              "seo_name": "spain",
              "users_count": 1888821,
              "wineries_count": 16968,
              "wines_count": 121552
             },
             "id": 405,
             "name": "Ribera del Duero",
             "name_en": "",
             "seo_name": "ribera-del-duero"
            },
            "seo_name": "valbuena-5o",
            "statistics": {
             "labels_count": 307744,
             "ratings_average": 4.6,
             "ratings_count": 56381,
             "status": "Normal",
             "vintages_count": 160
            },
            "style": {
             "acidity": 3,
             "acidity_description": "High",
             "background_image": {
              "location": "//images.vivino.com/backgrounds/styles/jvbiWuqtTdSCco23mOd8eA.jpg",
              "variations": {
               "small": "//images.vivino.com/backgrounds/styles/thumbs/jvbiWuqtTdSCco23mOd8eA_932x810.jpg"
              }
             },
             "blurb": "Often Tempranillo-based",
             "body": 5,
             "body_description": "Very full-bodied",
             "country": {
              "code": "es",
              "currency": {
               "code": "EUR",
               "name": "Euros",
               "prefix": "€",
               "suffix": null
              },
              "most_used_grapes": [
               {
                "has_detailed_info": true,
                "id": 19,
                "name": "Tempranillo",
                "seo_name": "tempranillo",
                "wines_count": 156528
               },
               {
                "has_detailed_info": true,
                "id": 142,
                "name": "Garnacha",
                "seo_name": "garnacha",
                "wines_count": 52388
               },
               {
                "has_detailed_info": true,
                "id": 2,
                "name": "Cabernet Sauvignon",
                "seo_name": "cabernet-sauvignon",
                "wines_count": 725925
               }
              ],
              "name": "Spain",
              "native_name": "España",
              "regions_count": 150,
              "seo_name": "spain",
              "users_count": 1888821,
              "wineries_count": 16968,
              "wines_count": 121552
             },
             "description": "Rioja may be the most famous region in Spain, but Ribera del Duero is no slouch. These classic wines are made mostly from the grape Tempranillo.\n\nRibera del Duero wines are known for being strong, dark-colored wines filled with dark fruit, tobacco and vanilla flavors.\n\nThe sensual wines of Ribera del Duero are dark, brooding, and exciting. They are famous for taking the traditional Spanish grape Tempranillo and blending it with Bordeaux grapes Cabernet Sauvignon and Merlot. This practice makes wines that are strong, dark and beautiful.\n\nThis specific grape blend makes these wines very delicious, but their popularity slipped drastically in the 1970s. Extremely long barrel aging and old winemaking practices made the wines extremely inconsistent. Even bottles in the same vintage could be very different.\n\nNow, with modern winemaking practices and attention to detail these wines are becoming as consistently incredible as they should be!",
             "food": [
              {
               "background_image": {
                "location": "//images.vivino.com/backgrounds/foods/4_beef.png",
                "variations": {
                 "small": "//images.vivino.com/backgrounds/foods/thumbs/4_beef_932x810.png"
                }
               },
               "id": 4,
               "name": "Beef",
               "seo_name": "beef"
              },
              {
               "background_image": {
                "location": "//images.vivino.com/backgrounds/foods/8_lamb.png",
                "variations": {
                 "small": "//images.vivino.com/backgrounds/foods/thumbs/8_lamb_932x810.png"
                }
               },
               "id": 8,
               "name": "Lamb",
               "seo_name": "lamb"
              },
              {
               "background_image": {
                "location": "//images.vivino.com/backgrounds/foods/11_venison.png",
                "variations": {
                 "small": "//images.vivino.com/backgrounds/foods/thumbs/11_venison_932x810.png"
                }
               },
               "id": 11,
               "name": "Game (deer, venison)",
               "seo_name": "game"
              }
             ],
             "grapes": [
              {
               "has_detailed_info": true,
               "id": 19,
               "name": "Tempranillo",
               "seo_name": "tempranillo",
               "wines_count": 156528
              }
             ],
             "id": 180,
             "image": null,
             "interesting_facts": [
              "In Ribera del Duero, the grape Tempranillo is called Tinto Fino.",
              "Vega Sicilia in Ribera del Duero has historically been Spain's most expensive wine.",
              "The DO classification for Ribera del Duero was created in 1982.",
              "Ribera del Duero translates to “alongside the Duero River”, which is apt because the Duero River runs through it."
             ],
             "name": "Spanish Ribera Del Duero Red",
             "region": {
              "background_image": {
               "location": "//images.vivino.com/regions/backgrounds/_nMNiDRrQG-Y6aphFjOyYQ.jpeg",
               "variations": {
                "large": "//thumbs.vivino.com/region_backgrounds/_nMNiDRrQG-Y6aphFjOyYQ_1280x760.jpeg",
                "medium": "//thumbs.vivino.com/region_backgrounds/_nMNiDRrQG-Y6aphFjOyYQ_600x356.jpeg"
               }
              },
              "country": {
               "code": "es",
               "currency": {
                "code": "EUR",
                "name": "Euros",
                "prefix": "€",
                "suffix": null
               },
               "most_used_grapes": [
                {
                 "has_detailed_info": true,
                 "id": 19,
                 "name": "Tempranillo",
                 "seo_name": "tempranillo",
                 "wines_count": 156528
                },
                {
                 "has_detailed_info": true,
                 "id": 142,
                 "name": "Garnacha",
                 "seo_name": "garnacha",
                 "wines_count": 52388
                },
                {
                 "has_detailed_info": true,
                 "id": 2,
                 "name": "Cabernet Sauvignon",
                 "seo_name": "cabernet-sauvignon",
                 "wines_count": 725925
                }
               ],
               "name": "Spain",
               "native_name": "España",
               "regions_count": 150,
               "seo_name": "spain",
               "users_count": 1888821,
               "wineries_count": 16968,
               "wines_count": 121552
              },
              "id": 405,
              "name": "Ribera del Duero",
              "name_en": "",
              "seo_name": "ribera-del-duero"
             },
             "regional_name": "Spanish",
             "seo_name": "spanish-ribera-del-duero-red",
             "varietal_name": "Ribera Del Duero Red",
             "wine_type_id": 1
            },
            "taste": {
             "flavor": [
              {
               "group": "oak",
               "stats": {
                "count": 1303,
                "score": 186255
               }
              },
              {
               "group": "non_oak",
               "stats": {
                "count": 907,
                "score": 22210
               }
              },
              {
               "group": "earth",
               "stats": {
                "count": 892,
                "score": 82863
               }
              },
              {
               "group": "black_fruit",
               "stats": {
                "count": 772,
                "score": 106295
               }
              },
              {
               "group": "spices",
               "stats": {
                "count": 690,
                "score": 42611
               }
              },
              {
               "group": "red_fruit",
               "stats": {
                "count": 530,
                "score": 53603
               }
              },
              {
               "group": "microbio",
               "stats": {
                "count": 191,
                "score": 12034
               }
              },
              {
               "group": "dried_fruit",
               "stats": {
                "count": 129,
                "score": 11444
               }
              },
              {
               "group": "floral",
               "stats": {
                "count": 70,
                "score": 6450
               }
              },
              {
               "group": "vegetal",
               "stats": {
                "count": 66,
                "score": 4169
               }
              },
              {
               "group": "citrus_fruit",
               "stats": {
                "count": 43,
                "score": 4600
               }
              },
              {
               "group": "tree_fruit",
               "stats": {
                "count": 9,
                "score": 900
               }
              },
              {
               "group": "tropical_fruit",
               "stats": {
                "count": 7,
                "score": 566
               }
              }
             ],
             "structure": {
              "acidity": 3.7107656,
              "calculated_structure_count": 1659,
              "fizziness": null,
              "intensity": 3.8767478,
              "sweetness": 1.8265522,
              "tannin": 3.4770312,
              "user_structure_count": 2662
             }
            },
            "type_id": 1,
            "vintage_type": 0,
            "winery": {
             "id": 11050,
             "name": "Vega Sicilia",
             "seo_name": "vega-sicilia",
             "status": 0
            }
           },
           "year": 2015
          }
         },
         {
          "price": {
           "amount": 169.99,
           "bottle_type": {
            "id": 1,
            "name": "Bottle (0.75l)",
            "short_name": "bottle",
            "short_name_plural": "bottles",
            "volume_ml": 750
           },
           "bottle_type_id": 1,
           "currency": {
            "code": "USD",
            "name": "US Dollars",
            "prefix": "$",
            "suffix": null
           },
           "discount_percent": null,
           "discounted_from": null,
           "id": 21848853,
           "sku": "626304",
           "type": "vc",
           "url": "https://www.wine.com/product/626304?s=bizdev_vivino&cid=bizdev_vivino&state=MA",
           "visibility": 1
          },
          "prices": [
           {
            "amount": 169.99,
            "bottle_type": {
             "id": 1,
             "name": "Bottle (0.75l)",
             "short_name": "bottle",
             "short_name_plural": "bottles",
             "volume_ml": 750
            },
            "bottle_type_id": 1,
            "currency": {
             "code": "USD",
             "name": "US Dollars",
             "prefix": "$",
             "suffix": null
            },
            "discount_percent": null,
            "discounted_from": null,
            "id": 21848853,
            "sku": "626304",
            "type": "vc",
            "url": "https://www.wine.com/product/626304?s=bizdev_vivino&cid=bizdev_vivino&state=MA",
            "visibility": 1
           }
          ],
          "vintage": {
           "grapes": null,
           "has_valid_ratings": true,
           "id": 89017358,
           "image": {
            "location": "//images.vivino.com/thumbs/5KyHuUOhTEungzvFPpdQJA_pl_480x640.png",
            "variations": {
             "bottle_large": "//images.vivino.com/thumbs/5KyHuUOhTEungzvFPpdQJA_pb_x960.png",
             "bottle_medium": "//images.vivino.com/thumbs/5KyHuUOhTEungzvFPpdQJA_pb_x600.png",
             "bottle_medium_square": "//images.vivino.com/thumbs/5KyHuUOhTEungzvFPpdQJA_pb_600x600.png",
             "bottle_small": "//images.vivino.com/thumbs/5KyHuUOhTEungzvFPpdQJA_pb_x300.png",
             "bottle_small_square": "//images.vivino.com/thumbs/5KyHuUOhTEungzvFPpdQJA_pb_300x300.png",
             "label": "//images.vivino.com/thumbs/5KyHuUOhTEungzvFPpdQJA_pl_480x640.png",
             "label_large": "//images.vivino.com/thumbs/5KyHuUOhTEungzvFPpdQJA_pl_375x500.png",
             "label_medium": "//images.vivino.com/thumbs/5KyHuUOhTEungzvFPpdQJA_pl_150x200.png",
             "label_medium_square": "//images.vivino.com/thumbs/5KyHuUOhTEungzvFPpdQJA_pl_150x150.png",
             "label_small_square": "//images.vivino.com/thumbs/5KyHuUOhTEungzvFPpdQJA_pl_80x80.png",
             "large": "//images.vivino.com/thumbs/5KyHuUOhTEungzvFPpdQJA_pl_375x500.png",
             "medium": "//images.vivino.com/thumbs/5KyHuUOhTEungzvFPpdQJA_pl_150x200.png",
             "medium_square": "//images.vivino.com/thumbs/5KyHuUOhTEungzvFPpdQJA_pl_150x150.png",
             "small_square": "//images.vivino.com/thumbs/5KyHuUOhTEungzvFPpdQJA_pl_80x80.png"
            }
           },
           "name": "Caymus Special Selection Cabernet Sauvignon 2016",
           "seo_name": "caymus-vineyards-special-selection-cabernet-sauvignon-2016",
           "statistics": {
            "labels_count": 13742,
            "ratings_average": 4.7,
            "ratings_count": 1050,
            "status": "Normal"
           },
           "wine": {
            "has_valid_ratings": true,
            "id": 66294,
            "is_natural": false,
            "name": "Special Selection Cabernet Sauvignon",
            "region": {
             "background_image": {
              "location": "//images.vivino.com/regions/backgrounds/cP8NlYVPSUStyROqZeBzgA.jpg",
              "variations": {
               "large": "//thumbs.vivino.com/region_backgrounds/cP8NlYVPSUStyROqZeBzgA_1280x760.jpg",
               "medium": "//thumbs.vivino.com/region_backgrounds/cP8NlYVPSUStyROqZeBzgA_600x356.jpg"
              }
             },
             "class": {
              "typecast_map": {
               "background_image": {},
               "class": {}
              }
             },
             "country": {
              "code": "us",
              "currency": {
               "code": "USD",
               "name": "US Dollars",
               "prefix": "$",
               "suffix": null
              },
              "most_used_grapes": [
               {
                "has_detailed_info": true,
                "id": 2,
                "name": "Cabernet Sauvignon",
                "seo_name": "cabernet-sauvignon",
                "wines_count": 725925
               },
               {
                "has_detailed_info": true,
                "id": 14,
                "name": "Pinot Noir",
                "seo_name": "pinot-noir",
                "wines_count": 513244
               },
               {
                "has_detailed_info": true,
                "id": 5,
                "name": "Chardonnay",
                "seo_name": "chardonnay",
                "wines_count": 541509
               }
              ],
              "name": "United States",
              "native_name": "United States",
              "regions_count": 357,
              "seo_name": "united-states",
              "users_count": 10104977,
              "wineries_count": 26264,
              "wines_count": 230446
             },
             "id": 25,
             "name": "Napa Valley",
             "name_en": "",
             "seo_name": "napa-valley"
            },
            "seo_name": "special-selection-cabernet-sauvignon",
            "statistics": {
             "labels_count": 218586,
             "ratings_average": 4.7,
             "ratings_count": 33856,
             "status": "Normal",
             "vintages_count": 114
            },
            "style": {
             "acidity": 2,
             "acidity_description": "Medium",
             "background_image": {
              "location": "//images.vivino.com/backgrounds/styles/Rs1kBMYfQ0693K_iRThxOw.jpg",
              "variations": {
               "small": "//images.vivino.com/backgrounds/styles/thumbs/Rs1kBMYfQ0693K_iRThxOw_932x810.jpg"
              }
             },
             "blurb": null,
             "body": 5,
             "body_description": "Very full-bodied",
             "country": {
              "code": "us",
              "currency": {
               "code": "USD",
               "name": "US Dollars",
               "prefix": "$",
               "suffix": null
              },
              "most_used_grapes": [
               {
                "has_detailed_info": true,
                "id": 2,
                "name": "Cabernet Sauvignon",
                "seo_name": "cabernet-sauvignon",
                "wines_count": 725925
               },
               {
                "has_detailed_info": true,
                "id": 14,
                "name": "Pinot Noir",
                "seo_name": "pinot-noir",
                "wines_count": 513244
               },
               {
                "has_detailed_info": true,
                "id": 5,
                "name": "Chardonnay",
                "seo_name": "chardonnay",
                "wines_count": 541509
               }
              ],
              "name": "United States",
              "native_name": "United States",
              "regions_count": 357,
              "seo_name": "united-states",
              "users_count": 10104977,
              "wineries_count": 26264,
              "wines_count": 230446
             },
             "description": null,
             "food": [
              {
               "background_image": {
                "location": "//images.vivino.com/backgrounds/foods/4_beef.png",
                "variations": {
                 "small": "//images.vivino.com/backgrounds/foods/thumbs/4_beef_932x810.png"
                }
               },
               "id": 4,
               "name": "Beef",
               "seo_name": "beef"
              },
              {
               "background_image": {
                "location": "//images.vivino.com/backgrounds/foods/8_lamb.png",
                "variations": {
                 "small": "//images.vivino.com/backgrounds/foods/thumbs/8_lamb_932x810.png"
                }
               },
               "id": 8,
               "name": "Lamb",
               "seo_name": "lamb"
              },
              {
               "background_image": {
                "location": "//images.vivino.com/backgrounds/foods/11_venison.png",
                "variations": {
                 "small": "//images.vivino.com/backgrounds/foods/thumbs/11_venison_932x810.png"
                }
               },
               "id": 11,
               "name": "Game (deer, venison)",
               "seo_name": "game"
              },
              {
               "background_image": {
                "location": "//images.vivino.com/backgrounds/foods/17_hardcheese.png",
                "variations": {
                 "small": "//images.vivino.com/backgrounds/foods/thumbs/17_hardcheese_932x810.png"
                }
               },
               "id": 17,
               "name": "Mature and hard cheese",
               "seo_name": null
              },
              {
               "background_image": {
                "location": "//images.vivino.com/backgrounds/foods/20_chicken.png",
                "variations": {
                 "small": "//images.vivino.com/backgrounds/foods/thumbs/20_chicken_932x810.png"
                }
               },
               "id": 20,
               "name": "Poultry",
               "seo_name": "poultry"
              }
             ],
             "grapes": [
              {
               "has_detailed_info": true,
               "id": 2,
               "name": "Cabernet Sauvignon",
               "seo_name": "cabernet-sauvignon",
               "wines_count": 725925
              }
             ],
             "id": 289,
             "image": null,
             "interesting_facts": null,
             "name": "Napa Valley Cabernet Sauvignon",
             "region": {
              "background_image": {
               "location": "//images.vivino.com/regions/backgrounds/cP8NlYVPSUStyROqZeBzgA.jpg",
               "variations": {
                "large": "//thumbs.vivino.com/region_backgrounds/cP8NlYVPSUStyROqZeBzgA_1280x760.jpg",
                "medium": "//thumbs.vivino.com/region_backgrounds/cP8NlYVPSUStyROqZeBzgA_600x356.jpg"
               }
              },
              "class": {
               "typecast_map": {
                "background_image": {},
                "class": {}
               }
              },
              "country": {
               "code": "us",
               "currency": {
                "code": "USD",
                "name": "US Dollars",
                "prefix": "$",
                "suffix": null
               },
               "most_used_grapes": [
                {
                 "has_detailed_info": true,
                 "id": 2,
                 "name": "Cabernet Sauvignon",
                 "seo_name": "cabernet-sauvignon",
                 "wines_count": 725925
                },
                {
                 "has_detailed_info": true,
                 "id": 14,
                 "name": "Pinot Noir",
                 "seo_name": "pinot-noir",
                 "wines_count": 513244
                },
                {
                 "has_detailed_info": true,
                 "id": 5,
                 "name": "Chardonnay",
                 "seo_name": "chardonnay",
                 "wines_count": 541509
                }
               ],
               "name": "United States",
               "native_name": "United States",
               "regions_count": 357,
               "seo_name": "united-states",
               "users_count": 10104977,
               "wineries_count": 26264,
               "wines_count": 230446
              },
              "id": 25,
              "name": "Napa Valley",
              "name_en": "",
              "seo_name": "napa-valley"
             },
             "regional_name": "Napa Valley",
             "seo_name": "napa-valley-cabernet-sauvignon",
             "varietal_name": "Cabernet Sauvignon",
             "wine_type_id": 1
            },
            "taste": {
             "flavor": [
              {
               "group": "oak",
               "stats": {
                "count": 1514,
                "score": 211011
               }
              },
              {
               "group": "black_fruit",
               "stats": {
                "count": 1140,
                "score": 166592
               }
              },
              {
               "group": "non_oak",
               "stats": {
                "count": 977,
                "score": 21556
               }
              },
              {
               "group": "spices",
               "stats": {
                "count": 827,
                "score": 46280
               }
              },
              {
               "group": "earth",
               "stats": {
                "count": 747,
                "score": 62037
               }
              },
              {
               "group": "red_fruit",
               "stats": {
                "count": 524,
                "score": 43154
               }
              },
              {
               "group": "microbio",
               "stats": {
                "count": 170,
                "score": 12677
               }
              },
              {
               "group": "dried_fruit",
               "stats": {
                "count": 131,
                "score": 10947
               }
              },
              {
               "group": "floral",
               "stats": {
                "count": 65,
                "score": 6300
               }
              },
              {
               "group": "vegetal",
               "stats": {
                "count": 43,
                "score": 2946
               }
              },
              {
               "group": "tree_fruit",
               "stats": {
                "count": 12,
                "score": 1200
               }
              },
              {
               "group": "citrus_fruit",
               "stats": {
                "count": 12,
                "score": 1200
               }
              },
              {
               "group": "tropical_fruit",
               "stats": {
                "count": 3,
                "score": 300
               }
              }
             ],
             "structure": {
              "acidity": 3.3444278,
              "calculated_structure_count": 2879,
              "fizziness": null,
              "intensity": 4.7754974,
              "sweetness": 1.909029,
              "tannin": 3.2513902,
              "user_structure_count": 1129
             }
            },
            "type_id": 1,
            "vintage_type": 0,
            "winery": {
             "id": 1301,
             "name": "Caymus",
             "seo_name": "caymus-vineyards",
             "status": 0
            }
           },
           "year": 2016
          }
         }
        ],
        "records": [
         {
          "price": {
           "amount": 265.19,
           "bottle_type": {
            "id": 1,
            "name": "Bottle (0.75l)",
            "short_name": "bottle",
            "short_name_plural": "bottles",
            "volume_ml": 750
           },
           "bottle_type_id": 1,
           "currency": {
            "code": "USD",
            "name": "US Dollars",
            "prefix": "$",
            "suffix": null
           },
           "discount_percent": null,
           "discounted_from": null,
           "id": 23610291,
           "sku": "",
           "type": "vc",
           "url": "https://www.yianniswine.com/wines/Guarachi-Beckstoffer-Las-Piedras-Heritage-Single-Vineyard-Cabernet-Sauvignon-2012-w0201372xb?utm_source=Vivino&utm_medium=Feed",
           "visibility": 1
          },
          "prices": [
           {
            "amount": 265.19,
            "bottle_type": {
             "id": 1,
             "name": "Bottle (0.75l)",
             "short_name": "bottle",
             "short_name_plural": "bottles",
             "volume_ml": 750
            },
            "bottle_type_id": 1,
            "currency": {
             "code": "USD",
             "name": "US Dollars",
             "prefix": "$",
             "suffix": null
            },
            "discount_percent": null,
            "discounted_from": null,
            "id": 23610291,
            "sku": "",
            "type": "vc",
            "url": "https://www.yianniswine.com/wines/Guarachi-Beckstoffer-Las-Piedras-Heritage-Single-Vineyard-Cabernet-Sauvignon-2012-w0201372xb?utm_source=Vivino&utm_medium=Feed",
            "visibility": 1
           }
          ],
          "vintage": {
           "grapes": null,
           "has_valid_ratings": true,
           "id": 142917015,
           "image": {
            "location": "//images.vivino.com/thumbs/hLGDOhcxTGuMSH4qXP730Q_pl_480x640.png",
            "variations": {
             "bottle_large": "//images.vivino.com/thumbs/hLGDOhcxTGuMSH4qXP730Q_pb_x960.png",
             "bottle_medium": "//images.vivino.com/thumbs/hLGDOhcxTGuMSH4qXP730Q_pb_x600.png",
             "bottle_medium_square": "//images.vivino.com/thumbs/hLGDOhcxTGuMSH4qXP730Q_pb_600x600.png",
             "bottle_small": "//images.vivino.com/thumbs/hLGDOhcxTGuMSH4qXP730Q_pb_x300.png",
             "bottle_small_square": "//images.vivino.com/thumbs/hLGDOhcxTGuMSH4qXP730Q_pb_300x300.png",
             "label": "//images.vivino.com/thumbs/hLGDOhcxTGuMSH4qXP730Q_pl_480x640.png",
             "label_large": "//images.vivino.com/thumbs/hLGDOhcxTGuMSH4qXP730Q_pl_375x500.png",
             "label_medium": "//images.vivino.com/thumbs/hLGDOhcxTGuMSH4qXP730Q_pl_150x200.png",
             "label_medium_square": "//images.vivino.com/thumbs/hLGDOhcxTGuMSH4qXP730Q_pl_150x150.png",
             "label_small_square": "//images.vivino.com/thumbs/hLGDOhcxTGuMSH4qXP730Q_pl_80x80.png",
             "large": "//images.vivino.com/thumbs/hLGDOhcxTGuMSH4qXP730Q_pl_375x500.png",
             "medium": "//images.vivino.com/thumbs/hLGDOhcxTGuMSH4qXP730Q_pl_150x200.png",
             "medium_square": "//images.vivino.com/thumbs/hLGDOhcxTGuMSH4qXP730Q_pl_150x150.png",
             "small_square": "//images.vivino.com/thumbs/hLGDOhcxTGuMSH4qXP730Q_pl_80x80.png"
            }
           },
           "name": "Guarachi Beckstoffer Las Piedras Heritage Single Vineyard Cabernet Sauvignon 2012",
           "seo_name": "guarachi-beckstoffer-las-piedras-heritage-single-vineyard-cabernet-sauvignon-2012",
           "statistics": {
            "labels_count": 272,
            "ratings_average": 4.8,
            "ratings_count": 25,
            "status": "Normal"
           },
           "wine": {
            "has_valid_ratings": true,
            "id": 4448231,
            "is_natural": false,
            "name": "Beckstoffer Las Piedras Heritage Single Vineyard Cabernet Sauvignon",
            "region": {
             "background_image": {
              "location": "//images.vivino.com/regions/backgrounds/cP8NlYVPSUStyROqZeBzgA.jpg",
              "variations": {
               "large": "//thumbs.vivino.com/region_backgrounds/cP8NlYVPSUStyROqZeBzgA_1280x760.jpg",
               "medium": "//thumbs.vivino.com/region_backgrounds/cP8NlYVPSUStyROqZeBzgA_600x356.jpg"
              }
             },
             "class": {
              "typecast_map": {
               "background_image": {},
               "class": {}
              }
             },
             "country": {
              "code": "us",
              "currency": {
               "code": "USD",
               "name": "US Dollars",
               "prefix": "$",
               "suffix": null
              },
              "most_used_grapes": [
               {
                "has_detailed_info": true,
                "id": 2,
                "name": "Cabernet Sauvignon",
                "seo_name": "cabernet-sauvignon",
                "wines_count": 725925
               },
               {
                "has_detailed_info": true,
                "id": 14,
                "name": "Pinot Noir",
                "seo_name": "pinot-noir",
                "wines_count": 513244
               },
               {
                "has_detailed_info": true,
                "id": 5,
                "name": "Chardonnay",
                "seo_name": "chardonnay",
                "wines_count": 541509
               }
              ],
              "name": "United States",
              "native_name": "United States",
              "regions_count": 357,
              "seo_name": "united-states",
              "users_count": 10104977,
              "wineries_count": 26264,
              "wines_count": 230446
             },
             "id": 25,
             "name": "Napa Valley",
             "name_en": "",
             "seo_name": "napa-valley"
            },
            "seo_name": "beckstoffer-las-piedras-heritage-single-vineyard-cabernet-sauvignon",
            "statistics": {
             "labels_count": 690,
             "ratings_average": 4.5,
             "ratings_count": 71,
             "status": "Normal",
             "vintages_count": 12
            },
            "style": {
             "acidity": 2,
             "acidity_description": "Medium",
             "background_image": {
              "location": "//images.vivino.com/backgrounds/styles/Rs1kBMYfQ0693K_iRThxOw.jpg",
              "variations": {
               "small": "//images.vivino.com/backgrounds/styles/thumbs/Rs1kBMYfQ0693K_iRThxOw_932x810.jpg"
              }
             },
             "blurb": null,
             "body": 5,
             "body_description": "Very full-bodied",
             "country": {
              "code": "us",
              "currency": {
               "code": "USD",
               "name": "US Dollars",
               "prefix": "$",
               "suffix": null
              },
              "most_used_grapes": [
               {
                "has_detailed_info": true,
                "id": 2,
                "name": "Cabernet Sauvignon",
                "seo_name": "cabernet-sauvignon",
                "wines_count": 725925
               },
               {
                "has_detailed_info": true,
                "id": 14,
                "name": "Pinot Noir",
                "seo_name": "pinot-noir",
                "wines_count": 513244
               },
               {
                "has_detailed_info": true,
                "id": 5,
                "name": "Chardonnay",
                "seo_name": "chardonnay",
                "wines_count": 541509
               }
              ],
              "name": "United States",
              "native_name": "United States",
              "regions_count": 357,
              "seo_name": "united-states",
              "users_count": 10104977,
              "wineries_count": 26264,
              "wines_count": 230446
             },
             "description": null,
             "food": [
              {
               "background_image": {
                "location": "//images.vivino.com/backgrounds/foods/4_beef.png",
                "variations": {
                 "small": "//images.vivino.com/backgrounds/foods/thumbs/4_beef_932x810.png"
                }
               },
               "id": 4,
               "name": "Beef",
               "seo_name": "beef"
              },
              {
               "background_image": {
                "location": "//images.vivino.com/backgrounds/foods/8_lamb.png",
                "variations": {
                 "small": "//images.vivino.com/backgrounds/foods/thumbs/8_lamb_932x810.png"
                }
               },
               "id": 8,
               "name": "Lamb",
               "seo_name": "lamb"
              },
              {
               "background_image": {
                "location": "//images.vivino.com/backgrounds/foods/11_venison.png",
                "variations": {
                 "small": "//images.vivino.com/backgrounds/foods/thumbs/11_venison_932x810.png"
                }
               },
               "id": 11,
               "name": "Game (deer, venison)",
               "seo_name": "game"
              },
              {
               "background_image": {
                "location": "//images.vivino.com/backgrounds/foods/17_hardcheese.png",
                "variations": {
                 "small": "//images.vivino.com/backgrounds/foods/thumbs/17_hardcheese_932x810.png"
                }
               },
               "id": 17,
               "name": "Mature and hard cheese",
               "seo_name": null
              },
              {
               "background_image": {
                "location": "//images.vivino.com/backgrounds/foods/20_chicken.png",
                "variations": {
                 "small": "//images.vivino.com/backgrounds/foods/thumbs/20_chicken_932x810.png"
                }
               },
               "id": 20,
               "name": "Poultry",
               "seo_name": "poultry"
              }
             ],
             "grapes": [
              {
               "has_detailed_info": true,
               "id": 2,
               "name": "Cabernet Sauvignon",
               "seo_name": "cabernet-sauvignon",
               "wines_count": 725925
              }
             ],
             "id": 289,
             "image": null,
             "interesting_facts": null,
             "name": "Napa Valley Cabernet Sauvignon",
             "region": {
              "background_image": {
               "location": "//images.vivino.com/regions/backgrounds/cP8NlYVPSUStyROqZeBzgA.jpg",
               "variations": {
                "large": "//thumbs.vivino.com/region_backgrounds/cP8NlYVPSUStyROqZeBzgA_1280x760.jpg",
                "medium": "//thumbs.vivino.com/region_backgrounds/cP8NlYVPSUStyROqZeBzgA_600x356.jpg"
               }
              },
              "class": {
               "typecast_map": {
                "background_image": {},
                "class": {}
               }
              },
              "country": {
               "code": "us",
               "currency": {
                "code": "USD",
                "name": "US Dollars",
                "prefix": "$",
                "suffix": null
               },
               "most_used_grapes": [
                {
                 "has_detailed_info": true,
                 "id": 2,
                 "name": "Cabernet Sauvignon",
                 "seo_name": "cabernet-sauvignon",
                 "wines_count": 725925
                },
                {
                 "has_detailed_info": true,
                 "id": 14,
                 "name": "Pinot Noir",
                 "seo_name": "pinot-noir",
                 "wines_count": 513244
                },
                {
                 "has_detailed_info": true,
                 "id": 5,
                 "name": "Chardonnay",
                 "seo_name": "chardonnay",
                 "wines_count": 541509
                }
               ],
               "name": "United States",
               "native_name": "United States",
               "regions_count": 357,
               "seo_name": "united-states",
               "users_count": 10104977,
               "wineries_count": 26264,
               "wines_count": 230446
              },
              "id": 25,
              "name": "Napa Valley",
              "name_en": "",
              "seo_name": "napa-valley"
             },
             "regional_name": "Napa Valley",
             "seo_name": "napa-valley-cabernet-sauvignon",
             "varietal_name": "Cabernet Sauvignon",
             "wine_type_id": 1
            },
            "taste": {
             "flavor": [
              {
               "group": "black_fruit",
               "stats": {
                "count": 4,
                "score": 561
               }
              },
              {
               "group": "red_fruit",
               "stats": {
                "count": 4,
                "score": 139
               }
              },
              {
               "group": "oak",
               "stats": {
                "count": 3,
                "score": 400
               }
              },
              {
               "group": "spices",
               "stats": {
                "count": 1,
                "score": 225
               }
              },
              {
               "group": "floral",
               "stats": {
                "count": 1,
                "score": 25
               }
              },
              {
               "group": "vegetal",
               "stats": {
                "count": 1,
                "score": 25
               }
              },
              {
               "group": "earth",
               "stats": {
                "count": 1,
                "score": 25
               }
              }
             ],
             "structure": {
              "acidity": 3.419355,
              "calculated_structure_count": 5,
              "fizziness": null,
              "intensity": 4.348258,
              "sweetness": 1.5983871,
              "tannin": 3.2266452,
              "user_structure_count": 7
             }
            },
            "type_id": 1,
            "vintage_type": 0,
            "winery": {
             "id": 59500,
             "name": "Guarachi",
             "seo_name": "guarachi",
             "status": 0
            }
           },
           "year": 2012
          }
         },
         {
          "price": {
           "amount": 349.99,
           "bottle_type": {
            "id": 1,
            "name": "Bottle (0.75l)",
            "short_name": "bottle",
            "short_name_plural": "bottles",
            "volume_ml": 750
           },
           "bottle_type_id": 1,
           "currency": {
            "code": "USD",
            "name": "US Dollars",
            "prefix": "$",
            "suffix": null
           },
           "discount_percent": null,
           "discounted_from": null,
           "id": 21420336,
           "sku": "WINEBOW11302",
           "type": "vc",
           "url": "http://vivino.cpdwineliquor.com/Product?PID=2300",
           "visibility": 1
          },
          "prices": [
           {
            "amount": 349.99,
            "bottle_type": {
             "id": 1,
             "name": "Bottle (0.75l)",
             "short_name": "bottle",
             "short_name_plural": "bottles",
             "volume_ml": 750
            },
            "bottle_type_id": 1,
            "currency": {
             "code": "USD",
             "name": "US Dollars",
             "prefix": "$",
             "suffix": null
            },
            "discount_percent": null,
            "discounted_from": null,
            "id": 21420336,
            "sku": "WINEBOW11302",
            "type": "vc",
            "url": "http://vivino.cpdwineliquor.com/Product?PID=2300",
            "visibility": 1
           }
          ],
          "vintage": {
           "grapes": null,
           "has_valid_ratings": true,
           "id": 153406060,
           "image": {
            "location": "//images.vivino.com/thumbs/IQSL2hitTXi4fypdhZzi4g_pl_480x640.png",
            "variations": {
             "bottle_large": "//images.vivino.com/thumbs/IQSL2hitTXi4fypdhZzi4g_pb_x960.png",
             "bottle_medium": "//images.vivino.com/thumbs/IQSL2hitTXi4fypdhZzi4g_pb_x600.png",
             "bottle_medium_square": "//images.vivino.com/thumbs/IQSL2hitTXi4fypdhZzi4g_pb_600x600.png",
             "bottle_small": "//images.vivino.com/thumbs/IQSL2hitTXi4fypdhZzi4g_pb_x300.png",
             "bottle_small_square": "//images.vivino.com/thumbs/IQSL2hitTXi4fypdhZzi4g_pb_300x300.png",
             "label": "//images.vivino.com/thumbs/IQSL2hitTXi4fypdhZzi4g_pl_480x640.png",
             "label_large": "//images.vivino.com/thumbs/IQSL2hitTXi4fypdhZzi4g_pl_375x500.png",
             "label_medium": "//images.vivino.com/thumbs/IQSL2hitTXi4fypdhZzi4g_pl_150x200.png",
             "label_medium_square": "//images.vivino.com/thumbs/IQSL2hitTXi4fypdhZzi4g_pl_150x150.png",
             "label_small_square": "//images.vivino.com/thumbs/IQSL2hitTXi4fypdhZzi4g_pl_80x80.png",
             "large": "//images.vivino.com/thumbs/IQSL2hitTXi4fypdhZzi4g_pl_375x500.png",
             "medium": "//images.vivino.com/thumbs/IQSL2hitTXi4fypdhZzi4g_pl_150x200.png",
             "medium_square": "//images.vivino.com/thumbs/IQSL2hitTXi4fypdhZzi4g_pl_150x150.png",
             "small_square": "//images.vivino.com/thumbs/IQSL2hitTXi4fypdhZzi4g_pl_80x80.png"
            }
           },
           "name": "Viña Cobos Cobos Chañares Estate Malbec 2016",
           "seo_name": "vina-cobos-cobos-chanares-estate-malbec-2016",
           "statistics": {
            "labels_count": 529,
            "ratings_average": 4.8,
            "ratings_count": 119,
            "status": "Normal"
           },
           "top_list_rankings": [
            {
             "description": null,
             "previous_rank": 3,
             "rank": 3,
             "top_list": {
              "id": 202098,
              "location": "_0",
              "name": "Vivino's 2020 Wine Style Awards: Argentinian Malbec",
              "seo_name": "wine_style_awards_2020_argentinian_malbec",
              "type": 6,
              "year": "2020"
             }
            }
           ],
           "wine": {
            "has_valid_ratings": true,
            "id": 5354893,
            "is_natural": false,
            "name": "Cobos Chañares Estate Malbec",
            "region": {
             "background_image": null,
             "country": {
              "code": "ar",
              "currency": {
               "code": "ARS",
               "name": "Argentinean Peso",
               "prefix": "$",
               "suffix": null
              },
              "most_used_grapes": [
               {
                "has_detailed_info": true,
                "id": 9,
                "name": "Malbec",
                "seo_name": "malbec",
                "wines_count": 197235
               },
               {
                "has_detailed_info": true,
                "id": 2,
                "name": "Cabernet Sauvignon",
                "seo_name": "cabernet-sauvignon",
                "wines_count": 725925
               },
               {
                "has_detailed_info": true,
                "id": 5,
                "name": "Chardonnay",
                "seo_name": "chardonnay",
                "wines_count": 541509
               }
              ],
              "name": "Argentina",
              "native_name": "Argentina",
              "regions_count": 39,
              "seo_name": "argentina",
              "users_count": 505817,
              "wineries_count": 4811,
              "wines_count": 42809
             },
             "id": 1609,
             "name": "Tunuyán",
             "name_en": "",
             "seo_name": "tunuyan"
            },
            "seo_name": "cobos-chanares-estate-malbec",
            "statistics": {
             "labels_count": 3709,
             "ratings_average": 4.7,
             "ratings_count": 870,
             "status": "Normal",
             "vintages_count": 20
            },
            "style": {
             "acidity": 3,
             "acidity_description": "High",
             "background_image": {
              "location": "//images.vivino.com/backgrounds/styles/KE9UkhVvSrOuL02j-JjNng.jpg",
              "variations": {
               "small": "//images.vivino.com/backgrounds/styles/thumbs/KE9UkhVvSrOuL02j-JjNng_932x810.jpg"
              }
             },
             "blurb": null,
             "body": 5,
             "body_description": "Very full-bodied",
             "country": {
              "code": "ar",
              "currency": {
               "code": "ARS",
               "name": "Argentinean Peso",
               "prefix": "$",
               "suffix": null
              },
              "most_used_grapes": [
               {
                "has_detailed_info": true,
                "id": 9,
                "name": "Malbec",
                "seo_name": "malbec",
                "wines_count": 197235
               },
               {
                "has_detailed_info": true,
                "id": 2,
                "name": "Cabernet Sauvignon",
                "seo_name": "cabernet-sauvignon",
                "wines_count": 725925
               },
               {
                "has_detailed_info": true,
                "id": 5,
                "name": "Chardonnay",
                "seo_name": "chardonnay",
                "wines_count": 541509
               }
              ],
              "name": "Argentina",
              "native_name": "Argentina",
              "regions_count": 39,
              "seo_name": "argentina",
              "users_count": 505817,
              "wineries_count": 4811,
              "wines_count": 42809
             },
             "description": "Extremely popular, Argentinian Malbec is an inky, medium-bodied, dry red wine with strong impressions of dark fruits on the nose and palate. This wine tends to have mellower tannins than its French counterpart.\n\nHeavily dependent on where they are grown for variations in flavor, Argentinian Malbec has quickly become a world favorite due to the characteristics that the high altitude climate and soils impart to the fruit.\n\nOriginally from France, it is one of the original 5 “Bordeaux” grapes. It is scarcely planted in France anymore.\n\nIt has found an amazingly hospitable home in the mountains of Argentina from which some of the world's best selling Malbecs are grown.\n\nStarkly different from French versions in structure and flavor, this wine is a good investment for collectors, as the wine can age for several years before drinking.This wine also pairs very well with any savory red meat dish-- particularly dishes that include spice.",
             "food": [
              {
               "background_image": {
                "location": "//images.vivino.com/backgrounds/foods/4_beef.png",
                "variations": {
                 "small": "//images.vivino.com/backgrounds/foods/thumbs/4_beef_932x810.png"
                }
               },
               "id": 4,
               "name": "Beef",
               "seo_name": "beef"
              },
              {
               "background_image": {
                "location": "//images.vivino.com/backgrounds/foods/8_lamb.png",
                "variations": {
                 "small": "//images.vivino.com/backgrounds/foods/thumbs/8_lamb_932x810.png"
                }
               },
               "id": 8,
               "name": "Lamb",
               "seo_name": "lamb"
              },
              {
               "background_image": {
                "location": "//images.vivino.com/backgrounds/foods/20_chicken.png",
                "variations": {
                 "small": "//images.vivino.com/backgrounds/foods/thumbs/20_chicken_932x810.png"
                }
               },
               "id": 20,
               "name": "Poultry",
               "seo_name": "poultry"
              }
             ],
             "grapes": [
              {
               "has_detailed_info": true,
               "id": 9,
               "name": "Malbec",
               "seo_name": "malbec",
               "wines_count": 197235
              }
             ],
             "id": 98,
             "image": null,
             "interesting_facts": [
              "World Malbec day is celebrated on April 17.",
              "Growers invest fortunes in specialized netting to protect Malbec crops from frequent high altitude hail storms.",
              "Significant portions of Argentinian Malbec grows at altitudes approaching 5000 feet (1500 meters).",
              "Nearly all Malbec grown in France is now used for blending."
             ],
             "name": "Argentinian Malbec",
             "region": null,
             "regional_name": "Argentinian",
             "seo_name": "argentinian-malbec",
             "varietal_name": "Malbec",
             "wine_type_id": 1
            },
            "taste": {
             "flavor": [
              {
               "group": "oak",
               "stats": {
                "count": 12,
                "score": 1864
               }
              },
              {
               "group": "black_fruit",
               "stats": {
                "count": 10,
                "score": 1761
               }
              },
              {
               "group": "spices",
               "stats": {
                "count": 8,
                "score": 748
               }
              },
              {
               "group": "non_oak",
               "stats": {
                "count": 7,
                "score": 262
               }
              },
              {
               "group": "floral",
               "stats": {
                "count": 4,
                "score": 600
               }
              },
              {
               "group": "earth",
               "stats": {
                "count": 4,
                "score": 493
               }
              },
              {
               "group": "red_fruit",
               "stats": {
                "count": 4,
                "score": 239
               }
              },
              {
               "group": "microbio",
               "stats": {
                "count": 1,
                "score": 33
               }
              },
              {
               "group": "citrus_fruit",
               "stats": {
                "count": 1,
                "score": 100
               }
              }
             ],
             "structure": {
              "acidity": 2.7904801,
              "calculated_structure_count": 14,
              "fizziness": null,
              "intensity": 4.114405,
              "sweetness": 2.1065462,
              "tannin": 2.7890396,
              "user_structure_count": 142
             }
            },
            "type_id": 1,
            "vintage_type": 0,
            "winery": {
             "id": 8824,
             "name": "Viña Cobos",
             "seo_name": "vina-cobos",
             "status": 0
            }
           },
           "year": 2016
          }
         },
         {
          "price": {
           "amount": 349.99,
           "bottle_type": {
            "id": 1,
            "name": "Bottle (0.75l)",
            "short_name": "bottle",
            "short_name_plural": "bottles",
            "volume_ml": 750
           },
           "bottle_type_id": 1,
           "currency": {
            "code": "USD",
            "name": "US Dollars",
            "prefix": "$",
            "suffix": null
           },
           "discount_percent": null,
           "discounted_from": null,
           "id": 23564064,
           "sku": "4484024795218",
           "type": "vc",
           "url": "https://www.brix26.com/products/antinori-2016-solaia-toscana-proprietary-red-italy?variant=31826339987538",
           "visibility": 1
          },
          "prices": [
           {
            "amount": 349.99,
            "bottle_type": {
             "id": 1,
             "name": "Bottle (0.75l)",
             "short_name": "bottle",
             "short_name_plural": "bottles",
             "volume_ml": 750
            },
            "bottle_type_id": 1,
            "currency": {
             "code": "USD",
             "name": "US Dollars",
             "prefix": "$",
             "suffix": null
            },
            "discount_percent": null,
            "discounted_from": null,
            "id": 23564064,
            "sku": "4484024795218",
            "type": "vc",
            "url": "https://www.brix26.com/products/antinori-2016-solaia-toscana-proprietary-red-italy?variant=31826339987538",
            "visibility": 1
           }
          ],
          "vintage": {
           "grapes": null,
           "has_valid_ratings": true,
           "id": 150338390,
           "image": {
            "location": "//images.vivino.com/thumbs/fJfjGhCtQ_KAuvvN3aVDJA_pl_480x640.png",
            "variations": {
             "bottle_large": "//images.vivino.com/thumbs/fJfjGhCtQ_KAuvvN3aVDJA_pb_x960.png",
             "bottle_medium": "//images.vivino.com/thumbs/fJfjGhCtQ_KAuvvN3aVDJA_pb_x600.png",
             "bottle_medium_square": "//images.vivino.com/thumbs/fJfjGhCtQ_KAuvvN3aVDJA_pb_600x600.png",
             "bottle_small": "//images.vivino.com/thumbs/fJfjGhCtQ_KAuvvN3aVDJA_pb_x300.png",
             "bottle_small_square": "//images.vivino.com/thumbs/fJfjGhCtQ_KAuvvN3aVDJA_pb_300x300.png",
             "label": "//images.vivino.com/thumbs/fJfjGhCtQ_KAuvvN3aVDJA_pl_480x640.png",
             "label_large": "//images.vivino.com/thumbs/fJfjGhCtQ_KAuvvN3aVDJA_pl_375x500.png",
             "label_medium": "//images.vivino.com/thumbs/fJfjGhCtQ_KAuvvN3aVDJA_pl_150x200.png",
             "label_medium_square": "//images.vivino.com/thumbs/fJfjGhCtQ_KAuvvN3aVDJA_pl_150x150.png",
             "label_small_square": "//images.vivino.com/thumbs/fJfjGhCtQ_KAuvvN3aVDJA_pl_80x80.png",
             "large": "//images.vivino.com/thumbs/fJfjGhCtQ_KAuvvN3aVDJA_pl_375x500.png",
             "medium": "//images.vivino.com/thumbs/fJfjGhCtQ_KAuvvN3aVDJA_pl_150x200.png",
             "medium_square": "//images.vivino.com/thumbs/fJfjGhCtQ_KAuvvN3aVDJA_pl_150x150.png",
             "small_square": "//images.vivino.com/thumbs/fJfjGhCtQ_KAuvvN3aVDJA_pl_80x80.png"
            }
           },
           "name": "Antinori Tenuta Tignanello 'Solaia' 2017",
           "seo_name": "antinori-tuscany-tenuta-tignanello-solaia-2017",
           "statistics": {
            "labels_count": 356,
            "ratings_average": 4.8,
            "ratings_count": 67,
            "status": "Normal"
           },
           "wine": {
            "has_valid_ratings": true,
            "id": 1651,
            "is_natural": false,
            "name": "Tenuta Tignanello 'Solaia'",
            "region": {
             "background_image": {
              "location": "//images.vivino.com/regions/backgrounds/QV6V0jC2TDaRmClhy9wNfw.jpg",
              "variations": {
               "large": "//thumbs.vivino.com/region_backgrounds/QV6V0jC2TDaRmClhy9wNfw_1280x760.jpg",
               "medium": "//thumbs.vivino.com/region_backgrounds/QV6V0jC2TDaRmClhy9wNfw_600x356.jpg"
              }
             },
             "class": {
              "typecast_map": {
               "background_image": {},
               "class": {}
              }
             },
             "country": {
              "code": "it",
              "currency": {
               "code": "EUR",
               "name": "Euros",
               "prefix": "€",
               "suffix": null
              },
              "most_used_grapes": [
               {
                "has_detailed_info": true,
                "id": 16,
                "name": "Sangiovese",
                "seo_name": "sangiovese",
                "wines_count": 113644
               },
               {
                "has_detailed_info": true,
                "id": 10,
                "name": "Merlot",
                "seo_name": "merlot",
                "wines_count": 510808
               },
               {
                "has_detailed_info": true,
                "id": 5,
                "name": "Chardonnay",
                "seo_name": "chardonnay",
                "wines_count": 541509
               }
              ],
              "name": "Italy",
              "native_name": "Italia",
              "regions_count": 554,
              "seo_name": "italy",
              "users_count": 3569064,
              "wineries_count": 39907,
              "wines_count": 333926
             },
             "id": 394,
             "name": "Toscana",
             "name_en": "Tuscany",
             "seo_name": "tuscany"
            },
            "seo_name": "tenuta-tignanello-solaia",
            "statistics": {
             "labels_count": 149689,
             "ratings_average": 4.6,
             "ratings_count": 26064,
             "status": "Normal",
             "vintages_count": 136
            },
            "style": {
             "acidity": 2,
             "acidity_description": "Medium",
             "background_image": {
              "location": "//images.vivino.com/backgrounds/styles/BXXr-O0mSW6FPSTzja6nuQ.jpg",
              "variations": {
               "small": "//images.vivino.com/backgrounds/styles/thumbs/BXXr-O0mSW6FPSTzja6nuQ_932x810.jpg"
              }
             },
             "blurb": null,
             "body": 3,
             "body_description": "Medium-bodied",
             "country": {
              "code": "it",
              "currency": {
               "code": "EUR",
               "name": "Euros",
               "prefix": "€",
               "suffix": null
              },
              "most_used_grapes": [
               {
                "has_detailed_info": true,
                "id": 16,
                "name": "Sangiovese",
                "seo_name": "sangiovese",
                "wines_count": 113644
               },
               {
                "has_detailed_info": true,
                "id": 10,
                "name": "Merlot",
                "seo_name": "merlot",
                "wines_count": 510808
               },
               {
                "has_detailed_info": true,
                "id": 5,
                "name": "Chardonnay",
                "seo_name": "chardonnay",
                "wines_count": 541509
               }
              ],
              "name": "Italy",
              "native_name": "Italia",
              "regions_count": 554,
              "seo_name": "italy",
              "users_count": 3569064,
              "wineries_count": 39907,
              "wines_count": 333926
             },
             "description": null,
             "food": [
              {
               "background_image": {
                "location": "//images.vivino.com/backgrounds/foods/4_beef.png",
                "variations": {
                 "small": "//images.vivino.com/backgrounds/foods/thumbs/4_beef_932x810.png"
                }
               },
               "id": 4,
               "name": "Beef",
               "seo_name": "beef"
              },
              {
               "background_image": {
                "location": "//images.vivino.com/backgrounds/foods/8_lamb.png",
                "variations": {
                 "small": "//images.vivino.com/backgrounds/foods/thumbs/8_lamb_932x810.png"
                }
               },
               "id": 8,
               "name": "Lamb",
               "seo_name": "lamb"
              },
              {
               "background_image": {
                "location": "//images.vivino.com/backgrounds/foods/9_veal.png",
                "variations": {
                 "small": "//images.vivino.com/backgrounds/foods/thumbs/9_veal_932x810.png"
                }
               },
               "id": 9,
               "name": "Veal",
               "seo_name": "veal"
              },
              {
               "background_image": {
                "location": "//images.vivino.com/backgrounds/foods/20_chicken.png",
                "variations": {
                 "small": "//images.vivino.com/backgrounds/foods/thumbs/20_chicken_932x810.png"
                }
               },
               "id": 20,
               "name": "Poultry",
               "seo_name": "poultry"
              },
              {
               "background_image": {
                "location": "//images.vivino.com/backgrounds/foods/41_curedmeat.png",
                "variations": {
                 "small": "//images.vivino.com/backgrounds/foods/thumbs/41_curedmeat_932x810.png"
                }
               },
               "id": 41,
               "name": "Cured Meat",
               "seo_name": null
              }
             ],
             "grapes": [
              {
               "has_detailed_info": true,
               "id": 2,
               "name": "Cabernet Sauvignon",
               "seo_name": "cabernet-sauvignon",
               "wines_count": 725925
              },
              {
               "has_detailed_info": true,
               "id": 10,
               "name": "Merlot",
               "seo_name": "merlot",
               "wines_count": 510808
              },
              {
               "has_detailed_info": true,
               "id": 16,
               "name": "Sangiovese",
               "seo_name": "sangiovese",
               "wines_count": 113644
              },
              {
               "has_detailed_info": false,
               "id": 64,
               "name": "Canaiolo Nero",
               "seo_name": "canaiolo-nero",
               "wines_count": 4538
              }
             ],
             "id": 292,
             "image": null,
             "interesting_facts": null,
             "name": "Tuscan Red",
             "region": {
              "background_image": {
               "location": "//images.vivino.com/regions/backgrounds/QV6V0jC2TDaRmClhy9wNfw.jpg",
               "variations": {
                "large": "//thumbs.vivino.com/region_backgrounds/QV6V0jC2TDaRmClhy9wNfw_1280x760.jpg",
                "medium": "//thumbs.vivino.com/region_backgrounds/QV6V0jC2TDaRmClhy9wNfw_600x356.jpg"
               }
              },
              "class": {
               "typecast_map": {
                "background_image": {},
                "class": {}
               }
              },
              "country": {
               "code": "it",
               "currency": {
                "code": "EUR",
                "name": "Euros",
                "prefix": "€",
                "suffix": null
               },
               "most_used_grapes": [
                {
                 "has_detailed_info": true,
                 "id": 16,
                 "name": "Sangiovese",
                 "seo_name": "sangiovese",
                 "wines_count": 113644
                },
                {
                 "has_detailed_info": true,
                 "id": 10,
                 "name": "Merlot",
                 "seo_name": "merlot",
                 "wines_count": 510808
                },
                {
                 "has_detailed_info": true,
                 "id": 5,
                 "name": "Chardonnay",
                 "seo_name": "chardonnay",
                 "wines_count": 541509
                }
               ],
               "name": "Italy",
               "native_name": "Italia",
               "regions_count": 554,
               "seo_name": "italy",
               "users_count": 3569064,
               "wineries_count": 39907,
               "wines_count": 333926
              },
              "id": 394,
              "name": "Toscana",
              "name_en": "Tuscany",
              "seo_name": "tuscany"
             },
             "regional_name": "Tuscan",
             "seo_name": "tuscan-red",
             "varietal_name": "Red",
             "wine_type_id": 1
            },
            "taste": {
             "flavor": [
              {
               "group": "oak",
               "stats": {
                "count": 814,
                "score": 99539
               }
              },
              {
               "group": "earth",
               "stats": {
                "count": 670,
                "score": 73028
               }
              },
              {
               "group": "black_fruit",
               "stats": {
                "count": 637,
                "score": 95045
               }
              },
              {
               "group": "non_oak",
               "stats": {
                "count": 509,
                "score": 11645
               }
              },
              {
               "group": "spices",
               "stats": {
                "count": 342,
                "score": 33500
               }
              },
              {
               "group": "red_fruit",
               "stats": {
                "count": 319,
                "score": 29600
               }
              },
              {
               "group": "microbio",
               "stats": {
                "count": 126,
                "score": 7352
               }
              },
              {
               "group": "dried_fruit",
               "stats": {
                "count": 84,
                "score": 8293
               }
              },
              {
               "group": "floral",
               "stats": {
                "count": 61,
                "score": 6125
               }
              },
              {
               "group": "vegetal",
               "stats": {
                "count": 47,
                "score": 3241
               }
              },
              {
               "group": "citrus_fruit",
               "stats": {
                "count": 11,
                "score": 1100
               }
              },
              {
               "group": "tree_fruit",
               "stats": {
                "count": 6,
                "score": 600
               }
              },
              {
               "group": "tropical_fruit",
               "stats": {
                "count": 5,
                "score": 232
               }
              }
             ],
             "structure": {
              "acidity": 3.0754008,
              "calculated_structure_count": 1194,
              "fizziness": null,
              "intensity": 3.4177988,
              "sweetness": 1.8973932,
              "tannin": 2.965283,
              "user_structure_count": 1222
             }
            },
            "type_id": 1,
            "vintage_type": 0,
            "winery": {
             "id": 1252,
             "name": "Antinori",
             "seo_name": "antinori-tuscany",
             "status": 0
            }
           },
           "year": 2017
          }
         },
         {
          "price": {
           "amount": 229.49,
           "bottle_type": {
            "id": 1,
            "name": "Bottle (0.75l)",
            "short_name": "bottle",
            "short_name_plural": "bottles",
            "volume_ml": 750
           },
           "bottle_type_id": 1,
           "currency": {
            "code": "USD",
            "name": "US Dollars",
            "prefix": "$",
            "suffix": null
           },
           "discount_percent": null,
           "discounted_from": null,
           "id": 24277051,
           "sku": "",
           "type": "vc",
           "url": "https://www.yianniswine.com/wines/Frank-Family-Patriarch-2015-w9623211qh?utm_source=Vivino&utm_medium=Feed",
           "visibility": 1
          },
          "prices": [
           {
            "amount": 229.49,
            "bottle_type": {
             "id": 1,
             "name": "Bottle (0.75l)",
             "short_name": "bottle",
             "short_name_plural": "bottles",
             "volume_ml": 750
            },
            "bottle_type_id": 1,
            "currency": {
             "code": "USD",
             "name": "US Dollars",
             "prefix": "$",
             "suffix": null
            },
            "discount_percent": null,
            "discounted_from": null,
            "id": 24277051,
            "sku": "",
            "type": "vc",
            "url": "https://www.yianniswine.com/wines/Frank-Family-Patriarch-2015-w9623211qh?utm_source=Vivino&utm_medium=Feed",
            "visibility": 1
           }
          ],
          "vintage": {
           "grapes": null,
           "has_valid_ratings": true,
           "id": 143046219,
           "image": {
            "location": "//images.vivino.com/thumbs/BFAcH67rRxyiZskkxTnnJQ_pl_480x640.png",
            "variations": {
             "bottle_large": "//images.vivino.com/thumbs/BFAcH67rRxyiZskkxTnnJQ_pb_x960.png",
             "bottle_medium": "//images.vivino.com/thumbs/BFAcH67rRxyiZskkxTnnJQ_pb_x600.png",
             "bottle_medium_square": "//images.vivino.com/thumbs/BFAcH67rRxyiZskkxTnnJQ_pb_600x600.png",
             "bottle_small": "//images.vivino.com/thumbs/BFAcH67rRxyiZskkxTnnJQ_pb_x300.png",
             "bottle_small_square": "//images.vivino.com/thumbs/BFAcH67rRxyiZskkxTnnJQ_pb_300x300.png",
             "label": "//images.vivino.com/thumbs/BFAcH67rRxyiZskkxTnnJQ_pl_480x640.png",
             "label_large": "//images.vivino.com/thumbs/BFAcH67rRxyiZskkxTnnJQ_pl_375x500.png",
             "label_medium": "//images.vivino.com/thumbs/BFAcH67rRxyiZskkxTnnJQ_pl_150x200.png",
             "label_medium_square": "//images.vivino.com/thumbs/BFAcH67rRxyiZskkxTnnJQ_pl_150x150.png",
             "label_small_square": "//images.vivino.com/thumbs/BFAcH67rRxyiZskkxTnnJQ_pl_80x80.png",
             "large": "//images.vivino.com/thumbs/BFAcH67rRxyiZskkxTnnJQ_pl_375x500.png",
             "medium": "//images.vivino.com/thumbs/BFAcH67rRxyiZskkxTnnJQ_pl_150x200.png",
             "medium_square": "//images.vivino.com/thumbs/BFAcH67rRxyiZskkxTnnJQ_pl_150x150.png",
             "small_square": "//images.vivino.com/thumbs/BFAcH67rRxyiZskkxTnnJQ_pl_80x80.png"
            }
           },
           "name": "Frank Family Patriarch 2015",
           "seo_name": "frank-family-patriarch-rutherford-red-wine-2015",
           "statistics": {
            "labels_count": 265,
            "ratings_average": 4.8,
            "ratings_count": 65,
            "status": "Normal"
           },
           "wine": {
            "has_valid_ratings": true,
            "id": 4382344,
            "is_natural": false,
            "name": "Patriarch",
            "region": {
             "background_image": {
              "location": "//images.vivino.com/regions/backgrounds/YIECzf9JShax_qdsscwI2Q.jpg",
              "variations": {
               "large": "//thumbs.vivino.com/region_backgrounds/YIECzf9JShax_qdsscwI2Q_1280x760.jpg",
               "medium": "//thumbs.vivino.com/region_backgrounds/YIECzf9JShax_qdsscwI2Q_600x356.jpg"
              }
             },
             "class": {
              "typecast_map": {
               "background_image": {},
               "class": {}
              }
             },
             "country": {
              "code": "us",
              "currency": {
               "code": "USD",
               "name": "US Dollars",
               "prefix": "$",
               "suffix": null
              },
              "most_used_grapes": [
               {
                "has_detailed_info": true,
                "id": 2,
                "name": "Cabernet Sauvignon",
                "seo_name": "cabernet-sauvignon",
                "wines_count": 725925
               },
               {
                "has_detailed_info": true,
                "id": 14,
                "name": "Pinot Noir",
                "seo_name": "pinot-noir",
                "wines_count": 513244
               },
               {
                "has_detailed_info": true,
                "id": 5,
                "name": "Chardonnay",
                "seo_name": "chardonnay",
                "wines_count": 541509
               }
              ],
              "name": "United States",
              "native_name": "United States",
              "regions_count": 357,
              "seo_name": "united-states",
              "users_count": 10104977,
              "wineries_count": 26264,
              "wines_count": 230446
             },
             "id": 105,
             "name": "Rutherford",
             "name_en": "",
             "seo_name": "rutherford"
            },
            "seo_name": "patriarch-rutherford-red-wine",
            "statistics": {
             "labels_count": 3189,
             "ratings_average": 4.8,
             "ratings_count": 623,
             "status": "Normal",
             "vintages_count": 28
            },
            "style": {
             "acidity": 2,
             "acidity_description": "Medium",
             "background_image": {
              "location": "//images.vivino.com/backgrounds/styles/Rs1kBMYfQ0693K_iRThxOw.jpg",
              "variations": {
               "small": "//images.vivino.com/backgrounds/styles/thumbs/Rs1kBMYfQ0693K_iRThxOw_932x810.jpg"
              }
             },
             "blurb": null,
             "body": 5,
             "body_description": "Very full-bodied",
             "country": {
              "code": "us",
              "currency": {
               "code": "USD",
               "name": "US Dollars",
               "prefix": "$",
               "suffix": null
              },
              "most_used_grapes": [
               {
                "has_detailed_info": true,
                "id": 2,
                "name": "Cabernet Sauvignon",
                "seo_name": "cabernet-sauvignon",
                "wines_count": 725925
               },
               {
                "has_detailed_info": true,
                "id": 14,
                "name": "Pinot Noir",
                "seo_name": "pinot-noir",
                "wines_count": 513244
               },
               {
                "has_detailed_info": true,
                "id": 5,
                "name": "Chardonnay",
                "seo_name": "chardonnay",
                "wines_count": 541509
               }
              ],
              "name": "United States",
              "native_name": "United States",
              "regions_count": 357,
              "seo_name": "united-states",
              "users_count": 10104977,
              "wineries_count": 26264,
              "wines_count": 230446
             },
             "description": null,
             "food": [
              {
               "background_image": {
                "location": "//images.vivino.com/backgrounds/foods/4_beef.png",
                "variations": {
                 "small": "//images.vivino.com/backgrounds/foods/thumbs/4_beef_932x810.png"
                }
               },
               "id": 4,
               "name": "Beef",
               "seo_name": "beef"
              },
              {
               "background_image": {
                "location": "//images.vivino.com/backgrounds/foods/8_lamb.png",
                "variations": {
                 "small": "//images.vivino.com/backgrounds/foods/thumbs/8_lamb_932x810.png"
                }
               },
               "id": 8,
               "name": "Lamb",
               "seo_name": "lamb"
              },
              {
               "background_image": {
                "location": "//images.vivino.com/backgrounds/foods/11_venison.png",
                "variations": {
                 "small": "//images.vivino.com/backgrounds/foods/thumbs/11_venison_932x810.png"
                }
               },
               "id": 11,
               "name": "Game (deer, venison)",
               "seo_name": "game"
              },
              {
               "background_image": {
                "location": "//images.vivino.com/backgrounds/foods/17_hardcheese.png",
                "variations": {
                 "small": "//images.vivino.com/backgrounds/foods/thumbs/17_hardcheese_932x810.png"
                }
               },
               "id": 17,
               "name": "Mature and hard cheese",
               "seo_name": null
              },
              {
               "background_image": {
                "location": "//images.vivino.com/backgrounds/foods/20_chicken.png",
                "variations": {
                 "small": "//images.vivino.com/backgrounds/foods/thumbs/20_chicken_932x810.png"
                }
               },
               "id": 20,
               "name": "Poultry",
               "seo_name": "poultry"
              }
             ],
             "grapes": [
              {
               "has_detailed_info": true,
               "id": 2,
               "name": "Cabernet Sauvignon",
               "seo_name": "cabernet-sauvignon",
               "wines_count": 725925
              }
             ],
             "id": 289,
             "image": null,
             "interesting_facts": null,
             "name": "Napa Valley Cabernet Sauvignon",
             "region": {
              "background_image": {
               "location": "//images.vivino.com/regions/backgrounds/cP8NlYVPSUStyROqZeBzgA.jpg",
               "variations": {
                "large": "//thumbs.vivino.com/region_backgrounds/cP8NlYVPSUStyROqZeBzgA_1280x760.jpg",
                "medium": "//thumbs.vivino.com/region_backgrounds/cP8NlYVPSUStyROqZeBzgA_600x356.jpg"
               }
              },
              "class": {
               "typecast_map": {
                "background_image": {},
                "class": {}
               }
              },
              "country": {
               "code": "us",
               "currency": {
                "code": "USD",
                "name": "US Dollars",
                "prefix": "$",
                "suffix": null
               },
               "most_used_grapes": [
                {
                 "has_detailed_info": true,
                 "id": 2,
                 "name": "Cabernet Sauvignon",
                 "seo_name": "cabernet-sauvignon",
                 "wines_count": 725925
                },
                {
                 "has_detailed_info": true,
                 "id": 14,
                 "name": "Pinot Noir",
                 "seo_name": "pinot-noir",
                 "wines_count": 513244
                },
                {
                 "has_detailed_info": true,
                 "id": 5,
                 "name": "Chardonnay",
                 "seo_name": "chardonnay",
                 "wines_count": 541509
                }
               ],
               "name": "United States",
               "native_name": "United States",
               "regions_count": 357,
               "seo_name": "united-states",
               "users_count": 10104977,
               "wineries_count": 26264,
               "wines_count": 230446
              },
              "id": 25,
              "name": "Napa Valley",
              "name_en": "",
              "seo_name": "napa-valley"
             },
             "regional_name": "Napa Valley",
             "seo_name": "napa-valley-cabernet-sauvignon",
             "varietal_name": "Cabernet Sauvignon",
             "wine_type_id": 1
            },
            "taste": {
             "flavor": [
              {
               "group": "oak",
               "stats": {
                "count": 31,
                "score": 3741
               }
              },
              {
               "group": "earth",
               "stats": {
                "count": 21,
                "score": 1647
               }
              },
              {
               "group": "non_oak",
               "stats": {
                "count": 20,
                "score": 373
               }
              },
              {
               "group": "black_fruit",
               "stats": {
                "count": 16,
                "score": 2487
               }
              },
              {
               "group": "spices",
               "stats": {
                "count": 15,
                "score": 724
               }
              },
              {
               "group": "red_fruit",
               "stats": {
                "count": 7,
                "score": 813
               }
              },
              {
               "group": "microbio",
               "stats": {
                "count": 4,
                "score": 265
               }
              },
              {
               "group": "citrus_fruit",
               "stats": {
                "count": 2,
                "score": 200
               }
              },
              {
               "group": "floral",
               "stats": {
                "count": 1,
                "score": 25
               }
              },
              {
               "group": "vegetal",
               "stats": {
                "count": 1,
                "score": 25
               }
              }
             ],
             "structure": {
              "acidity": 3.3281903,
              "calculated_structure_count": 49,
              "fizziness": null,
              "intensity": 4.8732653,
              "sweetness": 1.359804,
              "tannin": 3.2359607,
              "user_structure_count": 56
             }
            },
            "type_id": 1,
            "vintage_type": 0,
            "winery": {
             "id": 1482,
             "name": "Frank Family",
             "seo_name": "frank-family",
             "status": 0
            }
           },
           "year": 2015
          }
         },
         {
          "price": {
           "amount": 271.99,
           "bottle_type": {
            "id": 1,
            "name": "Bottle (0.75l)",
            "short_name": "bottle",
            "short_name_plural": "bottles",
            "volume_ml": 750
           },
           "bottle_type_id": 1,
           "currency": {
            "code": "USD",
            "name": "US Dollars",
            "prefix": "$",
            "suffix": null
           },
           "discount_percent": null,
           "discounted_from": null,
           "id": 19482781,
           "sku": "2342605",
           "type": "vc",
           "url": "http://www.grandwinecellar.com/vsku2342605_REALM-CABERNET-SAUVIGNON-FARELLA-VINEYARD-750ML-2016?utm_source=vivino&utm_medium=feed&utm_campaign=REALM%20CABERNET%20SAUVIGNON%20FARELLA%20VINEYARD%202016",
           "visibility": 1
          },
          "prices": [
           {
            "amount": 271.99,
            "bottle_type": {
             "id": 1,
             "name": "Bottle (0.75l)",
             "short_name": "bottle",
             "short_name_plural": "bottles",
             "volume_ml": 750
            },
            "bottle_type_id": 1,
            "currency": {
             "code": "USD",
             "name": "US Dollars",
             "prefix": "$",
             "suffix": null
            },
            "discount_percent": null,
            "discounted_from": null,
            "id": 19482781,
            "sku": "2342605",
            "type": "vc",
            "url": "http://www.grandwinecellar.com/vsku2342605_REALM-CABERNET-SAUVIGNON-FARELLA-VINEYARD-750ML-2016?utm_source=vivino&utm_medium=feed&utm_campaign=REALM%20CABERNET%20SAUVIGNON%20FARELLA%20VINEYARD%202016",
            "visibility": 1
           }
          ],
          "vintage": {
           "grapes": null,
           "has_valid_ratings": true,
           "id": 147109412,
           "image": {
            "location": "//images.vivino.com/thumbs/KUOoBjWzQXamRlh4sDLK7w_pl_480x640.png",
            "variations": {
             "bottle_large": "//images.vivino.com/thumbs/KUOoBjWzQXamRlh4sDLK7w_pb_x960.png",
             "bottle_medium": "//images.vivino.com/thumbs/KUOoBjWzQXamRlh4sDLK7w_pb_x600.png",
             "bottle_medium_square": "//images.vivino.com/thumbs/KUOoBjWzQXamRlh4sDLK7w_pb_600x600.png",
             "bottle_small": "//images.vivino.com/thumbs/KUOoBjWzQXamRlh4sDLK7w_pb_x300.png",
             "bottle_small_square": "//images.vivino.com/thumbs/KUOoBjWzQXamRlh4sDLK7w_pb_300x300.png",
             "label": "//images.vivino.com/thumbs/KUOoBjWzQXamRlh4sDLK7w_pl_480x640.png",
             "label_large": "//images.vivino.com/thumbs/KUOoBjWzQXamRlh4sDLK7w_pl_375x500.png",
             "label_medium": "//images.vivino.com/thumbs/KUOoBjWzQXamRlh4sDLK7w_pl_150x200.png",
             "label_medium_square": "//images.vivino.com/thumbs/KUOoBjWzQXamRlh4sDLK7w_pl_150x150.png",
             "label_small_square": "//images.vivino.com/thumbs/KUOoBjWzQXamRlh4sDLK7w_pl_80x80.png",
             "large": "//images.vivino.com/thumbs/KUOoBjWzQXamRlh4sDLK7w_pl_375x500.png",
             "medium": "//images.vivino.com/thumbs/KUOoBjWzQXamRlh4sDLK7w_pl_150x200.png",
             "medium_square": "//images.vivino.com/thumbs/KUOoBjWzQXamRlh4sDLK7w_pl_150x150.png",
             "small_square": "//images.vivino.com/thumbs/KUOoBjWzQXamRlh4sDLK7w_pl_80x80.png"
            }
           },
           "name": "Realm Farella Vineyard 2016",
           "seo_name": "realm-cellars-farella-vineyard-2016",
           "statistics": {
            "labels_count": 347,
            "ratings_average": 4.8,
            "ratings_count": 49,
            "status": "Normal"
           },
           "wine": {
            "has_valid_ratings": true,
            "id": 1770010,
            "is_natural": false,
            "name": "Farella Vineyard",
            "region": {
             "background_image": {
              "location": "//images.vivino.com/regions/backgrounds/BfQYmxGuSRC_TM_IlwK9_Q.jpg",
              "variations": {
               "large": "//thumbs.vivino.com/region_backgrounds/BfQYmxGuSRC_TM_IlwK9_Q_1280x760.jpg",
               "medium": "//thumbs.vivino.com/region_backgrounds/BfQYmxGuSRC_TM_IlwK9_Q_600x356.jpg"
              }
             },
             "class": {
              "typecast_map": {
               "background_image": {},
               "class": {}
              }
             },
             "country": {
              "code": "us",
              "currency": {
               "code": "USD",
               "name": "US Dollars",
               "prefix": "$",
               "suffix": null
              },
              "most_used_grapes": [
               {
                "has_detailed_info": true,
                "id": 2,
                "name": "Cabernet Sauvignon",
                "seo_name": "cabernet-sauvignon",
                "wines_count": 725925
               },
               {
                "has_detailed_info": true,
                "id": 14,
                "name": "Pinot Noir",
                "seo_name": "pinot-noir",
                "wines_count": 513244
               },
               {
                "has_detailed_info": true,
                "id": 5,
                "name": "Chardonnay",
                "seo_name": "chardonnay",
                "wines_count": 541509
               }
              ],
              "name": "United States",
              "native_name": "United States",
              "regions_count": 357,
              "seo_name": "united-states",
              "users_count": 10104977,
              "wineries_count": 26264,
              "wines_count": 230446
             },
             "id": 1925,
             "name": "Coombsville",
             "name_en": "",
             "seo_name": "coombsville"
            },
            "seo_name": "farella-vineyard",
            "statistics": {
             "labels_count": 2949,
             "ratings_average": 4.5,
             "ratings_count": 481,
             "status": "Normal",
             "vintages_count": 25
            },
            "style": {
             "acidity": 2,
             "acidity_description": "Medium",
             "background_image": {
              "location": "//images.vivino.com/backgrounds/styles/Rs1kBMYfQ0693K_iRThxOw.jpg",
              "variations": {
               "small": "//images.vivino.com/backgrounds/styles/thumbs/Rs1kBMYfQ0693K_iRThxOw_932x810.jpg"
              }
             },
             "blurb": null,
             "body": 5,
             "body_description": "Very full-bodied",
             "country": {
              "code": "us",
              "currency": {
               "code": "USD",
               "name": "US Dollars",
               "prefix": "$",
               "suffix": null
              },
              "most_used_grapes": [
               {
                "has_detailed_info": true,
                "id": 2,
                "name": "Cabernet Sauvignon",
                "seo_name": "cabernet-sauvignon",
                "wines_count": 725925
               },
               {
                "has_detailed_info": true,
                "id": 14,
                "name": "Pinot Noir",
                "seo_name": "pinot-noir",
                "wines_count": 513244
               },
               {
                "has_detailed_info": true,
                "id": 5,
                "name": "Chardonnay",
                "seo_name": "chardonnay",
                "wines_count": 541509
               }
              ],
              "name": "United States",
              "native_name": "United States",
              "regions_count": 357,
              "seo_name": "united-states",
              "users_count": 10104977,
              "wineries_count": 26264,
              "wines_count": 230446
             },
             "description": null,
             "food": [
              {
               "background_image": {
                "location": "//images.vivino.com/backgrounds/foods/4_beef.png",
                "variations": {
                 "small": "//images.vivino.com/backgrounds/foods/thumbs/4_beef_932x810.png"
                }
               },
               "id": 4,
               "name": "Beef",
               "seo_name": "beef"
              },
              {
               "background_image": {
                "location": "//images.vivino.com/backgrounds/foods/8_lamb.png",
                "variations": {
                 "small": "//images.vivino.com/backgrounds/foods/thumbs/8_lamb_932x810.png"
                }
               },
               "id": 8,
               "name": "Lamb",
               "seo_name": "lamb"
              },
              {
               "background_image": {
                "location": "//images.vivino.com/backgrounds/foods/11_venison.png",
                "variations": {
                 "small": "//images.vivino.com/backgrounds/foods/thumbs/11_venison_932x810.png"
                }
               },
               "id": 11,
               "name": "Game (deer, venison)",
               "seo_name": "game"
              },
              {
               "background_image": {
                "location": "//images.vivino.com/backgrounds/foods/17_hardcheese.png",
                "variations": {
                 "small": "//images.vivino.com/backgrounds/foods/thumbs/17_hardcheese_932x810.png"
                }
               },
               "id": 17,
               "name": "Mature and hard cheese",
               "seo_name": null
              },
              {
               "background_image": {
                "location": "//images.vivino.com/backgrounds/foods/20_chicken.png",
                "variations": {
                 "small": "//images.vivino.com/backgrounds/foods/thumbs/20_chicken_932x810.png"
                }
               },
               "id": 20,
               "name": "Poultry",
               "seo_name": "poultry"
              }
             ],
             "grapes": [
              {
               "has_detailed_info": true,
               "id": 2,
               "name": "Cabernet Sauvignon",
               "seo_name": "cabernet-sauvignon",
               "wines_count": 725925
              }
             ],
             "id": 289,
             "image": null,
             "interesting_facts": null,
             "name": "Napa Valley Cabernet Sauvignon",
             "region": {
              "background_image": {
               "location": "//images.vivino.com/regions/backgrounds/cP8NlYVPSUStyROqZeBzgA.jpg",
               "variations": {
                "large": "//thumbs.vivino.com/region_backgrounds/cP8NlYVPSUStyROqZeBzgA_1280x760.jpg",
                "medium": "//thumbs.vivino.com/region_backgrounds/cP8NlYVPSUStyROqZeBzgA_600x356.jpg"
               }
              },
              "class": {
               "typecast_map": {
                "background_image": {},
                "class": {}
               }
              },
              "country": {
               "code": "us",
               "currency": {
                "code": "USD",
                "name": "US Dollars",
                "prefix": "$",
                "suffix": null
               },
               "most_used_grapes": [
                {
                 "has_detailed_info": true,
                 "id": 2,
                 "name": "Cabernet Sauvignon",
                 "seo_name": "cabernet-sauvignon",
                 "wines_count": 725925
                },
                {
                 "has_detailed_info": true,
                 "id": 14,
                 "name": "Pinot Noir",
                 "seo_name": "pinot-noir",
                 "wines_count": 513244
                },
                {
                 "has_detailed_info": true,
                 "id": 5,
                 "name": "Chardonnay",
                 "seo_name": "chardonnay",
                 "wines_count": 541509
                }
               ],
               "name": "United States",
               "native_name": "United States",
               "regions_count": 357,
               "seo_name": "united-states",
               "users_count": 10104977,
               "wineries_count": 26264,
               "wines_count": 230446
              },
              "id": 25,
              "name": "Napa Valley",
              "name_en": "",
              "seo_name": "napa-valley"
             },
             "regional_name": "Napa Valley",
             "seo_name": "napa-valley-cabernet-sauvignon",
             "varietal_name": "Cabernet Sauvignon",
             "wine_type_id": 1
            },
            "taste": {
             "flavor": [
              {
               "group": "oak",
               "stats": {
                "count": 36,
                "score": 4257
               }
              },
              {
               "group": "earth",
               "stats": {
                "count": 29,
                "score": 2229
               }
              },
              {
               "group": "non_oak",
               "stats": {
                "count": 27,
                "score": 556
               }
              },
              {
               "group": "black_fruit",
               "stats": {
                "count": 23,
                "score": 3761
               }
              },
              {
               "group": "spices",
               "stats": {
                "count": 17,
                "score": 1359
               }
              },
              {
               "group": "red_fruit",
               "stats": {
                "count": 16,
                "score": 1439
               }
              },
              {
               "group": "microbio",
               "stats": {
                "count": 4,
                "score": 249
               }
              },
              {
               "group": "floral",
               "stats": {
                "count": 2,
                "score": 125
               }
              },
              {
               "group": "vegetal",
               "stats": {
                "count": 2,
                "score": 125
               }
              },
              {
               "group": "tree_fruit",
               "stats": {
                "count": 2,
                "score": 200
               }
              }
             ],
             "structure": {
              "acidity": 3.2467723,
              "calculated_structure_count": 54,
              "fizziness": null,
              "intensity": 4.8496003,
              "sweetness": 1.585666,
              "tannin": 3.428617,
              "user_structure_count": 35
             }
            },
            "type_id": 1,
            "vintage_type": 0,
            "winery": {
             "id": 1670,
             "name": "Realm",
             "seo_name": "realm-cellars",
             "status": 0
            }
           },
           "year": 2016
          }
         },
         {
          "price": {
           "amount": 349.99,
           "bottle_type": {
            "id": 1,
            "name": "Bottle (0.75l)",
            "short_name": "bottle",
            "short_name_plural": "bottles",
            "volume_ml": 750
           },
           "bottle_type_id": 1,
           "currency": {
            "code": "USD",
            "name": "US Dollars",
            "prefix": "$",
            "suffix": null
           },
           "discount_percent": null,
           "discounted_from": null,
           "id": 21420342,
           "sku": "WINEBOW11298",
           "type": "vc",
           "url": "http://vivino.cpdwineliquor.com/Product?PID=2296",
           "visibility": 1
          },
          "prices": [
           {
            "amount": 349.99,
            "bottle_type": {
             "id": 1,
             "name": "Bottle (0.75l)",
             "short_name": "bottle",
             "short_name_plural": "bottles",
             "volume_ml": 750
            },
            "bottle_type_id": 1,
            "currency": {
             "code": "USD",
             "name": "US Dollars",
             "prefix": "$",
             "suffix": null
            },
            "discount_percent": null,
            "discounted_from": null,
            "id": 21420342,
            "sku": "WINEBOW11298",
            "type": "vc",
            "url": "http://vivino.cpdwineliquor.com/Product?PID=2296",
            "visibility": 1
           }
          ],
          "vintage": {
           "grapes": null,
           "has_valid_ratings": true,
           "id": 152471896,
           "image": {
            "location": "//images.vivino.com/thumbs/_xFB5e6uRjKVTWO9RweV_Q_pl_480x640.png",
            "variations": {
             "bottle_large": "//images.vivino.com/thumbs/_xFB5e6uRjKVTWO9RweV_Q_pb_x960.png",
             "bottle_medium": "//images.vivino.com/thumbs/_xFB5e6uRjKVTWO9RweV_Q_pb_x600.png",
             "bottle_medium_square": "//images.vivino.com/thumbs/_xFB5e6uRjKVTWO9RweV_Q_pb_600x600.png",
             "bottle_small": "//images.vivino.com/thumbs/_xFB5e6uRjKVTWO9RweV_Q_pb_x300.png",
             "bottle_small_square": "//images.vivino.com/thumbs/_xFB5e6uRjKVTWO9RweV_Q_pb_300x300.png",
             "label": "//images.vivino.com/thumbs/_xFB5e6uRjKVTWO9RweV_Q_pl_480x640.png",
             "label_large": "//images.vivino.com/thumbs/_xFB5e6uRjKVTWO9RweV_Q_pl_375x500.png",
             "label_medium": "//images.vivino.com/thumbs/_xFB5e6uRjKVTWO9RweV_Q_pl_150x200.png",
             "label_medium_square": "//images.vivino.com/thumbs/_xFB5e6uRjKVTWO9RweV_Q_pl_150x150.png",
             "label_small_square": "//images.vivino.com/thumbs/_xFB5e6uRjKVTWO9RweV_Q_pl_80x80.png",
             "large": "//images.vivino.com/thumbs/_xFB5e6uRjKVTWO9RweV_Q_pl_375x500.png",
             "medium": "//images.vivino.com/thumbs/_xFB5e6uRjKVTWO9RweV_Q_pl_150x200.png",
             "medium_square": "//images.vivino.com/thumbs/_xFB5e6uRjKVTWO9RweV_Q_pl_150x150.png",
             "small_square": "//images.vivino.com/thumbs/_xFB5e6uRjKVTWO9RweV_Q_pl_80x80.png"
            }
           },
           "name": "Paul Hobbs Beckstoffer Las Piedras Vineyard Cabernet Sauvignon 2015",
           "seo_name": "paul-hobbs-beckstoffer-las-piedras-vineyard-cabernet-sauvignon-2015",
           "statistics": {
            "labels_count": 370,
            "ratings_average": 4.8,
            "ratings_count": 48,
            "status": "Normal"
           },
           "wine": {
            "has_valid_ratings": true,
            "id": 1868630,
            "is_natural": false,
            "name": "Beckstoffer Las Piedras Vineyard Cabernet Sauvignon",
            "region": {
             "background_image": {
              "location": "//images.vivino.com/regions/backgrounds/so7A1ElhSEOhFr2jFB2XAg.jpg",
              "variations": {
               "large": "//thumbs.vivino.com/region_backgrounds/so7A1ElhSEOhFr2jFB2XAg_1280x760.jpg",
               "medium": "//thumbs.vivino.com/region_backgrounds/so7A1ElhSEOhFr2jFB2XAg_600x356.jpg"
              }
             },
             "class": {
              "typecast_map": {
               "background_image": {},
               "class": {}
              }
             },
             "country": {
              "code": "us",
              "currency": {
               "code": "USD",
               "name": "US Dollars",
               "prefix": "$",
               "suffix": null
              },
              "most_used_grapes": [
               {
                "has_detailed_info": true,
                "id": 2,
                "name": "Cabernet Sauvignon",
                "seo_name": "cabernet-sauvignon",
                "wines_count": 725925
               },
               {
                "has_detailed_info": true,
                "id": 14,
                "name": "Pinot Noir",
                "seo_name": "pinot-noir",
                "wines_count": 513244
               },
               {
                "has_detailed_info": true,
                "id": 5,
                "name": "Chardonnay",
                "seo_name": "chardonnay",
                "wines_count": 541509
               }
              ],
              "name": "United States",
              "native_name": "United States",
              "regions_count": 357,
              "seo_name": "united-states",
              "users_count": 10104977,
              "wineries_count": 26264,
              "wines_count": 230446
             },
             "id": 97,
             "name": "St. Helena",
             "name_en": "",
             "seo_name": "st-helena"
            },
            "seo_name": "beckstoffer-las-piedras-vineyard-cabernet-sauvignon",
            "statistics": {
             "labels_count": 4321,
             "ratings_average": 4.6,
             "ratings_count": 557,
             "status": "Normal",
             "vintages_count": 30
            },
            "style": {
             "acidity": 2,
             "acidity_description": "Medium",
             "background_image": {
              "location": "//images.vivino.com/backgrounds/styles/Rs1kBMYfQ0693K_iRThxOw.jpg",
              "variations": {
               "small": "//images.vivino.com/backgrounds/styles/thumbs/Rs1kBMYfQ0693K_iRThxOw_932x810.jpg"
              }
             },
             "blurb": null,
             "body": 5,
             "body_description": "Very full-bodied",
             "country": {
              "code": "us",
              "currency": {
               "code": "USD",
               "name": "US Dollars",
               "prefix": "$",
               "suffix": null
              },
              "most_used_grapes": [
               {
                "has_detailed_info": true,
                "id": 2,
                "name": "Cabernet Sauvignon",
                "seo_name": "cabernet-sauvignon",
                "wines_count": 725925
               },
               {
                "has_detailed_info": true,
                "id": 14,
                "name": "Pinot Noir",
                "seo_name": "pinot-noir",
                "wines_count": 513244
               },
               {
                "has_detailed_info": true,
                "id": 5,
                "name": "Chardonnay",
                "seo_name": "chardonnay",
                "wines_count": 541509
               }
              ],
              "name": "United States",
              "native_name": "United States",
              "regions_count": 357,
              "seo_name": "united-states",
              "users_count": 10104977,
              "wineries_count": 26264,
              "wines_count": 230446
             },
             "description": null,
             "food": [
              {
               "background_image": {
                "location": "//images.vivino.com/backgrounds/foods/4_beef.png",
                "variations": {
                 "small": "//images.vivino.com/backgrounds/foods/thumbs/4_beef_932x810.png"
                }
               },
               "id": 4,
               "name": "Beef",
               "seo_name": "beef"
              },
              {
               "background_image": {
                "location": "//images.vivino.com/backgrounds/foods/8_lamb.png",
                "variations": {
                 "small": "//images.vivino.com/backgrounds/foods/thumbs/8_lamb_932x810.png"
                }
               },
               "id": 8,
               "name": "Lamb",
               "seo_name": "lamb"
              },
              {
               "background_image": {
                "location": "//images.vivino.com/backgrounds/foods/11_venison.png",
                "variations": {
                 "small": "//images.vivino.com/backgrounds/foods/thumbs/11_venison_932x810.png"
                }
               },
               "id": 11,
               "name": "Game (deer, venison)",
               "seo_name": "game"
              },
              {
               "background_image": {
                "location": "//images.vivino.com/backgrounds/foods/17_hardcheese.png",
                "variations": {
                 "small": "//images.vivino.com/backgrounds/foods/thumbs/17_hardcheese_932x810.png"
                }
               },
               "id": 17,
               "name": "Mature and hard cheese",
               "seo_name": null
              },
              {
               "background_image": {
                "location": "//images.vivino.com/backgrounds/foods/20_chicken.png",
                "variations": {
                 "small": "//images.vivino.com/backgrounds/foods/thumbs/20_chicken_932x810.png"
                }
               },
               "id": 20,
               "name": "Poultry",
               "seo_name": "poultry"
              }
             ],
             "grapes": [
              {
               "has_detailed_info": true,
               "id": 2,
               "name": "Cabernet Sauvignon",
               "seo_name": "cabernet-sauvignon",
               "wines_count": 725925
              }
             ],
             "id": 289,
             "image": null,
             "interesting_facts": null,
             "name": "Napa Valley Cabernet Sauvignon",
             "region": {
              "background_image": {
               "location": "//images.vivino.com/regions/backgrounds/cP8NlYVPSUStyROqZeBzgA.jpg",
               "variations": {
                "large": "//thumbs.vivino.com/region_backgrounds/cP8NlYVPSUStyROqZeBzgA_1280x760.jpg",
                "medium": "//thumbs.vivino.com/region_backgrounds/cP8NlYVPSUStyROqZeBzgA_600x356.jpg"
               }
              },
              "class": {
               "typecast_map": {
                "background_image": {},
                "class": {}
               }
              },
              "country": {
               "code": "us",
               "currency": {
                "code": "USD",
                "name": "US Dollars",
                "prefix": "$",
                "suffix": null
               },
               "most_used_grapes": [
                {
                 "has_detailed_info": true,
                 "id": 2,
                 "name": "Cabernet Sauvignon",
                 "seo_name": "cabernet-sauvignon",
                 "wines_count": 725925
                },
                {
                 "has_detailed_info": true,
                 "id": 14,
                 "name": "Pinot Noir",
                 "seo_name": "pinot-noir",
                 "wines_count": 513244
                },
                {
                 "has_detailed_info": true,
                 "id": 5,
                 "name": "Chardonnay",
                 "seo_name": "chardonnay",
                 "wines_count": 541509
                }
               ],
               "name": "United States",
               "native_name": "United States",
               "regions_count": 357,
               "seo_name": "united-states",
               "users_count": 10104977,
               "wineries_count": 26264,
               "wines_count": 230446
              },
              "id": 25,
              "name": "Napa Valley",
              "name_en": "",
              "seo_name": "napa-valley"
             },
             "regional_name": "Napa Valley",
             "seo_name": "napa-valley-cabernet-sauvignon",
             "varietal_name": "Cabernet Sauvignon",
             "wine_type_id": 1
            },
            "taste": {
             "flavor": [
              {
               "group": "oak",
               "stats": {
                "count": 31,
                "score": 4202
               }
              },
              {
               "group": "black_fruit",
               "stats": {
                "count": 25,
                "score": 3753
               }
              },
              {
               "group": "earth",
               "stats": {
                "count": 25,
                "score": 2261
               }
              },
              {
               "group": "spices",
               "stats": {
                "count": 22,
                "score": 1471
               }
              },
              {
               "group": "non_oak",
               "stats": {
                "count": 21,
                "score": 492
               }
              },
              {
               "group": "red_fruit",
               "stats": {
                "count": 14,
                "score": 1242
               }
              },
              {
               "group": "microbio",
               "stats": {
                "count": 4,
                "score": 283
               }
              },
              {
               "group": "vegetal",
               "stats": {
                "count": 3,
                "score": 300
               }
              },
              {
               "group": "floral",
               "stats": {
                "count": 2,
                "score": 200
               }
              },
              {
               "group": "dried_fruit",
               "stats": {
                "count": 2,
                "score": 196
               }
              },
              {
               "group": "tree_fruit",
               "stats": {
                "count": 2,
                "score": 200
               }
              },
              {
               "group": "tropical_fruit",
               "stats": {
                "count": 1,
                "score": 100
               }
              }
             ],
             "structure": {
              "acidity": 3.3687077,
              "calculated_structure_count": 47,
              "fizziness": null,
              "intensity": 4.5952425,
              "sweetness": 1.8364184,
              "tannin": 3.3240933,
              "user_structure_count": 39
             }
            },
            "type_id": 1,
            "vintage_type": 0,
            "winery": {
             "id": 11693,
             "name": "Paul Hobbs",
             "seo_name": "paul-hobbs",
             "status": 0
            }
           },
           "year": 2015
          }
         },
         {
          "price": {
           "amount": 164.99,
           "bottle_type": {
            "id": 1,
            "name": "Bottle (0.75l)",
            "short_name": "bottle",
            "short_name_plural": "bottles",
            "volume_ml": 750
           },
           "bottle_type_id": 1,
           "currency": {
            "code": "USD",
            "name": "US Dollars",
            "prefix": "$",
            "suffix": null
           },
           "discount_percent": null,
           "discounted_from": null,
           "id": 23891383,
           "sku": "",
           "type": "vc",
           "url": "https://www.blackbearwines.com/Frank-Family-Vineyards-Winston-Hill-2015-750-ml-p211699173",
           "visibility": 1
          },
          "prices": [
           {
            "amount": 164.99,
            "bottle_type": {
             "id": 1,
             "name": "Bottle (0.75l)",
             "short_name": "bottle",
             "short_name_plural": "bottles",
             "volume_ml": 750
            },
            "bottle_type_id": 1,
            "currency": {
             "code": "USD",
             "name": "US Dollars",
             "prefix": "$",
             "suffix": null
            },
            "discount_percent": null,
            "discounted_from": null,
            "id": 23891383,
            "sku": "",
            "type": "vc",
            "url": "https://www.blackbearwines.com/Frank-Family-Vineyards-Winston-Hill-2015-750-ml-p211699173",
            "visibility": 1
           }
          ],
          "vintage": {
           "grapes": null,
           "has_valid_ratings": true,
           "id": 28399452,
           "image": {
            "location": "//images.vivino.com/thumbs/0CtubwMqQy-ZING9vlUPSw_pl_480x640.png",
            "variations": {
             "bottle_large": "//images.vivino.com/thumbs/0CtubwMqQy-ZING9vlUPSw_pb_x960.png",
             "bottle_medium": "//images.vivino.com/thumbs/0CtubwMqQy-ZING9vlUPSw_pb_x600.png",
             "bottle_medium_square": "//images.vivino.com/thumbs/0CtubwMqQy-ZING9vlUPSw_pb_600x600.png",
             "bottle_small": "//images.vivino.com/thumbs/0CtubwMqQy-ZING9vlUPSw_pb_x300.png",
             "bottle_small_square": "//images.vivino.com/thumbs/0CtubwMqQy-ZING9vlUPSw_pb_300x300.png",
             "label": "//images.vivino.com/thumbs/0CtubwMqQy-ZING9vlUPSw_pl_480x640.png",
             "label_large": "//images.vivino.com/thumbs/0CtubwMqQy-ZING9vlUPSw_pl_375x500.png",
             "label_medium": "//images.vivino.com/thumbs/0CtubwMqQy-ZING9vlUPSw_pl_150x200.png",
             "label_medium_square": "//images.vivino.com/thumbs/0CtubwMqQy-ZING9vlUPSw_pl_150x150.png",
             "label_small_square": "//images.vivino.com/thumbs/0CtubwMqQy-ZING9vlUPSw_pl_80x80.png",
             "large": "//images.vivino.com/thumbs/0CtubwMqQy-ZING9vlUPSw_pl_375x500.png",
             "medium": "//images.vivino.com/thumbs/0CtubwMqQy-ZING9vlUPSw_pl_150x200.png",
             "medium_square": "//images.vivino.com/thumbs/0CtubwMqQy-ZING9vlUPSw_pl_150x150.png",
             "small_square": "//images.vivino.com/thumbs/0CtubwMqQy-ZING9vlUPSw_pl_80x80.png"
            }
           },
           "name": "Frank Family Winston Hill 2015",
           "seo_name": "frank-family-winston-hill-2015",
           "statistics": {
            "labels_count": 367,
            "ratings_average": 4.8,
            "ratings_count": 43,
            "status": "Normal"
           },
           "wine": {
            "has_valid_ratings": true,
            "id": 6603,
            "is_natural": false,
            "name": "Winston Hill",
            "region": {
             "background_image": {
              "location": "//images.vivino.com/regions/backgrounds/cP8NlYVPSUStyROqZeBzgA.jpg",
              "variations": {
               "large": "//thumbs.vivino.com/region_backgrounds/cP8NlYVPSUStyROqZeBzgA_1280x760.jpg",
               "medium": "//thumbs.vivino.com/region_backgrounds/cP8NlYVPSUStyROqZeBzgA_600x356.jpg"
              }
             },
             "class": {
              "typecast_map": {
               "background_image": {},
               "class": {}
              }
             },
             "country": {
              "code": "us",
              "currency": {
               "code": "USD",
               "name": "US Dollars",
               "prefix": "$",
               "suffix": null
              },
              "most_used_grapes": [
               {
                "has_detailed_info": true,
                "id": 2,
                "name": "Cabernet Sauvignon",
                "seo_name": "cabernet-sauvignon",
                "wines_count": 725925
               },
               {
                "has_detailed_info": true,
                "id": 14,
                "name": "Pinot Noir",
                "seo_name": "pinot-noir",
                "wines_count": 513244
               },
               {
                "has_detailed_info": true,
                "id": 5,
                "name": "Chardonnay",
                "seo_name": "chardonnay",
                "wines_count": 541509
               }
              ],
              "name": "United States",
              "native_name": "United States",
              "regions_count": 357,
              "seo_name": "united-states",
              "users_count": 10104977,
              "wineries_count": 26264,
              "wines_count": 230446
             },
             "id": 25,
             "name": "Napa Valley",
             "name_en": "",
             "seo_name": "napa-valley"
            },
            "seo_name": "winston-hill",
            "statistics": {
             "labels_count": 10307,
             "ratings_average": 4.7,
             "ratings_count": 1557,
             "status": "Normal",
             "vintages_count": 27
            },
            "style": {
             "acidity": 2,
             "acidity_description": "Medium",
             "background_image": {
              "location": "//images.vivino.com/backgrounds/styles/Rs1kBMYfQ0693K_iRThxOw.jpg",
              "variations": {
               "small": "//images.vivino.com/backgrounds/styles/thumbs/Rs1kBMYfQ0693K_iRThxOw_932x810.jpg"
              }
             },
             "blurb": null,
             "body": 5,
             "body_description": "Very full-bodied",
             "country": {
              "code": "us",
              "currency": {
               "code": "USD",
               "name": "US Dollars",
               "prefix": "$",
               "suffix": null
              },
              "most_used_grapes": [
               {
                "has_detailed_info": true,
                "id": 2,
                "name": "Cabernet Sauvignon",
                "seo_name": "cabernet-sauvignon",
                "wines_count": 725925
               },
               {
                "has_detailed_info": true,
                "id": 14,
                "name": "Pinot Noir",
                "seo_name": "pinot-noir",
                "wines_count": 513244
               },
               {
                "has_detailed_info": true,
                "id": 5,
                "name": "Chardonnay",
                "seo_name": "chardonnay",
                "wines_count": 541509
               }
              ],
              "name": "United States",
              "native_name": "United States",
              "regions_count": 357,
              "seo_name": "united-states",
              "users_count": 10104977,
              "wineries_count": 26264,
              "wines_count": 230446
             },
             "description": null,
             "food": [
              {
               "background_image": {
                "location": "//images.vivino.com/backgrounds/foods/4_beef.png",
                "variations": {
                 "small": "//images.vivino.com/backgrounds/foods/thumbs/4_beef_932x810.png"
                }
               },
               "id": 4,
               "name": "Beef",
               "seo_name": "beef"
              },
              {
               "background_image": {
                "location": "//images.vivino.com/backgrounds/foods/8_lamb.png",
                "variations": {
                 "small": "//images.vivino.com/backgrounds/foods/thumbs/8_lamb_932x810.png"
                }
               },
               "id": 8,
               "name": "Lamb",
               "seo_name": "lamb"
              },
              {
               "background_image": {
                "location": "//images.vivino.com/backgrounds/foods/11_venison.png",
                "variations": {
                 "small": "//images.vivino.com/backgrounds/foods/thumbs/11_venison_932x810.png"
                }
               },
               "id": 11,
               "name": "Game (deer, venison)",
               "seo_name": "game"
              },
              {
               "background_image": {
                "location": "//images.vivino.com/backgrounds/foods/17_hardcheese.png",
                "variations": {
                 "small": "//images.vivino.com/backgrounds/foods/thumbs/17_hardcheese_932x810.png"
                }
               },
               "id": 17,
               "name": "Mature and hard cheese",
               "seo_name": null
              },
              {
               "background_image": {
                "location": "//images.vivino.com/backgrounds/foods/20_chicken.png",
                "variations": {
                 "small": "//images.vivino.com/backgrounds/foods/thumbs/20_chicken_932x810.png"
                }
               },
               "id": 20,
               "name": "Poultry",
               "seo_name": "poultry"
              }
             ],
             "grapes": [
              {
               "has_detailed_info": true,
               "id": 2,
               "name": "Cabernet Sauvignon",
               "seo_name": "cabernet-sauvignon",
               "wines_count": 725925
              }
             ],
             "id": 289,
             "image": null,
             "interesting_facts": null,
             "name": "Napa Valley Cabernet Sauvignon",
             "region": {
              "background_image": {
               "location": "//images.vivino.com/regions/backgrounds/cP8NlYVPSUStyROqZeBzgA.jpg",
               "variations": {
                "large": "//thumbs.vivino.com/region_backgrounds/cP8NlYVPSUStyROqZeBzgA_1280x760.jpg",
                "medium": "//thumbs.vivino.com/region_backgrounds/cP8NlYVPSUStyROqZeBzgA_600x356.jpg"
               }
              },
              "class": {
               "typecast_map": {
                "background_image": {},
                "class": {}
               }
              },
              "country": {
               "code": "us",
               "currency": {
                "code": "USD",
                "name": "US Dollars",
                "prefix": "$",
                "suffix": null
               },
               "most_used_grapes": [
                {
                 "has_detailed_info": true,
                 "id": 2,
                 "name": "Cabernet Sauvignon",
                 "seo_name": "cabernet-sauvignon",
                 "wines_count": 725925
                },
                {
                 "has_detailed_info": true,
                 "id": 14,
                 "name": "Pinot Noir",
                 "seo_name": "pinot-noir",
                 "wines_count": 513244
                },
                {
                 "has_detailed_info": true,
                 "id": 5,
                 "name": "Chardonnay",
                 "seo_name": "chardonnay",
                 "wines_count": 541509
                }
               ],
               "name": "United States",
               "native_name": "United States",
               "regions_count": 357,
               "seo_name": "united-states",
               "users_count": 10104977,
               "wineries_count": 26264,
               "wines_count": 230446
              },
              "id": 25,
              "name": "Napa Valley",
              "name_en": "",
              "seo_name": "napa-valley"
             },
             "regional_name": "Napa Valley",
             "seo_name": "napa-valley-cabernet-sauvignon",
             "varietal_name": "Cabernet Sauvignon",
             "wine_type_id": 1
            },
            "taste": {
             "flavor": [
              {
               "group": "oak",
               "stats": {
                "count": 88,
                "score": 10633
               }
              },
              {
               "group": "black_fruit",
               "stats": {
                "count": 72,
                "score": 9006
               }
              },
              {
               "group": "earth",
               "stats": {
                "count": 56,
                "score": 5740
               }
              },
              {
               "group": "non_oak",
               "stats": {
                "count": 36,
                "score": 785
               }
              },
              {
               "group": "red_fruit",
               "stats": {
                "count": 31,
                "score": 2562
               }
              },
              {
               "group": "spices",
               "stats": {
                "count": 29,
                "score": 2060
               }
              },
              {
               "group": "microbio",
               "stats": {
                "count": 12,
                "score": 782
               }
              },
              {
               "group": "floral",
               "stats": {
                "count": 5,
                "score": 500
               }
              },
              {
               "group": "dried_fruit",
               "stats": {
                "count": 5,
                "score": 332
               }
              },
              {
               "group": "vegetal",
               "stats": {
                "count": 1,
                "score": 100
               }
              },
              {
               "group": "citrus_fruit",
               "stats": {
                "count": 1,
                "score": 100
               }
              }
             ],
             "structure": {
              "acidity": 3.328933,
              "calculated_structure_count": 144,
              "fizziness": null,
              "intensity": 4.6915345,
              "sweetness": 1.6233003,
              "tannin": 3.3106847,
              "user_structure_count": 70
             }
            },
            "type_id": 1,
            "vintage_type": 0,
            "winery": {
             "id": 1482,
             "name": "Frank Family",
             "seo_name": "frank-family",
             "status": 0
            }
           },
           "year": 2015
          }
         },
         {
          "price": {
           "amount": 298.95,
           "bottle_type": {
            "id": 1,
            "name": "Bottle (0.75l)",
            "short_name": "bottle",
            "short_name_plural": "bottles",
            "volume_ml": 750
           },
           "bottle_type_id": 1,
           "currency": {
            "code": "USD",
            "name": "US Dollars",
            "prefix": "$",
            "suffix": null
           },
           "discount_percent": null,
           "discounted_from": null,
           "id": 23898351,
           "sku": "",
           "type": "vc",
           "url": "https://sommcellarswine.com/products/2017-jean-louis-chave-hermitage",
           "visibility": 1
          },
          "prices": [
           {
            "amount": 298.95,
            "bottle_type": {
             "id": 1,
             "name": "Bottle (0.75l)",
             "short_name": "bottle",
             "short_name_plural": "bottles",
             "volume_ml": 750
            },
            "bottle_type_id": 1,
            "currency": {
             "code": "USD",
             "name": "US Dollars",
             "prefix": "$",
             "suffix": null
            },
            "discount_percent": null,
            "discounted_from": null,
            "id": 23898351,
            "sku": "",
            "type": "vc",
            "url": "https://sommcellarswine.com/products/2017-jean-louis-chave-hermitage",
            "visibility": 1
           }
          ],
          "vintage": {
           "grapes": null,
           "has_valid_ratings": true,
           "id": 150423956,
           "image": {
            "location": "//images.vivino.com/thumbs/aspf1zoiTceU5RI9OIY8ew_pl_480x640.png",
            "variations": {
             "bottle_large": "//images.vivino.com/thumbs/aspf1zoiTceU5RI9OIY8ew_pb_x960.png",
             "bottle_medium": "//images.vivino.com/thumbs/aspf1zoiTceU5RI9OIY8ew_pb_x600.png",
             "bottle_medium_square": "//images.vivino.com/thumbs/aspf1zoiTceU5RI9OIY8ew_pb_600x600.png",
             "bottle_small": "//images.vivino.com/thumbs/aspf1zoiTceU5RI9OIY8ew_pb_x300.png",
             "bottle_small_square": "//images.vivino.com/thumbs/aspf1zoiTceU5RI9OIY8ew_pb_300x300.png",
             "label": "//images.vivino.com/thumbs/aspf1zoiTceU5RI9OIY8ew_pl_480x640.png",
             "label_large": "//images.vivino.com/thumbs/aspf1zoiTceU5RI9OIY8ew_pl_375x500.png",
             "label_medium": "//images.vivino.com/thumbs/aspf1zoiTceU5RI9OIY8ew_pl_150x200.png",
             "label_medium_square": "//images.vivino.com/thumbs/aspf1zoiTceU5RI9OIY8ew_pl_150x150.png",
             "label_small_square": "//images.vivino.com/thumbs/aspf1zoiTceU5RI9OIY8ew_pl_80x80.png",
             "large": "//images.vivino.com/thumbs/aspf1zoiTceU5RI9OIY8ew_pl_375x500.png",
             "medium": "//images.vivino.com/thumbs/aspf1zoiTceU5RI9OIY8ew_pl_150x200.png",
             "medium_square": "//images.vivino.com/thumbs/aspf1zoiTceU5RI9OIY8ew_pl_150x150.png",
             "small_square": "//images.vivino.com/thumbs/aspf1zoiTceU5RI9OIY8ew_pl_80x80.png"
            }
           },
           "name": "Domaine Jean-Louis Chave L'Hermitage 2017",
           "seo_name": "domaine-jean-louis-chave-l-hermitage-2017",
           "statistics": {
            "labels_count": 331,
            "ratings_average": 4.8,
            "ratings_count": 42,
            "status": "Normal"
           },
           "wine": {
            "has_valid_ratings": true,
            "id": 1098851,
            "is_natural": false,
            "name": "L'Hermitage",
            "region": {
             "background_image": null,
             "class": {
              "typecast_map": {
               "background_image": {},
               "class": {}
              }
             },
             "country": {
              "code": "fr",
              "currency": {
               "code": "EUR",
               "name": "Euros",
               "prefix": "€",
               "suffix": null
              },
              "most_used_grapes": [
               {
                "has_detailed_info": true,
                "id": 14,
                "name": "Pinot Noir",
                "seo_name": "pinot-noir",
                "wines_count": 513244
               },
               {
                "has_detailed_info": true,
                "id": 10,
                "name": "Merlot",
                "seo_name": "merlot",
                "wines_count": 510808
               },
               {
                "has_detailed_info": true,
                "id": 5,
                "name": "Chardonnay",
                "seo_name": "chardonnay",
                "wines_count": 541509
               }
              ],
              "name": "France",
              "native_name": "France",
              "regions_count": 1286,
              "seo_name": "france",
              "users_count": 4353758,
              "wineries_count": 65782,
              "wines_count": 508606
             },
             "id": 535,
             "name": "Hermitage",
             "name_en": "Ermitage",
             "seo_name": "hermitage"
            },
            "seo_name": "l-hermitage",
            "statistics": {
             "labels_count": 30734,
             "ratings_average": 4.5,
             "ratings_count": 6575,
             "status": "Normal",
             "vintages_count": 111
            },
            "style": {
             "acidity": 3,
             "acidity_description": "High",
             "background_image": null,
             "blurb": null,
             "body": 5,
             "body_description": "Very full-bodied",
             "country": {
              "code": "fr",
              "currency": {
               "code": "EUR",
               "name": "Euros",
               "prefix": "€",
               "suffix": null
              },
              "most_used_grapes": [
               {
                "has_detailed_info": true,
                "id": 14,
                "name": "Pinot Noir",
                "seo_name": "pinot-noir",
                "wines_count": 513244
               },
               {
                "has_detailed_info": true,
                "id": 10,
                "name": "Merlot",
                "seo_name": "merlot",
                "wines_count": 510808
               },
               {
                "has_detailed_info": true,
                "id": 5,
                "name": "Chardonnay",
                "seo_name": "chardonnay",
                "wines_count": 541509
               }
              ],
              "name": "France",
              "native_name": "France",
              "regions_count": 1286,
              "seo_name": "france",
              "users_count": 4353758,
              "wineries_count": 65782,
              "wines_count": 508606
             },
             "description": null,
             "food": [
              {
               "background_image": {
                "location": "//images.vivino.com/backgrounds/foods/4_beef.png",
                "variations": {
                 "small": "//images.vivino.com/backgrounds/foods/thumbs/4_beef_932x810.png"
                }
               },
               "id": 4,
               "name": "Beef",
               "seo_name": "beef"
              },
              {
               "background_image": {
                "location": "//images.vivino.com/backgrounds/foods/8_lamb.png",
                "variations": {
                 "small": "//images.vivino.com/backgrounds/foods/thumbs/8_lamb_932x810.png"
                }
               },
               "id": 8,
               "name": "Lamb",
               "seo_name": "lamb"
              },
              {
               "background_image": {
                "location": "//images.vivino.com/backgrounds/foods/11_venison.png",
                "variations": {
                 "small": "//images.vivino.com/backgrounds/foods/thumbs/11_venison_932x810.png"
                }
               },
               "id": 11,
               "name": "Game (deer, venison)",
               "seo_name": "game"
              },
              {
               "background_image": {
                "location": "//images.vivino.com/backgrounds/foods/20_chicken.png",
                "variations": {
                 "small": "//images.vivino.com/backgrounds/foods/thumbs/20_chicken_932x810.png"
                }
               },
               "id": 20,
               "name": "Poultry",
               "seo_name": "poultry"
              }
             ],
             "grapes": [
              {
               "has_detailed_info": true,
               "id": 1,
               "name": "Shiraz/Syrah",
               "seo_name": "shiraz-syrah",
               "wines_count": 494130
              }
             ],
             "id": 298,
             "image": null,
             "interesting_facts": null,
             "name": "Northern Rhône Hermitage",
             "region": {
              "background_image": null,
              "class": {
               "typecast_map": {
                "background_image": {},
                "class": {}
               }
              },
              "country": {
               "code": "fr",
               "currency": {
                "code": "EUR",
                "name": "Euros",
                "prefix": "€",
                "suffix": null
               },
               "most_used_grapes": [
                {
                 "has_detailed_info": true,
                 "id": 14,
                 "name": "Pinot Noir",
                 "seo_name": "pinot-noir",
                 "wines_count": 513244
                },
                {
                 "has_detailed_info": true,
                 "id": 10,
                 "name": "Merlot",
                 "seo_name": "merlot",
                 "wines_count": 510808
                },
                {
                 "has_detailed_info": true,
                 "id": 5,
                 "name": "Chardonnay",
                 "seo_name": "chardonnay",
                 "wines_count": 541509
                }
               ],
               "name": "France",
               "native_name": "France",
               "regions_count": 1286,
               "seo_name": "france",
               "users_count": 4353758,
               "wineries_count": 65782,
               "wines_count": 508606
              },
              "id": 535,
              "name": "Hermitage",
              "name_en": "Ermitage",
              "seo_name": "hermitage"
             },
             "regional_name": "Northern Rhône",
             "seo_name": "northern-rhone-hermitage",
             "varietal_name": "Hermitage",
             "wine_type_id": 1
            },
            "taste": {
             "flavor": [
              {
               "group": "earth",
               "stats": {
                "count": 409,
                "score": 51570
               }
              },
              {
               "group": "oak",
               "stats": {
                "count": 350,
                "score": 25115
               }
              },
              {
               "group": "black_fruit",
               "stats": {
                "count": 270,
                "score": 36190
               }
              },
              {
               "group": "spices",
               "stats": {
                "count": 224,
                "score": 23464
               }
              },
              {
               "group": "non_oak",
               "stats": {
                "count": 197,
                "score": 3413
               }
              },
              {
               "group": "red_fruit",
               "stats": {
                "count": 145,
                "score": 13838
               }
              },
              {
               "group": "microbio",
               "stats": {
                "count": 80,
                "score": 5392
               }
              },
              {
               "group": "floral",
               "stats": {
                "count": 57,
                "score": 5400
               }
              },
              {
               "group": "dried_fruit",
               "stats": {
                "count": 34,
                "score": 3045
               }
              },
              {
               "group": "vegetal",
               "stats": {
                "count": 23,
                "score": 1073
               }
              },
              {
               "group": "tree_fruit",
               "stats": {
                "count": 19,
                "score": 2100
               }
              },
              {
               "group": "citrus_fruit",
               "stats": {
                "count": 13,
                "score": 1300
               }
              },
              {
               "group": "tropical_fruit",
               "stats": {
                "count": 6,
                "score": 600
               }
              }
             ],
             "structure": {
              "acidity": 3.525235,
              "calculated_structure_count": 572,
              "fizziness": null,
              "intensity": 4.513905,
              "sweetness": 1.6369054,
              "tannin": 4.0910954,
              "user_structure_count": 53
             }
            },
            "type_id": 1,
            "vintage_type": 0,
            "winery": {
             "id": 1382,
             "name": "Domaine Jean-Louis Chave",
             "seo_name": "domaine-jean-louis-chave",
             "status": 0
            }
           },
           "year": 2017
          }
         },
         {
          "price": {
           "amount": 269.99,
           "bottle_type": {
            "id": 1,
            "name": "Bottle (0.75l)",
            "short_name": "bottle",
            "short_name_plural": "bottles",
            "volume_ml": 750
           },
           "bottle_type_id": 1,
           "currency": {
            "code": "USD",
            "name": "US Dollars",
            "prefix": "$",
            "suffix": null
           },
           "discount_percent": null,
           "discounted_from": null,
           "id": 21563209,
           "sku": "RNDC23062CS",
           "type": "vc",
           "url": "http://vivino.cpdwineliquor.com/Product?PID=5018",
           "visibility": 1
          },
          "prices": [
           {
            "amount": 269.99,
            "bottle_type": {
             "id": 1,
             "name": "Bottle (0.75l)",
             "short_name": "bottle",
             "short_name_plural": "bottles",
             "volume_ml": 750
            },
            "bottle_type_id": 1,
            "currency": {
             "code": "USD",
             "name": "US Dollars",
             "prefix": "$",
             "suffix": null
            },
            "discount_percent": null,
            "discounted_from": null,
            "id": 21563209,
            "sku": "RNDC23062CS",
            "type": "vc",
            "url": "http://vivino.cpdwineliquor.com/Product?PID=5018",
            "visibility": 1
           }
          ],
          "vintage": {
           "grapes": null,
           "has_valid_ratings": true,
           "id": 4299904,
           "image": {
            "location": "//images.vivino.com/thumbs/82C3h2rSRD2Q2PmLDc_4Gg_pl_480x640.png",
            "variations": {
             "bottle_large": "//images.vivino.com/thumbs/82C3h2rSRD2Q2PmLDc_4Gg_pb_x960.png",
             "bottle_medium": "//images.vivino.com/thumbs/82C3h2rSRD2Q2PmLDc_4Gg_pb_x600.png",
             "bottle_medium_square": "//images.vivino.com/thumbs/82C3h2rSRD2Q2PmLDc_4Gg_pb_600x600.png",
             "bottle_small": "//images.vivino.com/thumbs/82C3h2rSRD2Q2PmLDc_4Gg_pb_x300.png",
             "bottle_small_square": "//images.vivino.com/thumbs/82C3h2rSRD2Q2PmLDc_4Gg_pb_300x300.png",
             "label": "//images.vivino.com/thumbs/82C3h2rSRD2Q2PmLDc_4Gg_pl_480x640.png",
             "label_large": "//images.vivino.com/thumbs/82C3h2rSRD2Q2PmLDc_4Gg_pl_375x500.png",
             "label_medium": "//images.vivino.com/thumbs/82C3h2rSRD2Q2PmLDc_4Gg_pl_150x200.png",
             "label_medium_square": "//images.vivino.com/thumbs/82C3h2rSRD2Q2PmLDc_4Gg_pl_150x150.png",
             "label_small_square": "//images.vivino.com/thumbs/82C3h2rSRD2Q2PmLDc_4Gg_pl_80x80.png",
             "large": "//images.vivino.com/thumbs/82C3h2rSRD2Q2PmLDc_4Gg_pl_375x500.png",
             "medium": "//images.vivino.com/thumbs/82C3h2rSRD2Q2PmLDc_4Gg_pl_150x200.png",
             "medium_square": "//images.vivino.com/thumbs/82C3h2rSRD2Q2PmLDc_4Gg_pl_150x150.png",
             "small_square": "//images.vivino.com/thumbs/82C3h2rSRD2Q2PmLDc_4Gg_pl_80x80.png"
            }
           },
           "name": "ZD Wines Reserve Cabernet Sauvignon 2014",
           "seo_name": "zd-wines-reserve-cabernet-sauvignon-2014",
           "statistics": {
            "labels_count": 150,
            "ratings_average": 4.8,
            "ratings_count": 31,
            "status": "Normal"
           },
           "wine": {
            "has_valid_ratings": true,
            "id": 1328244,
            "is_natural": false,
            "name": "Reserve Cabernet Sauvignon",
            "region": {
             "background_image": {
              "location": "//images.vivino.com/regions/backgrounds/cP8NlYVPSUStyROqZeBzgA.jpg",
              "variations": {
               "large": "//thumbs.vivino.com/region_backgrounds/cP8NlYVPSUStyROqZeBzgA_1280x760.jpg",
               "medium": "//thumbs.vivino.com/region_backgrounds/cP8NlYVPSUStyROqZeBzgA_600x356.jpg"
              }
             },
             "class": {
              "typecast_map": {
               "background_image": {},
               "class": {}
              }
             },
             "country": {
              "code": "us",
              "currency": {
               "code": "USD",
               "name": "US Dollars",
               "prefix": "$",
               "suffix": null
              },
              "most_used_grapes": [
               {
                "has_detailed_info": true,
                "id": 2,
                "name": "Cabernet Sauvignon",
                "seo_name": "cabernet-sauvignon",
                "wines_count": 725925
               },
               {
                "has_detailed_info": true,
                "id": 14,
                "name": "Pinot Noir",
                "seo_name": "pinot-noir",
                "wines_count": 513244
               },
               {
                "has_detailed_info": true,
                "id": 5,
                "name": "Chardonnay",
                "seo_name": "chardonnay",
                "wines_count": 541509
               }
              ],
              "name": "United States",
              "native_name": "United States",
              "regions_count": 357,
              "seo_name": "united-states",
              "users_count": 10104977,
              "wineries_count": 26264,
              "wines_count": 230446
             },
             "id": 25,
             "name": "Napa Valley",
             "name_en": "",
             "seo_name": "napa-valley"
            },
            "seo_name": "reserve-cabernet-sauvignon",
            "statistics": {
             "labels_count": 2774,
             "ratings_average": 4.4,
             "ratings_count": 539,
             "status": "Normal",
             "vintages_count": 38
            },
            "style": {
             "acidity": 2,
             "acidity_description": "Medium",
             "background_image": {
              "location": "//images.vivino.com/backgrounds/styles/Rs1kBMYfQ0693K_iRThxOw.jpg",
              "variations": {
               "small": "//images.vivino.com/backgrounds/styles/thumbs/Rs1kBMYfQ0693K_iRThxOw_932x810.jpg"
              }
             },
             "blurb": null,
             "body": 5,
             "body_description": "Very full-bodied",
             "country": {
              "code": "us",
              "currency": {
               "code": "USD",
               "name": "US Dollars",
               "prefix": "$",
               "suffix": null
              },
              "most_used_grapes": [
               {
                "has_detailed_info": true,
                "id": 2,
                "name": "Cabernet Sauvignon",
                "seo_name": "cabernet-sauvignon",
                "wines_count": 725925
               },
               {
                "has_detailed_info": true,
                "id": 14,
                "name": "Pinot Noir",
                "seo_name": "pinot-noir",
                "wines_count": 513244
               },
               {
                "has_detailed_info": true,
                "id": 5,
                "name": "Chardonnay",
                "seo_name": "chardonnay",
                "wines_count": 541509
               }
              ],
              "name": "United States",
              "native_name": "United States",
              "regions_count": 357,
              "seo_name": "united-states",
              "users_count": 10104977,
              "wineries_count": 26264,
              "wines_count": 230446
             },
             "description": null,
             "food": [
              {
               "background_image": {
                "location": "//images.vivino.com/backgrounds/foods/4_beef.png",
                "variations": {
                 "small": "//images.vivino.com/backgrounds/foods/thumbs/4_beef_932x810.png"
                }
               },
               "id": 4,
               "name": "Beef",
               "seo_name": "beef"
              },
              {
               "background_image": {
                "location": "//images.vivino.com/backgrounds/foods/8_lamb.png",
                "variations": {
                 "small": "//images.vivino.com/backgrounds/foods/thumbs/8_lamb_932x810.png"
                }
               },
               "id": 8,
               "name": "Lamb",
               "seo_name": "lamb"
              },
              {
               "background_image": {
                "location": "//images.vivino.com/backgrounds/foods/11_venison.png",
                "variations": {
                 "small": "//images.vivino.com/backgrounds/foods/thumbs/11_venison_932x810.png"
                }
               },
               "id": 11,
               "name": "Game (deer, venison)",
               "seo_name": "game"
              },
              {
               "background_image": {
                "location": "//images.vivino.com/backgrounds/foods/17_hardcheese.png",
                "variations": {
                 "small": "//images.vivino.com/backgrounds/foods/thumbs/17_hardcheese_932x810.png"
                }
               },
               "id": 17,
               "name": "Mature and hard cheese",
               "seo_name": null
              },
              {
               "background_image": {
                "location": "//images.vivino.com/backgrounds/foods/20_chicken.png",
                "variations": {
                 "small": "//images.vivino.com/backgrounds/foods/thumbs/20_chicken_932x810.png"
                }
               },
               "id": 20,
               "name": "Poultry",
               "seo_name": "poultry"
              }
             ],
             "grapes": [
              {
               "has_detailed_info": true,
               "id": 2,
               "name": "Cabernet Sauvignon",
               "seo_name": "cabernet-sauvignon",
               "wines_count": 725925
              }
             ],
             "id": 289,
             "image": null,
             "interesting_facts": null,
             "name": "Napa Valley Cabernet Sauvignon",
             "region": {
              "background_image": {
               "location": "//images.vivino.com/regions/backgrounds/cP8NlYVPSUStyROqZeBzgA.jpg",
               "variations": {
                "large": "//thumbs.vivino.com/region_backgrounds/cP8NlYVPSUStyROqZeBzgA_1280x760.jpg",
                "medium": "//thumbs.vivino.com/region_backgrounds/cP8NlYVPSUStyROqZeBzgA_600x356.jpg"
               }
              },
              "class": {
               "typecast_map": {
                "background_image": {},
                "class": {}
               }
              },
              "country": {
               "code": "us",
               "currency": {
                "code": "USD",
                "name": "US Dollars",
                "prefix": "$",
                "suffix": null
               },
               "most_used_grapes": [
                {
                 "has_detailed_info": true,
                 "id": 2,
                 "name": "Cabernet Sauvignon",
                 "seo_name": "cabernet-sauvignon",
                 "wines_count": 725925
                },
                {
                 "has_detailed_info": true,
                 "id": 14,
                 "name": "Pinot Noir",
                 "seo_name": "pinot-noir",
                 "wines_count": 513244
                },
                {
                 "has_detailed_info": true,
                 "id": 5,
                 "name": "Chardonnay",
                 "seo_name": "chardonnay",
                 "wines_count": 541509
                }
               ],
               "name": "United States",
               "native_name": "United States",
               "regions_count": 357,
               "seo_name": "united-states",
               "users_count": 10104977,
               "wineries_count": 26264,
               "wines_count": 230446
              },
              "id": 25,
              "name": "Napa Valley",
              "name_en": "",
              "seo_name": "napa-valley"
             },
             "regional_name": "Napa Valley",
             "seo_name": "napa-valley-cabernet-sauvignon",
             "varietal_name": "Cabernet Sauvignon",
             "wine_type_id": 1
            },
            "taste": {
             "flavor": [
              {
               "group": "oak",
               "stats": {
                "count": 29,
                "score": 3968
               }
              },
              {
               "group": "black_fruit",
               "stats": {
                "count": 22,
                "score": 2948
               }
              },
              {
               "group": "earth",
               "stats": {
                "count": 17,
                "score": 1197
               }
              },
              {
               "group": "non_oak",
               "stats": {
                "count": 17,
                "score": 278
               }
              },
              {
               "group": "red_fruit",
               "stats": {
                "count": 13,
                "score": 1152
               }
              },
              {
               "group": "spices",
               "stats": {
                "count": 11,
                "score": 466
               }
              },
              {
               "group": "vegetal",
               "stats": {
                "count": 3,
                "score": 300
               }
              },
              {
               "group": "dried_fruit",
               "stats": {
                "count": 2,
                "score": 191
               }
              },
              {
               "group": "tree_fruit",
               "stats": {
                "count": 1,
                "score": 100
               }
              },
              {
               "group": "tropical_fruit",
               "stats": {
                "count": 1,
                "score": 100
               }
              }
             ],
             "structure": {
              "acidity": 3.334727,
              "calculated_structure_count": 50,
              "fizziness": null,
              "intensity": 4.7760487,
              "sweetness": 1.5077696,
              "tannin": 2.9936607,
              "user_structure_count": 21
             }
            },
            "type_id": 1,
            "vintage_type": 0,
            "winery": {
             "id": 1589,
             "name": "ZD Wines",
             "seo_name": "zd-wines",
             "status": 0
            }
           },
           "year": 2014
          }
         },
         {
          "price": {
           "amount": 299.99,
           "bottle_type": {
            "id": 1,
            "name": "Bottle (0.75l)",
            "short_name": "bottle",
            "short_name_plural": "bottles",
            "volume_ml": 750
           },
           "bottle_type_id": 1,
           "currency": {
            "code": "USD",
            "name": "US Dollars",
            "prefix": "$",
            "suffix": null
           },
           "discount_percent": null,
           "discounted_from": null,
           "id": 24078067,
           "sku": "2431659",
           "type": "vc",
           "url": "http://www.grandwinecellar.com/vsku2431659_TUA-RITA-REDIGAFFI-750ML-2018?utm_source=vivino&utm_medium=feed&utm_campaign=TUA%20RITA%20REDIGAFFI%202018",
           "visibility": 1
          },
          "prices": [
           {
            "amount": 299.99,
            "bottle_type": {
             "id": 1,
             "name": "Bottle (0.75l)",
             "short_name": "bottle",
             "short_name_plural": "bottles",
             "volume_ml": 750
            },
            "bottle_type_id": 1,
            "currency": {
             "code": "USD",
             "name": "US Dollars",
             "prefix": "$",
             "suffix": null
            },
            "discount_percent": null,
            "discounted_from": null,
            "id": 24078067,
            "sku": "2431659",
            "type": "vc",
            "url": "http://www.grandwinecellar.com/vsku2431659_TUA-RITA-REDIGAFFI-750ML-2018?utm_source=vivino&utm_medium=feed&utm_campaign=TUA%20RITA%20REDIGAFFI%202018",
            "visibility": 1
           }
          ],
          "vintage": {
           "grapes": null,
           "has_valid_ratings": true,
           "id": 156150813,
           "image": {
            "location": "//images.vivino.com/thumbs/FFZUPNsuR7Og6_Ou2Bb1MQ_pl_480x640.png",
            "variations": {
             "bottle_large": "//images.vivino.com/thumbs/FFZUPNsuR7Og6_Ou2Bb1MQ_pb_x960.png",
             "bottle_medium": "//images.vivino.com/thumbs/FFZUPNsuR7Og6_Ou2Bb1MQ_pb_x600.png",
             "bottle_medium_square": "//images.vivino.com/thumbs/FFZUPNsuR7Og6_Ou2Bb1MQ_pb_600x600.png",
             "bottle_small": "//images.vivino.com/thumbs/FFZUPNsuR7Og6_Ou2Bb1MQ_pb_x300.png",
             "bottle_small_square": "//images.vivino.com/thumbs/FFZUPNsuR7Og6_Ou2Bb1MQ_pb_300x300.png",
             "label": "//images.vivino.com/thumbs/FFZUPNsuR7Og6_Ou2Bb1MQ_pl_480x640.png",
             "label_large": "//images.vivino.com/thumbs/FFZUPNsuR7Og6_Ou2Bb1MQ_pl_375x500.png",
             "label_medium": "//images.vivino.com/thumbs/FFZUPNsuR7Og6_Ou2Bb1MQ_pl_150x200.png",
             "label_medium_square": "//images.vivino.com/thumbs/FFZUPNsuR7Og6_Ou2Bb1MQ_pl_150x150.png",
             "label_small_square": "//images.vivino.com/thumbs/FFZUPNsuR7Og6_Ou2Bb1MQ_pl_80x80.png",
             "large": "//images.vivino.com/thumbs/FFZUPNsuR7Og6_Ou2Bb1MQ_pl_375x500.png",
             "medium": "//images.vivino.com/thumbs/FFZUPNsuR7Og6_Ou2Bb1MQ_pl_150x200.png",
             "medium_square": "//images.vivino.com/thumbs/FFZUPNsuR7Og6_Ou2Bb1MQ_pl_150x150.png",
             "small_square": "//images.vivino.com/thumbs/FFZUPNsuR7Og6_Ou2Bb1MQ_pl_80x80.png"
            }
           },
           "name": "Tua Rita Redigaffi Toscana 2018",
           "seo_name": "tua-rita-redigaffi-toscana-2018",
           "statistics": {
            "labels_count": 306,
            "ratings_average": 4.8,
            "ratings_count": 30,
            "status": "Normal"
           },
           "wine": {
            "has_valid_ratings": true,
            "id": 75816,
            "is_natural": false,
            "name": "Redigaffi Toscana",
            "region": {
             "background_image": {
              "location": "//images.vivino.com/regions/backgrounds/QV6V0jC2TDaRmClhy9wNfw.jpg",
              "variations": {
               "large": "//thumbs.vivino.com/region_backgrounds/QV6V0jC2TDaRmClhy9wNfw_1280x760.jpg",
               "medium": "//thumbs.vivino.com/region_backgrounds/QV6V0jC2TDaRmClhy9wNfw_600x356.jpg"
              }
             },
             "class": {
              "typecast_map": {
               "background_image": {},
               "class": {}
              }
             },
             "country": {
              "code": "it",
              "currency": {
               "code": "EUR",
               "name": "Euros",
               "prefix": "€",
               "suffix": null
              },
              "most_used_grapes": [
               {
                "has_detailed_info": true,
                "id": 16,
                "name": "Sangiovese",
                "seo_name": "sangiovese",
                "wines_count": 113644
               },
               {
                "has_detailed_info": true,
                "id": 10,
                "name": "Merlot",
                "seo_name": "merlot",
                "wines_count": 510808
               },
               {
                "has_detailed_info": true,
                "id": 5,
                "name": "Chardonnay",
                "seo_name": "chardonnay",
                "wines_count": 541509
               }
              ],
              "name": "Italy",
              "native_name": "Italia",
              "regions_count": 554,
              "seo_name": "italy",
              "users_count": 3569064,
              "wineries_count": 39907,
              "wines_count": 333926
             },
             "id": 394,
             "name": "Toscana",
             "name_en": "Tuscany",
             "seo_name": "tuscany"
            },
            "seo_name": "redigaffi-toscana",
            "statistics": {
             "labels_count": 20813,
             "ratings_average": 4.5,
             "ratings_count": 3692,
             "status": "Normal",
             "vintages_count": 52
            },
            "style": {
             "acidity": 2,
             "acidity_description": "Medium",
             "background_image": {
              "location": "//images.vivino.com/backgrounds/styles/BXXr-O0mSW6FPSTzja6nuQ.jpg",
              "variations": {
               "small": "//images.vivino.com/backgrounds/styles/thumbs/BXXr-O0mSW6FPSTzja6nuQ_932x810.jpg"
              }
             },
             "blurb": null,
             "body": 3,
             "body_description": "Medium-bodied",
             "country": {
              "code": "it",
              "currency": {
               "code": "EUR",
               "name": "Euros",
               "prefix": "€",
               "suffix": null
              },
              "most_used_grapes": [
               {
                "has_detailed_info": true,
                "id": 16,
                "name": "Sangiovese",
                "seo_name": "sangiovese",
                "wines_count": 113644
               },
               {
                "has_detailed_info": true,
                "id": 10,
                "name": "Merlot",
                "seo_name": "merlot",
                "wines_count": 510808
               },
               {
                "has_detailed_info": true,
                "id": 5,
                "name": "Chardonnay",
                "seo_name": "chardonnay",
                "wines_count": 541509
               }
              ],
              "name": "Italy",
              "native_name": "Italia",
              "regions_count": 554,
              "seo_name": "italy",
              "users_count": 3569064,
              "wineries_count": 39907,
              "wines_count": 333926
             },
             "description": null,
             "food": [
              {
               "background_image": {
                "location": "//images.vivino.com/backgrounds/foods/4_beef.png",
                "variations": {
                 "small": "//images.vivino.com/backgrounds/foods/thumbs/4_beef_932x810.png"
                }
               },
               "id": 4,
               "name": "Beef",
               "seo_name": "beef"
              },
              {
               "background_image": {
                "location": "//images.vivino.com/backgrounds/foods/8_lamb.png",
                "variations": {
                 "small": "//images.vivino.com/backgrounds/foods/thumbs/8_lamb_932x810.png"
                }
               },
               "id": 8,
               "name": "Lamb",
               "seo_name": "lamb"
              },
              {
               "background_image": {
                "location": "//images.vivino.com/backgrounds/foods/9_veal.png",
                "variations": {
                 "small": "//images.vivino.com/backgrounds/foods/thumbs/9_veal_932x810.png"
                }
               },
               "id": 9,
               "name": "Veal",
               "seo_name": "veal"
              },
              {
               "background_image": {
                "location": "//images.vivino.com/backgrounds/foods/20_chicken.png",
                "variations": {
                 "small": "//images.vivino.com/backgrounds/foods/thumbs/20_chicken_932x810.png"
                }
               },
               "id": 20,
               "name": "Poultry",
               "seo_name": "poultry"
              },
              {
               "background_image": {
                "location": "//images.vivino.com/backgrounds/foods/41_curedmeat.png",
                "variations": {
                 "small": "//images.vivino.com/backgrounds/foods/thumbs/41_curedmeat_932x810.png"
                }
               },
               "id": 41,
               "name": "Cured Meat",
               "seo_name": null
              }
             ],
             "grapes": [
              {
               "has_detailed_info": true,
               "id": 2,
               "name": "Cabernet Sauvignon",
               "seo_name": "cabernet-sauvignon",
               "wines_count": 725925
              },
              {
               "has_detailed_info": true,
               "id": 10,
               "name": "Merlot",
               "seo_name": "merlot",
               "wines_count": 510808
              },
              {
               "has_detailed_info": true,
               "id": 16,
               "name": "Sangiovese",
               "seo_name": "sangiovese",
               "wines_count": 113644
              },
              {
               "has_detailed_info": false,
               "id": 64,
               "name": "Canaiolo Nero",
               "seo_name": "canaiolo-nero",
               "wines_count": 4538
              }
             ],
             "id": 292,
             "image": null,
             "interesting_facts": null,
             "name": "Tuscan Red",
             "region": {
              "background_image": {
               "location": "//images.vivino.com/regions/backgrounds/QV6V0jC2TDaRmClhy9wNfw.jpg",
               "variations": {
                "large": "//thumbs.vivino.com/region_backgrounds/QV6V0jC2TDaRmClhy9wNfw_1280x760.jpg",
                "medium": "//thumbs.vivino.com/region_backgrounds/QV6V0jC2TDaRmClhy9wNfw_600x356.jpg"
               }
              },
              "class": {
               "typecast_map": {
                "background_image": {},
                "class": {}
               }
              },
              "country": {
               "code": "it",
               "currency": {
                "code": "EUR",
                "name": "Euros",
                "prefix": "€",
                "suffix": null
               },
               "most_used_grapes": [
                {
                 "has_detailed_info": true,
                 "id": 16,
                 "name": "Sangiovese",
                 "seo_name": "sangiovese",
                 "wines_count": 113644
                },
                {
                 "has_detailed_info": true,
                 "id": 10,
                 "name": "Merlot",
                 "seo_name": "merlot",
                 "wines_count": 510808
                },
                {
                 "has_detailed_info": true,
                 "id": 5,
                 "name": "Chardonnay",
                 "seo_name": "chardonnay",
                 "wines_count": 541509
                }
               ],
               "name": "Italy",
               "native_name": "Italia",
               "regions_count": 554,
               "seo_name": "italy",
               "users_count": 3569064,
               "wineries_count": 39907,
               "wines_count": 333926
              },
              "id": 394,
              "name": "Toscana",
              "name_en": "Tuscany",
              "seo_name": "tuscany"
             },
             "regional_name": "Tuscan",
             "seo_name": "tuscan-red",
             "varietal_name": "Red",
             "wine_type_id": 1
            },
            "taste": {
             "flavor": [
              {
               "group": "oak",
               "stats": {
                "count": 182,
                "score": 26093
               }
              },
              {
               "group": "black_fruit",
               "stats": {
                "count": 137,
                "score": 20672
               }
              },
              {
               "group": "earth",
               "stats": {
                "count": 125,
                "score": 11743
               }
              },
              {
               "group": "non_oak",
               "stats": {
                "count": 118,
                "score": 3178
               }
              },
              {
               "group": "spices",
               "stats": {
                "count": 93,
                "score": 8619
               }
              },
              {
               "group": "red_fruit",
               "stats": {
                "count": 71,
                "score": 5845
               }
              },
              {
               "group": "microbio",
               "stats": {
                "count": 25,
                "score": 1560
               }
              },
              {
               "group": "floral",
               "stats": {
                "count": 24,
                "score": 2250
               }
              },
              {
               "group": "dried_fruit",
               "stats": {
                "count": 24,
                "score": 1947
               }
              },
              {
               "group": "vegetal",
               "stats": {
                "count": 7,
                "score": 393
               }
              },
              {
               "group": "citrus_fruit",
               "stats": {
                "count": 7,
                "score": 700
               }
              },
              {
               "group": "tropical_fruit",
               "stats": {
                "count": 1,
                "score": 100
               }
              },
              {
               "group": "tree_fruit",
               "stats": {
                "count": 1,
                "score": 100
               }
              }
             ],
             "structure": {
              "acidity": 3.0145197,
              "calculated_structure_count": 230,
              "fizziness": null,
              "intensity": 3.4580848,
              "sweetness": 1.9861277,
              "tannin": 2.971346,
              "user_structure_count": 239
             }
            },
            "type_id": 1,
            "vintage_type": 0,
            "winery": {
             "id": 11007,
             "name": "Tua Rita",
             "seo_name": "tua-rita",
             "status": 0
            }
           },
           "year": 2018
          }
         },
         {
          "price": {
           "amount": 299.99,
           "bottle_type": {
            "id": 4,
            "name": "Magnum Bottle (1.5 l)",
            "short_name": "magnum",
            "short_name_plural": "magnums",
            "volume_ml": 1500
           },
           "bottle_type_id": 4,
           "currency": {
            "code": "USD",
            "name": "US Dollars",
            "prefix": "$",
            "suffix": null
           },
           "discount_percent": null,
           "discounted_from": null,
           "id": 23154560,
           "sku": "4875079581778",
           "type": "vc",
           "url": "https://www.brix26.com/products/saxum-2018-broken-stones-paso-robles-magnum-1-5l?variant=33107262079058",
           "visibility": 1
          },
          "prices": [
           {
            "amount": 299.99,
            "bottle_type": {
             "id": 4,
             "name": "Magnum Bottle (1.5 l)",
             "short_name": "magnum",
             "short_name_plural": "magnums",
             "volume_ml": 1500
            },
            "bottle_type_id": 4,
            "currency": {
             "code": "USD",
             "name": "US Dollars",
             "prefix": "$",
             "suffix": null
            },
            "discount_percent": null,
            "discounted_from": null,
            "id": 23154560,
            "sku": "4875079581778",
            "type": "vc",
            "url": "https://www.brix26.com/products/saxum-2018-broken-stones-paso-robles-magnum-1-5l?variant=33107262079058",
            "visibility": 1
           }
          ],
          "vintage": {
           "grapes": null,
           "has_valid_ratings": true,
           "id": 156808121,
           "image": {
            "location": "//images.vivino.com/thumbs/wNq6CTO5TG-pTZdn-CRapw_pl_480x640.png",
            "variations": {
             "bottle_large": "//images.vivino.com/thumbs/wNq6CTO5TG-pTZdn-CRapw_pb_x960.png",
             "bottle_medium": "//images.vivino.com/thumbs/wNq6CTO5TG-pTZdn-CRapw_pb_x600.png",
             "bottle_medium_square": "//images.vivino.com/thumbs/wNq6CTO5TG-pTZdn-CRapw_pb_600x600.png",
             "bottle_small": "//images.vivino.com/thumbs/wNq6CTO5TG-pTZdn-CRapw_pb_x300.png",
             "bottle_small_square": "//images.vivino.com/thumbs/wNq6CTO5TG-pTZdn-CRapw_pb_300x300.png",
             "label": "//images.vivino.com/thumbs/wNq6CTO5TG-pTZdn-CRapw_pl_480x640.png",
             "label_large": "//images.vivino.com/thumbs/wNq6CTO5TG-pTZdn-CRapw_pl_375x500.png",
             "label_medium": "//images.vivino.com/thumbs/wNq6CTO5TG-pTZdn-CRapw_pl_150x200.png",
             "label_medium_square": "//images.vivino.com/thumbs/wNq6CTO5TG-pTZdn-CRapw_pl_150x150.png",
             "label_small_square": "//images.vivino.com/thumbs/wNq6CTO5TG-pTZdn-CRapw_pl_80x80.png",
             "large": "//images.vivino.com/thumbs/wNq6CTO5TG-pTZdn-CRapw_pl_375x500.png",
             "medium": "//images.vivino.com/thumbs/wNq6CTO5TG-pTZdn-CRapw_pl_150x200.png",
             "medium_square": "//images.vivino.com/thumbs/wNq6CTO5TG-pTZdn-CRapw_pl_150x150.png",
             "small_square": "//images.vivino.com/thumbs/wNq6CTO5TG-pTZdn-CRapw_pl_80x80.png"
            }
           },
           "name": "Saxum Broken Stones 2018",
           "seo_name": "us-saxum-broken-stones-2018",
           "statistics": {
            "labels_count": 203,
            "ratings_average": 4.8,
            "ratings_count": 28,
            "status": "Normal"
           },
           "wine": {
            "has_valid_ratings": true,
            "id": 1124678,
            "is_natural": false,
            "name": "Broken Stones",
            "region": {
             "background_image": {
              "location": "//images.vivino.com/regions/backgrounds/00faJ9plTa-fFEMDAsvmDQ.jpg",
              "variations": {
               "large": "//thumbs.vivino.com/region_backgrounds/00faJ9plTa-fFEMDAsvmDQ_1280x760.jpg",
               "medium": "//thumbs.vivino.com/region_backgrounds/00faJ9plTa-fFEMDAsvmDQ_600x356.jpg"
              }
             },
             "class": {
              "typecast_map": {
               "background_image": {},
               "class": {}
              }
             },
             "country": {
              "code": "us",
              "currency": {
               "code": "USD",
               "name": "US Dollars",
               "prefix": "$",
               "suffix": null
              },
              "most_used_grapes": [
               {
                "has_detailed_info": true,
                "id": 2,
                "name": "Cabernet Sauvignon",
                "seo_name": "cabernet-sauvignon",
                "wines_count": 725925
               },
               {
                "has_detailed_info": true,
                "id": 14,
                "name": "Pinot Noir",
                "seo_name": "pinot-noir",
                "wines_count": 513244
               },
               {
                "has_detailed_info": true,
                "id": 5,
                "name": "Chardonnay",
                "seo_name": "chardonnay",
                "wines_count": 541509
               }
              ],
              "name": "United States",
              "native_name": "United States",
              "regions_count": 357,
              "seo_name": "united-states",
              "users_count": 10104977,
              "wineries_count": 26264,
              "wines_count": 230446
             },
             "id": 684,
             "name": "Paso Robles",
             "name_en": "",
             "seo_name": "paso-robles"
            },
            "seo_name": "broken-stones",
            "statistics": {
             "labels_count": 6509,
             "ratings_average": 4.6,
             "ratings_count": 1206,
             "status": "Normal",
             "vintages_count": 33
            },
            "style": {
             "acidity": 3,
             "acidity_description": "High",
             "background_image": null,
             "blurb": null,
             "body": 4,
             "body_description": "Full-bodied",
             "country": {
              "code": "us",
              "currency": {
               "code": "USD",
               "name": "US Dollars",
               "prefix": "$",
               "suffix": null
              },
              "most_used_grapes": [
               {
                "has_detailed_info": true,
                "id": 2,
                "name": "Cabernet Sauvignon",
                "seo_name": "cabernet-sauvignon",
                "wines_count": 725925
               },
               {
                "has_detailed_info": true,
                "id": 14,
                "name": "Pinot Noir",
                "seo_name": "pinot-noir",
                "wines_count": 513244
               },
               {
                "has_detailed_info": true,
                "id": 5,
                "name": "Chardonnay",
                "seo_name": "chardonnay",
                "wines_count": 541509
               }
              ],
              "name": "United States",
              "native_name": "United States",
              "regions_count": 357,
              "seo_name": "united-states",
              "users_count": 10104977,
              "wineries_count": 26264,
              "wines_count": 230446
             },
             "description": null,
             "food": [
              {
               "background_image": {
                "location": "//images.vivino.com/backgrounds/foods/4_beef.png",
                "variations": {
                 "small": "//images.vivino.com/backgrounds/foods/thumbs/4_beef_932x810.png"
                }
               },
               "id": 4,
               "name": "Beef",
               "seo_name": "beef"
              },
              {
               "background_image": {
                "location": "//images.vivino.com/backgrounds/foods/5_pasta.png",
                "variations": {
                 "small": "//images.vivino.com/backgrounds/foods/thumbs/5_pasta_932x810.png"
                }
               },
               "id": 5,
               "name": "Pasta",
               "seo_name": null
              },
              {
               "background_image": {
                "location": "//images.vivino.com/backgrounds/foods/8_lamb.png",
                "variations": {
                 "small": "//images.vivino.com/backgrounds/foods/thumbs/8_lamb_932x810.png"
                }
               },
               "id": 8,
               "name": "Lamb",
               "seo_name": "lamb"
              },
              {
               "background_image": {
                "location": "//images.vivino.com/backgrounds/foods/11_venison.png",
                "variations": {
                 "small": "//images.vivino.com/backgrounds/foods/thumbs/11_venison_932x810.png"
                }
               },
               "id": 11,
               "name": "Game (deer, venison)",
               "seo_name": "game"
              }
             ],
             "grapes": [
              {
               "has_detailed_info": true,
               "id": 1,
               "name": "Shiraz/Syrah",
               "seo_name": "shiraz-syrah",
               "wines_count": 494130
              },
              {
               "has_detailed_info": true,
               "id": 8,
               "name": "Grenache",
               "seo_name": "grenache-noir",
               "wines_count": 211352
              },
              {
               "has_detailed_info": true,
               "id": 22,
               "name": "Mourvedre",
               "seo_name": "mourvedre",
               "wines_count": 89986
              }
             ],
             "id": 178,
             "image": null,
             "interesting_facts": null,
             "name": "Californian Rhône Blend Red",
             "region": {
              "background_image": {
               "location": "//images.vivino.com/regions/backgrounds/HNZzLu5DSQ2VV5Ls5S02OQ.jpg",
               "variations": {
                "large": "//thumbs.vivino.com/region_backgrounds/HNZzLu5DSQ2VV5Ls5S02OQ_1280x760.jpg",
                "medium": "//thumbs.vivino.com/region_backgrounds/HNZzLu5DSQ2VV5Ls5S02OQ_600x356.jpg"
               }
              },
              "class": {
               "typecast_map": {
                "background_image": {},
                "class": {}
               }
              },
              "country": {
               "code": "us",
               "currency": {
                "code": "USD",
                "name": "US Dollars",
                "prefix": "$",
                "suffix": null
               },
               "most_used_grapes": [
                {
                 "has_detailed_info": true,
                 "id": 2,
                 "name": "Cabernet Sauvignon",
                 "seo_name": "cabernet-sauvignon",
                 "wines_count": 725925
                },
                {
                 "has_detailed_info": true,
                 "id": 14,
                 "name": "Pinot Noir",
                 "seo_name": "pinot-noir",
                 "wines_count": 513244
                },
                {
                 "has_detailed_info": true,
                 "id": 5,
                 "name": "Chardonnay",
                 "seo_name": "chardonnay",
                 "wines_count": 541509
                }
               ],
               "name": "United States",
               "native_name": "United States",
               "regions_count": 357,
               "seo_name": "united-states",
               "users_count": 10104977,
               "wineries_count": 26264,
               "wines_count": 230446
              },
              "id": 24,
              "name": "California",
              "name_en": "",
              "seo_name": "california"
             },
             "regional_name": "Californian",
             "seo_name": "californian-rhone-blend",
             "varietal_name": "Rhône Blend",
             "wine_type_id": 1
            },
            "taste": {
             "flavor": [
              {
               "group": "black_fruit",
               "stats": {
                "count": 110,
                "score": 17023
               }
              },
              {
               "group": "oak",
               "stats": {
                "count": 88,
                "score": 10343
               }
              },
              {
               "group": "earth",
               "stats": {
                "count": 72,
                "score": 8955
               }
              },
              {
               "group": "spices",
               "stats": {
                "count": 60,
                "score": 6099
               }
              },
              {
               "group": "non_oak",
               "stats": {
                "count": 56,
                "score": 1219
               }
              },
              {
               "group": "red_fruit",
               "stats": {
                "count": 55,
                "score": 5972
               }
              },
              {
               "group": "microbio",
               "stats": {
                "count": 11,
                "score": 693
               }
              },
              {
               "group": "floral",
               "stats": {
                "count": 8,
                "score": 650
               }
              },
              {
               "group": "dried_fruit",
               "stats": {
                "count": 7,
                "score": 596
               }
              },
              {
               "group": "vegetal",
               "stats": {
                "count": 4,
                "score": 250
               }
              },
              {
               "group": "tree_fruit",
               "stats": {
                "count": 3,
                "score": 300
               }
              },
              {
               "group": "citrus_fruit",
               "stats": {
                "count": 3,
                "score": 300
               }
              }
             ],
             "structure": {
              "acidity": 3.4986732,
              "calculated_structure_count": 190,
              "fizziness": null,
              "intensity": 4.7500043,
              "sweetness": 1.7899489,
              "tannin": 3.5423436,
              "user_structure_count": 28
             }
            },
            "type_id": 1,
            "vintage_type": 0,
            "winery": {
             "id": 1391,
             "name": "Saxum",
             "seo_name": "us-saxum",
             "status": 0
            }
           },
           "year": 2018
          }
         },
         {
          "price": {
           "amount": 194.95,
           "bottle_type": {
            "id": 1,
            "name": "Bottle (0.75l)",
            "short_name": "bottle",
            "short_name_plural": "bottles",
            "volume_ml": 750
           },
           "bottle_type_id": 1,
           "currency": {
            "code": "USD",
            "name": "US Dollars",
            "prefix": "$",
            "suffix": null
           },
           "discount_percent": null,
           "discounted_from": null,
           "id": 23815603,
           "sku": "4955202289746",
           "type": "vc",
           "url": "https://www.brix26.com/products/pahlmeyer-2017-proprietary-red-napa-valley?variant=33279862046802",
           "visibility": 1
          },
          "prices": [
           {
            "amount": 194.95,
            "bottle_type": {
             "id": 1,
             "name": "Bottle (0.75l)",
             "short_name": "bottle",
             "short_name_plural": "bottles",
             "volume_ml": 750
            },
            "bottle_type_id": 1,
            "currency": {
             "code": "USD",
             "name": "US Dollars",
             "prefix": "$",
             "suffix": null
            },
            "discount_percent": null,
            "discounted_from": null,
            "id": 23815603,
            "sku": "4955202289746",
            "type": "vc",
            "url": "https://www.brix26.com/products/pahlmeyer-2017-proprietary-red-napa-valley?variant=33279862046802",
            "visibility": 1
           }
          ],
          "vintage": {
           "grapes": null,
           "has_valid_ratings": true,
           "id": 150457837,
           "image": {
            "location": "//images.vivino.com/thumbs/1OLeYE2nTzCqm-NCePd52g_pl_480x640.png",
            "variations": {
             "bottle_large": "//images.vivino.com/thumbs/1OLeYE2nTzCqm-NCePd52g_pb_x960.png",
             "bottle_medium": "//images.vivino.com/thumbs/1OLeYE2nTzCqm-NCePd52g_pb_x600.png",
             "bottle_medium_square": "//images.vivino.com/thumbs/1OLeYE2nTzCqm-NCePd52g_pb_600x600.png",
             "bottle_small": "//images.vivino.com/thumbs/1OLeYE2nTzCqm-NCePd52g_pb_x300.png",
             "bottle_small_square": "//images.vivino.com/thumbs/1OLeYE2nTzCqm-NCePd52g_pb_300x300.png",
             "label": "//images.vivino.com/thumbs/1OLeYE2nTzCqm-NCePd52g_pl_480x640.png",
             "label_large": "//images.vivino.com/thumbs/1OLeYE2nTzCqm-NCePd52g_pl_375x500.png",
             "label_medium": "//images.vivino.com/thumbs/1OLeYE2nTzCqm-NCePd52g_pl_150x200.png",
             "label_medium_square": "//images.vivino.com/thumbs/1OLeYE2nTzCqm-NCePd52g_pl_150x150.png",
             "label_small_square": "//images.vivino.com/thumbs/1OLeYE2nTzCqm-NCePd52g_pl_80x80.png",
             "large": "//images.vivino.com/thumbs/1OLeYE2nTzCqm-NCePd52g_pl_375x500.png",
             "medium": "//images.vivino.com/thumbs/1OLeYE2nTzCqm-NCePd52g_pl_150x200.png",
             "medium_square": "//images.vivino.com/thumbs/1OLeYE2nTzCqm-NCePd52g_pl_150x150.png",
             "small_square": "//images.vivino.com/thumbs/1OLeYE2nTzCqm-NCePd52g_pl_80x80.png"
            }
           },
           "name": "Pahlmeyer Proprietary Red 2017",
           "seo_name": "pahlmeyer-proprietary-red-2017",
           "statistics": {
            "labels_count": 404,
            "ratings_average": 4.8,
            "ratings_count": 27,
            "status": "Normal"
           },
           "wine": {
            "has_valid_ratings": true,
            "id": 5072,
            "is_natural": false,
            "name": "Proprietary Red",
            "region": {
             "background_image": {
              "location": "//images.vivino.com/regions/backgrounds/cP8NlYVPSUStyROqZeBzgA.jpg",
              "variations": {
               "large": "//thumbs.vivino.com/region_backgrounds/cP8NlYVPSUStyROqZeBzgA_1280x760.jpg",
               "medium": "//thumbs.vivino.com/region_backgrounds/cP8NlYVPSUStyROqZeBzgA_600x356.jpg"
              }
             },
             "class": {
              "typecast_map": {
               "background_image": {},
               "class": {}
              }
             },
             "country": {
              "code": "us",
              "currency": {
               "code": "USD",
               "name": "US Dollars",
               "prefix": "$",
               "suffix": null
              },
              "most_used_grapes": [
               {
                "has_detailed_info": true,
                "id": 2,
                "name": "Cabernet Sauvignon",
                "seo_name": "cabernet-sauvignon",
                "wines_count": 725925
               },
               {
                "has_detailed_info": true,
                "id": 14,
                "name": "Pinot Noir",
                "seo_name": "pinot-noir",
                "wines_count": 513244
               },
               {
                "has_detailed_info": true,
                "id": 5,
                "name": "Chardonnay",
                "seo_name": "chardonnay",
                "wines_count": 541509
               }
              ],
              "name": "United States",
              "native_name": "United States",
              "regions_count": 357,
              "seo_name": "united-states",
              "users_count": 10104977,
              "wineries_count": 26264,
              "wines_count": 230446
             },
             "id": 25,
             "name": "Napa Valley",
             "name_en": "",
             "seo_name": "napa-valley"
            },
            "seo_name": "proprietary-red",
            "statistics": {
             "labels_count": 49159,
             "ratings_average": 4.6,
             "ratings_count": 6844,
             "status": "Normal",
             "vintages_count": 45
            },
            "style": {
             "acidity": 2,
             "acidity_description": "Medium",
             "background_image": {
              "location": "//images.vivino.com/backgrounds/styles/lkl1g1AyRWiGuiC_PycS4w.jpg",
              "variations": {
               "small": "//images.vivino.com/backgrounds/styles/thumbs/lkl1g1AyRWiGuiC_PycS4w_932x810.jpg"
              }
             },
             "blurb": null,
             "body": 4,
             "body_description": "Full-bodied",
             "country": {
              "code": "us",
              "currency": {
               "code": "USD",
               "name": "US Dollars",
               "prefix": "$",
               "suffix": null
              },
              "most_used_grapes": [
               {
                "has_detailed_info": true,
                "id": 2,
                "name": "Cabernet Sauvignon",
                "seo_name": "cabernet-sauvignon",
                "wines_count": 725925
               },
               {
                "has_detailed_info": true,
                "id": 14,
                "name": "Pinot Noir",
                "seo_name": "pinot-noir",
                "wines_count": 513244
               },
               {
                "has_detailed_info": true,
                "id": 5,
                "name": "Chardonnay",
                "seo_name": "chardonnay",
                "wines_count": 541509
               }
              ],
              "name": "United States",
              "native_name": "United States",
              "regions_count": 357,
              "seo_name": "united-states",
              "users_count": 10104977,
              "wineries_count": 26264,
              "wines_count": 230446
             },
             "description": null,
             "food": [
              {
               "background_image": {
                "location": "//images.vivino.com/backgrounds/foods/4_beef.png",
                "variations": {
                 "small": "//images.vivino.com/backgrounds/foods/thumbs/4_beef_932x810.png"
                }
               },
               "id": 4,
               "name": "Beef",
               "seo_name": "beef"
              },
              {
               "background_image": {
                "location": "//images.vivino.com/backgrounds/foods/8_lamb.png",
                "variations": {
                 "small": "//images.vivino.com/backgrounds/foods/thumbs/8_lamb_932x810.png"
                }
               },
               "id": 8,
               "name": "Lamb",
               "seo_name": "lamb"
              },
              {
               "background_image": {
                "location": "//images.vivino.com/backgrounds/foods/11_venison.png",
                "variations": {
                 "small": "//images.vivino.com/backgrounds/foods/thumbs/11_venison_932x810.png"
                }
               },
               "id": 11,
               "name": "Game (deer, venison)",
               "seo_name": "game"
              },
              {
               "background_image": {
                "location": "//images.vivino.com/backgrounds/foods/20_chicken.png",
                "variations": {
                 "small": "//images.vivino.com/backgrounds/foods/thumbs/20_chicken_932x810.png"
                }
               },
               "id": 20,
               "name": "Poultry",
               "seo_name": "poultry"
              }
             ],
             "grapes": [
              {
               "has_detailed_info": true,
               "id": 2,
               "name": "Cabernet Sauvignon",
               "seo_name": "cabernet-sauvignon",
               "wines_count": 725925
              },
              {
               "has_detailed_info": true,
               "id": 3,
               "name": "Cabernet Franc",
               "seo_name": "cabernet-franc",
               "wines_count": 243121
              },
              {
               "has_detailed_info": true,
               "id": 9,
               "name": "Malbec",
               "seo_name": "malbec",
               "wines_count": 197235
              },
              {
               "has_detailed_info": true,
               "id": 10,
               "name": "Merlot",
               "seo_name": "merlot",
               "wines_count": 510808
              },
              {
               "has_detailed_info": true,
               "id": 42,
               "name": "Petit Verdot",
               "seo_name": "petit-verdot",
               "wines_count": 74892
              }
             ],
             "id": 290,
             "image": null,
             "interesting_facts": null,
             "name": "Napa Valley Bordeaux Blend",
             "region": {
              "background_image": {
               "location": "//images.vivino.com/regions/backgrounds/cP8NlYVPSUStyROqZeBzgA.jpg",
               "variations": {
                "large": "//thumbs.vivino.com/region_backgrounds/cP8NlYVPSUStyROqZeBzgA_1280x760.jpg",
                "medium": "//thumbs.vivino.com/region_backgrounds/cP8NlYVPSUStyROqZeBzgA_600x356.jpg"
               }
              },
              "class": {
               "typecast_map": {
                "background_image": {},
                "class": {}
               }
              },
              "country": {
               "code": "us",
               "currency": {
                "code": "USD",
                "name": "US Dollars",
                "prefix": "$",
                "suffix": null
               },
               "most_used_grapes": [
                {
                 "has_detailed_info": true,
                 "id": 2,
                 "name": "Cabernet Sauvignon",
                 "seo_name": "cabernet-sauvignon",
                 "wines_count": 725925
                },
                {
                 "has_detailed_info": true,
                 "id": 14,
                 "name": "Pinot Noir",
                 "seo_name": "pinot-noir",
                 "wines_count": 513244
                },
                {
                 "has_detailed_info": true,
                 "id": 5,
                 "name": "Chardonnay",
                 "seo_name": "chardonnay",
                 "wines_count": 541509
                }
               ],
               "name": "United States",
               "native_name": "United States",
               "regions_count": 357,
               "seo_name": "united-states",
               "users_count": 10104977,
               "wineries_count": 26264,
               "wines_count": 230446
              },
              "id": 25,
              "name": "Napa Valley",
              "name_en": "",
              "seo_name": "napa-valley"
             },
             "regional_name": "Napa Valley",
             "seo_name": "napa-valley-bordeaux-blend",
             "varietal_name": "Bordeaux Blend",
             "wine_type_id": 1
            },
            "taste": {
             "flavor": [
              {
               "group": "oak",
               "stats": {
                "count": 342,
                "score": 46956
               }
              },
              {
               "group": "black_fruit",
               "stats": {
                "count": 280,
                "score": 41550
               }
              },
              {
               "group": "non_oak",
               "stats": {
                "count": 220,
                "score": 4447
               }
              },
              {
               "group": "earth",
               "stats": {
                "count": 203,
                "score": 16947
               }
              },
              {
               "group": "spices",
               "stats": {
                "count": 162,
                "score": 9277
               }
              },
              {
               "group": "red_fruit",
               "stats": {
                "count": 140,
                "score": 11191
               }
              },
              {
               "group": "microbio",
               "stats": {
                "count": 45,
                "score": 3142
               }
              },
              {
               "group": "dried_fruit",
               "stats": {
                "count": 22,
                "score": 1587
               }
              },
              {
               "group": "floral",
               "stats": {
                "count": 15,
                "score": 1275
               }
              },
              {
               "group": "vegetal",
               "stats": {
                "count": 10,
                "score": 795
               }
              },
              {
               "group": "citrus_fruit",
               "stats": {
                "count": 6,
                "score": 600
               }
              },
              {
               "group": "tree_fruit",
               "stats": {
                "count": 3,
                "score": 300
               }
              },
              {
               "group": "tropical_fruit",
               "stats": {
                "count": 1,
                "score": 33
               }
              }
             ],
             "structure": {
              "acidity": 3.824524,
              "calculated_structure_count": 718,
              "fizziness": null,
              "intensity": 4.7715206,
              "sweetness": 1.7013088,
              "tannin": 3.3735065,
              "user_structure_count": 128
             }
            },
            "type_id": 1,
            "vintage_type": 0,
            "winery": {
             "id": 1362,
             "name": "Pahlmeyer",
             "seo_name": "pahlmeyer",
             "status": 0
            }
           },
           "year": 2017
          }
         },
         {
          "price": {
           "amount": 296.6566666666667,
           "bottle_type": {
            "id": 1,
            "name": "Bottle (0.75l)",
            "short_name": "bottle",
            "short_name_plural": "bottles",
            "volume_ml": 750
           },
           "bottle_type_id": 1,
           "currency": {
            "code": "USD",
            "name": "US Dollars",
            "prefix": "$",
            "suffix": null
           },
           "discount_percent": null,
           "discounted_from": null,
           "id": 23376964,
           "sku": "nl13185",
           "type": "vc",
           "url": "http://vivino.cpdwineliquor.com/Product?PID=4187",
           "visibility": 1
          },
          "prices": [
           {
            "amount": 296.6566666666667,
            "bottle_type": {
             "id": 1,
             "name": "Bottle (0.75l)",
             "short_name": "bottle",
             "short_name_plural": "bottles",
             "volume_ml": 750
            },
            "bottle_type_id": 1,
            "currency": {
             "code": "USD",
             "name": "US Dollars",
             "prefix": "$",
             "suffix": null
            },
            "discount_percent": null,
            "discounted_from": null,
            "id": 23376964,
            "sku": "nl13185",
            "type": "vc",
            "url": "http://vivino.cpdwineliquor.com/Product?PID=4187",
            "visibility": 1
           }
          ],
          "vintage": {
           "grapes": null,
           "has_valid_ratings": true,
           "id": 121932638,
           "image": {
            "location": "//images.vivino.com/thumbs/D1Mf1fYnRnageFjtfLXdFg_pl_480x640.png",
            "variations": {
             "bottle_large": "//images.vivino.com/thumbs/D1Mf1fYnRnageFjtfLXdFg_pb_x960.png",
             "bottle_medium": "//images.vivino.com/thumbs/D1Mf1fYnRnageFjtfLXdFg_pb_x600.png",
             "bottle_medium_square": "//images.vivino.com/thumbs/D1Mf1fYnRnageFjtfLXdFg_pb_600x600.png",
             "bottle_small": "//images.vivino.com/thumbs/D1Mf1fYnRnageFjtfLXdFg_pb_x300.png",
             "bottle_small_square": "//images.vivino.com/thumbs/D1Mf1fYnRnageFjtfLXdFg_pb_300x300.png",
             "label": "//images.vivino.com/thumbs/D1Mf1fYnRnageFjtfLXdFg_pl_480x640.png",
             "label_large": "//images.vivino.com/thumbs/D1Mf1fYnRnageFjtfLXdFg_pl_375x500.png",
             "label_medium": "//images.vivino.com/thumbs/D1Mf1fYnRnageFjtfLXdFg_pl_150x200.png",
             "label_medium_square": "//images.vivino.com/thumbs/D1Mf1fYnRnageFjtfLXdFg_pl_150x150.png",
             "label_small_square": "//images.vivino.com/thumbs/D1Mf1fYnRnageFjtfLXdFg_pl_80x80.png",
             "large": "//images.vivino.com/thumbs/D1Mf1fYnRnageFjtfLXdFg_pl_375x500.png",
             "medium": "//images.vivino.com/thumbs/D1Mf1fYnRnageFjtfLXdFg_pl_150x200.png",
             "medium_square": "//images.vivino.com/thumbs/D1Mf1fYnRnageFjtfLXdFg_pl_150x150.png",
             "small_square": "//images.vivino.com/thumbs/D1Mf1fYnRnageFjtfLXdFg_pl_80x80.png"
            }
           },
           "name": "Viña Cobos Cobos Volturno 2016",
           "seo_name": "vina-cobos-cobos-volturno-2016",
           "statistics": {
            "labels_count": 1551,
            "ratings_average": 4.8,
            "ratings_count": 350,
            "status": "Normal"
           },
           "top_list_rankings": [
            {
             "description": null,
             "previous_rank": 1,
             "rank": 1,
             "top_list": {
              "id": 202028,
              "location": "_0",
              "name": "Vivino's 2020 Wine Style Awards: Argentinian Cabernet Sauvignon - Malbec",
              "seo_name": "wine_style_awards_2020_argentinian_cabernet_malbec",
              "type": 6,
              "year": "2020"
             }
            }
           ],
           "wine": {
            "has_valid_ratings": true,
            "id": 1505859,
            "is_natural": false,
            "name": "Cobos Volturno",
            "region": {
             "background_image": null,
             "country": {
              "code": "ar",
              "currency": {
               "code": "ARS",
               "name": "Argentinean Peso",
               "prefix": "$",
               "suffix": null
              },
              "most_used_grapes": [
               {
                "has_detailed_info": true,
                "id": 9,
                "name": "Malbec",
                "seo_name": "malbec",
                "wines_count": 197235
               },
               {
                "has_detailed_info": true,
                "id": 2,
                "name": "Cabernet Sauvignon",
                "seo_name": "cabernet-sauvignon",
                "wines_count": 725925
               },
               {
                "has_detailed_info": true,
                "id": 5,
                "name": "Chardonnay",
                "seo_name": "chardonnay",
                "wines_count": 541509
               }
              ],
              "name": "Argentina",
              "native_name": "Argentina",
              "regions_count": 39,
              "seo_name": "argentina",
              "users_count": 505817,
              "wineries_count": 4811,
              "wines_count": 42809
             },
             "id": 1600,
             "name": "Perdriel",
             "name_en": "",
             "seo_name": "perdriel"
            },
            "seo_name": "cobos-volturno",
            "statistics": {
             "labels_count": 11381,
             "ratings_average": 4.7,
             "ratings_count": 3160,
             "status": "Normal",
             "vintages_count": 40
            },
            "style": {
             "acidity": 3,
             "acidity_description": "High",
             "background_image": null,
             "blurb": null,
             "body": 4,
             "body_description": "Full-bodied",
             "country": {
              "code": "ar",
              "currency": {
               "code": "ARS",
               "name": "Argentinean Peso",
               "prefix": "$",
               "suffix": null
              },
              "most_used_grapes": [
               {
                "has_detailed_info": true,
                "id": 9,
                "name": "Malbec",
                "seo_name": "malbec",
                "wines_count": 197235
               },
               {
                "has_detailed_info": true,
                "id": 2,
                "name": "Cabernet Sauvignon",
                "seo_name": "cabernet-sauvignon",
                "wines_count": 725925
               },
               {
                "has_detailed_info": true,
                "id": 5,
                "name": "Chardonnay",
                "seo_name": "chardonnay",
                "wines_count": 541509
               }
              ],
              "name": "Argentina",
              "native_name": "Argentina",
              "regions_count": 39,
              "seo_name": "argentina",
              "users_count": 505817,
              "wineries_count": 4811,
              "wines_count": 42809
             },
             "description": null,
             "food": [
              {
               "background_image": {
                "location": "//images.vivino.com/backgrounds/foods/4_beef.png",
                "variations": {
                 "small": "//images.vivino.com/backgrounds/foods/thumbs/4_beef_932x810.png"
                }
               },
               "id": 4,
               "name": "Beef",
               "seo_name": "beef"
              },
              {
               "background_image": {
                "location": "//images.vivino.com/backgrounds/foods/8_lamb.png",
                "variations": {
                 "small": "//images.vivino.com/backgrounds/foods/thumbs/8_lamb_932x810.png"
                }
               },
               "id": 8,
               "name": "Lamb",
               "seo_name": "lamb"
              },
              {
               "background_image": {
                "location": "//images.vivino.com/backgrounds/foods/11_venison.png",
                "variations": {
                 "small": "//images.vivino.com/backgrounds/foods/thumbs/11_venison_932x810.png"
                }
               },
               "id": 11,
               "name": "Game (deer, venison)",
               "seo_name": "game"
              },
              {
               "background_image": {
                "location": "//images.vivino.com/backgrounds/foods/20_chicken.png",
                "variations": {
                 "small": "//images.vivino.com/backgrounds/foods/thumbs/20_chicken_932x810.png"
                }
               },
               "id": 20,
               "name": "Poultry",
               "seo_name": "poultry"
              }
             ],
             "grapes": [
              {
               "has_detailed_info": true,
               "id": 2,
               "name": "Cabernet Sauvignon",
               "seo_name": "cabernet-sauvignon",
               "wines_count": 725925
              },
              {
               "has_detailed_info": true,
               "id": 9,
               "name": "Malbec",
               "seo_name": "malbec",
               "wines_count": 197235
              }
             ],
             "id": 28,
             "image": null,
             "interesting_facts": null,
             "name": "Argentinian Cabernet Sauvignon - Malbec",
             "region": null,
             "regional_name": "Argentinian",
             "seo_name": "argentinian-cabernet-malbec",
             "varietal_name": "Cabernet - Malbec",
             "wine_type_id": 1
            },
            "taste": {
             "flavor": [
              {
               "group": "oak",
               "stats": {
                "count": 34,
                "score": 5843
               }
              },
              {
               "group": "black_fruit",
               "stats": {
                "count": 25,
                "score": 3672
               }
              },
              {
               "group": "non_oak",
               "stats": {
                "count": 20,
                "score": 680
               }
              },
              {
               "group": "earth",
               "stats": {
                "count": 18,
                "score": 1306
               }
              },
              {
               "group": "spices",
               "stats": {
                "count": 16,
                "score": 1308
               }
              },
              {
               "group": "red_fruit",
               "stats": {
                "count": 14,
                "score": 1339
               }
              },
              {
               "group": "microbio",
               "stats": {
                "count": 5,
                "score": 252
               }
              },
              {
               "group": "vegetal",
               "stats": {
                "count": 2,
                "score": 20
               }
              },
              {
               "group": "dried_fruit",
               "stats": {
                "count": 2,
                "score": 180
               }
              },
              {
               "group": "citrus_fruit",
               "stats": {
                "count": 2,
                "score": 200
               }
              },
              {
               "group": "floral",
               "stats": {
                "count": 1,
                "score": 100
               }
              }
             ],
             "structure": {
              "acidity": 2.8386154,
              "calculated_structure_count": 50,
              "fizziness": null,
              "intensity": 4.1186543,
              "sweetness": 2.2368248,
              "tannin": 3.100276,
              "user_structure_count": 98
             }
            },
            "type_id": 1,
            "vintage_type": 0,
            "winery": {
             "id": 8824,
             "name": "Viña Cobos",
             "seo_name": "vina-cobos",
             "status": 0
            }
           },
           "year": 2016
          }
         },
         {
          "price": {
           "amount": 109.19,
           "bottle_type": {
            "id": 1,
            "name": "Bottle (0.75l)",
            "short_name": "bottle",
            "short_name_plural": "bottles",
            "volume_ml": 750
           },
           "bottle_type_id": 1,
           "currency": {
            "code": "USD",
            "name": "US Dollars",
            "prefix": "$",
            "suffix": null
           },
           "discount_percent": null,
           "discounted_from": null,
           "id": 24044335,
           "sku": "39263185043594",
           "type": "vc",
           "url": "https://www.wineonsale.com/products/el-enemigo-gran-enemigo-gualtallary-single-vineyard-cabernet-franc-2015-750-ml?variant=39263185043594",
           "visibility": 1
          },
          "prices": [
           {
            "amount": 109.19,
            "bottle_type": {
             "id": 1,
             "name": "Bottle (0.75l)",
             "short_name": "bottle",
             "short_name_plural": "bottles",
             "volume_ml": 750
            },
            "bottle_type_id": 1,
            "currency": {
             "code": "USD",
             "name": "US Dollars",
             "prefix": "$",
             "suffix": null
            },
            "discount_percent": null,
            "discounted_from": null,
            "id": 24044335,
            "sku": "39263185043594",
            "type": "vc",
            "url": "https://www.wineonsale.com/products/el-enemigo-gran-enemigo-gualtallary-single-vineyard-cabernet-franc-2015-750-ml?variant=39263185043594",
            "visibility": 1
           }
          ],
          "vintage": {
           "grapes": null,
           "has_valid_ratings": true,
           "id": 19502876,
           "image": {
            "location": "//images.vivino.com/thumbs/WPXpzJXHTaSqAeqLqi8CXg_pl_480x640.png",
            "variations": {
             "bottle_large": "//images.vivino.com/thumbs/WPXpzJXHTaSqAeqLqi8CXg_pb_x960.png",
             "bottle_medium": "//images.vivino.com/thumbs/WPXpzJXHTaSqAeqLqi8CXg_pb_x600.png",
             "bottle_medium_square": "//images.vivino.com/thumbs/WPXpzJXHTaSqAeqLqi8CXg_pb_600x600.png",
             "bottle_small": "//images.vivino.com/thumbs/WPXpzJXHTaSqAeqLqi8CXg_pb_x300.png",
             "bottle_small_square": "//images.vivino.com/thumbs/WPXpzJXHTaSqAeqLqi8CXg_pb_300x300.png",
             "label": "//images.vivino.com/thumbs/WPXpzJXHTaSqAeqLqi8CXg_pl_480x640.png",
             "label_large": "//images.vivino.com/thumbs/WPXpzJXHTaSqAeqLqi8CXg_pl_375x500.png",
             "label_medium": "//images.vivino.com/thumbs/WPXpzJXHTaSqAeqLqi8CXg_pl_150x200.png",
             "label_medium_square": "//images.vivino.com/thumbs/WPXpzJXHTaSqAeqLqi8CXg_pl_150x150.png",
             "label_small_square": "//images.vivino.com/thumbs/WPXpzJXHTaSqAeqLqi8CXg_pl_80x80.png",
             "large": "//images.vivino.com/thumbs/WPXpzJXHTaSqAeqLqi8CXg_pl_375x500.png",
             "medium": "//images.vivino.com/thumbs/WPXpzJXHTaSqAeqLqi8CXg_pl_150x200.png",
             "medium_square": "//images.vivino.com/thumbs/WPXpzJXHTaSqAeqLqi8CXg_pl_150x150.png",
             "small_square": "//images.vivino.com/thumbs/WPXpzJXHTaSqAeqLqi8CXg_pl_80x80.png"
            }
           },
           "name": "El Enemigo Gran Enemigo Single Vineyard Gualtallary Cabernet Franc 2015",
           "seo_name": "el-enemigo-gran-enemigo-single-vineyard-gualtallary-cabernet-franc-2015",
           "statistics": {
            "labels_count": 30959,
            "ratings_average": 4.7,
            "ratings_count": 5295,
            "status": "Normal"
           },
           "wine": {
            "has_valid_ratings": true,
            "id": 3125433,
            "is_natural": false,
            "name": "Gran Enemigo Single Vineyard Gualtallary Cabernet Franc",
            "region": {
             "background_image": null,
             "country": {
              "code": "ar",
              "currency": {
               "code": "ARS",
               "name": "Argentinean Peso",
               "prefix": "$",
               "suffix": null
              },
              "most_used_grapes": [
               {
                "has_detailed_info": true,
                "id": 9,
                "name": "Malbec",
                "seo_name": "malbec",
                "wines_count": 197235
               },
               {
                "has_detailed_info": true,
                "id": 2,
                "name": "Cabernet Sauvignon",
                "seo_name": "cabernet-sauvignon",
                "wines_count": 725925
               },
               {
                "has_detailed_info": true,
                "id": 5,
                "name": "Chardonnay",
                "seo_name": "chardonnay",
                "wines_count": 541509
               }
              ],
              "name": "Argentina",
              "native_name": "Argentina",
              "regions_count": 39,
              "seo_name": "argentina",
              "users_count": 505817,
              "wineries_count": 4811,
              "wines_count": 42809
             },
             "id": 4263,
             "name": "Gualtallary",
             "name_en": "",
             "seo_name": "gualtallary"
            },
            "seo_name": "gran-enemigo-single-vineyard-gualtallary-cabernet-franc",
            "statistics": {
             "labels_count": 119050,
             "ratings_average": 4.6,
             "ratings_count": 25137,
             "status": "Normal",
             "vintages_count": 44
            },
            "style": {
             "acidity": 3,
             "acidity_description": "High",
             "background_image": null,
             "blurb": "Cabernet and Merlot based",
             "body": 4,
             "body_description": "Full-bodied",
             "country": {
              "code": "ar",
              "currency": {
               "code": "ARS",
               "name": "Argentinean Peso",
               "prefix": "$",
               "suffix": null
              },
              "most_used_grapes": [
               {
                "has_detailed_info": true,
                "id": 9,
                "name": "Malbec",
                "seo_name": "malbec",
                "wines_count": 197235
               },
               {
                "has_detailed_info": true,
                "id": 2,
                "name": "Cabernet Sauvignon",
                "seo_name": "cabernet-sauvignon",
                "wines_count": 725925
               },
               {
                "has_detailed_info": true,
                "id": 5,
                "name": "Chardonnay",
                "seo_name": "chardonnay",
                "wines_count": 541509
               }
              ],
              "name": "Argentina",
              "native_name": "Argentina",
              "regions_count": 39,
              "seo_name": "argentina",
              "users_count": 505817,
              "wineries_count": 4811,
              "wines_count": 42809
             },
             "description": null,
             "food": [
              {
               "background_image": {
                "location": "//images.vivino.com/backgrounds/foods/4_beef.png",
                "variations": {
                 "small": "//images.vivino.com/backgrounds/foods/thumbs/4_beef_932x810.png"
                }
               },
               "id": 4,
               "name": "Beef",
               "seo_name": "beef"
              },
              {
               "background_image": {
                "location": "//images.vivino.com/backgrounds/foods/5_pasta.png",
                "variations": {
                 "small": "//images.vivino.com/backgrounds/foods/thumbs/5_pasta_932x810.png"
                }
               },
               "id": 5,
               "name": "Pasta",
               "seo_name": null
              },
              {
               "background_image": {
                "location": "//images.vivino.com/backgrounds/foods/8_lamb.png",
                "variations": {
                 "small": "//images.vivino.com/backgrounds/foods/thumbs/8_lamb_932x810.png"
                }
               },
               "id": 8,
               "name": "Lamb",
               "seo_name": "lamb"
              },
              {
               "background_image": {
                "location": "//images.vivino.com/backgrounds/foods/20_chicken.png",
                "variations": {
                 "small": "//images.vivino.com/backgrounds/foods/thumbs/20_chicken_932x810.png"
                }
               },
               "id": 20,
               "name": "Poultry",
               "seo_name": "poultry"
              }
             ],
             "grapes": [
              {
               "has_detailed_info": true,
               "id": 2,
               "name": "Cabernet Sauvignon",
               "seo_name": "cabernet-sauvignon",
               "wines_count": 725925
              },
              {
               "has_detailed_info": true,
               "id": 3,
               "name": "Cabernet Franc",
               "seo_name": "cabernet-franc",
               "wines_count": 243121
              },
              {
               "has_detailed_info": true,
               "id": 9,
               "name": "Malbec",
               "seo_name": "malbec",
               "wines_count": 197235
              },
              {
               "has_detailed_info": true,
               "id": 10,
               "name": "Merlot",
               "seo_name": "merlot",
               "wines_count": 510808
              },
              {
               "has_detailed_info": true,
               "id": 42,
               "name": "Petit Verdot",
               "seo_name": "petit-verdot",
               "wines_count": 74892
              },
              {
               "has_detailed_info": true,
               "id": 51,
               "name": "Carménère",
               "seo_name": "carmenere",
               "wines_count": 45374
              }
             ],
             "id": 11,
             "image": null,
             "interesting_facts": null,
             "name": "Argentinian Bordeaux Blend",
             "region": null,
             "regional_name": "Argentinian",
             "seo_name": "argentinian-bordeaux-blend",
             "varietal_name": "Bordeaux Blend",
             "wine_type_id": 1
            },
            "taste": {
             "flavor": [
              {
               "group": "oak",
               "stats": {
                "count": 300,
                "score": 44261
               }
              },
              {
               "group": "black_fruit",
               "stats": {
                "count": 233,
                "score": 36138
               }
              },
              {
               "group": "spices",
               "stats": {
                "count": 205,
                "score": 20109
               }
              },
              {
               "group": "non_oak",
               "stats": {
                "count": 182,
                "score": 3551
               }
              },
              {
               "group": "earth",
               "stats": {
                "count": 166,
                "score": 18240
               }
              },
              {
               "group": "red_fruit",
               "stats": {
                "count": 127,
                "score": 10622
               }
              },
              {
               "group": "microbio",
               "stats": {
                "count": 28,
                "score": 1533
               }
              },
              {
               "group": "floral",
               "stats": {
                "count": 26,
                "score": 2400
               }
              },
              {
               "group": "vegetal",
               "stats": {
                "count": 23,
                "score": 1973
               }
              },
              {
               "group": "dried_fruit",
               "stats": {
                "count": 17,
                "score": 1140
               }
              },
              {
               "group": "citrus_fruit",
               "stats": {
                "count": 6,
                "score": 600
               }
              },
              {
               "group": "tropical_fruit",
               "stats": {
                "count": 2,
                "score": 133
               }
              },
              {
               "group": "tree_fruit",
               "stats": {
                "count": 2,
                "score": 200
               }
              }
             ],
             "structure": {
              "acidity": 3.49186,
              "calculated_structure_count": 336,
              "fizziness": null,
              "intensity": 4.3826656,
              "sweetness": 2.0066633,
              "tannin": 3.4866967,
              "user_structure_count": 1646
             }
            },
            "type_id": 1,
            "vintage_type": 0,
            "winery": {
             "id": 20435,
             "name": "El Enemigo",
             "seo_name": "el-enemigo",
             "status": 0
            }
           },
           "year": 2015
          }
         },
         {
          "price": {
           "amount": 418.19,
           "bottle_type": {
            "id": 1,
            "name": "Bottle (0.75l)",
            "short_name": "bottle",
            "short_name_plural": "bottles",
            "volume_ml": 750
           },
           "bottle_type_id": 1,
           "currency": {
            "code": "USD",
            "name": "US Dollars",
            "prefix": "$",
            "suffix": null
           },
           "discount_percent": null,
           "discounted_from": null,
           "id": 17058701,
           "sku": "",
           "type": "vc",
           "url": "https://www.yianniswine.com/wines/Opus-One-Red-Wine-Napa-Valley-2015-w06611604f?utm_source=Vivino&utm_medium=Feed",
           "visibility": 1
          },
          "prices": [
           {
            "amount": 418.19,
            "bottle_type": {
             "id": 1,
             "name": "Bottle (0.75l)",
             "short_name": "bottle",
             "short_name_plural": "bottles",
             "volume_ml": 750
            },
            "bottle_type_id": 1,
            "currency": {
             "code": "USD",
             "name": "US Dollars",
             "prefix": "$",
             "suffix": null
            },
            "discount_percent": null,
            "discounted_from": null,
            "id": 17058701,
            "sku": "",
            "type": "vc",
            "url": "https://www.yianniswine.com/wines/Opus-One-Red-Wine-Napa-Valley-2015-w06611604f?utm_source=Vivino&utm_medium=Feed",
            "visibility": 1
           }
          ],
          "vintage": {
           "grapes": null,
           "has_valid_ratings": true,
           "id": 14117436,
           "image": {
            "location": "//images.vivino.com/thumbs/C45ybDUxTnWShRkbSTusNg_pl_480x640.png",
            "variations": {
             "bottle_large": "//images.vivino.com/thumbs/C45ybDUxTnWShRkbSTusNg_pb_x960.png",
             "bottle_medium": "//images.vivino.com/thumbs/C45ybDUxTnWShRkbSTusNg_pb_x600.png",
             "bottle_medium_square": "//images.vivino.com/thumbs/C45ybDUxTnWShRkbSTusNg_pb_600x600.png",
             "bottle_small": "//images.vivino.com/thumbs/C45ybDUxTnWShRkbSTusNg_pb_x300.png",
             "bottle_small_square": "//images.vivino.com/thumbs/C45ybDUxTnWShRkbSTusNg_pb_300x300.png",
             "label": "//images.vivino.com/thumbs/C45ybDUxTnWShRkbSTusNg_pl_480x640.png",
             "label_large": "//images.vivino.com/thumbs/C45ybDUxTnWShRkbSTusNg_pl_375x500.png",
             "label_medium": "//images.vivino.com/thumbs/C45ybDUxTnWShRkbSTusNg_pl_150x200.png",
             "label_medium_square": "//images.vivino.com/thumbs/C45ybDUxTnWShRkbSTusNg_pl_150x150.png",
             "label_small_square": "//images.vivino.com/thumbs/C45ybDUxTnWShRkbSTusNg_pl_80x80.png",
             "large": "//images.vivino.com/thumbs/C45ybDUxTnWShRkbSTusNg_pl_375x500.png",
             "medium": "//images.vivino.com/thumbs/C45ybDUxTnWShRkbSTusNg_pl_150x200.png",
             "medium_square": "//images.vivino.com/thumbs/C45ybDUxTnWShRkbSTusNg_pl_150x150.png",
             "small_square": "//images.vivino.com/thumbs/C45ybDUxTnWShRkbSTusNg_pl_80x80.png"
            }
           },
           "name": "Opus One Opus One 2015",
           "seo_name": "opus-one-opus-one-2015",
           "statistics": {
            "labels_count": 27054,
            "ratings_average": 4.7,
            "ratings_count": 3402,
            "status": "Normal"
           },
           "wine": {
            "has_valid_ratings": true,
            "id": 1911534,
            "is_natural": false,
            "name": "Opus One",
            "region": {
             "background_image": {
              "location": "//images.vivino.com/regions/backgrounds/cP8NlYVPSUStyROqZeBzgA.jpg",
              "variations": {
               "large": "//thumbs.vivino.com/region_backgrounds/cP8NlYVPSUStyROqZeBzgA_1280x760.jpg",
               "medium": "//thumbs.vivino.com/region_backgrounds/cP8NlYVPSUStyROqZeBzgA_600x356.jpg"
              }
             },
             "class": {
              "typecast_map": {
               "background_image": {},
               "class": {}
              }
             },
             "country": {
              "code": "us",
              "currency": {
               "code": "USD",
               "name": "US Dollars",
               "prefix": "$",
               "suffix": null
              },
              "most_used_grapes": [
               {
                "has_detailed_info": true,
                "id": 2,
                "name": "Cabernet Sauvignon",
                "seo_name": "cabernet-sauvignon",
                "wines_count": 725925
               },
               {
                "has_detailed_info": true,
                "id": 14,
                "name": "Pinot Noir",
                "seo_name": "pinot-noir",
                "wines_count": 513244
               },
               {
                "has_detailed_info": true,
                "id": 5,
                "name": "Chardonnay",
                "seo_name": "chardonnay",
                "wines_count": 541509
               }
              ],
              "name": "United States",
              "native_name": "United States",
              "regions_count": 357,
              "seo_name": "united-states",
              "users_count": 10104977,
              "wineries_count": 26264,
              "wines_count": 230446
             },
             "id": 25,
             "name": "Napa Valley",
             "name_en": "",
             "seo_name": "napa-valley"
            },
            "seo_name": "opus-one",
            "statistics": {
             "labels_count": 377985,
             "ratings_average": 4.6,
             "ratings_count": 58742,
             "status": "Normal",
             "vintages_count": 188
            },
            "style": {
             "acidity": 2,
             "acidity_description": "Medium",
             "background_image": {
              "location": "//images.vivino.com/backgrounds/styles/lkl1g1AyRWiGuiC_PycS4w.jpg",
              "variations": {
               "small": "//images.vivino.com/backgrounds/styles/thumbs/lkl1g1AyRWiGuiC_PycS4w_932x810.jpg"
              }
             },
             "blurb": null,
             "body": 4,
             "body_description": "Full-bodied",
             "country": {
              "code": "us",
              "currency": {
               "code": "USD",
               "name": "US Dollars",
               "prefix": "$",
               "suffix": null
              },
              "most_used_grapes": [
               {
                "has_detailed_info": true,
                "id": 2,
                "name": "Cabernet Sauvignon",
                "seo_name": "cabernet-sauvignon",
                "wines_count": 725925
               },
               {
                "has_detailed_info": true,
                "id": 14,
                "name": "Pinot Noir",
                "seo_name": "pinot-noir",
                "wines_count": 513244
               },
               {
                "has_detailed_info": true,
                "id": 5,
                "name": "Chardonnay",
                "seo_name": "chardonnay",
                "wines_count": 541509
               }
              ],
              "name": "United States",
              "native_name": "United States",
              "regions_count": 357,
              "seo_name": "united-states",
              "users_count": 10104977,
              "wineries_count": 26264,
              "wines_count": 230446
             },
             "description": null,
             "food": [
              {
               "background_image": {
                "location": "//images.vivino.com/backgrounds/foods/4_beef.png",
                "variations": {
                 "small": "//images.vivino.com/backgrounds/foods/thumbs/4_beef_932x810.png"
                }
               },
               "id": 4,
               "name": "Beef",
               "seo_name": "beef"
              },
              {
               "background_image": {
                "location": "//images.vivino.com/backgrounds/foods/8_lamb.png",
                "variations": {
                 "small": "//images.vivino.com/backgrounds/foods/thumbs/8_lamb_932x810.png"
                }
               },
               "id": 8,
               "name": "Lamb",
               "seo_name": "lamb"
              },
              {
               "background_image": {
                "location": "//images.vivino.com/backgrounds/foods/11_venison.png",
                "variations": {
                 "small": "//images.vivino.com/backgrounds/foods/thumbs/11_venison_932x810.png"
                }
               },
               "id": 11,
               "name": "Game (deer, venison)",
               "seo_name": "game"
              },
              {
               "background_image": {
                "location": "//images.vivino.com/backgrounds/foods/20_chicken.png",
                "variations": {
                 "small": "//images.vivino.com/backgrounds/foods/thumbs/20_chicken_932x810.png"
                }
               },
               "id": 20,
               "name": "Poultry",
               "seo_name": "poultry"
              }
             ],
             "grapes": [
              {
               "has_detailed_info": true,
               "id": 2,
               "name": "Cabernet Sauvignon",
               "seo_name": "cabernet-sauvignon",
               "wines_count": 725925
              },
              {
               "has_detailed_info": true,
               "id": 3,
               "name": "Cabernet Franc",
               "seo_name": "cabernet-franc",
               "wines_count": 243121
              },
              {
               "has_detailed_info": true,
               "id": 9,
               "name": "Malbec",
               "seo_name": "malbec",
               "wines_count": 197235
              },
              {
               "has_detailed_info": true,
               "id": 10,
               "name": "Merlot",
               "seo_name": "merlot",
               "wines_count": 510808
              },
              {
               "has_detailed_info": true,
               "id": 42,
               "name": "Petit Verdot",
               "seo_name": "petit-verdot",
               "wines_count": 74892
              }
             ],
             "id": 290,
             "image": null,
             "interesting_facts": null,
             "name": "Napa Valley Bordeaux Blend",
             "region": {
              "background_image": {
               "location": "//images.vivino.com/regions/backgrounds/cP8NlYVPSUStyROqZeBzgA.jpg",
               "variations": {
                "large": "//thumbs.vivino.com/region_backgrounds/cP8NlYVPSUStyROqZeBzgA_1280x760.jpg",
                "medium": "//thumbs.vivino.com/region_backgrounds/cP8NlYVPSUStyROqZeBzgA_600x356.jpg"
               }
              },
              "class": {
               "typecast_map": {
                "background_image": {},
                "class": {}
               }
              },
              "country": {
               "code": "us",
               "currency": {
                "code": "USD",
                "name": "US Dollars",
                "prefix": "$",
                "suffix": null
               },
               "most_used_grapes": [
                {
                 "has_detailed_info": true,
                 "id": 2,
                 "name": "Cabernet Sauvignon",
                 "seo_name": "cabernet-sauvignon",
                 "wines_count": 725925
                },
                {
                 "has_detailed_info": true,
                 "id": 14,
                 "name": "Pinot Noir",
                 "seo_name": "pinot-noir",
                 "wines_count": 513244
                },
                {
                 "has_detailed_info": true,
                 "id": 5,
                 "name": "Chardonnay",
                 "seo_name": "chardonnay",
                 "wines_count": 541509
                }
               ],
               "name": "United States",
               "native_name": "United States",
               "regions_count": 357,
               "seo_name": "united-states",
               "users_count": 10104977,
               "wineries_count": 26264,
               "wines_count": 230446
              },
              "id": 25,
              "name": "Napa Valley",
              "name_en": "",
              "seo_name": "napa-valley"
             },
             "regional_name": "Napa Valley",
             "seo_name": "napa-valley-bordeaux-blend",
             "varietal_name": "Bordeaux Blend",
             "wine_type_id": 1
            },
            "taste": {
             "flavor": [
              {
               "group": "oak",
               "stats": {
                "count": 1970,
                "score": 259294
               }
              },
              {
               "group": "black_fruit",
               "stats": {
                "count": 1504,
                "score": 221334
               }
              },
              {
               "group": "earth",
               "stats": {
                "count": 1338,
                "score": 130615
               }
              },
              {
               "group": "non_oak",
               "stats": {
                "count": 1150,
                "score": 26486
               }
              },
              {
               "group": "spices",
               "stats": {
                "count": 809,
                "score": 63443
               }
              },
              {
               "group": "red_fruit",
               "stats": {
                "count": 694,
                "score": 61311
               }
              },
              {
               "group": "microbio",
               "stats": {
                "count": 273,
                "score": 18242
               }
              },
              {
               "group": "dried_fruit",
               "stats": {
                "count": 138,
                "score": 9885
               }
              },
              {
               "group": "floral",
               "stats": {
                "count": 123,
                "score": 11625
               }
              },
              {
               "group": "vegetal",
               "stats": {
                "count": 88,
                "score": 6234
               }
              },
              {
               "group": "citrus_fruit",
               "stats": {
                "count": 28,
                "score": 3000
               }
              },
              {
               "group": "tree_fruit",
               "stats": {
                "count": 22,
                "score": 2200
               }
              },
              {
               "group": "tropical_fruit",
               "stats": {
                "count": 13,
                "score": 1031
               }
              }
             ],
             "structure": {
              "acidity": 3.8470414,
              "calculated_structure_count": 3424,
              "fizziness": null,
              "intensity": 4.6459174,
              "sweetness": 1.6764512,
              "tannin": 3.3724108,
              "user_structure_count": 587
             }
            },
            "type_id": 1,
            "vintage_type": 0,
            "winery": {
             "id": 1368,
             "name": "Opus One",
             "seo_name": "opus-one",
             "status": 0
            }
           },
           "year": 2015
          }
         },
         {
          "price": {
           "amount": 179.99,
           "bottle_type": {
            "id": 1,
            "name": "Bottle (0.75l)",
            "short_name": "bottle",
            "short_name_plural": "bottles",
            "volume_ml": 750
           },
           "bottle_type_id": 1,
           "currency": {
            "code": "USD",
            "name": "US Dollars",
            "prefix": "$",
            "suffix": null
           },
           "discount_percent": null,
           "discounted_from": null,
           "id": 20628656,
           "sku": "",
           "type": "vc",
           "url": "https://www.blackbearwines.com/Vega-Sicilia-Tinto-Valbuena-5-Ribera-del-Duero-2014-750-ml-p171315978",
           "visibility": 1
          },
          "prices": [
           {
            "amount": 179.99,
            "bottle_type": {
             "id": 1,
             "name": "Bottle (0.75l)",
             "short_name": "bottle",
             "short_name_plural": "bottles",
             "volume_ml": 750
            },
            "bottle_type_id": 1,
            "currency": {
             "code": "USD",
             "name": "US Dollars",
             "prefix": "$",
             "suffix": null
            },
            "discount_percent": null,
            "discounted_from": null,
            "id": 20628656,
            "sku": "",
            "type": "vc",
            "url": "https://www.blackbearwines.com/Vega-Sicilia-Tinto-Valbuena-5-Ribera-del-Duero-2014-750-ml-p171315978",
            "visibility": 1
           }
          ],
          "vintage": {
           "grapes": null,
           "has_valid_ratings": true,
           "id": 4456025,
           "image": {
            "location": "//images.vivino.com/thumbs/PCImbI11T4i-rZASrHk3gA_pl_480x640.png",
            "variations": {
             "bottle_large": "//images.vivino.com/thumbs/PCImbI11T4i-rZASrHk3gA_pb_x960.png",
             "bottle_medium": "//images.vivino.com/thumbs/PCImbI11T4i-rZASrHk3gA_pb_x600.png",
             "bottle_medium_square": "//images.vivino.com/thumbs/PCImbI11T4i-rZASrHk3gA_pb_600x600.png",
             "bottle_small": "//images.vivino.com/thumbs/PCImbI11T4i-rZASrHk3gA_pb_x300.png",
             "bottle_small_square": "//images.vivino.com/thumbs/PCImbI11T4i-rZASrHk3gA_pb_300x300.png",
             "label": "//images.vivino.com/thumbs/PCImbI11T4i-rZASrHk3gA_pl_480x640.png",
             "label_large": "//images.vivino.com/thumbs/PCImbI11T4i-rZASrHk3gA_pl_375x500.png",
             "label_medium": "//images.vivino.com/thumbs/PCImbI11T4i-rZASrHk3gA_pl_150x200.png",
             "label_medium_square": "//images.vivino.com/thumbs/PCImbI11T4i-rZASrHk3gA_pl_150x150.png",
             "label_small_square": "//images.vivino.com/thumbs/PCImbI11T4i-rZASrHk3gA_pl_80x80.png",
             "large": "//images.vivino.com/thumbs/PCImbI11T4i-rZASrHk3gA_pl_375x500.png",
             "medium": "//images.vivino.com/thumbs/PCImbI11T4i-rZASrHk3gA_pl_150x200.png",
             "medium_square": "//images.vivino.com/thumbs/PCImbI11T4i-rZASrHk3gA_pl_150x150.png",
             "small_square": "//images.vivino.com/thumbs/PCImbI11T4i-rZASrHk3gA_pl_80x80.png"
            }
           },
           "name": "Vega Sicilia Valbuena 5º 2014",
           "seo_name": "vega-sicilia-valbuena-5o-2014",
           "statistics": {
            "labels_count": 21931,
            "ratings_average": 4.7,
            "ratings_count": 3197,
            "status": "Normal"
           },
           "wine": {
            "has_valid_ratings": true,
            "id": 1175427,
            "is_natural": false,
            "name": "Valbuena 5º",
            "region": {
             "background_image": {
              "location": "//images.vivino.com/regions/backgrounds/_nMNiDRrQG-Y6aphFjOyYQ.jpeg",
              "variations": {
               "large": "//thumbs.vivino.com/region_backgrounds/_nMNiDRrQG-Y6aphFjOyYQ_1280x760.jpeg",
               "medium": "//thumbs.vivino.com/region_backgrounds/_nMNiDRrQG-Y6aphFjOyYQ_600x356.jpeg"
              }
             },
             "country": {
              "code": "es",
              "currency": {
               "code": "EUR",
               "name": "Euros",
               "prefix": "€",
               "suffix": null
              },
              "most_used_grapes": [
               {
                "has_detailed_info": true,
                "id": 19,
                "name": "Tempranillo",
                "seo_name": "tempranillo",
                "wines_count": 156528
               },
               {
                "has_detailed_info": true,
                "id": 142,
                "name": "Garnacha",
                "seo_name": "garnacha",
                "wines_count": 52388
               },
               {
                "has_detailed_info": true,
                "id": 2,
                "name": "Cabernet Sauvignon",
                "seo_name": "cabernet-sauvignon",
                "wines_count": 725925
               }
              ],
              "name": "Spain",
              "native_name": "España",
              "regions_count": 150,
              "seo_name": "spain",
              "users_count": 1888821,
              "wineries_count": 16968,
              "wines_count": 121552
             },
             "id": 405,
             "name": "Ribera del Duero",
             "name_en": "",
             "seo_name": "ribera-del-duero"
            },
            "seo_name": "valbuena-5o",
            "statistics": {
             "labels_count": 307744,
             "ratings_average": 4.6,
             "ratings_count": 56381,
             "status": "Normal",
             "vintages_count": 160
            },
            "style": {
             "acidity": 3,
             "acidity_description": "High",
             "background_image": {
              "location": "//images.vivino.com/backgrounds/styles/jvbiWuqtTdSCco23mOd8eA.jpg",
              "variations": {
               "small": "//images.vivino.com/backgrounds/styles/thumbs/jvbiWuqtTdSCco23mOd8eA_932x810.jpg"
              }
             },
             "blurb": "Often Tempranillo-based",
             "body": 5,
             "body_description": "Very full-bodied",
             "country": {
              "code": "es",
              "currency": {
               "code": "EUR",
               "name": "Euros",
               "prefix": "€",
               "suffix": null
              },
              "most_used_grapes": [
               {
                "has_detailed_info": true,
                "id": 19,
                "name": "Tempranillo",
                "seo_name": "tempranillo",
                "wines_count": 156528
               },
               {
                "has_detailed_info": true,
                "id": 142,
                "name": "Garnacha",
                "seo_name": "garnacha",
                "wines_count": 52388
               },
               {
                "has_detailed_info": true,
                "id": 2,
                "name": "Cabernet Sauvignon",
                "seo_name": "cabernet-sauvignon",
                "wines_count": 725925
               }
              ],
              "name": "Spain",
              "native_name": "España",
              "regions_count": 150,
              "seo_name": "spain",
              "users_count": 1888821,
              "wineries_count": 16968,
              "wines_count": 121552
             },
             "description": "Rioja may be the most famous region in Spain, but Ribera del Duero is no slouch. These classic wines are made mostly from the grape Tempranillo.\n\nRibera del Duero wines are known for being strong, dark-colored wines filled with dark fruit, tobacco and vanilla flavors.\n\nThe sensual wines of Ribera del Duero are dark, brooding, and exciting. They are famous for taking the traditional Spanish grape Tempranillo and blending it with Bordeaux grapes Cabernet Sauvignon and Merlot. This practice makes wines that are strong, dark and beautiful.\n\nThis specific grape blend makes these wines very delicious, but their popularity slipped drastically in the 1970s. Extremely long barrel aging and old winemaking practices made the wines extremely inconsistent. Even bottles in the same vintage could be very different.\n\nNow, with modern winemaking practices and attention to detail these wines are becoming as consistently incredible as they should be!",
             "food": [
              {
               "background_image": {
                "location": "//images.vivino.com/backgrounds/foods/4_beef.png",
                "variations": {
                 "small": "//images.vivino.com/backgrounds/foods/thumbs/4_beef_932x810.png"
                }
               },
               "id": 4,
               "name": "Beef",
               "seo_name": "beef"
              },
              {
               "background_image": {
                "location": "//images.vivino.com/backgrounds/foods/8_lamb.png",
                "variations": {
                 "small": "//images.vivino.com/backgrounds/foods/thumbs/8_lamb_932x810.png"
                }
               },
               "id": 8,
               "name": "Lamb",
               "seo_name": "lamb"
              },
              {
               "background_image": {
                "location": "//images.vivino.com/backgrounds/foods/11_venison.png",
                "variations": {
                 "small": "//images.vivino.com/backgrounds/foods/thumbs/11_venison_932x810.png"
                }
               },
               "id": 11,
               "name": "Game (deer, venison)",
               "seo_name": "game"
              }
             ],
             "grapes": [
              {
               "has_detailed_info": true,
               "id": 19,
               "name": "Tempranillo",
               "seo_name": "tempranillo",
               "wines_count": 156528
              }
             ],
             "id": 180,
             "image": null,
             "interesting_facts": [
              "In Ribera del Duero, the grape Tempranillo is called Tinto Fino.",
              "Vega Sicilia in Ribera del Duero has historically been Spain's most expensive wine.",
              "The DO classification for Ribera del Duero was created in 1982.",
              "Ribera del Duero translates to “alongside the Duero River”, which is apt because the Duero River runs through it."
             ],
             "name": "Spanish Ribera Del Duero Red",
             "region": {
              "background_image": {
               "location": "//images.vivino.com/regions/backgrounds/_nMNiDRrQG-Y6aphFjOyYQ.jpeg",
               "variations": {
                "large": "//thumbs.vivino.com/region_backgrounds/_nMNiDRrQG-Y6aphFjOyYQ_1280x760.jpeg",
                "medium": "//thumbs.vivino.com/region_backgrounds/_nMNiDRrQG-Y6aphFjOyYQ_600x356.jpeg"
               }
              },
              "country": {
               "code": "es",
               "currency": {
                "code": "EUR",
                "name": "Euros",
                "prefix": "€",
                "suffix": null
               },
               "most_used_grapes": [
                {
                 "has_detailed_info": true,
                 "id": 19,
                 "name": "Tempranillo",
                 "seo_name": "tempranillo",
                 "wines_count": 156528
                },
                {
                 "has_detailed_info": true,
                 "id": 142,
                 "name": "Garnacha",
                 "seo_name": "garnacha",
                 "wines_count": 52388
                },
                {
                 "has_detailed_info": true,
                 "id": 2,
                 "name": "Cabernet Sauvignon",
                 "seo_name": "cabernet-sauvignon",
                 "wines_count": 725925
                }
               ],
               "name": "Spain",
               "native_name": "España",
               "regions_count": 150,
               "seo_name": "spain",
               "users_count": 1888821,
               "wineries_count": 16968,
               "wines_count": 121552
              },
              "id": 405,
              "name": "Ribera del Duero",
              "name_en": "",
              "seo_name": "ribera-del-duero"
             },
             "regional_name": "Spanish",
             "seo_name": "spanish-ribera-del-duero-red",
             "varietal_name": "Ribera Del Duero Red",
             "wine_type_id": 1
            },
            "taste": {
             "flavor": [
              {
               "group": "oak",
               "stats": {
                "count": 1303,
                "score": 186255
               }
              },
              {
               "group": "non_oak",
               "stats": {
                "count": 907,
                "score": 22210
               }
              },
              {
               "group": "earth",
               "stats": {
                "count": 892,
                "score": 82863
               }
              },
              {
               "group": "black_fruit",
               "stats": {
                "count": 772,
                "score": 106295
               }
              },
              {
               "group": "spices",
               "stats": {
                "count": 690,
                "score": 42611
               }
              },
              {
               "group": "red_fruit",
               "stats": {
                "count": 530,
                "score": 53603
               }
              },
              {
               "group": "microbio",
               "stats": {
                "count": 191,
                "score": 12034
               }
              },
              {
               "group": "dried_fruit",
               "stats": {
                "count": 129,
                "score": 11444
               }
              },
              {
               "group": "floral",
               "stats": {
                "count": 70,
                "score": 6450
               }
              },
              {
               "group": "vegetal",
               "stats": {
                "count": 66,
                "score": 4169
               }
              },
              {
               "group": "citrus_fruit",
               "stats": {
                "count": 43,
                "score": 4600
               }
              },
              {
               "group": "tree_fruit",
               "stats": {
                "count": 9,
                "score": 900
               }
              },
              {
               "group": "tropical_fruit",
               "stats": {
                "count": 7,
                "score": 566
               }
              }
             ],
             "structure": {
              "acidity": 3.7107656,
              "calculated_structure_count": 1659,
              "fizziness": null,
              "intensity": 3.8767478,
              "sweetness": 1.8265522,
              "tannin": 3.4770312,
              "user_structure_count": 2662
             }
            },
            "type_id": 1,
            "vintage_type": 0,
            "winery": {
             "id": 11050,
             "name": "Vega Sicilia",
             "seo_name": "vega-sicilia",
             "status": 0
            }
           },
           "year": 2014
          }
         },
         {
          "price": {
           "amount": 394.95,
           "bottle_type": {
            "id": 1,
            "name": "Bottle (0.75l)",
            "short_name": "bottle",
            "short_name_plural": "bottles",
            "volume_ml": 750
           },
           "bottle_type_id": 1,
           "currency": {
            "code": "USD",
            "name": "US Dollars",
            "prefix": "$",
            "suffix": null
           },
           "discount_percent": null,
           "discounted_from": null,
           "id": 23897810,
           "sku": "",
           "type": "vc",
           "url": "https://sommcellarswine.com/products/2004-vega-sicilia-unico-gran-reserva",
           "visibility": 1
          },
          "prices": [
           {
            "amount": 394.95,
            "bottle_type": {
             "id": 1,
             "name": "Bottle (0.75l)",
             "short_name": "bottle",
             "short_name_plural": "bottles",
             "volume_ml": 750
            },
            "bottle_type_id": 1,
            "currency": {
             "code": "USD",
             "name": "US Dollars",
             "prefix": "$",
             "suffix": null
            },
            "discount_percent": null,
            "discounted_from": null,
            "id": 23897810,
            "sku": "",
            "type": "vc",
            "url": "https://sommcellarswine.com/products/2004-vega-sicilia-unico-gran-reserva",
            "visibility": 1
           }
          ],
          "vintage": {
           "grapes": null,
           "has_valid_ratings": true,
           "id": 87403,
           "image": {
            "location": "//images.vivino.com/thumbs/SCnpJk_ySUe6XS3U-lFOwQ_pl_480x640.png",
            "variations": {
             "bottle_large": "//images.vivino.com/thumbs/SCnpJk_ySUe6XS3U-lFOwQ_pb_x960.png",
             "bottle_medium": "//images.vivino.com/thumbs/SCnpJk_ySUe6XS3U-lFOwQ_pb_x600.png",
             "bottle_medium_square": "//images.vivino.com/thumbs/SCnpJk_ySUe6XS3U-lFOwQ_pb_600x600.png",
             "bottle_small": "//images.vivino.com/thumbs/SCnpJk_ySUe6XS3U-lFOwQ_pb_x300.png",
             "bottle_small_square": "//images.vivino.com/thumbs/SCnpJk_ySUe6XS3U-lFOwQ_pb_300x300.png",
             "label": "//images.vivino.com/thumbs/SCnpJk_ySUe6XS3U-lFOwQ_pl_480x640.png",
             "label_large": "//images.vivino.com/thumbs/SCnpJk_ySUe6XS3U-lFOwQ_pl_375x500.png",
             "label_medium": "//images.vivino.com/thumbs/SCnpJk_ySUe6XS3U-lFOwQ_pl_150x200.png",
             "label_medium_square": "//images.vivino.com/thumbs/SCnpJk_ySUe6XS3U-lFOwQ_pl_150x150.png",
             "label_small_square": "//images.vivino.com/thumbs/SCnpJk_ySUe6XS3U-lFOwQ_pl_80x80.png",
             "large": "//images.vivino.com/thumbs/SCnpJk_ySUe6XS3U-lFOwQ_pl_375x500.png",
             "medium": "//images.vivino.com/thumbs/SCnpJk_ySUe6XS3U-lFOwQ_pl_150x200.png",
             "medium_square": "//images.vivino.com/thumbs/SCnpJk_ySUe6XS3U-lFOwQ_pl_150x150.png",
             "small_square": "//images.vivino.com/thumbs/SCnpJk_ySUe6XS3U-lFOwQ_pl_80x80.png"
            }
           },
           "name": "Vega Sicilia Unico 2004",
           "seo_name": "vega-sicilia-unico-2004",
           "statistics": {
            "labels_count": 14140,
            "ratings_average": 4.7,
            "ratings_count": 2961,
            "status": "Normal"
           },
           "wine": {
            "has_valid_ratings": true,
            "id": 77137,
            "is_natural": false,
            "name": "Unico",
            "region": {
             "background_image": {
              "location": "//images.vivino.com/regions/backgrounds/_nMNiDRrQG-Y6aphFjOyYQ.jpeg",
              "variations": {
               "large": "//thumbs.vivino.com/region_backgrounds/_nMNiDRrQG-Y6aphFjOyYQ_1280x760.jpeg",
               "medium": "//thumbs.vivino.com/region_backgrounds/_nMNiDRrQG-Y6aphFjOyYQ_600x356.jpeg"
              }
             },
             "country": {
              "code": "es",
              "currency": {
               "code": "EUR",
               "name": "Euros",
               "prefix": "€",
               "suffix": null
              },
              "most_used_grapes": [
               {
                "has_detailed_info": true,
                "id": 19,
                "name": "Tempranillo",
                "seo_name": "tempranillo",
                "wines_count": 156528
               },
               {
                "has_detailed_info": true,
                "id": 142,
                "name": "Garnacha",
                "seo_name": "garnacha",
                "wines_count": 52388
               },
               {
                "has_detailed_info": true,
                "id": 2,
                "name": "Cabernet Sauvignon",
                "seo_name": "cabernet-sauvignon",
                "wines_count": 725925
               }
              ],
              "name": "Spain",
              "native_name": "España",
              "regions_count": 150,
              "seo_name": "spain",
              "users_count": 1888821,
              "wineries_count": 16968,
              "wines_count": 121552
             },
             "id": 405,
             "name": "Ribera del Duero",
             "name_en": "",
             "seo_name": "ribera-del-duero"
            },
            "seo_name": "unico",
            "statistics": {
             "labels_count": 194332,
             "ratings_average": 4.7,
             "ratings_count": 35634,
             "status": "Normal",
             "vintages_count": 203
            },
            "style": {
             "acidity": 3,
             "acidity_description": "High",
             "background_image": {
              "location": "//images.vivino.com/backgrounds/styles/jvbiWuqtTdSCco23mOd8eA.jpg",
              "variations": {
               "small": "//images.vivino.com/backgrounds/styles/thumbs/jvbiWuqtTdSCco23mOd8eA_932x810.jpg"
              }
             },
             "blurb": "Often Tempranillo-based",
             "body": 5,
             "body_description": "Very full-bodied",
             "country": {
              "code": "es",
              "currency": {
               "code": "EUR",
               "name": "Euros",
               "prefix": "€",
               "suffix": null
              },
              "most_used_grapes": [
               {
                "has_detailed_info": true,
                "id": 19,
                "name": "Tempranillo",
                "seo_name": "tempranillo",
                "wines_count": 156528
               },
               {
                "has_detailed_info": true,
                "id": 142,
                "name": "Garnacha",
                "seo_name": "garnacha",
                "wines_count": 52388
               },
               {
                "has_detailed_info": true,
                "id": 2,
                "name": "Cabernet Sauvignon",
                "seo_name": "cabernet-sauvignon",
                "wines_count": 725925
               }
              ],
              "name": "Spain",
              "native_name": "España",
              "regions_count": 150,
              "seo_name": "spain",
              "users_count": 1888821,
              "wineries_count": 16968,
              "wines_count": 121552
             },
             "description": "Rioja may be the most famous region in Spain, but Ribera del Duero is no slouch. These classic wines are made mostly from the grape Tempranillo.\n\nRibera del Duero wines are known for being strong, dark-colored wines filled with dark fruit, tobacco and vanilla flavors.\n\nThe sensual wines of Ribera del Duero are dark, brooding, and exciting. They are famous for taking the traditional Spanish grape Tempranillo and blending it with Bordeaux grapes Cabernet Sauvignon and Merlot. This practice makes wines that are strong, dark and beautiful.\n\nThis specific grape blend makes these wines very delicious, but their popularity slipped drastically in the 1970s. Extremely long barrel aging and old winemaking practices made the wines extremely inconsistent. Even bottles in the same vintage could be very different.\n\nNow, with modern winemaking practices and attention to detail these wines are becoming as consistently incredible as they should be!",
             "food": [
              {
               "background_image": {
                "location": "//images.vivino.com/backgrounds/foods/4_beef.png",
                "variations": {
                 "small": "//images.vivino.com/backgrounds/foods/thumbs/4_beef_932x810.png"
                }
               },
               "id": 4,
               "name": "Beef",
               "seo_name": "beef"
              },
              {
               "background_image": {
                "location": "//images.vivino.com/backgrounds/foods/8_lamb.png",
                "variations": {
                 "small": "//images.vivino.com/backgrounds/foods/thumbs/8_lamb_932x810.png"
                }
               },
               "id": 8,
               "name": "Lamb",
               "seo_name": "lamb"
              },
              {
               "background_image": {
                "location": "//images.vivino.com/backgrounds/foods/11_venison.png",
                "variations": {
                 "small": "//images.vivino.com/backgrounds/foods/thumbs/11_venison_932x810.png"
                }
               },
               "id": 11,
               "name": "Game (deer, venison)",
               "seo_name": "game"
              }
             ],
             "grapes": [
              {
               "has_detailed_info": true,
               "id": 19,
               "name": "Tempranillo",
               "seo_name": "tempranillo",
               "wines_count": 156528
              }
             ],
             "id": 180,
             "image": null,
             "interesting_facts": [
              "In Ribera del Duero, the grape Tempranillo is called Tinto Fino.",
              "Vega Sicilia in Ribera del Duero has historically been Spain's most expensive wine.",
              "The DO classification for Ribera del Duero was created in 1982.",
              "Ribera del Duero translates to “alongside the Duero River”, which is apt because the Duero River runs through it."
             ],
             "name": "Spanish Ribera Del Duero Red",
             "region": {
              "background_image": {
               "location": "//images.vivino.com/regions/backgrounds/_nMNiDRrQG-Y6aphFjOyYQ.jpeg",
               "variations": {
                "large": "//thumbs.vivino.com/region_backgrounds/_nMNiDRrQG-Y6aphFjOyYQ_1280x760.jpeg",
                "medium": "//thumbs.vivino.com/region_backgrounds/_nMNiDRrQG-Y6aphFjOyYQ_600x356.jpeg"
               }
              },
              "country": {
               "code": "es",
               "currency": {
                "code": "EUR",
                "name": "Euros",
                "prefix": "€",
                "suffix": null
               },
               "most_used_grapes": [
                {
                 "has_detailed_info": true,
                 "id": 19,
                 "name": "Tempranillo",
                 "seo_name": "tempranillo",
                 "wines_count": 156528
                },
                {
                 "has_detailed_info": true,
                 "id": 142,
                 "name": "Garnacha",
                 "seo_name": "garnacha",
                 "wines_count": 52388
                },
                {
                 "has_detailed_info": true,
                 "id": 2,
                 "name": "Cabernet Sauvignon",
                 "seo_name": "cabernet-sauvignon",
                 "wines_count": 725925
                }
               ],
               "name": "Spain",
               "native_name": "España",
               "regions_count": 150,
               "seo_name": "spain",
               "users_count": 1888821,
               "wineries_count": 16968,
               "wines_count": 121552
              },
              "id": 405,
              "name": "Ribera del Duero",
              "name_en": "",
              "seo_name": "ribera-del-duero"
             },
             "regional_name": "Spanish",
             "seo_name": "spanish-ribera-del-duero-red",
             "varietal_name": "Ribera Del Duero Red",
             "wine_type_id": 1
            },
            "taste": {
             "flavor": [
              {
               "group": "oak",
               "stats": {
                "count": 943,
                "score": 132399
               }
              },
              {
               "group": "earth",
               "stats": {
                "count": 719,
                "score": 74154
               }
              },
              {
               "group": "non_oak",
               "stats": {
                "count": 664,
                "score": 18436
               }
              },
              {
               "group": "black_fruit",
               "stats": {
                "count": 542,
                "score": 71013
               }
              },
              {
               "group": "spices",
               "stats": {
                "count": 473,
                "score": 31637
               }
              },
              {
               "group": "red_fruit",
               "stats": {
                "count": 395,
                "score": 40401
               }
              },
              {
               "group": "microbio",
               "stats": {
                "count": 160,
                "score": 8932
               }
              },
              {
               "group": "dried_fruit",
               "stats": {
                "count": 116,
                "score": 12119
               }
              },
              {
               "group": "floral",
               "stats": {
                "count": 76,
                "score": 7650
               }
              },
              {
               "group": "vegetal",
               "stats": {
                "count": 58,
                "score": 2993
               }
              },
              {
               "group": "citrus_fruit",
               "stats": {
                "count": 36,
                "score": 3800
               }
              },
              {
               "group": "tree_fruit",
               "stats": {
                "count": 10,
                "score": 1000
               }
              },
              {
               "group": "tropical_fruit",
               "stats": {
                "count": 3,
                "score": 166
               }
              }
             ],
             "structure": {
              "acidity": 3.7221804,
              "calculated_structure_count": 1240,
              "fizziness": null,
              "intensity": 3.8337524,
              "sweetness": 1.7588925,
              "tannin": 3.4324236,
              "user_structure_count": 1427
             }
            },
            "type_id": 1,
            "vintage_type": 0,
            "winery": {
             "id": 11050,
             "name": "Vega Sicilia",
             "seo_name": "vega-sicilia",
             "status": 0
            }
           },
           "year": 2004
          }
         },
         {
          "price": {
           "amount": 399.99,
           "bottle_type": {
            "id": 1,
            "name": "Bottle (0.75l)",
            "short_name": "bottle",
            "short_name_plural": "bottles",
            "volume_ml": 750
           },
           "bottle_type_id": 1,
           "currency": {
            "code": "USD",
            "name": "US Dollars",
            "prefix": "$",
            "suffix": null
           },
           "discount_percent": null,
           "discounted_from": null,
           "id": 19635698,
           "sku": "",
           "type": "vc",
           "url": "https://littlewestwine.com/products/chateau-pontet-canet-pauillac-5eme-grand-cru-classe-2009",
           "visibility": 1
          },
          "prices": [
           {
            "amount": 399.99,
            "bottle_type": {
             "id": 1,
             "name": "Bottle (0.75l)",
             "short_name": "bottle",
             "short_name_plural": "bottles",
             "volume_ml": 750
            },
            "bottle_type_id": 1,
            "currency": {
             "code": "USD",
             "name": "US Dollars",
             "prefix": "$",
             "suffix": null
            },
            "discount_percent": null,
            "discounted_from": null,
            "id": 19635698,
            "sku": "",
            "type": "vc",
            "url": "https://littlewestwine.com/products/chateau-pontet-canet-pauillac-5eme-grand-cru-classe-2009",
            "visibility": 1
           }
          ],
          "vintage": {
           "grapes": null,
           "has_valid_ratings": true,
           "id": 1347152,
           "image": {
            "location": "//images.vivino.com/thumbs/zoXYIDxFQzmf8fFpkNNUJQ_pl_480x640.png",
            "variations": {
             "bottle_large": "//images.vivino.com/thumbs/zoXYIDxFQzmf8fFpkNNUJQ_pb_x960.png",
             "bottle_medium": "//images.vivino.com/thumbs/zoXYIDxFQzmf8fFpkNNUJQ_pb_x600.png",
             "bottle_medium_square": "//images.vivino.com/thumbs/zoXYIDxFQzmf8fFpkNNUJQ_pb_600x600.png",
             "bottle_small": "//images.vivino.com/thumbs/zoXYIDxFQzmf8fFpkNNUJQ_pb_x300.png",
             "bottle_small_square": "//images.vivino.com/thumbs/zoXYIDxFQzmf8fFpkNNUJQ_pb_300x300.png",
             "label": "//images.vivino.com/thumbs/zoXYIDxFQzmf8fFpkNNUJQ_pl_480x640.png",
             "label_large": "//images.vivino.com/thumbs/zoXYIDxFQzmf8fFpkNNUJQ_pl_375x500.png",
             "label_medium": "//images.vivino.com/thumbs/zoXYIDxFQzmf8fFpkNNUJQ_pl_150x200.png",
             "label_medium_square": "//images.vivino.com/thumbs/zoXYIDxFQzmf8fFpkNNUJQ_pl_150x150.png",
             "label_small_square": "//images.vivino.com/thumbs/zoXYIDxFQzmf8fFpkNNUJQ_pl_80x80.png",
             "large": "//images.vivino.com/thumbs/zoXYIDxFQzmf8fFpkNNUJQ_pl_375x500.png",
             "medium": "//images.vivino.com/thumbs/zoXYIDxFQzmf8fFpkNNUJQ_pl_150x200.png",
             "medium_square": "//images.vivino.com/thumbs/zoXYIDxFQzmf8fFpkNNUJQ_pl_150x150.png",
             "small_square": "//images.vivino.com/thumbs/zoXYIDxFQzmf8fFpkNNUJQ_pl_80x80.png"
            }
           },
           "name": "Château Pontet-Canet Pauillac (Grand Cru Classé) 2009",
           "seo_name": "chateau-pontet-canet-pauillac-grand-cru-classe-2009",
           "statistics": {
            "labels_count": 18323,
            "ratings_average": 4.7,
            "ratings_count": 2316,
            "status": "Normal"
           },
           "top_list_rankings": [
            {
             "description": null,
             "previous_rank": 5,
             "rank": 5,
             "top_list": {
              "id": 2018264,
              "location": "_0",
              "name": "Vivino's 2018 Wine Style Awards: Bordeaux Pauillac",
              "seo_name": "wine_style_awards_2018_bordeaux_left_bank_pauillac",
              "type": 6,
              "year": "2018"
             }
            },
            {
             "description": null,
             "previous_rank": 6,
             "rank": 6,
             "top_list": {
              "id": 2019264,
              "location": "_0",
              "name": "Vivino's 2019 Wine Style Awards: Bordeaux Pauillac",
              "seo_name": "wine_style_awards_2019_bordeaux_left_bank_pauillac",
              "type": 6,
              "year": "2019"
             }
            }
           ],
           "wine": {
            "has_valid_ratings": true,
            "id": 14362,
            "is_natural": false,
            "name": "Pauillac (Grand Cru Classé)",
            "region": {
             "background_image": {
              "location": "//images.vivino.com/regions/backgrounds/-wJ76BSdS0G-h8eEF-Ra7g.jpg",
              "variations": {
               "large": "//thumbs.vivino.com/region_backgrounds/-wJ76BSdS0G-h8eEF-Ra7g_1280x760.jpg",
               "medium": "//thumbs.vivino.com/region_backgrounds/-wJ76BSdS0G-h8eEF-Ra7g_600x356.jpg"
              }
             },
             "class": {
              "typecast_map": {
               "background_image": {},
               "class": {}
              }
             },
             "country": {
              "code": "fr",
              "currency": {
               "code": "EUR",
               "name": "Euros",
               "prefix": "€",
               "suffix": null
              },
              "most_used_grapes": [
               {
                "has_detailed_info": true,
                "id": 14,
                "name": "Pinot Noir",
                "seo_name": "pinot-noir",
                "wines_count": 513244
               },
               {
                "has_detailed_info": true,
                "id": 10,
                "name": "Merlot",
                "seo_name": "merlot",
                "wines_count": 510808
               },
               {
                "has_detailed_info": true,
                "id": 5,
                "name": "Chardonnay",
                "seo_name": "chardonnay",
                "wines_count": 541509
               }
              ],
              "name": "France",
              "native_name": "France",
              "regions_count": 1286,
              "seo_name": "france",
              "users_count": 4353758,
              "wineries_count": 65782,
              "wines_count": 508606
             },
             "id": 393,
             "name": "Pauillac",
             "name_en": "",
             "seo_name": "pauillac"
            },
            "seo_name": "pauillac-grand-cru-classe",
            "statistics": {
             "labels_count": 274408,
             "ratings_average": 4.3,
             "ratings_count": 34264,
             "status": "Normal",
             "vintages_count": 137
            },
            "style": {
             "acidity": 3,
             "acidity_description": "High",
             "background_image": null,
             "blurb": null,
             "body": 4,
             "body_description": "Full-bodied",
             "country": {
              "code": "fr",
              "currency": {
               "code": "EUR",
               "name": "Euros",
               "prefix": "€",
               "suffix": null
              },
              "most_used_grapes": [
               {
                "has_detailed_info": true,
                "id": 14,
                "name": "Pinot Noir",
                "seo_name": "pinot-noir",
                "wines_count": 513244
               },
               {
                "has_detailed_info": true,
                "id": 10,
                "name": "Merlot",
                "seo_name": "merlot",
                "wines_count": 510808
               },
               {
                "has_detailed_info": true,
                "id": 5,
                "name": "Chardonnay",
                "seo_name": "chardonnay",
                "wines_count": 541509
               }
              ],
              "name": "France",
              "native_name": "France",
              "regions_count": 1286,
              "seo_name": "france",
              "users_count": 4353758,
              "wineries_count": 65782,
              "wines_count": 508606
             },
             "description": "Bordeaux Pauillac wines are rich and concentrated, full-bodied reds with grippy tannins, and characteristic notes of cassis, cedar and cigar box spice.\n\nThe best examples come from blends with a base of high-quality Cabernet Sauvignon and are often considered the quintessential example of a Bordeaux wine.\n\nPauillac, in Bordeaux's Left Bank Médoc region, boasts well-draining gravel soils, which in turn translates to higher quality wines; and those from Pauillac age extremely well.\n\nThree of the five first-growths from the 1855 classification of the Médoc are situated in Pauillac: Lafite, Latour, and Mouton-Rothschild.",
             "food": [
              {
               "background_image": {
                "location": "//images.vivino.com/backgrounds/foods/4_beef.png",
                "variations": {
                 "small": "//images.vivino.com/backgrounds/foods/thumbs/4_beef_932x810.png"
                }
               },
               "id": 4,
               "name": "Beef",
               "seo_name": "beef"
              },
              {
               "background_image": {
                "location": "//images.vivino.com/backgrounds/foods/8_lamb.png",
                "variations": {
                 "small": "//images.vivino.com/backgrounds/foods/thumbs/8_lamb_932x810.png"
                }
               },
               "id": 8,
               "name": "Lamb",
               "seo_name": "lamb"
              },
              {
               "background_image": {
                "location": "//images.vivino.com/backgrounds/foods/11_venison.png",
                "variations": {
                 "small": "//images.vivino.com/backgrounds/foods/thumbs/11_venison_932x810.png"
                }
               },
               "id": 11,
               "name": "Game (deer, venison)",
               "seo_name": "game"
              },
              {
               "background_image": {
                "location": "//images.vivino.com/backgrounds/foods/20_chicken.png",
                "variations": {
                 "small": "//images.vivino.com/backgrounds/foods/thumbs/20_chicken_932x810.png"
                }
               },
               "id": 20,
               "name": "Poultry",
               "seo_name": "poultry"
              }
             ],
             "grapes": [
              {
               "has_detailed_info": true,
               "id": 2,
               "name": "Cabernet Sauvignon",
               "seo_name": "cabernet-sauvignon",
               "wines_count": 725925
              },
              {
               "has_detailed_info": true,
               "id": 3,
               "name": "Cabernet Franc",
               "seo_name": "cabernet-franc",
               "wines_count": 243121
              },
              {
               "has_detailed_info": true,
               "id": 9,
               "name": "Malbec",
               "seo_name": "malbec",
               "wines_count": 197235
              },
              {
               "has_detailed_info": true,
               "id": 10,
               "name": "Merlot",
               "seo_name": "merlot",
               "wines_count": 510808
              },
              {
               "has_detailed_info": true,
               "id": 42,
               "name": "Petit Verdot",
               "seo_name": "petit-verdot",
               "wines_count": 74892
              },
              {
               "has_detailed_info": true,
               "id": 51,
               "name": "Carménère",
               "seo_name": "carmenere",
               "wines_count": 45374
              }
             ],
             "id": 264,
             "image": null,
             "interesting_facts": [
              "Though Pauillac boasts some of Bordeaux's most acclaimed estates, the town itself is very small.",
              "More than half of the 18 classified 'Fifth-Growths' are in Pauillac, including the famous Château Lynch-Bages.",
              "Château Mouton-Rothschild, which encompases 90 hectares (222 acres) in Pauillac was elevated from a 'Second-Growth' to a 'First-Growth in 1973—the only time in the history of the 1855 Classification that a winery's classified position was re-evaluated."
             ],
             "name": "Bordeaux Pauillac",
             "region": {
              "background_image": {
               "location": "//images.vivino.com/regions/backgrounds/sbzA7h1ITnaHABaVqWJ4CA.jpg",
               "variations": {
                "large": "//thumbs.vivino.com/region_backgrounds/sbzA7h1ITnaHABaVqWJ4CA_1280x760.jpg",
                "medium": "//thumbs.vivino.com/region_backgrounds/sbzA7h1ITnaHABaVqWJ4CA_600x356.jpg"
               }
              },
              "class": {
               "typecast_map": {
                "background_image": {},
                "class": {}
               }
              },
              "country": {
               "code": "fr",
               "currency": {
                "code": "EUR",
                "name": "Euros",
                "prefix": "€",
                "suffix": null
               },
               "most_used_grapes": [
                {
                 "has_detailed_info": true,
                 "id": 14,
                 "name": "Pinot Noir",
                 "seo_name": "pinot-noir",
                 "wines_count": 513244
                },
                {
                 "has_detailed_info": true,
                 "id": 10,
                 "name": "Merlot",
                 "seo_name": "merlot",
                 "wines_count": 510808
                },
                {
                 "has_detailed_info": true,
                 "id": 5,
                 "name": "Chardonnay",
                 "seo_name": "chardonnay",
                 "wines_count": 541509
                }
               ],
               "name": "France",
               "native_name": "France",
               "regions_count": 1286,
               "seo_name": "france",
               "users_count": 4353758,
               "wineries_count": 65782,
               "wines_count": 508606
              },
              "id": 383,
              "name": "Bordeaux",
              "name_en": "",
              "seo_name": "bordeaux"
             },
             "regional_name": "Bordeaux Left Bank",
             "seo_name": "bordeaux-left-bank-pauillac",
             "varietal_name": "Pauillac",
             "wine_type_id": 1
            },
            "taste": {
             "flavor": [
              {
               "group": "oak",
               "stats": {
                "count": 1867,
                "score": 220414
               }
              },
              {
               "group": "black_fruit",
               "stats": {
                "count": 1753,
                "score": 265820
               }
              },
              {
               "group": "earth",
               "stats": {
                "count": 1639,
                "score": 193751
               }
              },
              {
               "group": "non_oak",
               "stats": {
                "count": 1215,
                "score": 26712
               }
              },
              {
               "group": "spices",
               "stats": {
                "count": 740,
                "score": 56874
               }
              },
              {
               "group": "red_fruit",
               "stats": {
                "count": 623,
                "score": 58599
               }
              },
              {
               "group": "microbio",
               "stats": {
                "count": 253,
                "score": 14616
               }
              },
              {
               "group": "floral",
               "stats": {
                "count": 175,
                "score": 17300
               }
              },
              {
               "group": "dried_fruit",
               "stats": {
                "count": 112,
                "score": 10124
               }
              },
              {
               "group": "vegetal",
               "stats": {
                "count": 110,
                "score": 8259
               }
              },
              {
               "group": "citrus_fruit",
               "stats": {
                "count": 25,
                "score": 2500
               }
              },
              {
               "group": "tropical_fruit",
               "stats": {
                "count": 14,
                "score": 1131
               }
              },
              {
               "group": "tree_fruit",
               "stats": {
                "count": 14,
                "score": 1400
               }
              }
             ],
             "structure": {
              "acidity": 4.2154818,
              "calculated_structure_count": 2723,
              "fizziness": null,
              "intensity": 4.2314324,
              "sweetness": 1.6792759,
              "tannin": 4.250553,
              "user_structure_count": 1131
             }
            },
            "type_id": 1,
            "vintage_type": 0,
            "winery": {
             "id": 1309,
             "name": "Château Pontet-Canet",
             "seo_name": "chateau-pontet-canet",
             "status": 0
            }
           },
           "year": 2009
          }
         },
         {
          "price": {
           "amount": 299.99,
           "bottle_type": {
            "id": 1,
            "name": "Bottle (0.75l)",
            "short_name": "bottle",
            "short_name_plural": "bottles",
            "volume_ml": 750
           },
           "bottle_type_id": 1,
           "currency": {
            "code": "USD",
            "name": "US Dollars",
            "prefix": "$",
            "suffix": null
           },
           "discount_percent": null,
           "discounted_from": null,
           "id": 22781947,
           "sku": "SGPF11238",
           "type": "vc",
           "url": "http://vivino.cpdwineliquor.com/Product?PID=2236",
           "visibility": 1
          },
          "prices": [
           {
            "amount": 299.99,
            "bottle_type": {
             "id": 1,
             "name": "Bottle (0.75l)",
             "short_name": "bottle",
             "short_name_plural": "bottles",
             "volume_ml": 750
            },
            "bottle_type_id": 1,
            "currency": {
             "code": "USD",
             "name": "US Dollars",
             "prefix": "$",
             "suffix": null
            },
            "discount_percent": null,
            "discounted_from": null,
            "id": 22781947,
            "sku": "SGPF11238",
            "type": "vc",
            "url": "http://vivino.cpdwineliquor.com/Product?PID=2236",
            "visibility": 1
           }
          ],
          "vintage": {
           "grapes": null,
           "has_valid_ratings": true,
           "id": 1359570,
           "image": {
            "location": "//images.vivino.com/thumbs/wFQUeZcsSX6MYWmLEh8AKg_pl_480x640.png",
            "variations": {
             "bottle_large": "//images.vivino.com/thumbs/wFQUeZcsSX6MYWmLEh8AKg_pb_x960.png",
             "bottle_medium": "//images.vivino.com/thumbs/wFQUeZcsSX6MYWmLEh8AKg_pb_x600.png",
             "bottle_medium_square": "//images.vivino.com/thumbs/wFQUeZcsSX6MYWmLEh8AKg_pb_600x600.png",
             "bottle_small": "//images.vivino.com/thumbs/wFQUeZcsSX6MYWmLEh8AKg_pb_x300.png",
             "bottle_small_square": "//images.vivino.com/thumbs/wFQUeZcsSX6MYWmLEh8AKg_pb_300x300.png",
             "label": "//images.vivino.com/thumbs/wFQUeZcsSX6MYWmLEh8AKg_pl_480x640.png",
             "label_large": "//images.vivino.com/thumbs/wFQUeZcsSX6MYWmLEh8AKg_pl_375x500.png",
             "label_medium": "//images.vivino.com/thumbs/wFQUeZcsSX6MYWmLEh8AKg_pl_150x200.png",
             "label_medium_square": "//images.vivino.com/thumbs/wFQUeZcsSX6MYWmLEh8AKg_pl_150x150.png",
             "label_small_square": "//images.vivino.com/thumbs/wFQUeZcsSX6MYWmLEh8AKg_pl_80x80.png",
             "large": "//images.vivino.com/thumbs/wFQUeZcsSX6MYWmLEh8AKg_pl_375x500.png",
             "medium": "//images.vivino.com/thumbs/wFQUeZcsSX6MYWmLEh8AKg_pl_150x200.png",
             "medium_square": "//images.vivino.com/thumbs/wFQUeZcsSX6MYWmLEh8AKg_pl_150x150.png",
             "small_square": "//images.vivino.com/thumbs/wFQUeZcsSX6MYWmLEh8AKg_pl_80x80.png"
            }
           },
           "name": "Casa Ferreirinha Reserva Especial Douro 2007",
           "seo_name": "casa-ferreirinha-reserva-especial-douro-2007",
           "statistics": {
            "labels_count": 10515,
            "ratings_average": 4.7,
            "ratings_count": 2167,
            "status": "Normal"
           },
           "top_list_rankings": [
            {
             "description": null,
             "previous_rank": 4,
             "rank": 4,
             "top_list": {
              "id": 201781,
              "location": "_0",
              "name": "Vivino's 2017 Wine Style Awards: Portuguese Douro Red",
              "seo_name": "wine_style_awards_2017_portuguese-douro-red",
              "type": 6,
              "year": "2017"
             }
            },
            {
             "description": null,
             "previous_rank": 5,
             "rank": 5,
             "top_list": {
              "id": 201881,
              "location": "_0",
              "name": "Vivino's 2018 Wine Style Awards: Portuguese Douro Red",
              "seo_name": "wine_style_awards_2018_portuguese_douro_red",
              "type": 6,
              "year": "2018"
             }
            },
            {
             "description": null,
             "previous_rank": 2,
             "rank": 2,
             "top_list": {
              "id": 201981,
              "location": "_0",
              "name": "Vivino's 2019 Wine Style Awards: Portuguese Douro Red",
              "seo_name": "wine_style_awards_2019_portuguese_douro_red",
              "type": 6,
              "year": "2019"
             }
            },
            {
             "description": null,
             "previous_rank": 2,
             "rank": 2,
             "top_list": {
              "id": 202081,
              "location": "_0",
              "name": "Vivino's 2020 Wine Style Awards: Portuguese Douro Red",
              "seo_name": "wine_style_awards_2020_portuguese_douro_red",
              "type": 6,
              "year": "2020"
             }
            }
           ],
           "wine": {
            "has_valid_ratings": true,
            "id": 75979,
            "is_natural": false,
            "name": "Reserva Especial Douro",
            "region": {
             "background_image": {
              "location": "//images.vivino.com/regions/backgrounds/ePk3750qR3ioS9lEfzLBnA.jpg",
              "variations": {
               "large": "//thumbs.vivino.com/region_backgrounds/ePk3750qR3ioS9lEfzLBnA_1280x760.jpg",
               "medium": "//thumbs.vivino.com/region_backgrounds/ePk3750qR3ioS9lEfzLBnA_600x356.jpg"
              }
             },
             "class": {
              "typecast_map": {
               "background_image": {},
               "class": {}
              }
             },
             "country": {
              "code": "pt",
              "currency": {
               "code": "EUR",
               "name": "Euros",
               "prefix": "€",
               "suffix": null
              },
              "most_used_grapes": [
               {
                "has_detailed_info": true,
                "id": 67,
                "name": "Touriga Nacional",
                "seo_name": "touriga-nacional",
                "wines_count": 75882
               },
               {
                "has_detailed_info": false,
                "id": 68,
                "name": "Touriga Franca",
                "seo_name": "touriga-franca",
                "wines_count": 30116
               },
               {
                "has_detailed_info": false,
                "id": 69,
                "name": "Tinta Roriz",
                "seo_name": "tinta-roriz",
                "wines_count": 36604
               }
              ],
              "name": "Portugal",
              "native_name": "Portugal",
              "regions_count": 91,
              "seo_name": "portugal",
              "users_count": 880466,
              "wineries_count": 5503,
              "wines_count": 47334
             },
             "id": 433,
             "name": "Douro",
             "name_en": "",
             "seo_name": "douro"
            },
            "seo_name": "reserva-especial-douro",
            "statistics": {
             "labels_count": 28590,
             "ratings_average": 4.6,
             "ratings_count": 6380,
             "status": "Normal",
             "vintages_count": 70
            },
            "style": {
             "acidity": 3,
             "acidity_description": "High",
             "background_image": null,
             "blurb": "Red wine from Northern Portugal",
             "body": 5,
             "body_description": "Very full-bodied",
             "country": {
              "code": "pt",
              "currency": {
               "code": "EUR",
               "name": "Euros",
               "prefix": "€",
               "suffix": null
              },
              "most_used_grapes": [
               {
                "has_detailed_info": true,
                "id": 67,
                "name": "Touriga Nacional",
                "seo_name": "touriga-nacional",
                "wines_count": 75882
               },
               {
                "has_detailed_info": false,
                "id": 68,
                "name": "Touriga Franca",
                "seo_name": "touriga-franca",
                "wines_count": 30116
               },
               {
                "has_detailed_info": false,
                "id": 69,
                "name": "Tinta Roriz",
                "seo_name": "tinta-roriz",
                "wines_count": 36604
               }
              ],
              "name": "Portugal",
              "native_name": "Portugal",
              "regions_count": 91,
              "seo_name": "portugal",
              "users_count": 880466,
              "wineries_count": 5503,
              "wines_count": 47334
             },
             "description": "Douro Red wines range in style from light and fruity to lush and smooth to dark and dense with flavors of mature dark fruit, with herbal and schist.\n\nThe wines are often and inky purple due to the thickening of the skins from the intense summer heat of the region.\n\nMost of the best made reds from the region come from the larger port houses where the skill of the winemakers go back for generations. The wines tend to be an incredible value for the time being but costs are slowly increasing due to the amazing blends coming from the area.\n\nThe first time one sees the Douro region they will always ask themselves, how can wine be made in such rugged terrain. It is also an amazingly beautiful area, with hillsides covered in terraced vineyards. Most larger winemakers have also started converting their areas into tourist destinations and wine hotels.\n\nGrapes include the Touriga Francesa, Tinta Roriz, Touriga Nacional and Tinta Barroca. Older vineyards still contain many less used vine varieties which makes their annual efforts less predictable, but allowing for unexpected surprises yielding unique, complex wines.",
             "food": [
              {
               "background_image": {
                "location": "//images.vivino.com/backgrounds/foods/4_beef.png",
                "variations": {
                 "small": "//images.vivino.com/backgrounds/foods/thumbs/4_beef_932x810.png"
                }
               },
               "id": 4,
               "name": "Beef",
               "seo_name": "beef"
              },
              {
               "background_image": {
                "location": "//images.vivino.com/backgrounds/foods/5_pasta.png",
                "variations": {
                 "small": "//images.vivino.com/backgrounds/foods/thumbs/5_pasta_932x810.png"
                }
               },
               "id": 5,
               "name": "Pasta",
               "seo_name": null
              },
              {
               "background_image": {
                "location": "//images.vivino.com/backgrounds/foods/8_lamb.png",
                "variations": {
                 "small": "//images.vivino.com/backgrounds/foods/thumbs/8_lamb_932x810.png"
                }
               },
               "id": 8,
               "name": "Lamb",
               "seo_name": "lamb"
              },
              {
               "background_image": {
                "location": "//images.vivino.com/backgrounds/foods/11_venison.png",
                "variations": {
                 "small": "//images.vivino.com/backgrounds/foods/thumbs/11_venison_932x810.png"
                }
               },
               "id": 11,
               "name": "Game (deer, venison)",
               "seo_name": "game"
              }
             ],
             "grapes": [
              {
               "has_detailed_info": true,
               "id": 67,
               "name": "Touriga Nacional",
               "seo_name": "touriga-nacional",
               "wines_count": 75882
              },
              {
               "has_detailed_info": false,
               "id": 69,
               "name": "Tinta Roriz",
               "seo_name": "tinta-roriz",
               "wines_count": 36604
              },
              {
               "has_detailed_info": false,
               "id": 390,
               "name": "Touriga Francesa",
               "seo_name": "touriga-francesa",
               "wines_count": 2963
              }
             ],
             "id": 81,
             "image": null,
             "interesting_facts": [
              "The Douro Valley is the home of Port wine.",
              "There is evidence as early as the 3rd century AD of winegrowing in the region.",
              "Temperatures in the Douro Valley often reach above 100 degrees F in the summer months. This lends to the inky color of the red wines, whose skin is thicker than cool climate grapes."
             ],
             "name": "Portuguese Douro Red",
             "region": {
              "background_image": {
               "location": "//images.vivino.com/regions/backgrounds/ePk3750qR3ioS9lEfzLBnA.jpg",
               "variations": {
                "large": "//thumbs.vivino.com/region_backgrounds/ePk3750qR3ioS9lEfzLBnA_1280x760.jpg",
                "medium": "//thumbs.vivino.com/region_backgrounds/ePk3750qR3ioS9lEfzLBnA_600x356.jpg"
               }
              },
              "class": {
               "typecast_map": {
                "background_image": {},
                "class": {}
               }
              },
              "country": {
               "code": "pt",
               "currency": {
                "code": "EUR",
                "name": "Euros",
                "prefix": "€",
                "suffix": null
               },
               "most_used_grapes": [
                {
                 "has_detailed_info": true,
                 "id": 67,
                 "name": "Touriga Nacional",
                 "seo_name": "touriga-nacional",
                 "wines_count": 75882
                },
                {
                 "has_detailed_info": false,
                 "id": 68,
                 "name": "Touriga Franca",
                 "seo_name": "touriga-franca",
                 "wines_count": 30116
                },
                {
                 "has_detailed_info": false,
                 "id": 69,
                 "name": "Tinta Roriz",
                 "seo_name": "tinta-roriz",
                 "wines_count": 36604
                }
               ],
               "name": "Portugal",
               "native_name": "Portugal",
               "regions_count": 91,
               "seo_name": "portugal",
               "users_count": 880466,
               "wineries_count": 5503,
               "wines_count": 47334
              },
              "id": 433,
              "name": "Douro",
              "name_en": "",
              "seo_name": "douro"
             },
             "regional_name": "Portuguese",
             "seo_name": "portuguese-douro-red",
             "varietal_name": "Douro Red",
             "wine_type_id": 1
            },
            "taste": {
             "flavor": [
              {
               "group": "oak",
               "stats": {
                "count": 53,
                "score": 8558
               }
              },
              {
               "group": "earth",
               "stats": {
                "count": 43,
                "score": 5299
               }
              },
              {
               "group": "non_oak",
               "stats": {
                "count": 42,
                "score": 1317
               }
              },
              {
               "group": "black_fruit",
               "stats": {
                "count": 30,
                "score": 5298
               }
              },
              {
               "group": "spices",
               "stats": {
                "count": 25,
                "score": 1595
               }
              },
              {
               "group": "red_fruit",
               "stats": {
                "count": 22,
                "score": 2313
               }
              },
              {
               "group": "microbio",
               "stats": {
                "count": 16,
                "score": 898
               }
              },
              {
               "group": "floral",
               "stats": {
                "count": 5,
                "score": 500
               }
              },
              {
               "group": "dried_fruit",
               "stats": {
                "count": 3,
                "score": 289
               }
              },
              {
               "group": "tropical_fruit",
               "stats": {
                "count": 1,
                "score": 33
               }
              }
             ],
             "structure": {
              "acidity": 2.9506924,
              "calculated_structure_count": 76,
              "fizziness": null,
              "intensity": 4.379031,
              "sweetness": 1.7717782,
              "tannin": 3.4169695,
              "user_structure_count": 386
             }
            },
            "type_id": 1,
            "vintage_type": 0,
            "winery": {
             "id": 37575,
             "name": "Casa Ferreirinha",
             "seo_name": "casa-ferreirinha",
             "status": 0
            }
           },
           "year": 2007
          }
         },
         {
          "price": {
           "amount": 89.99,
           "bottle_type": {
            "id": 1,
            "name": "Bottle (0.75l)",
            "short_name": "bottle",
            "short_name_plural": "bottles",
            "volume_ml": 750
           },
           "bottle_type_id": 1,
           "currency": {
            "code": "USD",
            "name": "US Dollars",
            "prefix": "$",
            "suffix": null
           },
           "discount_percent": null,
           "discounted_from": null,
           "id": 23945950,
           "sku": "SBG-126933573",
           "type": "xdo",
           "url": "http://www.vivino.com/wines/126933573",
           "visibility": 1
          },
          "prices": [
           {
            "amount": 89.99,
            "bottle_type": {
             "id": 1,
             "name": "Bottle (0.75l)",
             "short_name": "bottle",
             "short_name_plural": "bottles",
             "volume_ml": 750
            },
            "bottle_type_id": 1,
            "currency": {
             "code": "USD",
             "name": "US Dollars",
             "prefix": "$",
             "suffix": null
            },
            "discount_percent": null,
            "discounted_from": null,
            "id": 23945950,
            "sku": "SBG-126933573",
            "type": "xdo",
            "url": "http://www.vivino.com/wines/126933573",
            "visibility": 1
           }
          ],
          "vintage": {
           "grapes": null,
           "has_valid_ratings": true,
           "id": 126933573,
           "image": {
            "location": "//images.vivino.com/thumbs/WPXpzJXHTaSqAeqLqi8CXg_pl_480x640.png",
            "variations": {
             "bottle_large": "//images.vivino.com/thumbs/WPXpzJXHTaSqAeqLqi8CXg_pb_x960.png",
             "bottle_medium": "//images.vivino.com/thumbs/WPXpzJXHTaSqAeqLqi8CXg_pb_x600.png",
             "bottle_medium_square": "//images.vivino.com/thumbs/WPXpzJXHTaSqAeqLqi8CXg_pb_600x600.png",
             "bottle_small": "//images.vivino.com/thumbs/WPXpzJXHTaSqAeqLqi8CXg_pb_x300.png",
             "bottle_small_square": "//images.vivino.com/thumbs/WPXpzJXHTaSqAeqLqi8CXg_pb_300x300.png",
             "label": "//images.vivino.com/thumbs/WPXpzJXHTaSqAeqLqi8CXg_pl_480x640.png",
             "label_large": "//images.vivino.com/thumbs/WPXpzJXHTaSqAeqLqi8CXg_pl_375x500.png",
             "label_medium": "//images.vivino.com/thumbs/WPXpzJXHTaSqAeqLqi8CXg_pl_150x200.png",
             "label_medium_square": "//images.vivino.com/thumbs/WPXpzJXHTaSqAeqLqi8CXg_pl_150x150.png",
             "label_small_square": "//images.vivino.com/thumbs/WPXpzJXHTaSqAeqLqi8CXg_pl_80x80.png",
             "large": "//images.vivino.com/thumbs/WPXpzJXHTaSqAeqLqi8CXg_pl_375x500.png",
             "medium": "//images.vivino.com/thumbs/WPXpzJXHTaSqAeqLqi8CXg_pl_150x200.png",
             "medium_square": "//images.vivino.com/thumbs/WPXpzJXHTaSqAeqLqi8CXg_pl_150x150.png",
             "small_square": "//images.vivino.com/thumbs/WPXpzJXHTaSqAeqLqi8CXg_pl_80x80.png"
            }
           },
           "name": "El Enemigo Gran Enemigo Single Vineyard Gualtallary Cabernet Franc 2016",
           "seo_name": "el-enemigo-gran-enemigo-single-vineyard-gualtallary-cabernet-franc-2016",
           "statistics": {
            "labels_count": 11670,
            "ratings_average": 4.7,
            "ratings_count": 2000,
            "status": "Normal"
           },
           "wine": {
            "has_valid_ratings": true,
            "id": 3125433,
            "is_natural": false,
            "name": "Gran Enemigo Single Vineyard Gualtallary Cabernet Franc",
            "region": {
             "background_image": null,
             "country": {
              "code": "ar",
              "currency": {
               "code": "ARS",
               "name": "Argentinean Peso",
               "prefix": "$",
               "suffix": null
              },
              "most_used_grapes": [
               {
                "has_detailed_info": true,
                "id": 9,
                "name": "Malbec",
                "seo_name": "malbec",
                "wines_count": 197235
               },
               {
                "has_detailed_info": true,
                "id": 2,
                "name": "Cabernet Sauvignon",
                "seo_name": "cabernet-sauvignon",
                "wines_count": 725925
               },
               {
                "has_detailed_info": true,
                "id": 5,
                "name": "Chardonnay",
                "seo_name": "chardonnay",
                "wines_count": 541509
               }
              ],
              "name": "Argentina",
              "native_name": "Argentina",
              "regions_count": 39,
              "seo_name": "argentina",
              "users_count": 505817,
              "wineries_count": 4811,
              "wines_count": 42809
             },
             "id": 4263,
             "name": "Gualtallary",
             "name_en": "",
             "seo_name": "gualtallary"
            },
            "seo_name": "gran-enemigo-single-vineyard-gualtallary-cabernet-franc",
            "statistics": {
             "labels_count": 119050,
             "ratings_average": 4.6,
             "ratings_count": 25137,
             "status": "Normal",
             "vintages_count": 44
            },
            "style": {
             "acidity": 3,
             "acidity_description": "High",
             "background_image": null,
             "blurb": "Cabernet and Merlot based",
             "body": 4,
             "body_description": "Full-bodied",
             "country": {
              "code": "ar",
              "currency": {
               "code": "ARS",
               "name": "Argentinean Peso",
               "prefix": "$",
               "suffix": null
              },
              "most_used_grapes": [
               {
                "has_detailed_info": true,
                "id": 9,
                "name": "Malbec",
                "seo_name": "malbec",
                "wines_count": 197235
               },
               {
                "has_detailed_info": true,
                "id": 2,
                "name": "Cabernet Sauvignon",
                "seo_name": "cabernet-sauvignon",
                "wines_count": 725925
               },
               {
                "has_detailed_info": true,
                "id": 5,
                "name": "Chardonnay",
                "seo_name": "chardonnay",
                "wines_count": 541509
               }
              ],
              "name": "Argentina",
              "native_name": "Argentina",
              "regions_count": 39,
              "seo_name": "argentina",
              "users_count": 505817,
              "wineries_count": 4811,
              "wines_count": 42809
             },
             "description": null,
             "food": [
              {
               "background_image": {
                "location": "//images.vivino.com/backgrounds/foods/4_beef.png",
                "variations": {
                 "small": "//images.vivino.com/backgrounds/foods/thumbs/4_beef_932x810.png"
                }
               },
               "id": 4,
               "name": "Beef",
               "seo_name": "beef"
              },
              {
               "background_image": {
                "location": "//images.vivino.com/backgrounds/foods/5_pasta.png",
                "variations": {
                 "small": "//images.vivino.com/backgrounds/foods/thumbs/5_pasta_932x810.png"
                }
               },
               "id": 5,
               "name": "Pasta",
               "seo_name": null
              },
              {
               "background_image": {
                "location": "//images.vivino.com/backgrounds/foods/8_lamb.png",
                "variations": {
                 "small": "//images.vivino.com/backgrounds/foods/thumbs/8_lamb_932x810.png"
                }
               },
               "id": 8,
               "name": "Lamb",
               "seo_name": "lamb"
              },
              {
               "background_image": {
                "location": "//images.vivino.com/backgrounds/foods/20_chicken.png",
                "variations": {
                 "small": "//images.vivino.com/backgrounds/foods/thumbs/20_chicken_932x810.png"
                }
               },
               "id": 20,
               "name": "Poultry",
               "seo_name": "poultry"
              }
             ],
             "grapes": [
              {
               "has_detailed_info": true,
               "id": 2,
               "name": "Cabernet Sauvignon",
               "seo_name": "cabernet-sauvignon",
               "wines_count": 725925
              },
              {
               "has_detailed_info": true,
               "id": 3,
               "name": "Cabernet Franc",
               "seo_name": "cabernet-franc",
               "wines_count": 243121
              },
              {
               "has_detailed_info": true,
               "id": 9,
               "name": "Malbec",
               "seo_name": "malbec",
               "wines_count": 197235
              },
              {
               "has_detailed_info": true,
               "id": 10,
               "name": "Merlot",
               "seo_name": "merlot",
               "wines_count": 510808
              },
              {
               "has_detailed_info": true,
               "id": 42,
               "name": "Petit Verdot",
               "seo_name": "petit-verdot",
               "wines_count": 74892
              },
              {
               "has_detailed_info": true,
               "id": 51,
               "name": "Carménère",
               "seo_name": "carmenere",
               "wines_count": 45374
              }
             ],
             "id": 11,
             "image": null,
             "interesting_facts": null,
             "name": "Argentinian Bordeaux Blend",
             "region": null,
             "regional_name": "Argentinian",
             "seo_name": "argentinian-bordeaux-blend",
             "varietal_name": "Bordeaux Blend",
             "wine_type_id": 1
            },
            "taste": {
             "flavor": [
              {
               "group": "oak",
               "stats": {
                "count": 300,
                "score": 44261
               }
              },
              {
               "group": "black_fruit",
               "stats": {
                "count": 233,
                "score": 36138
               }
              },
              {
               "group": "spices",
               "stats": {
                "count": 205,
                "score": 20109
               }
              },
              {
               "group": "non_oak",
               "stats": {
                "count": 182,
                "score": 3551
               }
              },
              {
               "group": "earth",
               "stats": {
                "count": 166,
                "score": 18240
               }
              },
              {
               "group": "red_fruit",
               "stats": {
                "count": 127,
                "score": 10622
               }
              },
              {
               "group": "microbio",
               "stats": {
                "count": 28,
                "score": 1533
               }
              },
              {
               "group": "floral",
               "stats": {
                "count": 26,
                "score": 2400
               }
              },
              {
               "group": "vegetal",
               "stats": {
                "count": 23,
                "score": 1973
               }
              },
              {
               "group": "dried_fruit",
               "stats": {
                "count": 17,
                "score": 1140
               }
              },
              {
               "group": "citrus_fruit",
               "stats": {
                "count": 6,
                "score": 600
               }
              },
              {
               "group": "tropical_fruit",
               "stats": {
                "count": 2,
                "score": 133
               }
              },
              {
               "group": "tree_fruit",
               "stats": {
                "count": 2,
                "score": 200
               }
              }
             ],
             "structure": {
              "acidity": 3.49186,
              "calculated_structure_count": 336,
              "fizziness": null,
              "intensity": 4.3826656,
              "sweetness": 2.0066633,
              "tannin": 3.4866967,
              "user_structure_count": 1646
             }
            },
            "type_id": 1,
            "vintage_type": 0,
            "winery": {
             "id": 20435,
             "name": "El Enemigo",
             "seo_name": "el-enemigo",
             "status": 0
            }
           },
           "year": 2016
          }
         },
         {
          "price": {
           "amount": 399.99,
           "bottle_type": {
            "id": 1,
            "name": "Bottle (0.75l)",
            "short_name": "bottle",
            "short_name_plural": "bottles",
            "volume_ml": 750
           },
           "bottle_type_id": 1,
           "currency": {
            "code": "USD",
            "name": "US Dollars",
            "prefix": "$",
            "suffix": null
           },
           "discount_percent": null,
           "discounted_from": null,
           "id": 19940579,
           "sku": "6281600000",
           "type": "vc",
           "url": "https://www.sherryswine.com/wines/Opus-One-Opus-One-2016-w0672967uo?utm_source=Vivino&utm_medium=Feed",
           "visibility": 1
          },
          "prices": [
           {
            "amount": 399.99,
            "bottle_type": {
             "id": 1,
             "name": "Bottle (0.75l)",
             "short_name": "bottle",
             "short_name_plural": "bottles",
             "volume_ml": 750
            },
            "bottle_type_id": 1,
            "currency": {
             "code": "USD",
             "name": "US Dollars",
             "prefix": "$",
             "suffix": null
            },
            "discount_percent": null,
            "discounted_from": null,
            "id": 19940579,
            "sku": "6281600000",
            "type": "vc",
            "url": "https://www.sherryswine.com/wines/Opus-One-Opus-One-2016-w0672967uo?utm_source=Vivino&utm_medium=Feed",
            "visibility": 1
           }
          ],
          "vintage": {
           "grapes": null,
           "has_valid_ratings": true,
           "id": 85531171,
           "image": {
            "location": "//images.vivino.com/thumbs/C45ybDUxTnWShRkbSTusNg_pl_480x640.png",
            "variations": {
             "bottle_large": "//images.vivino.com/thumbs/C45ybDUxTnWShRkbSTusNg_pb_x960.png",
             "bottle_medium": "//images.vivino.com/thumbs/C45ybDUxTnWShRkbSTusNg_pb_x600.png",
             "bottle_medium_square": "//images.vivino.com/thumbs/C45ybDUxTnWShRkbSTusNg_pb_600x600.png",
             "bottle_small": "//images.vivino.com/thumbs/C45ybDUxTnWShRkbSTusNg_pb_x300.png",
             "bottle_small_square": "//images.vivino.com/thumbs/C45ybDUxTnWShRkbSTusNg_pb_300x300.png",
             "label": "//images.vivino.com/thumbs/C45ybDUxTnWShRkbSTusNg_pl_480x640.png",
             "label_large": "//images.vivino.com/thumbs/C45ybDUxTnWShRkbSTusNg_pl_375x500.png",
             "label_medium": "//images.vivino.com/thumbs/C45ybDUxTnWShRkbSTusNg_pl_150x200.png",
             "label_medium_square": "//images.vivino.com/thumbs/C45ybDUxTnWShRkbSTusNg_pl_150x150.png",
             "label_small_square": "//images.vivino.com/thumbs/C45ybDUxTnWShRkbSTusNg_pl_80x80.png",
             "large": "//images.vivino.com/thumbs/C45ybDUxTnWShRkbSTusNg_pl_375x500.png",
             "medium": "//images.vivino.com/thumbs/C45ybDUxTnWShRkbSTusNg_pl_150x200.png",
             "medium_square": "//images.vivino.com/thumbs/C45ybDUxTnWShRkbSTusNg_pl_150x150.png",
             "small_square": "//images.vivino.com/thumbs/C45ybDUxTnWShRkbSTusNg_pl_80x80.png"
            }
           },
           "name": "Opus One Opus One 2016",
           "seo_name": "opus-one-opus-one-2016",
           "statistics": {
            "labels_count": 15249,
            "ratings_average": 4.7,
            "ratings_count": 1736,
            "status": "Normal"
           },
           "wine": {
            "has_valid_ratings": true,
            "id": 1911534,
            "is_natural": false,
            "name": "Opus One",
            "region": {
             "background_image": {
              "location": "//images.vivino.com/regions/backgrounds/cP8NlYVPSUStyROqZeBzgA.jpg",
              "variations": {
               "large": "//thumbs.vivino.com/region_backgrounds/cP8NlYVPSUStyROqZeBzgA_1280x760.jpg",
               "medium": "//thumbs.vivino.com/region_backgrounds/cP8NlYVPSUStyROqZeBzgA_600x356.jpg"
              }
             },
             "class": {
              "typecast_map": {
               "background_image": {},
               "class": {}
              }
             },
             "country": {
              "code": "us",
              "currency": {
               "code": "USD",
               "name": "US Dollars",
               "prefix": "$",
               "suffix": null
              },
              "most_used_grapes": [
               {
                "has_detailed_info": true,
                "id": 2,
                "name": "Cabernet Sauvignon",
                "seo_name": "cabernet-sauvignon",
                "wines_count": 725925
               },
               {
                "has_detailed_info": true,
                "id": 14,
                "name": "Pinot Noir",
                "seo_name": "pinot-noir",
                "wines_count": 513244
               },
               {
                "has_detailed_info": true,
                "id": 5,
                "name": "Chardonnay",
                "seo_name": "chardonnay",
                "wines_count": 541509
               }
              ],
              "name": "United States",
              "native_name": "United States",
              "regions_count": 357,
              "seo_name": "united-states",
              "users_count": 10104977,
              "wineries_count": 26264,
              "wines_count": 230446
             },
             "id": 25,
             "name": "Napa Valley",
             "name_en": "",
             "seo_name": "napa-valley"
            },
            "seo_name": "opus-one",
            "statistics": {
             "labels_count": 377985,
             "ratings_average": 4.6,
             "ratings_count": 58742,
             "status": "Normal",
             "vintages_count": 188
            },
            "style": {
             "acidity": 2,
             "acidity_description": "Medium",
             "background_image": {
              "location": "//images.vivino.com/backgrounds/styles/lkl1g1AyRWiGuiC_PycS4w.jpg",
              "variations": {
               "small": "//images.vivino.com/backgrounds/styles/thumbs/lkl1g1AyRWiGuiC_PycS4w_932x810.jpg"
              }
             },
             "blurb": null,
             "body": 4,
             "body_description": "Full-bodied",
             "country": {
              "code": "us",
              "currency": {
               "code": "USD",
               "name": "US Dollars",
               "prefix": "$",
               "suffix": null
              },
              "most_used_grapes": [
               {
                "has_detailed_info": true,
                "id": 2,
                "name": "Cabernet Sauvignon",
                "seo_name": "cabernet-sauvignon",
                "wines_count": 725925
               },
               {
                "has_detailed_info": true,
                "id": 14,
                "name": "Pinot Noir",
                "seo_name": "pinot-noir",
                "wines_count": 513244
               },
               {
                "has_detailed_info": true,
                "id": 5,
                "name": "Chardonnay",
                "seo_name": "chardonnay",
                "wines_count": 541509
               }
              ],
              "name": "United States",
              "native_name": "United States",
              "regions_count": 357,
              "seo_name": "united-states",
              "users_count": 10104977,
              "wineries_count": 26264,
              "wines_count": 230446
             },
             "description": null,
             "food": [
              {
               "background_image": {
                "location": "//images.vivino.com/backgrounds/foods/4_beef.png",
                "variations": {
                 "small": "//images.vivino.com/backgrounds/foods/thumbs/4_beef_932x810.png"
                }
               },
               "id": 4,
               "name": "Beef",
               "seo_name": "beef"
              },
              {
               "background_image": {
                "location": "//images.vivino.com/backgrounds/foods/8_lamb.png",
                "variations": {
                 "small": "//images.vivino.com/backgrounds/foods/thumbs/8_lamb_932x810.png"
                }
               },
               "id": 8,
               "name": "Lamb",
               "seo_name": "lamb"
              },
              {
               "background_image": {
                "location": "//images.vivino.com/backgrounds/foods/11_venison.png",
                "variations": {
                 "small": "//images.vivino.com/backgrounds/foods/thumbs/11_venison_932x810.png"
                }
               },
               "id": 11,
               "name": "Game (deer, venison)",
               "seo_name": "game"
              },
              {
               "background_image": {
                "location": "//images.vivino.com/backgrounds/foods/20_chicken.png",
                "variations": {
                 "small": "//images.vivino.com/backgrounds/foods/thumbs/20_chicken_932x810.png"
                }
               },
               "id": 20,
               "name": "Poultry",
               "seo_name": "poultry"
              }
             ],
             "grapes": [
              {
               "has_detailed_info": true,
               "id": 2,
               "name": "Cabernet Sauvignon",
               "seo_name": "cabernet-sauvignon",
               "wines_count": 725925
              },
              {
               "has_detailed_info": true,
               "id": 3,
               "name": "Cabernet Franc",
               "seo_name": "cabernet-franc",
               "wines_count": 243121
              },
              {
               "has_detailed_info": true,
               "id": 9,
               "name": "Malbec",
               "seo_name": "malbec",
               "wines_count": 197235
              },
              {
               "has_detailed_info": true,
               "id": 10,
               "name": "Merlot",
               "seo_name": "merlot",
               "wines_count": 510808
              },
              {
               "has_detailed_info": true,
               "id": 42,
               "name": "Petit Verdot",
               "seo_name": "petit-verdot",
               "wines_count": 74892
              }
             ],
             "id": 290,
             "image": null,
             "interesting_facts": null,
             "name": "Napa Valley Bordeaux Blend",
             "region": {
              "background_image": {
               "location": "//images.vivino.com/regions/backgrounds/cP8NlYVPSUStyROqZeBzgA.jpg",
               "variations": {
                "large": "//thumbs.vivino.com/region_backgrounds/cP8NlYVPSUStyROqZeBzgA_1280x760.jpg",
                "medium": "//thumbs.vivino.com/region_backgrounds/cP8NlYVPSUStyROqZeBzgA_600x356.jpg"
               }
              },
              "class": {
               "typecast_map": {
                "background_image": {},
                "class": {}
               }
              },
              "country": {
               "code": "us",
               "currency": {
                "code": "USD",
                "name": "US Dollars",
                "prefix": "$",
                "suffix": null
               },
               "most_used_grapes": [
                {
                 "has_detailed_info": true,
                 "id": 2,
                 "name": "Cabernet Sauvignon",
                 "seo_name": "cabernet-sauvignon",
                 "wines_count": 725925
                },
                {
                 "has_detailed_info": true,
                 "id": 14,
                 "name": "Pinot Noir",
                 "seo_name": "pinot-noir",
                 "wines_count": 513244
                },
                {
                 "has_detailed_info": true,
                 "id": 5,
                 "name": "Chardonnay",
                 "seo_name": "chardonnay",
                 "wines_count": 541509
                }
               ],
               "name": "United States",
               "native_name": "United States",
               "regions_count": 357,
               "seo_name": "united-states",
               "users_count": 10104977,
               "wineries_count": 26264,
               "wines_count": 230446
              },
              "id": 25,
              "name": "Napa Valley",
              "name_en": "",
              "seo_name": "napa-valley"
             },
             "regional_name": "Napa Valley",
             "seo_name": "napa-valley-bordeaux-blend",
             "varietal_name": "Bordeaux Blend",
             "wine_type_id": 1
            },
            "taste": {
             "flavor": [
              {
               "group": "oak",
               "stats": {
                "count": 1970,
                "score": 259294
               }
              },
              {
               "group": "black_fruit",
               "stats": {
                "count": 1504,
                "score": 221334
               }
              },
              {
               "group": "earth",
               "stats": {
                "count": 1338,
                "score": 130615
               }
              },
              {
               "group": "non_oak",
               "stats": {
                "count": 1150,
                "score": 26486
               }
              },
              {
               "group": "spices",
               "stats": {
                "count": 809,
                "score": 63443
               }
              },
              {
               "group": "red_fruit",
               "stats": {
                "count": 694,
                "score": 61311
               }
              },
              {
               "group": "microbio",
               "stats": {
                "count": 273,
                "score": 18242
               }
              },
              {
               "group": "dried_fruit",
               "stats": {
                "count": 138,
                "score": 9885
               }
              },
              {
               "group": "floral",
               "stats": {
                "count": 123,
                "score": 11625
               }
              },
              {
               "group": "vegetal",
               "stats": {
                "count": 88,
                "score": 6234
               }
              },
              {
               "group": "citrus_fruit",
               "stats": {
                "count": 28,
                "score": 3000
               }
              },
              {
               "group": "tree_fruit",
               "stats": {
                "count": 22,
                "score": 2200
               }
              },
              {
               "group": "tropical_fruit",
               "stats": {
                "count": 13,
                "score": 1031
               }
              }
             ],
             "structure": {
              "acidity": 3.8470414,
              "calculated_structure_count": 3424,
              "fizziness": null,
              "intensity": 4.6459174,
              "sweetness": 1.6764512,
              "tannin": 3.3724108,
              "user_structure_count": 587
             }
            },
            "type_id": 1,
            "vintage_type": 0,
            "winery": {
             "id": 1368,
             "name": "Opus One",
             "seo_name": "opus-one",
             "status": 0
            }
           },
           "year": 2016
          }
         },
         {
          "price": {
           "amount": 124.99,
           "bottle_type": {
            "id": 1,
            "name": "Bottle (0.75l)",
            "short_name": "bottle",
            "short_name_plural": "bottles",
            "volume_ml": 750
           },
           "bottle_type_id": 1,
           "currency": {
            "code": "USD",
            "name": "US Dollars",
            "prefix": "$",
            "suffix": null
           },
           "discount_percent": null,
           "discounted_from": null,
           "id": 24292937,
           "sku": "2857732QM",
           "type": "vc",
           "url": "https://www.hopcaskandbarrel.com/wines/Susana-Balbo-Malbec-Nosotros-2014-w2857732qm",
           "visibility": 1
          },
          "prices": [
           {
            "amount": 124.99,
            "bottle_type": {
             "id": 1,
             "name": "Bottle (0.75l)",
             "short_name": "bottle",
             "short_name_plural": "bottles",
             "volume_ml": 750
            },
            "bottle_type_id": 1,
            "currency": {
             "code": "USD",
             "name": "US Dollars",
             "prefix": "$",
             "suffix": null
            },
            "discount_percent": null,
            "discounted_from": null,
            "id": 24292937,
            "sku": "2857732QM",
            "type": "vc",
            "url": "https://www.hopcaskandbarrel.com/wines/Susana-Balbo-Malbec-Nosotros-2014-w2857732qm",
            "visibility": 1
           }
          ],
          "vintage": {
           "grapes": null,
           "has_valid_ratings": true,
           "id": 9185770,
           "image": {
            "location": "//images.vivino.com/thumbs/VxGqxhU0TqWmUqByG5gZiw_pl_480x640.png",
            "variations": {
             "bottle_large": "//images.vivino.com/thumbs/VxGqxhU0TqWmUqByG5gZiw_pb_x960.png",
             "bottle_medium": "//images.vivino.com/thumbs/VxGqxhU0TqWmUqByG5gZiw_pb_x600.png",
             "bottle_medium_square": "//images.vivino.com/thumbs/VxGqxhU0TqWmUqByG5gZiw_pb_600x600.png",
             "bottle_small": "//images.vivino.com/thumbs/VxGqxhU0TqWmUqByG5gZiw_pb_x300.png",
             "bottle_small_square": "//images.vivino.com/thumbs/VxGqxhU0TqWmUqByG5gZiw_pb_300x300.png",
             "label": "//images.vivino.com/thumbs/VxGqxhU0TqWmUqByG5gZiw_pl_480x640.png",
             "label_large": "//images.vivino.com/thumbs/VxGqxhU0TqWmUqByG5gZiw_pl_375x500.png",
             "label_medium": "//images.vivino.com/thumbs/VxGqxhU0TqWmUqByG5gZiw_pl_150x200.png",
             "label_medium_square": "//images.vivino.com/thumbs/VxGqxhU0TqWmUqByG5gZiw_pl_150x150.png",
             "label_small_square": "//images.vivino.com/thumbs/VxGqxhU0TqWmUqByG5gZiw_pl_80x80.png",
             "large": "//images.vivino.com/thumbs/VxGqxhU0TqWmUqByG5gZiw_pl_375x500.png",
             "medium": "//images.vivino.com/thumbs/VxGqxhU0TqWmUqByG5gZiw_pl_150x200.png",
             "medium_square": "//images.vivino.com/thumbs/VxGqxhU0TqWmUqByG5gZiw_pl_150x150.png",
             "small_square": "//images.vivino.com/thumbs/VxGqxhU0TqWmUqByG5gZiw_pl_80x80.png"
            }
           },
           "name": "Nosotros Red 2014",
           "seo_name": "nosotros-red-2014",
           "statistics": {
            "labels_count": 7443,
            "ratings_average": 4.7,
            "ratings_count": 1341,
            "status": "Normal"
           },
           "top_list_rankings": [
            {
             "description": null,
             "previous_rank": 5,
             "rank": 5,
             "top_list": {
              "id": 201998,
              "location": "_0",
              "name": "Vivino's 2019 Wine Style Awards: Argentinian Malbec",
              "seo_name": "wine_style_awards_2019_argentinian_malbec",
              "type": 6,
              "year": "2019"
             }
            }
           ],
           "wine": {
            "has_valid_ratings": true,
            "id": 1724358,
            "is_natural": false,
            "name": "Red",
            "region": {
             "background_image": {
              "location": "//images.vivino.com/regions/backgrounds/acVeOT2HSw-e-hNSdAa_XQ.jpg",
              "variations": {
               "large": "//thumbs.vivino.com/region_backgrounds/acVeOT2HSw-e-hNSdAa_XQ_1280x760.jpg",
               "medium": "//thumbs.vivino.com/region_backgrounds/acVeOT2HSw-e-hNSdAa_XQ_600x356.jpg"
              }
             },
             "country": {
              "code": "ar",
              "currency": {
               "code": "ARS",
               "name": "Argentinean Peso",
               "prefix": "$",
               "suffix": null
              },
              "most_used_grapes": [
               {
                "has_detailed_info": true,
                "id": 9,
                "name": "Malbec",
                "seo_name": "malbec",
                "wines_count": 197235
               },
               {
                "has_detailed_info": true,
                "id": 2,
                "name": "Cabernet Sauvignon",
                "seo_name": "cabernet-sauvignon",
                "wines_count": 725925
               },
               {
                "has_detailed_info": true,
                "id": 5,
                "name": "Chardonnay",
                "seo_name": "chardonnay",
                "wines_count": 541509
               }
              ],
              "name": "Argentina",
              "native_name": "Argentina",
              "regions_count": 39,
              "seo_name": "argentina",
              "users_count": 505817,
              "wineries_count": 4811,
              "wines_count": 42809
             },
             "id": 1596,
             "name": "Agrelo",
             "name_en": "",
             "seo_name": "agrelo"
            },
            "seo_name": "red",
            "statistics": {
             "labels_count": 31583,
             "ratings_average": 4.6,
             "ratings_count": 7351,
             "status": "Normal",
             "vintages_count": 40
            },
            "style": {
             "acidity": 3,
             "acidity_description": "High",
             "background_image": {
              "location": "//images.vivino.com/backgrounds/styles/KE9UkhVvSrOuL02j-JjNng.jpg",
              "variations": {
               "small": "//images.vivino.com/backgrounds/styles/thumbs/KE9UkhVvSrOuL02j-JjNng_932x810.jpg"
              }
             },
             "blurb": null,
             "body": 5,
             "body_description": "Very full-bodied",
             "country": {
              "code": "ar",
              "currency": {
               "code": "ARS",
               "name": "Argentinean Peso",
               "prefix": "$",
               "suffix": null
              },
              "most_used_grapes": [
               {
                "has_detailed_info": true,
                "id": 9,
                "name": "Malbec",
                "seo_name": "malbec",
                "wines_count": 197235
               },
               {
                "has_detailed_info": true,
                "id": 2,
                "name": "Cabernet Sauvignon",
                "seo_name": "cabernet-sauvignon",
                "wines_count": 725925
               },
               {
                "has_detailed_info": true,
                "id": 5,
                "name": "Chardonnay",
                "seo_name": "chardonnay",
                "wines_count": 541509
               }
              ],
              "name": "Argentina",
              "native_name": "Argentina",
              "regions_count": 39,
              "seo_name": "argentina",
              "users_count": 505817,
              "wineries_count": 4811,
              "wines_count": 42809
             },
             "description": "Extremely popular, Argentinian Malbec is an inky, medium-bodied, dry red wine with strong impressions of dark fruits on the nose and palate. This wine tends to have mellower tannins than its French counterpart.\n\nHeavily dependent on where they are grown for variations in flavor, Argentinian Malbec has quickly become a world favorite due to the characteristics that the high altitude climate and soils impart to the fruit.\n\nOriginally from France, it is one of the original 5 “Bordeaux” grapes. It is scarcely planted in France anymore.\n\nIt has found an amazingly hospitable home in the mountains of Argentina from which some of the world's best selling Malbecs are grown.\n\nStarkly different from French versions in structure and flavor, this wine is a good investment for collectors, as the wine can age for several years before drinking.This wine also pairs very well with any savory red meat dish-- particularly dishes that include spice.",
             "food": [
              {
               "background_image": {
                "location": "//images.vivino.com/backgrounds/foods/4_beef.png",
                "variations": {
                 "small": "//images.vivino.com/backgrounds/foods/thumbs/4_beef_932x810.png"
                }
               },
               "id": 4,
               "name": "Beef",
               "seo_name": "beef"
              },
              {
               "background_image": {
                "location": "//images.vivino.com/backgrounds/foods/8_lamb.png",
                "variations": {
                 "small": "//images.vivino.com/backgrounds/foods/thumbs/8_lamb_932x810.png"
                }
               },
               "id": 8,
               "name": "Lamb",
               "seo_name": "lamb"
              },
              {
               "background_image": {
                "location": "//images.vivino.com/backgrounds/foods/20_chicken.png",
                "variations": {
                 "small": "//images.vivino.com/backgrounds/foods/thumbs/20_chicken_932x810.png"
                }
               },
               "id": 20,
               "name": "Poultry",
               "seo_name": "poultry"
              }
             ],
             "grapes": [
              {
               "has_detailed_info": true,
               "id": 9,
               "name": "Malbec",
               "seo_name": "malbec",
               "wines_count": 197235
              }
             ],
             "id": 98,
             "image": null,
             "interesting_facts": [
              "World Malbec day is celebrated on April 17.",
              "Growers invest fortunes in specialized netting to protect Malbec crops from frequent high altitude hail storms.",
              "Significant portions of Argentinian Malbec grows at altitudes approaching 5000 feet (1500 meters).",
              "Nearly all Malbec grown in France is now used for blending."
             ],
             "name": "Argentinian Malbec",
             "region": null,
             "regional_name": "Argentinian",
             "seo_name": "argentinian-malbec",
             "varietal_name": "Malbec",
             "wine_type_id": 1
            },
            "taste": {
             "flavor": [
              {
               "group": "oak",
               "stats": {
                "count": 121,
                "score": 17441
               }
              },
              {
               "group": "black_fruit",
               "stats": {
                "count": 83,
                "score": 9743
               }
              },
              {
               "group": "non_oak",
               "stats": {
                "count": 59,
                "score": 1710
               }
              },
              {
               "group": "spices",
               "stats": {
                "count": 59,
                "score": 3979
               }
              },
              {
               "group": "earth",
               "stats": {
                "count": 50,
                "score": 4013
               }
              },
              {
               "group": "red_fruit",
               "stats": {
                "count": 36,
                "score": 3432
               }
              },
              {
               "group": "microbio",
               "stats": {
                "count": 20,
                "score": 1023
               }
              },
              {
               "group": "floral",
               "stats": {
                "count": 20,
                "score": 2000
               }
              },
              {
               "group": "dried_fruit",
               "stats": {
                "count": 13,
                "score": 1116
               }
              },
              {
               "group": "tree_fruit",
               "stats": {
                "count": 2,
                "score": 200
               }
              },
              {
               "group": "vegetal",
               "stats": {
                "count": 1,
                "score": 10
               }
              },
              {
               "group": "tropical_fruit",
               "stats": {
                "count": 1,
                "score": 33
               }
              },
              {
               "group": "citrus_fruit",
               "stats": {
                "count": 1,
                "score": 100
               }
              }
             ],
             "structure": {
              "acidity": 2.6152236,
              "calculated_structure_count": 151,
              "fizziness": null,
              "intensity": 4.167923,
              "sweetness": 2.1208389,
              "tannin": 2.7460134,
              "user_structure_count": 1060
             }
            },
            "type_id": 1,
            "vintage_type": 0,
            "winery": {
             "id": 201104,
             "name": "Nosotros",
             "seo_name": "nosotros",
             "status": 0
            }
           },
           "year": 2014
          }
         },
         {
          "price": {
           "amount": 329.99,
           "bottle_type": {
            "id": 1,
            "name": "Bottle (0.75l)",
            "short_name": "bottle",
            "short_name_plural": "bottles",
            "volume_ml": 750
           },
           "bottle_type_id": 1,
           "currency": {
            "code": "USD",
            "name": "US Dollars",
            "prefix": "$",
            "suffix": null
           },
           "discount_percent": null,
           "discounted_from": null,
           "id": 16994985,
           "sku": "",
           "type": "vc",
           "url": "http://www.johnandpetes.com/all-wine/cabernet-sauvignon/joseph-phelps-insignia-2015-detail",
           "visibility": 1
          },
          "prices": [
           {
            "amount": 329.99,
            "bottle_type": {
             "id": 1,
             "name": "Bottle (0.75l)",
             "short_name": "bottle",
             "short_name_plural": "bottles",
             "volume_ml": 750
            },
            "bottle_type_id": 1,
            "currency": {
             "code": "USD",
             "name": "US Dollars",
             "prefix": "$",
             "suffix": null
            },
            "discount_percent": null,
            "discounted_from": null,
            "id": 16994985,
            "sku": "",
            "type": "vc",
            "url": "http://www.johnandpetes.com/all-wine/cabernet-sauvignon/joseph-phelps-insignia-2015-detail",
            "visibility": 1
           }
          ],
          "vintage": {
           "grapes": null,
           "has_valid_ratings": true,
           "id": 14322462,
           "image": {
            "location": "//images.vivino.com/thumbs/NOkljUUMT3i35lDjSgR9MQ_pl_480x640.png",
            "variations": {
             "bottle_large": "//images.vivino.com/thumbs/NOkljUUMT3i35lDjSgR9MQ_pb_x960.png",
             "bottle_medium": "//images.vivino.com/thumbs/NOkljUUMT3i35lDjSgR9MQ_pb_x600.png",
             "bottle_medium_square": "//images.vivino.com/thumbs/NOkljUUMT3i35lDjSgR9MQ_pb_600x600.png",
             "bottle_small": "//images.vivino.com/thumbs/NOkljUUMT3i35lDjSgR9MQ_pb_x300.png",
             "bottle_small_square": "//images.vivino.com/thumbs/NOkljUUMT3i35lDjSgR9MQ_pb_300x300.png",
             "label": "//images.vivino.com/thumbs/NOkljUUMT3i35lDjSgR9MQ_pl_480x640.png",
             "label_large": "//images.vivino.com/thumbs/NOkljUUMT3i35lDjSgR9MQ_pl_375x500.png",
             "label_medium": "//images.vivino.com/thumbs/NOkljUUMT3i35lDjSgR9MQ_pl_150x200.png",
             "label_medium_square": "//images.vivino.com/thumbs/NOkljUUMT3i35lDjSgR9MQ_pl_150x150.png",
             "label_small_square": "//images.vivino.com/thumbs/NOkljUUMT3i35lDjSgR9MQ_pl_80x80.png",
             "large": "//images.vivino.com/thumbs/NOkljUUMT3i35lDjSgR9MQ_pl_375x500.png",
             "medium": "//images.vivino.com/thumbs/NOkljUUMT3i35lDjSgR9MQ_pl_150x200.png",
             "medium_square": "//images.vivino.com/thumbs/NOkljUUMT3i35lDjSgR9MQ_pl_150x150.png",
             "small_square": "//images.vivino.com/thumbs/NOkljUUMT3i35lDjSgR9MQ_pl_80x80.png"
            }
           },
           "name": "Joseph Phelps Insignia 2015",
           "seo_name": "joseph-phelps-insignia-2015",
           "statistics": {
            "labels_count": 16144,
            "ratings_average": 4.7,
            "ratings_count": 1335,
            "status": "Normal"
           },
           "wine": {
            "has_valid_ratings": true,
            "id": 16587,
            "is_natural": false,
            "name": "Insignia",
            "region": {
             "background_image": {
              "location": "//images.vivino.com/regions/backgrounds/cP8NlYVPSUStyROqZeBzgA.jpg",
              "variations": {
               "large": "//thumbs.vivino.com/region_backgrounds/cP8NlYVPSUStyROqZeBzgA_1280x760.jpg",
               "medium": "//thumbs.vivino.com/region_backgrounds/cP8NlYVPSUStyROqZeBzgA_600x356.jpg"
              }
             },
             "class": {
              "typecast_map": {
               "background_image": {},
               "class": {}
              }
             },
             "country": {
              "code": "us",
              "currency": {
               "code": "USD",
               "name": "US Dollars",
               "prefix": "$",
               "suffix": null
              },
              "most_used_grapes": [
               {
                "has_detailed_info": true,
                "id": 2,
                "name": "Cabernet Sauvignon",
                "seo_name": "cabernet-sauvignon",
                "wines_count": 725925
               },
               {
                "has_detailed_info": true,
                "id": 14,
                "name": "Pinot Noir",
                "seo_name": "pinot-noir",
                "wines_count": 513244
               },
               {
                "has_detailed_info": true,
                "id": 5,
                "name": "Chardonnay",
                "seo_name": "chardonnay",
                "wines_count": 541509
               }
              ],
              "name": "United States",
              "native_name": "United States",
              "regions_count": 357,
              "seo_name": "united-states",
              "users_count": 10104977,
              "wineries_count": 26264,
              "wines_count": 230446
             },
             "id": 25,
             "name": "Napa Valley",
             "name_en": "",
             "seo_name": "napa-valley"
            },
            "seo_name": "insignia",
            "statistics": {
             "labels_count": 183779,
             "ratings_average": 4.6,
             "ratings_count": 24538,
             "status": "Normal",
             "vintages_count": 108
            },
            "style": {
             "acidity": 2,
             "acidity_description": "Medium",
             "background_image": {
              "location": "//images.vivino.com/backgrounds/styles/lkl1g1AyRWiGuiC_PycS4w.jpg",
              "variations": {
               "small": "//images.vivino.com/backgrounds/styles/thumbs/lkl1g1AyRWiGuiC_PycS4w_932x810.jpg"
              }
             },
             "blurb": null,
             "body": 4,
             "body_description": "Full-bodied",
             "country": {
              "code": "us",
              "currency": {
               "code": "USD",
               "name": "US Dollars",
               "prefix": "$",
               "suffix": null
              },
              "most_used_grapes": [
               {
                "has_detailed_info": true,
                "id": 2,
                "name": "Cabernet Sauvignon",
                "seo_name": "cabernet-sauvignon",
                "wines_count": 725925
               },
               {
                "has_detailed_info": true,
                "id": 14,
                "name": "Pinot Noir",
                "seo_name": "pinot-noir",
                "wines_count": 513244
               },
               {
                "has_detailed_info": true,
                "id": 5,
                "name": "Chardonnay",
                "seo_name": "chardonnay",
                "wines_count": 541509
               }
              ],
              "name": "United States",
              "native_name": "United States",
              "regions_count": 357,
              "seo_name": "united-states",
              "users_count": 10104977,
              "wineries_count": 26264,
              "wines_count": 230446
             },
             "description": null,
             "food": [
              {
               "background_image": {
                "location": "//images.vivino.com/backgrounds/foods/4_beef.png",
                "variations": {
                 "small": "//images.vivino.com/backgrounds/foods/thumbs/4_beef_932x810.png"
                }
               },
               "id": 4,
               "name": "Beef",
               "seo_name": "beef"
              },
              {
               "background_image": {
                "location": "//images.vivino.com/backgrounds/foods/8_lamb.png",
                "variations": {
                 "small": "//images.vivino.com/backgrounds/foods/thumbs/8_lamb_932x810.png"
                }
               },
               "id": 8,
               "name": "Lamb",
               "seo_name": "lamb"
              },
              {
               "background_image": {
                "location": "//images.vivino.com/backgrounds/foods/11_venison.png",
                "variations": {
                 "small": "//images.vivino.com/backgrounds/foods/thumbs/11_venison_932x810.png"
                }
               },
               "id": 11,
               "name": "Game (deer, venison)",
               "seo_name": "game"
              },
              {
               "background_image": {
                "location": "//images.vivino.com/backgrounds/foods/20_chicken.png",
                "variations": {
                 "small": "//images.vivino.com/backgrounds/foods/thumbs/20_chicken_932x810.png"
                }
               },
               "id": 20,
               "name": "Poultry",
               "seo_name": "poultry"
              }
             ],
             "grapes": [
              {
               "has_detailed_info": true,
               "id": 2,
               "name": "Cabernet Sauvignon",
               "seo_name": "cabernet-sauvignon",
               "wines_count": 725925
              },
              {
               "has_detailed_info": true,
               "id": 3,
               "name": "Cabernet Franc",
               "seo_name": "cabernet-franc",
               "wines_count": 243121
              },
              {
               "has_detailed_info": true,
               "id": 9,
               "name": "Malbec",
               "seo_name": "malbec",
               "wines_count": 197235
              },
              {
               "has_detailed_info": true,
               "id": 10,
               "name": "Merlot",
               "seo_name": "merlot",
               "wines_count": 510808
              },
              {
               "has_detailed_info": true,
               "id": 42,
               "name": "Petit Verdot",
               "seo_name": "petit-verdot",
               "wines_count": 74892
              }
             ],
             "id": 290,
             "image": null,
             "interesting_facts": null,
             "name": "Napa Valley Bordeaux Blend",
             "region": {
              "background_image": {
               "location": "//images.vivino.com/regions/backgrounds/cP8NlYVPSUStyROqZeBzgA.jpg",
               "variations": {
                "large": "//thumbs.vivino.com/region_backgrounds/cP8NlYVPSUStyROqZeBzgA_1280x760.jpg",
                "medium": "//thumbs.vivino.com/region_backgrounds/cP8NlYVPSUStyROqZeBzgA_600x356.jpg"
               }
              },
              "class": {
               "typecast_map": {
                "background_image": {},
                "class": {}
               }
              },
              "country": {
               "code": "us",
               "currency": {
                "code": "USD",
                "name": "US Dollars",
                "prefix": "$",
                "suffix": null
               },
               "most_used_grapes": [
                {
                 "has_detailed_info": true,
                 "id": 2,
                 "name": "Cabernet Sauvignon",
                 "seo_name": "cabernet-sauvignon",
                 "wines_count": 725925
                },
                {
                 "has_detailed_info": true,
                 "id": 14,
                 "name": "Pinot Noir",
                 "seo_name": "pinot-noir",
                 "wines_count": 513244
                },
                {
                 "has_detailed_info": true,
                 "id": 5,
                 "name": "Chardonnay",
                 "seo_name": "chardonnay",
                 "wines_count": 541509
                }
               ],
               "name": "United States",
               "native_name": "United States",
               "regions_count": 357,
               "seo_name": "united-states",
               "users_count": 10104977,
               "wineries_count": 26264,
               "wines_count": 230446
              },
              "id": 25,
              "name": "Napa Valley",
              "name_en": "",
              "seo_name": "napa-valley"
             },
             "regional_name": "Napa Valley",
             "seo_name": "napa-valley-bordeaux-blend",
             "varietal_name": "Bordeaux Blend",
             "wine_type_id": 1
            },
            "taste": {
             "flavor": [
              {
               "group": "oak",
               "stats": {
                "count": 1231,
                "score": 175275
               }
              },
              {
               "group": "black_fruit",
               "stats": {
                "count": 982,
                "score": 146704
               }
              },
              {
               "group": "earth",
               "stats": {
                "count": 841,
                "score": 75516
               }
              },
              {
               "group": "non_oak",
               "stats": {
                "count": 782,
                "score": 17282
               }
              },
              {
               "group": "spices",
               "stats": {
                "count": 555,
                "score": 36938
               }
              },
              {
               "group": "red_fruit",
               "stats": {
                "count": 431,
                "score": 36190
               }
              },
              {
               "group": "microbio",
               "stats": {
                "count": 146,
                "score": 9056
               }
              },
              {
               "group": "dried_fruit",
               "stats": {
                "count": 79,
                "score": 6884
               }
              },
              {
               "group": "floral",
               "stats": {
                "count": 66,
                "score": 6200
               }
              },
              {
               "group": "vegetal",
               "stats": {
                "count": 41,
                "score": 1956
               }
              },
              {
               "group": "tree_fruit",
               "stats": {
                "count": 14,
                "score": 1500
               }
              },
              {
               "group": "citrus_fruit",
               "stats": {
                "count": 11,
                "score": 1200
               }
              },
              {
               "group": "tropical_fruit",
               "stats": {
                "count": 5,
                "score": 299
               }
              }
             ],
             "structure": {
              "acidity": 3.8378212,
              "calculated_structure_count": 2060,
              "fizziness": null,
              "intensity": 4.7797613,
              "sweetness": 1.7372158,
              "tannin": 3.4903712,
              "user_structure_count": 436
             }
            },
            "type_id": 1,
            "vintage_type": 0,
            "winery": {
             "id": 1296,
             "name": "Joseph Phelps",
             "seo_name": "joseph-phelps",
             "status": 0
            }
           },
           "year": 2015
          }
         },
         {
          "price": {
           "amount": 174.99,
           "bottle_type": {
            "id": 1,
            "name": "Bottle (0.75l)",
            "short_name": "bottle",
            "short_name_plural": "bottles",
            "volume_ml": 750
           },
           "bottle_type_id": 1,
           "currency": {
            "code": "USD",
            "name": "US Dollars",
            "prefix": "$",
            "suffix": null
           },
           "discount_percent": null,
           "discounted_from": null,
           "id": 21125094,
           "sku": "",
           "type": "vc",
           "url": "https://www.blackbearwines.com/Vega-Sicilia-Tinto-Valbuena-5-Ribera-del-Duero-2015-750-ml-p187860048",
           "visibility": 1
          },
          "prices": [
           {
            "amount": 174.99,
            "bottle_type": {
             "id": 1,
             "name": "Bottle (0.75l)",
             "short_name": "bottle",
             "short_name_plural": "bottles",
             "volume_ml": 750
            },
            "bottle_type_id": 1,
            "currency": {
             "code": "USD",
             "name": "US Dollars",
             "prefix": "$",
             "suffix": null
            },
            "discount_percent": null,
            "discounted_from": null,
            "id": 21125094,
            "sku": "",
            "type": "vc",
            "url": "https://www.blackbearwines.com/Vega-Sicilia-Tinto-Valbuena-5-Ribera-del-Duero-2015-750-ml-p187860048",
            "visibility": 1
           }
          ],
          "vintage": {
           "grapes": null,
           "has_valid_ratings": true,
           "id": 14394745,
           "image": {
            "location": "//images.vivino.com/thumbs/PCImbI11T4i-rZASrHk3gA_pl_480x640.png",
            "variations": {
             "bottle_large": "//images.vivino.com/thumbs/PCImbI11T4i-rZASrHk3gA_pb_x960.png",
             "bottle_medium": "//images.vivino.com/thumbs/PCImbI11T4i-rZASrHk3gA_pb_x600.png",
             "bottle_medium_square": "//images.vivino.com/thumbs/PCImbI11T4i-rZASrHk3gA_pb_600x600.png",
             "bottle_small": "//images.vivino.com/thumbs/PCImbI11T4i-rZASrHk3gA_pb_x300.png",
             "bottle_small_square": "//images.vivino.com/thumbs/PCImbI11T4i-rZASrHk3gA_pb_300x300.png",
             "label": "//images.vivino.com/thumbs/PCImbI11T4i-rZASrHk3gA_pl_480x640.png",
             "label_large": "//images.vivino.com/thumbs/PCImbI11T4i-rZASrHk3gA_pl_375x500.png",
             "label_medium": "//images.vivino.com/thumbs/PCImbI11T4i-rZASrHk3gA_pl_150x200.png",
             "label_medium_square": "//images.vivino.com/thumbs/PCImbI11T4i-rZASrHk3gA_pl_150x150.png",
             "label_small_square": "//images.vivino.com/thumbs/PCImbI11T4i-rZASrHk3gA_pl_80x80.png",
             "large": "//images.vivino.com/thumbs/PCImbI11T4i-rZASrHk3gA_pl_375x500.png",
             "medium": "//images.vivino.com/thumbs/PCImbI11T4i-rZASrHk3gA_pl_150x200.png",
             "medium_square": "//images.vivino.com/thumbs/PCImbI11T4i-rZASrHk3gA_pl_150x150.png",
             "small_square": "//images.vivino.com/thumbs/PCImbI11T4i-rZASrHk3gA_pl_80x80.png"
            }
           },
           "name": "Vega Sicilia Valbuena 5º 2015",
           "seo_name": "vega-sicilia-valbuena-5o-2015",
           "statistics": {
            "labels_count": 9061,
            "ratings_average": 4.7,
            "ratings_count": 1209,
            "status": "Normal"
           },
           "wine": {
            "has_valid_ratings": true,
            "id": 1175427,
            "is_natural": false,
            "name": "Valbuena 5º",
            "region": {
             "background_image": {
              "location": "//images.vivino.com/regions/backgrounds/_nMNiDRrQG-Y6aphFjOyYQ.jpeg",
              "variations": {
               "large": "//thumbs.vivino.com/region_backgrounds/_nMNiDRrQG-Y6aphFjOyYQ_1280x760.jpeg",
               "medium": "//thumbs.vivino.com/region_backgrounds/_nMNiDRrQG-Y6aphFjOyYQ_600x356.jpeg"
              }
             },
             "country": {
              "code": "es",
              "currency": {
               "code": "EUR",
               "name": "Euros",
               "prefix": "€",
               "suffix": null
              },
              "most_used_grapes": [
               {
                "has_detailed_info": true,
                "id": 19,
                "name": "Tempranillo",
                "seo_name": "tempranillo",
                "wines_count": 156528
               },
               {
                "has_detailed_info": true,
                "id": 142,
                "name": "Garnacha",
                "seo_name": "garnacha",
                "wines_count": 52388
               },
               {
                "has_detailed_info": true,
                "id": 2,
                "name": "Cabernet Sauvignon",
                "seo_name": "cabernet-sauvignon",
                "wines_count": 725925
               }
              ],
              "name": "Spain",
              "native_name": "España",
              "regions_count": 150,
              "seo_name": "spain",
              "users_count": 1888821,
              "wineries_count": 16968,
              "wines_count": 121552
             },
             "id": 405,
             "name": "Ribera del Duero",
             "name_en": "",
             "seo_name": "ribera-del-duero"
            },
            "seo_name": "valbuena-5o",
            "statistics": {
             "labels_count": 307744,
             "ratings_average": 4.6,
             "ratings_count": 56381,
             "status": "Normal",
             "vintages_count": 160
            },
            "style": {
             "acidity": 3,
             "acidity_description": "High",
             "background_image": {
              "location": "//images.vivino.com/backgrounds/styles/jvbiWuqtTdSCco23mOd8eA.jpg",
              "variations": {
               "small": "//images.vivino.com/backgrounds/styles/thumbs/jvbiWuqtTdSCco23mOd8eA_932x810.jpg"
              }
             },
             "blurb": "Often Tempranillo-based",
             "body": 5,
             "body_description": "Very full-bodied",
             "country": {
              "code": "es",
              "currency": {
               "code": "EUR",
               "name": "Euros",
               "prefix": "€",
               "suffix": null
              },
              "most_used_grapes": [
               {
                "has_detailed_info": true,
                "id": 19,
                "name": "Tempranillo",
                "seo_name": "tempranillo",
                "wines_count": 156528
               },
               {
                "has_detailed_info": true,
                "id": 142,
                "name": "Garnacha",
                "seo_name": "garnacha",
                "wines_count": 52388
               },
               {
                "has_detailed_info": true,
                "id": 2,
                "name": "Cabernet Sauvignon",
                "seo_name": "cabernet-sauvignon",
                "wines_count": 725925
               }
              ],
              "name": "Spain",
              "native_name": "España",
              "regions_count": 150,
              "seo_name": "spain",
              "users_count": 1888821,
              "wineries_count": 16968,
              "wines_count": 121552
             },
             "description": "Rioja may be the most famous region in Spain, but Ribera del Duero is no slouch. These classic wines are made mostly from the grape Tempranillo.\n\nRibera del Duero wines are known for being strong, dark-colored wines filled with dark fruit, tobacco and vanilla flavors.\n\nThe sensual wines of Ribera del Duero are dark, brooding, and exciting. They are famous for taking the traditional Spanish grape Tempranillo and blending it with Bordeaux grapes Cabernet Sauvignon and Merlot. This practice makes wines that are strong, dark and beautiful.\n\nThis specific grape blend makes these wines very delicious, but their popularity slipped drastically in the 1970s. Extremely long barrel aging and old winemaking practices made the wines extremely inconsistent. Even bottles in the same vintage could be very different.\n\nNow, with modern winemaking practices and attention to detail these wines are becoming as consistently incredible as they should be!",
             "food": [
              {
               "background_image": {
                "location": "//images.vivino.com/backgrounds/foods/4_beef.png",
                "variations": {
                 "small": "//images.vivino.com/backgrounds/foods/thumbs/4_beef_932x810.png"
                }
               },
               "id": 4,
               "name": "Beef",
               "seo_name": "beef"
              },
              {
               "background_image": {
                "location": "//images.vivino.com/backgrounds/foods/8_lamb.png",
                "variations": {
                 "small": "//images.vivino.com/backgrounds/foods/thumbs/8_lamb_932x810.png"
                }
               },
               "id": 8,
               "name": "Lamb",
               "seo_name": "lamb"
              },
              {
               "background_image": {
                "location": "//images.vivino.com/backgrounds/foods/11_venison.png",
                "variations": {
                 "small": "//images.vivino.com/backgrounds/foods/thumbs/11_venison_932x810.png"
                }
               },
               "id": 11,
               "name": "Game (deer, venison)",
               "seo_name": "game"
              }
             ],
             "grapes": [
              {
               "has_detailed_info": true,
               "id": 19,
               "name": "Tempranillo",
               "seo_name": "tempranillo",
               "wines_count": 156528
              }
             ],
             "id": 180,
             "image": null,
             "interesting_facts": [
              "In Ribera del Duero, the grape Tempranillo is called Tinto Fino.",
              "Vega Sicilia in Ribera del Duero has historically been Spain's most expensive wine.",
              "The DO classification for Ribera del Duero was created in 1982.",
              "Ribera del Duero translates to “alongside the Duero River”, which is apt because the Duero River runs through it."
             ],
             "name": "Spanish Ribera Del Duero Red",
             "region": {
              "background_image": {
               "location": "//images.vivino.com/regions/backgrounds/_nMNiDRrQG-Y6aphFjOyYQ.jpeg",
               "variations": {
                "large": "//thumbs.vivino.com/region_backgrounds/_nMNiDRrQG-Y6aphFjOyYQ_1280x760.jpeg",
                "medium": "//thumbs.vivino.com/region_backgrounds/_nMNiDRrQG-Y6aphFjOyYQ_600x356.jpeg"
               }
              },
              "country": {
               "code": "es",
               "currency": {
                "code": "EUR",
                "name": "Euros",
                "prefix": "€",
                "suffix": null
               },
               "most_used_grapes": [
                {
                 "has_detailed_info": true,
                 "id": 19,
                 "name": "Tempranillo",
                 "seo_name": "tempranillo",
                 "wines_count": 156528
                },
                {
                 "has_detailed_info": true,
                 "id": 142,
                 "name": "Garnacha",
                 "seo_name": "garnacha",
                 "wines_count": 52388
                },
                {
                 "has_detailed_info": true,
                 "id": 2,
                 "name": "Cabernet Sauvignon",
                 "seo_name": "cabernet-sauvignon",
                 "wines_count": 725925
                }
               ],
               "name": "Spain",
               "native_name": "España",
               "regions_count": 150,
               "seo_name": "spain",
               "users_count": 1888821,
               "wineries_count": 16968,
               "wines_count": 121552
              },
              "id": 405,
              "name": "Ribera del Duero",
              "name_en": "",
              "seo_name": "ribera-del-duero"
             },
             "regional_name": "Spanish",
             "seo_name": "spanish-ribera-del-duero-red",
             "varietal_name": "Ribera Del Duero Red",
             "wine_type_id": 1
            },
            "taste": {
             "flavor": [
              {
               "group": "oak",
               "stats": {
                "count": 1303,
                "score": 186255
               }
              },
              {
               "group": "non_oak",
               "stats": {
                "count": 907,
                "score": 22210
               }
              },
              {
               "group": "earth",
               "stats": {
                "count": 892,
                "score": 82863
               }
              },
              {
               "group": "black_fruit",
               "stats": {
                "count": 772,
                "score": 106295
               }
              },
              {
               "group": "spices",
               "stats": {
                "count": 690,
                "score": 42611
               }
              },
              {
               "group": "red_fruit",
               "stats": {
                "count": 530,
                "score": 53603
               }
              },
              {
               "group": "microbio",
               "stats": {
                "count": 191,
                "score": 12034
               }
              },
              {
               "group": "dried_fruit",
               "stats": {
                "count": 129,
                "score": 11444
               }
              },
              {
               "group": "floral",
               "stats": {
                "count": 70,
                "score": 6450
               }
              },
              {
               "group": "vegetal",
               "stats": {
                "count": 66,
                "score": 4169
               }
              },
              {
               "group": "citrus_fruit",
               "stats": {
                "count": 43,
                "score": 4600
               }
              },
              {
               "group": "tree_fruit",
               "stats": {
                "count": 9,
                "score": 900
               }
              },
              {
               "group": "tropical_fruit",
               "stats": {
                "count": 7,
                "score": 566
               }
              }
             ],
             "structure": {
              "acidity": 3.7107656,
              "calculated_structure_count": 1659,
              "fizziness": null,
              "intensity": 3.8767478,
              "sweetness": 1.8265522,
              "tannin": 3.4770312,
              "user_structure_count": 2662
             }
            },
            "type_id": 1,
            "vintage_type": 0,
            "winery": {
             "id": 11050,
             "name": "Vega Sicilia",
             "seo_name": "vega-sicilia",
             "status": 0
            }
           },
           "year": 2015
          }
         },
         {
          "price": {
           "amount": 169.99,
           "bottle_type": {
            "id": 1,
            "name": "Bottle (0.75l)",
            "short_name": "bottle",
            "short_name_plural": "bottles",
            "volume_ml": 750
           },
           "bottle_type_id": 1,
           "currency": {
            "code": "USD",
            "name": "US Dollars",
            "prefix": "$",
            "suffix": null
           },
           "discount_percent": null,
           "discounted_from": null,
           "id": 21848853,
           "sku": "626304",
           "type": "vc",
           "url": "https://www.wine.com/product/626304?s=bizdev_vivino&cid=bizdev_vivino&state=MA",
           "visibility": 1
          },
          "prices": [
           {
            "amount": 169.99,
            "bottle_type": {
             "id": 1,
             "name": "Bottle (0.75l)",
             "short_name": "bottle",
             "short_name_plural": "bottles",
             "volume_ml": 750
            },
            "bottle_type_id": 1,
            "currency": {
             "code": "USD",
             "name": "US Dollars",
             "prefix": "$",
             "suffix": null
            },
            "discount_percent": null,
            "discounted_from": null,
            "id": 21848853,
            "sku": "626304",
            "type": "vc",
            "url": "https://www.wine.com/product/626304?s=bizdev_vivino&cid=bizdev_vivino&state=MA",
            "visibility": 1
           }
          ],
          "vintage": {
           "grapes": null,
           "has_valid_ratings": true,
           "id": 89017358,
           "image": {
            "location": "//images.vivino.com/thumbs/5KyHuUOhTEungzvFPpdQJA_pl_480x640.png",
            "variations": {
             "bottle_large": "//images.vivino.com/thumbs/5KyHuUOhTEungzvFPpdQJA_pb_x960.png",
             "bottle_medium": "//images.vivino.com/thumbs/5KyHuUOhTEungzvFPpdQJA_pb_x600.png",
             "bottle_medium_square": "//images.vivino.com/thumbs/5KyHuUOhTEungzvFPpdQJA_pb_600x600.png",
             "bottle_small": "//images.vivino.com/thumbs/5KyHuUOhTEungzvFPpdQJA_pb_x300.png",
             "bottle_small_square": "//images.vivino.com/thumbs/5KyHuUOhTEungzvFPpdQJA_pb_300x300.png",
             "label": "//images.vivino.com/thumbs/5KyHuUOhTEungzvFPpdQJA_pl_480x640.png",
             "label_large": "//images.vivino.com/thumbs/5KyHuUOhTEungzvFPpdQJA_pl_375x500.png",
             "label_medium": "//images.vivino.com/thumbs/5KyHuUOhTEungzvFPpdQJA_pl_150x200.png",
             "label_medium_square": "//images.vivino.com/thumbs/5KyHuUOhTEungzvFPpdQJA_pl_150x150.png",
             "label_small_square": "//images.vivino.com/thumbs/5KyHuUOhTEungzvFPpdQJA_pl_80x80.png",
             "large": "//images.vivino.com/thumbs/5KyHuUOhTEungzvFPpdQJA_pl_375x500.png",
             "medium": "//images.vivino.com/thumbs/5KyHuUOhTEungzvFPpdQJA_pl_150x200.png",
             "medium_square": "//images.vivino.com/thumbs/5KyHuUOhTEungzvFPpdQJA_pl_150x150.png",
             "small_square": "//images.vivino.com/thumbs/5KyHuUOhTEungzvFPpdQJA_pl_80x80.png"
            }
           },
           "name": "Caymus Special Selection Cabernet Sauvignon 2016",
           "seo_name": "caymus-vineyards-special-selection-cabernet-sauvignon-2016",
           "statistics": {
            "labels_count": 13742,
            "ratings_average": 4.7,
            "ratings_count": 1050,
            "status": "Normal"
           },
           "wine": {
            "has_valid_ratings": true,
            "id": 66294,
            "is_natural": false,
            "name": "Special Selection Cabernet Sauvignon",
            "region": {
             "background_image": {
              "location": "//images.vivino.com/regions/backgrounds/cP8NlYVPSUStyROqZeBzgA.jpg",
              "variations": {
               "large": "//thumbs.vivino.com/region_backgrounds/cP8NlYVPSUStyROqZeBzgA_1280x760.jpg",
               "medium": "//thumbs.vivino.com/region_backgrounds/cP8NlYVPSUStyROqZeBzgA_600x356.jpg"
              }
             },
             "class": {
              "typecast_map": {
               "background_image": {},
               "class": {}
              }
             },
             "country": {
              "code": "us",
              "currency": {
               "code": "USD",
               "name": "US Dollars",
               "prefix": "$",
               "suffix": null
              },
              "most_used_grapes": [
               {
                "has_detailed_info": true,
                "id": 2,
                "name": "Cabernet Sauvignon",
                "seo_name": "cabernet-sauvignon",
                "wines_count": 725925
               },
               {
                "has_detailed_info": true,
                "id": 14,
                "name": "Pinot Noir",
                "seo_name": "pinot-noir",
                "wines_count": 513244
               },
               {
                "has_detailed_info": true,
                "id": 5,
                "name": "Chardonnay",
                "seo_name": "chardonnay",
                "wines_count": 541509
               }
              ],
              "name": "United States",
              "native_name": "United States",
              "regions_count": 357,
              "seo_name": "united-states",
              "users_count": 10104977,
              "wineries_count": 26264,
              "wines_count": 230446
             },
             "id": 25,
             "name": "Napa Valley",
             "name_en": "",
             "seo_name": "napa-valley"
            },
            "seo_name": "special-selection-cabernet-sauvignon",
            "statistics": {
             "labels_count": 218586,
             "ratings_average": 4.7,
             "ratings_count": 33856,
             "status": "Normal",
             "vintages_count": 114
            },
            "style": {
             "acidity": 2,
             "acidity_description": "Medium",
             "background_image": {
              "location": "//images.vivino.com/backgrounds/styles/Rs1kBMYfQ0693K_iRThxOw.jpg",
              "variations": {
               "small": "//images.vivino.com/backgrounds/styles/thumbs/Rs1kBMYfQ0693K_iRThxOw_932x810.jpg"
              }
             },
             "blurb": null,
             "body": 5,
             "body_description": "Very full-bodied",
             "country": {
              "code": "us",
              "currency": {
               "code": "USD",
               "name": "US Dollars",
               "prefix": "$",
               "suffix": null
              },
              "most_used_grapes": [
               {
                "has_detailed_info": true,
                "id": 2,
                "name": "Cabernet Sauvignon",
                "seo_name": "cabernet-sauvignon",
                "wines_count": 725925
               },
               {
                "has_detailed_info": true,
                "id": 14,
                "name": "Pinot Noir",
                "seo_name": "pinot-noir",
                "wines_count": 513244
               },
               {
                "has_detailed_info": true,
                "id": 5,
                "name": "Chardonnay",
                "seo_name": "chardonnay",
                "wines_count": 541509
               }
              ],
              "name": "United States",
              "native_name": "United States",
              "regions_count": 357,
              "seo_name": "united-states",
              "users_count": 10104977,
              "wineries_count": 26264,
              "wines_count": 230446
             },
             "description": null,
             "food": [
              {
               "background_image": {
                "location": "//images.vivino.com/backgrounds/foods/4_beef.png",
                "variations": {
                 "small": "//images.vivino.com/backgrounds/foods/thumbs/4_beef_932x810.png"
                }
               },
               "id": 4,
               "name": "Beef",
               "seo_name": "beef"
              },
              {
               "background_image": {
                "location": "//images.vivino.com/backgrounds/foods/8_lamb.png",
                "variations": {
                 "small": "//images.vivino.com/backgrounds/foods/thumbs/8_lamb_932x810.png"
                }
               },
               "id": 8,
               "name": "Lamb",
               "seo_name": "lamb"
              },
              {
               "background_image": {
                "location": "//images.vivino.com/backgrounds/foods/11_venison.png",
                "variations": {
                 "small": "//images.vivino.com/backgrounds/foods/thumbs/11_venison_932x810.png"
                }
               },
               "id": 11,
               "name": "Game (deer, venison)",
               "seo_name": "game"
              },
              {
               "background_image": {
                "location": "//images.vivino.com/backgrounds/foods/17_hardcheese.png",
                "variations": {
                 "small": "//images.vivino.com/backgrounds/foods/thumbs/17_hardcheese_932x810.png"
                }
               },
               "id": 17,
               "name": "Mature and hard cheese",
               "seo_name": null
              },
              {
               "background_image": {
                "location": "//images.vivino.com/backgrounds/foods/20_chicken.png",
                "variations": {
                 "small": "//images.vivino.com/backgrounds/foods/thumbs/20_chicken_932x810.png"
                }
               },
               "id": 20,
               "name": "Poultry",
               "seo_name": "poultry"
              }
             ],
             "grapes": [
              {
               "has_detailed_info": true,
               "id": 2,
               "name": "Cabernet Sauvignon",
               "seo_name": "cabernet-sauvignon",
               "wines_count": 725925
              }
             ],
             "id": 289,
             "image": null,
             "interesting_facts": null,
             "name": "Napa Valley Cabernet Sauvignon",
             "region": {
              "background_image": {
               "location": "//images.vivino.com/regions/backgrounds/cP8NlYVPSUStyROqZeBzgA.jpg",
               "variations": {
                "large": "//thumbs.vivino.com/region_backgrounds/cP8NlYVPSUStyROqZeBzgA_1280x760.jpg",
                "medium": "//thumbs.vivino.com/region_backgrounds/cP8NlYVPSUStyROqZeBzgA_600x356.jpg"
               }
              },
              "class": {
               "typecast_map": {
                "background_image": {},
                "class": {}
               }
              },
              "country": {
               "code": "us",
               "currency": {
                "code": "USD",
                "name": "US Dollars",
                "prefix": "$",
                "suffix": null
               },
               "most_used_grapes": [
                {
                 "has_detailed_info": true,
                 "id": 2,
                 "name": "Cabernet Sauvignon",
                 "seo_name": "cabernet-sauvignon",
                 "wines_count": 725925
                },
                {
                 "has_detailed_info": true,
                 "id": 14,
                 "name": "Pinot Noir",
                 "seo_name": "pinot-noir",
                 "wines_count": 513244
                },
                {
                 "has_detailed_info": true,
                 "id": 5,
                 "name": "Chardonnay",
                 "seo_name": "chardonnay",
                 "wines_count": 541509
                }
               ],
               "name": "United States",
               "native_name": "United States",
               "regions_count": 357,
               "seo_name": "united-states",
               "users_count": 10104977,
               "wineries_count": 26264,
               "wines_count": 230446
              },
              "id": 25,
              "name": "Napa Valley",
              "name_en": "",
              "seo_name": "napa-valley"
             },
             "regional_name": "Napa Valley",
             "seo_name": "napa-valley-cabernet-sauvignon",
             "varietal_name": "Cabernet Sauvignon",
             "wine_type_id": 1
            },
            "taste": {
             "flavor": [
              {
               "group": "oak",
               "stats": {
                "count": 1514,
                "score": 211011
               }
              },
              {
               "group": "black_fruit",
               "stats": {
                "count": 1140,
                "score": 166592
               }
              },
              {
               "group": "non_oak",
               "stats": {
                "count": 977,
                "score": 21556
               }
              },
              {
               "group": "spices",
               "stats": {
                "count": 827,
                "score": 46280
               }
              },
              {
               "group": "earth",
               "stats": {
                "count": 747,
                "score": 62037
               }
              },
              {
               "group": "red_fruit",
               "stats": {
                "count": 524,
                "score": 43154
               }
              },
              {
               "group": "microbio",
               "stats": {
                "count": 170,
                "score": 12677
               }
              },
              {
               "group": "dried_fruit",
               "stats": {
                "count": 131,
                "score": 10947
               }
              },
              {
               "group": "floral",
               "stats": {
                "count": 65,
                "score": 6300
               }
              },
              {
               "group": "vegetal",
               "stats": {
                "count": 43,
                "score": 2946
               }
              },
              {
               "group": "tree_fruit",
               "stats": {
                "count": 12,
                "score": 1200
               }
              },
              {
               "group": "citrus_fruit",
               "stats": {
                "count": 12,
                "score": 1200
               }
              },
              {
               "group": "tropical_fruit",
               "stats": {
                "count": 3,
                "score": 300
               }
              }
             ],
             "structure": {
              "acidity": 3.3444278,
              "calculated_structure_count": 2879,
              "fizziness": null,
              "intensity": 4.7754974,
              "sweetness": 1.909029,
              "tannin": 3.2513902,
              "user_structure_count": 1129
             }
            },
            "type_id": 1,
            "vintage_type": 0,
            "winery": {
             "id": 1301,
             "name": "Caymus",
             "seo_name": "caymus-vineyards",
             "status": 0
            }
           },
           "year": 2016
          }
         }
        ],
        "records_matched": 40226
       },
       "selected_filters": [
        {
         "items": [
          {
           "background_image": {
            "location": "//images.vivino.com/backgrounds/winetypes/guMrzrGvQLOUmbaI0yE0IA.jpg",
            "variations": {
             "small": "//images.vivino.com/backgrounds/winetypes/thumbs/guMrzrGvQLOUmbaI0yE0IA_932x810.jpg"
            }
           },
           "id": 1,
           "name": "Red Wine"
          }
         ],
         "type": "wine_type_ids"
        }
       ]
      },
      "text/plain": [
       "<IPython.core.display.JSON object>"
      ]
     },
     "execution_count": 17,
     "metadata": {
      "application/json": {
       "expanded": false,
       "root": "root"
      }
     },
     "output_type": "execute_result"
    }
   ],
   "source": [
    "# display data\n",
    "JSON(reds.json())"
   ]
  },
  {
   "cell_type": "code",
   "execution_count": 27,
   "metadata": {},
   "outputs": [
    {
     "ename": "NameError",
     "evalue": "name 'params' is not defined",
     "output_type": "error",
     "traceback": [
      "\u001b[0;31m---------------------------------------------------------------------------\u001b[0m",
      "\u001b[0;31mNameError\u001b[0m                                 Traceback (most recent call last)",
      "\u001b[0;32m<ipython-input-27-bfd368200e6b>\u001b[0m in \u001b[0;36m<module>\u001b[0;34m\u001b[0m\n\u001b[0;32m----> 1\u001b[0;31m \u001b[0mparams\u001b[0m\u001b[0;34m\u001b[0m\u001b[0;34m\u001b[0m\u001b[0m\n\u001b[0m",
      "\u001b[0;31mNameError\u001b[0m: name 'params' is not defined"
     ]
    }
   ],
   "source": []
  },
  {
   "cell_type": "code",
   "execution_count": null,
   "metadata": {},
   "outputs": [],
   "source": []
  }
 ],
 "metadata": {
  "kernelspec": {
   "display_name": "Python 3",
   "language": "python",
   "name": "python3"
  },
  "language_info": {
   "codemirror_mode": {
    "name": "ipython",
    "version": 3
   },
   "file_extension": ".py",
   "mimetype": "text/x-python",
   "name": "python",
   "nbconvert_exporter": "python",
   "pygments_lexer": "ipython3",
   "version": "3.8.5"
  }
 },
 "nbformat": 4,
 "nbformat_minor": 4
}
