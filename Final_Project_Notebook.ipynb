{
 "cells": [
  {
   "cell_type": "markdown",
   "metadata": {},
   "source": [
    "# **ME 193, Spring 2021**\n",
    "## Final Project Notebook \n",
    "\n",
    "\n",
    "**Notes**:\n",
    "\n",
    "1. "
   ]
  },
  {
   "cell_type": "code",
   "execution_count": 8,
   "metadata": {},
   "outputs": [],
   "source": [
    "import os\n",
    "import numpy as np\n",
    "import pandas as pd\n",
    "import requests\n",
    "from IPython.display import JSON\n",
    "\n",
    "import sklearn.tree as tree\n",
    "import sklearn.metrics as mt\n",
    "import sklearn.ensemble as ens\n",
    "import matplotlib.pyplot as plt\n",
    "import sklearn.model_selection\n",
    "\n",
    "import seaborn as sns\n",
    "from sklearn.cluster import KMeans\n",
    "from scipy.sparse import csr_matrix\n",
    "from matplotlib.colors import ListedColormap\n",
    "from sklearn.metrics import classification_report\n",
    "from sklearn.neighbors import KNeighborsClassifier, KNeighborsRegressor"
   ]
  },
  {
   "cell_type": "markdown",
   "metadata": {},
   "source": [
    "## Import data\n",
    "Scrape vivino website by analyzing Network tab on the all search and pulling API request info. id = 1 is red wines and id = 2 is whites. Parems for search included\n",
    "Red network url: https://www.vivino.com/api/explore/explore?country_code=US&currency_code=USD&grape_filter=varietal&min_rating=1&order_by=ratings_average&order=desc&page=1&price_range_max=500&price_range_min=0&wine_type_ids[]=1"
   ]
  },
  {
   "cell_type": "raw",
   "metadata": {
    "jupyter": {
     "source_hidden": true
    }
   },
   "source": [
    "whites = requests.get(\n",
    "        url,\n",
    "        params = {\n",
    "            \"country_code\": \"US\",\n",
    "            #\"country_codes[]\":\"pt\",\n",
    "            \"currency_code\":\"USD\",\n",
    "            \"grape_filter\":\"varietal\",\n",
    "            \"min_rating\":\"1\",\n",
    "            \"order_by\":\"ratings_average\",\n",
    "            \"order\":\"desc\",\n",
    "            #\"page\": 1,\n",
    "            \"price_range_max\":\"450\",\n",
    "            \"price_range_min\":\"0\",\n",
    "            \"wine_type_ids[]\":\"2\"\n",
    "        },\n",
    "        headers=headers\n",
    "    )"
   ]
  },
  {
   "cell_type": "raw",
   "metadata": {
    "jupyter": {
     "source_hidden": true
    }
   },
   "source": [
    "# Start with an empty list\n",
    "total_results = []\n",
    "\n",
    "# Loop through from pages 1 to 6\n",
    "for page_num in range(1, 7):\n",
    "    # Build the URL and download the results\n",
    "    url = \"https://swapi.co/api/people/?search=a&page=\" + str(page_num)\n",
    "    print(\"Downloading\", url)\n",
    "    response = requests.get(url)\n",
    "    data = response.json()\n",
    "    total_results = total_results + data['results']\n",
    "\n",
    "\n",
    "print(\"We have\", len(total_results), \"total results\")\n",
    "\n",
    "results = [\n",
    "    (\n",
    "        t[\"vintage\"][\"wine\"][\"winery\"][\"name\"], \n",
    "        #f'{t[\"vintage\"][\"wine\"][\"name\"]} {t[\"vintage\"][\"year\"]}',\n",
    "        t[\"vintage\"][\"wine\"][\"name\"],\n",
    "        t[\"price\"][\"amount\"],\n",
    "        t[\"vintage\"][\"year\"],\n",
    "        t[\"vintage\"][\"wine\"][\"style\"][\"varietal_name\"],\n",
    "        t[\"vintage\"][\"wine\"][\"region\"][\"name\"],\n",
    "        t[\"vintage\"][\"wine\"][\"region\"][\"country\"][\"name\"],\n",
    "        t[\"vintage\"][\"statistics\"][\"ratings_average\"],\n",
    "        t[\"vintage\"][\"wine\"][\"taste\"][\"structure\"][\"acidity\"],\n",
    "        t[\"vintage\"][\"wine\"][\"taste\"][\"structure\"][\"sweetness\"],\n",
    "        t[\"vintage\"][\"wine\"][\"taste\"][\"structure\"][\"tannin\"],\n",
    "        # flavors\n",
    "        [j[\"group\"] for j in t[\"vintage\"][\"wine\"][\"taste\"][\"flavor\"]]\n",
    "    )\n",
    "    for t in reds[\"explore_vintage\"][\"matches\"]\n",
    "]"
   ]
  },
  {
   "cell_type": "code",
   "execution_count": 50,
   "metadata": {},
   "outputs": [
    {
     "name": "stdout",
     "output_type": "stream",
     "text": [
      "5\n",
      "125\n"
     ]
    },
    {
     "data": {
      "text/html": [
       "<div>\n",
       "<style scoped>\n",
       "    .dataframe tbody tr th:only-of-type {\n",
       "        vertical-align: middle;\n",
       "    }\n",
       "\n",
       "    .dataframe tbody tr th {\n",
       "        vertical-align: top;\n",
       "    }\n",
       "\n",
       "    .dataframe thead th {\n",
       "        text-align: right;\n",
       "    }\n",
       "</style>\n",
       "<table border=\"1\" class=\"dataframe\">\n",
       "  <thead>\n",
       "    <tr style=\"text-align: right;\">\n",
       "      <th></th>\n",
       "      <th>Winery</th>\n",
       "      <th>Wine</th>\n",
       "      <th>Price</th>\n",
       "      <th>Year</th>\n",
       "      <th>Grape</th>\n",
       "      <th>Region</th>\n",
       "      <th>Country</th>\n",
       "      <th>Rating</th>\n",
       "      <th>Acidity</th>\n",
       "      <th>Sweetness</th>\n",
       "      <th>Tannin</th>\n",
       "      <th>Flavor</th>\n",
       "    </tr>\n",
       "  </thead>\n",
       "  <tbody>\n",
       "    <tr>\n",
       "      <th>0</th>\n",
       "      <td>Château Lagrézette</td>\n",
       "      <td>Le Pigeonnier Malbec</td>\n",
       "      <td>186.99</td>\n",
       "      <td>2013</td>\n",
       "      <td>Malbec</td>\n",
       "      <td>Cahors</td>\n",
       "      <td>France</td>\n",
       "      <td>4.8</td>\n",
       "      <td>3.033677</td>\n",
       "      <td>1.683774</td>\n",
       "      <td>3.381870</td>\n",
       "      <td>[oak, earth, black_fruit, non_oak, spices, mic...</td>\n",
       "    </tr>\n",
       "    <tr>\n",
       "      <th>1</th>\n",
       "      <td>Viña Cobos</td>\n",
       "      <td>Cobos Chañares Estate Malbec</td>\n",
       "      <td>349.99</td>\n",
       "      <td>2016</td>\n",
       "      <td>Malbec</td>\n",
       "      <td>Tunuyán</td>\n",
       "      <td>Argentina</td>\n",
       "      <td>4.8</td>\n",
       "      <td>2.791039</td>\n",
       "      <td>2.112970</td>\n",
       "      <td>2.788464</td>\n",
       "      <td>[oak, black_fruit, spices, non_oak, floral, ea...</td>\n",
       "    </tr>\n",
       "    <tr>\n",
       "      <th>2</th>\n",
       "      <td>Antinori</td>\n",
       "      <td>Tenuta Tignanello 'Solaia'</td>\n",
       "      <td>349.99</td>\n",
       "      <td>2017</td>\n",
       "      <td>Red</td>\n",
       "      <td>Toscana</td>\n",
       "      <td>Italy</td>\n",
       "      <td>4.8</td>\n",
       "      <td>3.077701</td>\n",
       "      <td>1.899224</td>\n",
       "      <td>2.966772</td>\n",
       "      <td>[oak, earth, black_fruit, non_oak, spices, red...</td>\n",
       "    </tr>\n",
       "    <tr>\n",
       "      <th>3</th>\n",
       "      <td>Frank Family</td>\n",
       "      <td>Patriarch</td>\n",
       "      <td>219.99</td>\n",
       "      <td>2015</td>\n",
       "      <td>Cabernet Sauvignon</td>\n",
       "      <td>Rutherford</td>\n",
       "      <td>United States</td>\n",
       "      <td>4.8</td>\n",
       "      <td>3.327367</td>\n",
       "      <td>1.359278</td>\n",
       "      <td>3.235493</td>\n",
       "      <td>[oak, earth, non_oak, black_fruit, spices, red...</td>\n",
       "    </tr>\n",
       "    <tr>\n",
       "      <th>4</th>\n",
       "      <td>Realm</td>\n",
       "      <td>Farella Vineyard</td>\n",
       "      <td>239.95</td>\n",
       "      <td>2016</td>\n",
       "      <td>Cabernet Sauvignon</td>\n",
       "      <td>Coombsville</td>\n",
       "      <td>United States</td>\n",
       "      <td>4.8</td>\n",
       "      <td>3.247900</td>\n",
       "      <td>1.583510</td>\n",
       "      <td>3.424210</td>\n",
       "      <td>[oak, earth, non_oak, black_fruit, spices, red...</td>\n",
       "    </tr>\n",
       "  </tbody>\n",
       "</table>\n",
       "</div>"
      ],
      "text/plain": [
       "               Winery                          Wine   Price  Year  \\\n",
       "0  Château Lagrézette          Le Pigeonnier Malbec  186.99  2013   \n",
       "1          Viña Cobos  Cobos Chañares Estate Malbec  349.99  2016   \n",
       "2            Antinori    Tenuta Tignanello 'Solaia'  349.99  2017   \n",
       "3        Frank Family                     Patriarch  219.99  2015   \n",
       "4               Realm              Farella Vineyard  239.95  2016   \n",
       "\n",
       "                Grape       Region        Country  Rating   Acidity  \\\n",
       "0              Malbec       Cahors         France     4.8  3.033677   \n",
       "1              Malbec      Tunuyán      Argentina     4.8  2.791039   \n",
       "2                 Red      Toscana          Italy     4.8  3.077701   \n",
       "3  Cabernet Sauvignon   Rutherford  United States     4.8  3.327367   \n",
       "4  Cabernet Sauvignon  Coombsville  United States     4.8  3.247900   \n",
       "\n",
       "   Sweetness    Tannin                                             Flavor  \n",
       "0   1.683774  3.381870  [oak, earth, black_fruit, non_oak, spices, mic...  \n",
       "1   2.112970  2.788464  [oak, black_fruit, spices, non_oak, floral, ea...  \n",
       "2   1.899224  2.966772  [oak, earth, black_fruit, non_oak, spices, red...  \n",
       "3   1.359278  3.235493  [oak, earth, non_oak, black_fruit, spices, red...  \n",
       "4   1.583510  3.424210  [oak, earth, non_oak, black_fruit, spices, red...  "
      ]
     },
     "execution_count": 50,
     "metadata": {},
     "output_type": "execute_result"
    }
   ],
   "source": [
    "url = \"https://www.vivino.com/api/explore/explore\"\n",
    "headers= {\"User-Agent\": \"Mozilla/5.0 (X11; Linux x86_64) AppleWebKit/537.36 (KHTML, like Gecko) Chrome/51.0.2704.103 Safari/537.36\"}\n",
    "#page_num = 1\n",
    "matches = []\n",
    "\n",
    "for i, page_num in enumerate(range(1, 6)):\n",
    "    r = requests.get(url,\n",
    "        params = {\n",
    "            \"country_code\": \"US\",\n",
    "            \"currency_code\":\"USD\",\n",
    "            \"grape_filter\":\"varietal\",\n",
    "            \"min_rating\":\"1\",\n",
    "            \"order_by\":\"ratings_average\",\n",
    "            \"order\":\"desc\",\n",
    "            \"page\": page_num,\n",
    "            \"price_range_max\":\"450\",\n",
    "            \"price_range_min\":\"0\",\n",
    "            \"wine_type_ids[]\":\"1\"\n",
    "        }, headers=headers)\n",
    "    print(page_num, end='\\r')\n",
    "    reds = r.json()\n",
    "    matches.extend(reds[\"explore_vintage\"][\"matches\"])\n",
    "\n",
    "results = [\n",
    "    (\n",
    "        t[\"vintage\"][\"wine\"][\"winery\"][\"name\"], \n",
    "        #f'{t[\"vintage\"][\"wine\"][\"name\"]} {t[\"vintage\"][\"year\"]}',\n",
    "        t[\"vintage\"][\"wine\"][\"name\"],\n",
    "        t[\"price\"][\"amount\"],\n",
    "        t[\"vintage\"][\"year\"],\n",
    "        t[\"vintage\"][\"wine\"][\"style\"][\"varietal_name\"],\n",
    "        t[\"vintage\"][\"wine\"][\"region\"][\"name\"],\n",
    "        t[\"vintage\"][\"wine\"][\"region\"][\"country\"][\"name\"],\n",
    "        t[\"vintage\"][\"statistics\"][\"ratings_average\"],\n",
    "        t[\"vintage\"][\"wine\"][\"taste\"][\"structure\"][\"acidity\"],\n",
    "        t[\"vintage\"][\"wine\"][\"taste\"][\"structure\"][\"sweetness\"],\n",
    "        t[\"vintage\"][\"wine\"][\"taste\"][\"structure\"][\"tannin\"],\n",
    "        # flavors\n",
    "        [j[\"group\"] for j in t[\"vintage\"][\"wine\"][\"taste\"][\"flavor\"]]\n",
    "    )\n",
    "    for t in matches\n",
    "]\n",
    "\n",
    "df_reds = pd.DataFrame(results,columns=['Winery','Wine','Price','Year','Grape','Region','Country','Rating','Acidity','Sweetness','Tannin','Flavor'])\n",
    "print(page_num)\n",
    "print(len(df_reds))\n",
    "df_reds.head()"
   ]
  },
  {
   "cell_type": "code",
   "execution_count": 38,
   "metadata": {},
   "outputs": [],
   "source": [
    "# display data\n",
    "#JSON(matches)\n",
    "#df_reds.head(30)"
   ]
  },
  {
   "cell_type": "code",
   "execution_count": 26,
   "metadata": {},
   "outputs": [],
   "source": [
    "# Define Function to calculate Within Cluster Variance\n",
    "def withinClusVar(X,centers,labels,labelset):\n",
    "    variance = []\n",
    "    for i in labelset:\n",
    "        variance.append(np.linalg.norm(X[labels==i]-centers[i])**2/len(X[labels==i]))\n",
    "    return sum(variance)"
   ]
  },
  {
   "cell_type": "code",
   "execution_count": 27,
   "metadata": {},
   "outputs": [
    {
     "data": {
      "text/plain": [
       "Text(0, 0.5, 'WCV')"
      ]
     },
     "execution_count": 27,
     "metadata": {},
     "output_type": "execute_result"
    },
    {
     "data": {
      "image/png": "[encoded data removed]",
      "text/plain": [
       "<Figure size 864x648 with 1 Axes>"
      ]
     },
     "metadata": {
      "needs_background": "light"
     },
     "output_type": "display_data"
    }
   ],
   "source": [
    "X_test_wine = df_reds.drop(['Winery', 'Wine', 'Grape', 'Region', 'Country', 'Flavor'], axis=1)\n",
    "n_clusters = np.linspace(2,50,49, dtype='int')\n",
    "withinClusterVar = []\n",
    "    \n",
    "\n",
    "for n in n_clusters:\n",
    "    kmeans = KMeans(n_clusters=n, n_init = 10, max_iter=200).fit(X_test_wine)\n",
    "    centers = kmeans.cluster_centers_\n",
    "    labels = kmeans.fit_predict(X_test_wine)\n",
    "    labelset = np.unique(labels)\n",
    "    \n",
    "    withinClusterVar.append(withinClusVar(X_test_wine, centers, labels, labelset))\n",
    "\n",
    "plt.figure(figsize = (12,9)) \n",
    "plt.plot(n_clusters, withinClusterVar)\n",
    "plt.title('Within Cluster Variance for each Cluster')\n",
    "plt.xlabel('Cluster')\n",
    "plt.ylabel('WCV')"
   ]
  },
  {
   "cell_type": "code",
   "execution_count": 29,
   "metadata": {},
   "outputs": [
    {
     "name": "stdout",
     "output_type": "stream",
     "text": [
      "The K Value that minimizes the Within Cluster Variance is: K = 2\n"
     ]
    }
   ],
   "source": [
    "minWCV = min(withinClusterVar)\n",
    "indexWCV = withinClusterVar.index(minWCV)\n",
    "minCluster = n_clusters[indexWCV]\n",
    "print(\"The K Value that minimizes the Within Cluster Variance is: K =\",minCluster)\n"
   ]
  },
  {
   "cell_type": "code",
   "execution_count": 35,
   "metadata": {},
   "outputs": [
    {
     "data": {
      "image/png": "[encoded data removed]",
      "text/plain": [
       "<Figure size 864x648 with 1 Axes>"
      ]
     },
     "metadata": {
      "needs_background": "light"
     },
     "output_type": "display_data"
    }
   ],
   "source": [
    "kmeans = KMeans(n_clusters = 2, n_init = 10, max_iter = 300).fit(X_test_wine)\n",
    "labels = kmeans.labels_\n",
    "centroids = kmeans.cluster_centers_\n",
    "\n",
    "plt.figure(figsize = (12,9)) \n",
    "sns.scatterplot(data=df_reds, x=\"Price\", y=\"Rating\", hue=\"Year\", marker = 'o', legend = 'auto', palette = 'winter')\n",
    "plt.xlabel('Price', fontsize = '16')\n",
    "plt.ylabel('Rating',fontsize = '16')\n",
    "plt.title('WINES', fontsize = '22');"
   ]
  },
  {
   "cell_type": "code",
   "execution_count": null,
   "metadata": {},
   "outputs": [],
   "source": []
  }
 ],
 "metadata": {
  "kernelspec": {
   "display_name": "Python 3",
   "language": "python",
   "name": "python3"
  },
  "language_info": {
   "codemirror_mode": {
    "name": "ipython",
    "version": 3
   },
   "file_extension": ".py",
   "mimetype": "text/x-python",
   "name": "python",
   "nbconvert_exporter": "python",
   "pygments_lexer": "ipython3",
   "version": "3.8.5"
  }
 },
 "nbformat": 4,
 "nbformat_minor": 4
}
