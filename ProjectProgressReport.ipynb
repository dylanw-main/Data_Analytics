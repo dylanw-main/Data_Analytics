{
 "cells": [
  {
   "cell_type": "markdown",
   "metadata": {},
   "source": [
    "# **Wine Recommendations**\n",
    "\n",
    "**Evan Slack, Dylan Wagman, Ryan Maiman**\n",
    "\n",
    "Project Progress Report\n",
    "\n",
    "ME 193, Spring 2021\n",
    "\n",
    "Tuesday, April 13th\n",
    "\n"
   ]
  },
  {
   "cell_type": "markdown",
   "metadata": {},
   "source": [
    "## **Motivation**:\n"
   ]
  },
  {
   "cell_type": "markdown",
   "metadata": {},
   "source": [
    "**Mission Statement**: With hundreds of thousands of unique wines in existence, it can be daunting to identify what wine a user will enjoy. Wine connoisseurs want to know what type of wine they will like based on their current preferences. Our solution aims to parse wine reviews, determine important characteristics, build a model that groups wine by similarities, and offer recommendations based on user input."
   ]
  },
  {
   "cell_type": "markdown",
   "metadata": {},
   "source": [
    "**Competitors**: \n",
    "- **Vivino**: an app that allows a user to find the characteristics of a particular wine by scanning its label. It also allows users to filter wines based on grape type, country, and different taste characteristics, such as tannin, sweetness, acidity, etc.\n",
    "- **Delectable**: an app with a wine label recognition feature that allows users to find ratings, reviews, and tasting notes for a particular wine. Users can also keep a personal journal of their favorite wines.\n",
    "- **Hello Vino**: an app that recommends wines based on buying occasions or taste preferences. It also features food and wine pairings, wine label scanners, and wine guides. "
   ]
  },
  {
   "cell_type": "markdown",
   "metadata": {},
   "source": [
    "**Hypothesis**: Through this machine learning recommender system, users' current wine preferences will be able to predict the wines they will enjoy in the future."
   ]
  },
  {
   "cell_type": "markdown",
   "metadata": {},
   "source": [
    "## **Method**:\n"
   ]
  },
  {
   "cell_type": "markdown",
   "metadata": {},
   "source": [
    "**Data Scraping**"
   ]
  },
  {
   "cell_type": "markdown",
   "metadata": {},
   "source": [
    "The data used for this recommender system is scraped from the Vivino website by analyzing the Network tab on the all search and pulling API request info. The chosen parameters are the country, currency, grape type, numerical rating, price, and wine type. \n",
    "\n",
    "Below is a sample of the dataset."
   ]
  },
  {
   "cell_type": "markdown",
   "metadata": {},
   "source": [
    "![Scrape](Images/Scrape.png)"
   ]
  },
  {
   "cell_type": "markdown",
   "metadata": {},
   "source": [
    "**Supervised Learning Algorithms**  "
   ]
  },
  {
   "cell_type": "markdown",
   "metadata": {},
   "source": [
    "Supervised learning algorithms are the primary machine learning techniques that will be implemented for this recommender system. In order to create a useful wine suggestions, this system must learn from each wine's characteristics and existing reviews.\n",
    "\n",
    "- KMeans Clustering: used to observe the relationships between each parameter and identify any noticeable trends\n",
    "- Random Forest Tree: this algorithm was used to determine the most significant parameter in our data\n",
    "\n",
    "More details about the implementation of these algorithms can be found in the Preliminary Experiments section."
   ]
  },
  {
   "cell_type": "markdown",
   "metadata": {},
   "source": [
    "## **Preliminary Experiments** "
   ]
  },
  {
   "cell_type": "markdown",
   "metadata": {},
   "source": [
    "**Data Exploration**\n",
    "\n",
    "At this stage in our project, many of our experiments revolve around data exploration. Multiple bar charts were plotted to better visualize all of the wines and their corresponding characteristics. Below shows an example of what these charts look like. This is a plot of the amount of wines there are from each country. After analyzing this graphic, it seemed beneficial to remove the countries with fewer than ten wines."
   ]
  },
  {
   "cell_type": "markdown",
   "metadata": {},
   "source": [
    "All Countries | Countries With More Than 10 Wines\n",
    "- | - \n",
    "![Countries](Images/Countries.png) | ![UpdatedCountries](Images/UpdatedCountries.jpeg)"
   ]
  },
  {
   "cell_type": "markdown",
   "metadata": {},
   "source": [
    "Additionally, scatterplots were used to highlight some of the relationships between the wine characteristics. Below shows a scatterplot of the price and the countries. The hue was set to display the ratings. From this plot, there is a clear relationship between the more expensive wines and the higher ratings, marked in purple. "
   ]
  },
  {
   "cell_type": "markdown",
   "metadata": {},
   "source": [
    "<img src=\"Images/WineRatings.png\" alt=\"Ratings\" width=\"700\"/>"
   ]
  },
  {
   "cell_type": "markdown",
   "metadata": {},
   "source": [
    "**KMeans Clustering**\n",
    "\n",
    "Kmeans clustering was used to see if more relationships could be drawn using this method rather than simply creating scatterplots. The within cluster variances were calculated to determine that the minimizing k value is 4. Below shows a clustering of the years and prices with a k=4. There is small trend showing that some of the older wines are more expensive. This clustering algorithm, however, did not prove to be as useful as initally assumed because many of the groupings were random. "
   ]
  },
  {
   "cell_type": "markdown",
   "metadata": {},
   "source": [
    "<img src=\"Images/Clustering.jpeg\" alt=\"Cluster\" width=\"700\"/>"
   ]
  },
  {
   "cell_type": "markdown",
   "metadata": {},
   "source": [
    "**Random Forest Tree**\n",
    "\n",
    "A random forest classifier was created with 250 trees and an output metric of the numerical ratings. From here, the variable influence was able to be calculated. The price is to be the most significant feature with year and sweetness following. While this was helpful in determining the most important wine characteristic, it is not helpful in grouping the data. "
   ]
  },
  {
   "cell_type": "markdown",
   "metadata": {},
   "source": [
    "<img src=\"Images/Important.png\" alt=\"Important\" width=\"700\"/>"
   ]
  },
  {
   "cell_type": "markdown",
   "metadata": {},
   "source": [
    "## **Next Steps**"
   ]
  },
  {
   "cell_type": "markdown",
   "metadata": {},
   "source": [
    "After exploring the dataset and implementing clustering and tree machine learning techniques, collaborative filtering will be the next step in creating the recommender system. The collaborative filtering approach suggests that if a person A has the same opinion as a person B on an issue, then the person B is more likely to have the same opinion as person A on a different issue than that of a random person. If this technique is applied properly, the recommender system will be able to compare the user input wine characteristics with the ratings of previous reviewers in order to offer wine suggestions.\n",
    "\n",
    "Potential complications may arise because the people writing reviews are not rating every wine, leading to a sparse Users x Wines matrix, which is needed for collaborative filtering. Therefore, in order to better organize the data, multiple reviews may need to be merged.\n"
   ]
  },
  {
   "cell_type": "markdown",
   "metadata": {},
   "source": [
    "## **Team Contributions** "
   ]
  },
  {
   "cell_type": "markdown",
   "metadata": {},
   "source": [
    "**Evan**: Created bar and scatterplots, clustered data using kmeans\n",
    "\n",
    "**Dylan**: Scraped and standardized the data from the Vivino website, created a random forest tree\n",
    "\n",
    "**Ryan**: Project proposal and delivery, project progress report"
   ]
  }
 ],
 "metadata": {
  "kernelspec": {
   "display_name": "Python 3",
   "language": "python",
   "name": "python3"
  },
  "language_info": {
   "codemirror_mode": {
    "name": "ipython",
    "version": 3
   },
   "file_extension": ".py",
   "mimetype": "text/x-python",
   "name": "python",
   "nbconvert_exporter": "python",
   "pygments_lexer": "ipython3",
   "version": "3.8.5"
  }
 },
 "nbformat": 4,
 "nbformat_minor": 4
}
