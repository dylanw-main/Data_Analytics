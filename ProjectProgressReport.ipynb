{
 "cells": [
  {
   "cell_type": "markdown",
   "metadata": {},
   "source": [
    "# **Wine Recommendations**\n",
    "\n",
    "**Evan Slack, Dylan Wagman, Ryan Maiman**\n",
    "\n",
    "Project Progress Report\n",
    "\n",
    "ME 193, Spring 2021\n",
    "\n",
    "Tuesday, April 13th\n",
    "\n"
   ]
  },
  {
   "cell_type": "markdown",
   "metadata": {},
   "source": [
    "## **Motivation**:\n"
   ]
  },
  {
   "cell_type": "markdown",
   "metadata": {},
   "source": [
    "**Mission Statement**: With hundreds of thousands of unique wines in existence, it can be daunting to identify what wine a user will enjoy. Wine connoisseurs want to know what type of wine they will like based on their current preferences. Our solution aims to parse wine reviews, determine important characteristics, build a model that groups wine by similarities, and offer recommendations based on user input."
   ]
  },
  {
   "cell_type": "markdown",
   "metadata": {},
   "source": [
    "**Competitors**: \n",
    "- **Vivino**: an app that allows a user to find the characteristics of a particular wine by scanning its label. It also allows users to filter wines based on grape type, country, and different taste characteristics, such as tannin, sweetness, acidity, etc.\n",
    "- **Delectable**: an app with a wine label recognition feature that allows users to find ratings, reviews, and tasting notes for a particular wine. Users can also keep a personal journal of their favorite wines.\n",
    "- **Hello Vino**: an app that recommends wines based on buying occasions or taste preferences. It also features food and wine pairings, wine label scanners, and wine guides. "
   ]
  },
  {
   "cell_type": "markdown",
   "metadata": {},
   "source": [
    "**Hypothesis**: Through this machine learning recommender system, users' current wine preferences will be able to predict the wines they will enjoy in the future."
   ]
  },
  {
   "cell_type": "markdown",
   "metadata": {},
   "source": [
    "## **Method**:\n"
   ]
  },
  {
   "cell_type": "markdown",
   "metadata": {},
   "source": [
    "**Data Scraping**"
   ]
  },
  {
   "cell_type": "markdown",
   "metadata": {},
   "source": [
    "The data used for this recommender system is scraped from the Vivino website by analyzing the Network tab on the all search and pulling API request info. The chosen parameters are the country, currency, grape type, numerical rating, price, and wine type. \n",
    "\n",
    "Below is a sample of the dataset."
   ]
  },
  {
   "cell_type": "markdown",
   "metadata": {},
   "source": [
    "![Scrape](Images/Scrape.png)"
   ]
  },
  {
   "cell_type": "markdown",
   "metadata": {},
   "source": [
    "**Supervised Learning Algorithms**  "
   ]
  },
  {
   "cell_type": "markdown",
   "metadata": {},
   "source": [
    "Supervised learning algorithms are the primary machine learning techniques that will be implemented for this recommender system. In order to create a useful wine suggestions, this system must learn from each wine's characteristics and existing reviews.\n",
    "\n",
    "KMeans Clustering: used to observe the relationships between each parameter and identify any noticeable trends\n",
    "**Insert pic of clustering**\n",
    "\n",
    "**need to do one more algorithm i think**\n"
   ]
  },
  {
   "cell_type": "markdown",
   "metadata": {},
   "source": [
    "## **Preliminary Experiments** "
   ]
  },
  {
   "cell_type": "markdown",
   "metadata": {},
   "source": [
    "At this stage in our project, most of our experiments revolve around data exploration."
   ]
  },
  {
   "cell_type": "markdown",
   "metadata": {},
   "source": [
    "## **Next Steps**"
   ]
  },
  {
   "cell_type": "markdown",
   "metadata": {},
   "source": [
    "After exploring the dataset and implementing clustering and tree machine learning techniques, collaborative filtering will be the next step in creating the recommender system. The collaborative filtering approach suggests that if a person A has the same opinion as a person B on an issue, then the person B is more likely to have the same opinion as person A on a different issue than that of a random person. If this technique is applied properly, the recommender system will be able to compare the user input wine characteristics with the ratings of previous reviewers in order to offer wine suggestions.\n",
    "\n",
    "Potential complications may arise because the people writing reviews are not rating every wine, leading to a sparse users x wines matrix, which is needed for collaborative filtering. Therefore, in order to better organize the data, multiple reviews may need to be merged.\n"
   ]
  },
  {
   "cell_type": "markdown",
   "metadata": {},
   "source": [
    "## **Team Contributions** "
   ]
  },
  {
   "cell_type": "markdown",
   "metadata": {},
   "source": [
    "Evan:\n",
    "\n",
    "Dylan: scraped and standardized the data from the Vivino website\n",
    "\n",
    "Ryan:"
   ]
  }
 ],
 "metadata": {
  "kernelspec": {
   "display_name": "Python 3",
   "language": "python",
   "name": "python3"
  },
  "language_info": {
   "codemirror_mode": {
    "name": "ipython",
    "version": 3
   },
   "file_extension": ".py",
   "mimetype": "text/x-python",
   "name": "python",
   "nbconvert_exporter": "python",
   "pygments_lexer": "ipython3",
   "version": "3.8.5"
  }
 },
 "nbformat": 4,
 "nbformat_minor": 4
}
