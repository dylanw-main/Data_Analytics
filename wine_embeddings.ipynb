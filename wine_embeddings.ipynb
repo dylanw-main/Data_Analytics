{
 "cells": [
  {
   "cell_type": "markdown",
   "metadata": {},
   "source": [
    "# **ME 193, Spring 2021**\n",
    "## Final Project Wine Embeddings \n",
    "\n",
    "\n",
    "**Notes**:\n",
    "\n"
   ]
  },
  {
   "cell_type": "code",
   "execution_count": 4,
   "metadata": {},
   "outputs": [],
   "source": [
    "import os\n",
    "import numpy as np\n",
    "import pandas as pd\n",
    "import requests\n",
    "from IPython.display import JSON\n",
    "\n",
    "import sklearn.tree as tree\n",
    "import sklearn.metrics as mt\n",
    "import sklearn.ensemble as ens\n",
    "import matplotlib.pyplot as plt\n",
    "import sklearn.model_selection as ms\n",
    "\n",
    "import seaborn as sns\n",
    "from sklearn.cluster import KMeans\n",
    "from scipy.sparse import csr_matrix\n",
    "from matplotlib.colors import ListedColormap\n",
    "from sklearn.metrics import classification_report\n",
    "from sklearn.neighbors import KNeighborsClassifier, KNeighborsRegressor\n",
    "\n",
    "from gensim"
   ]
  },
  {
   "cell_type": "code",
   "execution_count": 18,
   "metadata": {},
   "outputs": [
    {
     "name": "stdout",
     "output_type": "stream",
     "text": [
      "57475\n"
     ]
    },
    {
     "data": {
      "text/html": [
       "<div>\n",
       "<style scoped>\n",
       "    .dataframe tbody tr th:only-of-type {\n",
       "        vertical-align: middle;\n",
       "    }\n",
       "\n",
       "    .dataframe tbody tr th {\n",
       "        vertical-align: top;\n",
       "    }\n",
       "\n",
       "    .dataframe thead th {\n",
       "        text-align: right;\n",
       "    }\n",
       "</style>\n",
       "<table border=\"1\" class=\"dataframe\">\n",
       "  <thead>\n",
       "    <tr style=\"text-align: right;\">\n",
       "      <th></th>\n",
       "      <th>Winery</th>\n",
       "      <th>Wine</th>\n",
       "      <th>Price</th>\n",
       "      <th>Year</th>\n",
       "      <th>Grape</th>\n",
       "      <th>Region</th>\n",
       "      <th>Country</th>\n",
       "      <th>Rating</th>\n",
       "      <th>Acidity</th>\n",
       "      <th>Sweetness</th>\n",
       "      <th>Tannin</th>\n",
       "      <th>Flavor</th>\n",
       "    </tr>\n",
       "  </thead>\n",
       "  <tbody>\n",
       "    <tr>\n",
       "      <th>0</th>\n",
       "      <td>Château Lagrézette</td>\n",
       "      <td>Le Pigeonnier Malbec</td>\n",
       "      <td>186.99</td>\n",
       "      <td>2013</td>\n",
       "      <td>Malbec</td>\n",
       "      <td>Cahors</td>\n",
       "      <td>France</td>\n",
       "      <td>4.8</td>\n",
       "      <td>3.033677</td>\n",
       "      <td>1.683774</td>\n",
       "      <td>3.381870</td>\n",
       "      <td>[oak, earth, black_fruit, non_oak, spices, mic...</td>\n",
       "    </tr>\n",
       "    <tr>\n",
       "      <th>1</th>\n",
       "      <td>Viña Cobos</td>\n",
       "      <td>Cobos Chañares Estate Malbec</td>\n",
       "      <td>349.99</td>\n",
       "      <td>2016</td>\n",
       "      <td>Malbec</td>\n",
       "      <td>Tunuyán</td>\n",
       "      <td>Argentina</td>\n",
       "      <td>4.8</td>\n",
       "      <td>2.791039</td>\n",
       "      <td>2.112970</td>\n",
       "      <td>2.788464</td>\n",
       "      <td>[oak, black_fruit, spices, non_oak, floral, ea...</td>\n",
       "    </tr>\n",
       "    <tr>\n",
       "      <th>2</th>\n",
       "      <td>Antinori</td>\n",
       "      <td>Tenuta Tignanello 'Solaia'</td>\n",
       "      <td>349.99</td>\n",
       "      <td>2017</td>\n",
       "      <td>Red</td>\n",
       "      <td>Toscana</td>\n",
       "      <td>Italy</td>\n",
       "      <td>4.8</td>\n",
       "      <td>3.077701</td>\n",
       "      <td>1.899224</td>\n",
       "      <td>2.966772</td>\n",
       "      <td>[oak, earth, black_fruit, non_oak, spices, red...</td>\n",
       "    </tr>\n",
       "    <tr>\n",
       "      <th>3</th>\n",
       "      <td>Frank Family</td>\n",
       "      <td>Patriarch</td>\n",
       "      <td>219.99</td>\n",
       "      <td>2015</td>\n",
       "      <td>Cabernet Sauvignon</td>\n",
       "      <td>Rutherford</td>\n",
       "      <td>United States</td>\n",
       "      <td>4.8</td>\n",
       "      <td>3.327367</td>\n",
       "      <td>1.359278</td>\n",
       "      <td>3.235493</td>\n",
       "      <td>[oak, earth, non_oak, black_fruit, spices, red...</td>\n",
       "    </tr>\n",
       "    <tr>\n",
       "      <th>4</th>\n",
       "      <td>Realm</td>\n",
       "      <td>Farella Vineyard</td>\n",
       "      <td>239.95</td>\n",
       "      <td>2016</td>\n",
       "      <td>Cabernet Sauvignon</td>\n",
       "      <td>Coombsville</td>\n",
       "      <td>United States</td>\n",
       "      <td>4.8</td>\n",
       "      <td>3.247900</td>\n",
       "      <td>1.583510</td>\n",
       "      <td>3.424210</td>\n",
       "      <td>[oak, earth, non_oak, black_fruit, spices, red...</td>\n",
       "    </tr>\n",
       "  </tbody>\n",
       "</table>\n",
       "</div>"
      ],
      "text/plain": [
       "               Winery                          Wine   Price  Year  \\\n",
       "0  Château Lagrézette          Le Pigeonnier Malbec  186.99  2013   \n",
       "1          Viña Cobos  Cobos Chañares Estate Malbec  349.99  2016   \n",
       "2            Antinori    Tenuta Tignanello 'Solaia'  349.99  2017   \n",
       "3        Frank Family                     Patriarch  219.99  2015   \n",
       "4               Realm              Farella Vineyard  239.95  2016   \n",
       "\n",
       "                Grape       Region        Country  Rating   Acidity  \\\n",
       "0              Malbec       Cahors         France     4.8  3.033677   \n",
       "1              Malbec      Tunuyán      Argentina     4.8  2.791039   \n",
       "2                 Red      Toscana          Italy     4.8  3.077701   \n",
       "3  Cabernet Sauvignon   Rutherford  United States     4.8  3.327367   \n",
       "4  Cabernet Sauvignon  Coombsville  United States     4.8  3.247900   \n",
       "\n",
       "   Sweetness    Tannin                                             Flavor  \n",
       "0   1.683774  3.381870  [oak, earth, black_fruit, non_oak, spices, mic...  \n",
       "1   2.112970  2.788464  [oak, black_fruit, spices, non_oak, floral, ea...  \n",
       "2   1.899224  2.966772  [oak, earth, black_fruit, non_oak, spices, red...  \n",
       "3   1.359278  3.235493  [oak, earth, non_oak, black_fruit, spices, red...  \n",
       "4   1.583510  3.424210  [oak, earth, non_oak, black_fruit, spices, red...  "
      ]
     },
     "execution_count": 18,
     "metadata": {},
     "output_type": "execute_result"
    }
   ],
   "source": [
    "df_reds = pd.read_pickle(\"./reds.pkl\")\n",
    "print(len(df_reds))\n",
    "df_reds.head()"
   ]
  },
  {
   "cell_type": "markdown",
   "metadata": {},
   "source": [
    "## Pre processing"
   ]
  },
  {
   "cell_type": "raw",
   "metadata": {},
   "source": [
    "# factorize instead of embedding\n",
    "df_reds.Grape, grape_codes = pd.factorize(df_reds.Grape)\n",
    "df_reds.Region, region_codes = pd.factorize(df_reds.Region)\n",
    "df_reds.Country, country_codes = pd.factorize(df_reds.Country)\n",
    "df_reds.Rating, rating_codes = pd.factorize(df_reds.Rating)\n",
    "df_reds[\"Year\"] = pd.to_numeric(df_reds[\"Year\"], errors='coerce')\n",
    "df_reds = df_reds.dropna()\n",
    "print(len(df_reds))\n",
    "df_reds.head()"
   ]
  },
  {
   "cell_type": "markdown",
   "metadata": {},
   "source": [
    "# Embeddings"
   ]
  },
  {
   "cell_type": "code",
   "execution_count": null,
   "metadata": {},
   "outputs": [],
   "source": []
  }
 ],
 "metadata": {
  "kernelspec": {
   "display_name": "Python 3",
   "language": "python",
   "name": "python3"
  },
  "language_info": {
   "codemirror_mode": {
    "name": "ipython",
    "version": 3
   },
   "file_extension": ".py",
   "mimetype": "text/x-python",
   "name": "python",
   "nbconvert_exporter": "python",
   "pygments_lexer": "ipython3",
   "version": "3.8.5"
  }
 },
 "nbformat": 4,
 "nbformat_minor": 4
}
